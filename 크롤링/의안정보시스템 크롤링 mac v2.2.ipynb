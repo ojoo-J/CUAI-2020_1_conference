{
 "cells": [
  {
   "cell_type": "markdown",
   "metadata": {},
   "source": [
    "### 1. 모듈"
   ]
  },
  {
   "cell_type": "code",
   "execution_count": 7,
   "metadata": {},
   "outputs": [],
   "source": [
    "import sys\n",
    "sys.path.append(\"/usr/local/lib/python3.8/site-packages\")"
   ]
  },
  {
   "cell_type": "code",
   "execution_count": 8,
   "metadata": {},
   "outputs": [],
   "source": [
    "from selenium import webdriver\n",
    "from random import randint\n",
    "from selenium.webdriver.common.keys import Keys\n",
    "from bs4 import BeautifulSoup\n",
    "from tqdm import tqdm\n",
    "import time\n",
    "import pandas as pd\n",
    "import re"
   ]
  },
  {
   "cell_type": "markdown",
   "metadata": {},
   "source": [
    "### 2. url 접속"
   ]
  },
  {
   "cell_type": "code",
   "execution_count": 9,
   "metadata": {},
   "outputs": [],
   "source": [
    "driver = webdriver.Chrome('/usr/local/bin/chromedriver')\n",
    "url = 'http://likms.assembly.go.kr/bill/main.do'\n",
    "driver.get(url)"
   ]
  },
  {
   "cell_type": "code",
   "execution_count": 10,
   "metadata": {},
   "outputs": [],
   "source": [
    "search = driver.find_element_by_css_selector('li.gnbL2')\n",
    "search.click()\n",
    "time.sleep(2)\n",
    "\n",
    "\n",
    "# driver.find_element_by_css_selector('#AGE_AREA > select:nth-child(2) > option:nth-child(2)').click()\n",
    "# driver.find_element_by_css_selector('#AGE_AREA > select:nth-child(3) > option:nth-child(2)').click()\n",
    "\n",
    "search = driver.find_element_by_css_selector('div.mt20.alignC > button.btnd')\n",
    "search .click()\n",
    "time.sleep(2)\n",
    "\n",
    "more_bill = driver.find_element_by_css_selector('#pageSizeOption > option:nth-child(4)').click()"
   ]
  },
  {
   "cell_type": "markdown",
   "metadata": {},
   "source": [
    "### 3. 크롤링"
   ]
  },
  {
   "cell_type": "code",
   "execution_count": 11,
   "metadata": {},
   "outputs": [],
   "source": [
    "num_list = []\n",
    "handled_list = []\n",
    "title_list = []\n",
    "proposer_type_list = []\n",
    "propose_date_list = []\n",
    "resolution_date_list = []\n",
    "resolution_result_list = []\n",
    "progress_list = []\n",
    "\n",
    "proposer_list = []\n",
    "paper_list = []\n",
    "session_list = []\n",
    "reason_list = []\n",
    "board_list = []"
   ]
  },
  {
   "cell_type": "code",
   "execution_count": 12,
   "metadata": {},
   "outputs": [],
   "source": [
    "n_times = 0\n",
    "\n",
    "## 원하는 시작페이지\n",
    "n_iter = 18\n",
    "\n",
    "# driver.find_element_by_css_selector('#pageListViewArea > a:nth-child(11)').click()\n",
    "# while n_times <= n_iter - 2:\n",
    "    #driver.find_element_by_css_selector('#pageListViewArea > a:nth-child(13)').click()\n",
    "    #n_times +=1"
   ]
  },
  {
   "cell_type": "code",
   "execution_count": 13,
   "metadata": {},
   "outputs": [
    {
     "name": "stderr",
     "output_type": "stream",
     "text": [
      "  0%|          | 0/10 [00:00<?, ?it/s]/Users/ojoo/opt/anaconda3/lib/python3.7/site-packages/ipykernel_launcher.py:83: DeprecationWarning: use driver.switch_to.window instead\n",
      "/Users/ojoo/opt/anaconda3/lib/python3.7/site-packages/selenium/webdriver/remote/webdriver.py:1149: UserWarning: Only 'current' window is supported for W3C compatibile browsers.\n",
      "  warnings.warn(\"Only 'current' window is supported for W3C compatibile browsers.\")\n",
      "/Users/ojoo/opt/anaconda3/lib/python3.7/site-packages/ipykernel_launcher.py:100: DeprecationWarning: use driver.switch_to.window instead\n"
     ]
    },
    {
     "ename": "ElementNotInteractableException",
     "evalue": "Message: element not interactable: element has zero size\n  (Session info: chrome=84.0.4147.125)\n",
     "output_type": "error",
     "traceback": [
      "\u001b[0;31m---------------------------------------------------------------------------\u001b[0m",
      "\u001b[0;31mElementNotInteractableException\u001b[0m           Traceback (most recent call last)",
      "\u001b[0;32m<ipython-input-13-b1d037e28667>\u001b[0m in \u001b[0;36m<module>\u001b[0;34m\u001b[0m\n\u001b[1;32m     42\u001b[0m             \u001b[0;31m## start번째 페이지의 i번째 의안에 접속합니다.\u001b[0m\u001b[0;34m\u001b[0m\u001b[0;34m\u001b[0m\u001b[0;34m\u001b[0m\u001b[0m\n\u001b[1;32m     43\u001b[0m             \u001b[0mbill\u001b[0m \u001b[0;34m=\u001b[0m \u001b[0mdriver\u001b[0m\u001b[0;34m.\u001b[0m\u001b[0mfind_element_by_css_selector\u001b[0m\u001b[0;34m(\u001b[0m\u001b[0;34mf'body > div > div.contentWrap > div.subContents > div > div.tableCol01 > table > tbody > tr:nth-child({i}) > td.alignL > div.pl25 > a'\u001b[0m\u001b[0;34m)\u001b[0m\u001b[0;34m\u001b[0m\u001b[0;34m\u001b[0m\u001b[0m\n\u001b[0;32m---> 44\u001b[0;31m             \u001b[0mbill\u001b[0m\u001b[0;34m.\u001b[0m\u001b[0mclick\u001b[0m\u001b[0;34m(\u001b[0m\u001b[0;34m)\u001b[0m\u001b[0;34m\u001b[0m\u001b[0;34m\u001b[0m\u001b[0m\n\u001b[0m\u001b[1;32m     45\u001b[0m \u001b[0;34m\u001b[0m\u001b[0m\n\u001b[1;32m     46\u001b[0m             \u001b[0mMAX_SLEEP_TIME\u001b[0m \u001b[0;34m=\u001b[0m \u001b[0;36m3\u001b[0m\u001b[0;34m\u001b[0m\u001b[0;34m\u001b[0m\u001b[0m\n",
      "\u001b[0;32m~/opt/anaconda3/lib/python3.7/site-packages/selenium/webdriver/remote/webelement.py\u001b[0m in \u001b[0;36mclick\u001b[0;34m(self)\u001b[0m\n\u001b[1;32m     78\u001b[0m     \u001b[0;32mdef\u001b[0m \u001b[0mclick\u001b[0m\u001b[0;34m(\u001b[0m\u001b[0mself\u001b[0m\u001b[0;34m)\u001b[0m\u001b[0;34m:\u001b[0m\u001b[0;34m\u001b[0m\u001b[0;34m\u001b[0m\u001b[0m\n\u001b[1;32m     79\u001b[0m         \u001b[0;34m\"\"\"Clicks the element.\"\"\"\u001b[0m\u001b[0;34m\u001b[0m\u001b[0;34m\u001b[0m\u001b[0m\n\u001b[0;32m---> 80\u001b[0;31m         \u001b[0mself\u001b[0m\u001b[0;34m.\u001b[0m\u001b[0m_execute\u001b[0m\u001b[0;34m(\u001b[0m\u001b[0mCommand\u001b[0m\u001b[0;34m.\u001b[0m\u001b[0mCLICK_ELEMENT\u001b[0m\u001b[0;34m)\u001b[0m\u001b[0;34m\u001b[0m\u001b[0;34m\u001b[0m\u001b[0m\n\u001b[0m\u001b[1;32m     81\u001b[0m \u001b[0;34m\u001b[0m\u001b[0m\n\u001b[1;32m     82\u001b[0m     \u001b[0;32mdef\u001b[0m \u001b[0msubmit\u001b[0m\u001b[0;34m(\u001b[0m\u001b[0mself\u001b[0m\u001b[0;34m)\u001b[0m\u001b[0;34m:\u001b[0m\u001b[0;34m\u001b[0m\u001b[0;34m\u001b[0m\u001b[0m\n",
      "\u001b[0;32m~/opt/anaconda3/lib/python3.7/site-packages/selenium/webdriver/remote/webelement.py\u001b[0m in \u001b[0;36m_execute\u001b[0;34m(self, command, params)\u001b[0m\n\u001b[1;32m    631\u001b[0m             \u001b[0mparams\u001b[0m \u001b[0;34m=\u001b[0m \u001b[0;34m{\u001b[0m\u001b[0;34m}\u001b[0m\u001b[0;34m\u001b[0m\u001b[0;34m\u001b[0m\u001b[0m\n\u001b[1;32m    632\u001b[0m         \u001b[0mparams\u001b[0m\u001b[0;34m[\u001b[0m\u001b[0;34m'id'\u001b[0m\u001b[0;34m]\u001b[0m \u001b[0;34m=\u001b[0m \u001b[0mself\u001b[0m\u001b[0;34m.\u001b[0m\u001b[0m_id\u001b[0m\u001b[0;34m\u001b[0m\u001b[0;34m\u001b[0m\u001b[0m\n\u001b[0;32m--> 633\u001b[0;31m         \u001b[0;32mreturn\u001b[0m \u001b[0mself\u001b[0m\u001b[0;34m.\u001b[0m\u001b[0m_parent\u001b[0m\u001b[0;34m.\u001b[0m\u001b[0mexecute\u001b[0m\u001b[0;34m(\u001b[0m\u001b[0mcommand\u001b[0m\u001b[0;34m,\u001b[0m \u001b[0mparams\u001b[0m\u001b[0;34m)\u001b[0m\u001b[0;34m\u001b[0m\u001b[0;34m\u001b[0m\u001b[0m\n\u001b[0m\u001b[1;32m    634\u001b[0m \u001b[0;34m\u001b[0m\u001b[0m\n\u001b[1;32m    635\u001b[0m     \u001b[0;32mdef\u001b[0m \u001b[0mfind_element\u001b[0m\u001b[0;34m(\u001b[0m\u001b[0mself\u001b[0m\u001b[0;34m,\u001b[0m \u001b[0mby\u001b[0m\u001b[0;34m=\u001b[0m\u001b[0mBy\u001b[0m\u001b[0;34m.\u001b[0m\u001b[0mID\u001b[0m\u001b[0;34m,\u001b[0m \u001b[0mvalue\u001b[0m\u001b[0;34m=\u001b[0m\u001b[0;32mNone\u001b[0m\u001b[0;34m)\u001b[0m\u001b[0;34m:\u001b[0m\u001b[0;34m\u001b[0m\u001b[0;34m\u001b[0m\u001b[0m\n",
      "\u001b[0;32m~/opt/anaconda3/lib/python3.7/site-packages/selenium/webdriver/remote/webdriver.py\u001b[0m in \u001b[0;36mexecute\u001b[0;34m(self, driver_command, params)\u001b[0m\n\u001b[1;32m    319\u001b[0m         \u001b[0mresponse\u001b[0m \u001b[0;34m=\u001b[0m \u001b[0mself\u001b[0m\u001b[0;34m.\u001b[0m\u001b[0mcommand_executor\u001b[0m\u001b[0;34m.\u001b[0m\u001b[0mexecute\u001b[0m\u001b[0;34m(\u001b[0m\u001b[0mdriver_command\u001b[0m\u001b[0;34m,\u001b[0m \u001b[0mparams\u001b[0m\u001b[0;34m)\u001b[0m\u001b[0;34m\u001b[0m\u001b[0;34m\u001b[0m\u001b[0m\n\u001b[1;32m    320\u001b[0m         \u001b[0;32mif\u001b[0m \u001b[0mresponse\u001b[0m\u001b[0;34m:\u001b[0m\u001b[0;34m\u001b[0m\u001b[0;34m\u001b[0m\u001b[0m\n\u001b[0;32m--> 321\u001b[0;31m             \u001b[0mself\u001b[0m\u001b[0;34m.\u001b[0m\u001b[0merror_handler\u001b[0m\u001b[0;34m.\u001b[0m\u001b[0mcheck_response\u001b[0m\u001b[0;34m(\u001b[0m\u001b[0mresponse\u001b[0m\u001b[0;34m)\u001b[0m\u001b[0;34m\u001b[0m\u001b[0;34m\u001b[0m\u001b[0m\n\u001b[0m\u001b[1;32m    322\u001b[0m             response['value'] = self._unwrap_value(\n\u001b[1;32m    323\u001b[0m                 response.get('value', None))\n",
      "\u001b[0;32m~/opt/anaconda3/lib/python3.7/site-packages/selenium/webdriver/remote/errorhandler.py\u001b[0m in \u001b[0;36mcheck_response\u001b[0;34m(self, response)\u001b[0m\n\u001b[1;32m    240\u001b[0m                 \u001b[0malert_text\u001b[0m \u001b[0;34m=\u001b[0m \u001b[0mvalue\u001b[0m\u001b[0;34m[\u001b[0m\u001b[0;34m'alert'\u001b[0m\u001b[0;34m]\u001b[0m\u001b[0;34m.\u001b[0m\u001b[0mget\u001b[0m\u001b[0;34m(\u001b[0m\u001b[0;34m'text'\u001b[0m\u001b[0;34m)\u001b[0m\u001b[0;34m\u001b[0m\u001b[0;34m\u001b[0m\u001b[0m\n\u001b[1;32m    241\u001b[0m             \u001b[0;32mraise\u001b[0m \u001b[0mexception_class\u001b[0m\u001b[0;34m(\u001b[0m\u001b[0mmessage\u001b[0m\u001b[0;34m,\u001b[0m \u001b[0mscreen\u001b[0m\u001b[0;34m,\u001b[0m \u001b[0mstacktrace\u001b[0m\u001b[0;34m,\u001b[0m \u001b[0malert_text\u001b[0m\u001b[0;34m)\u001b[0m\u001b[0;34m\u001b[0m\u001b[0;34m\u001b[0m\u001b[0m\n\u001b[0;32m--> 242\u001b[0;31m         \u001b[0;32mraise\u001b[0m \u001b[0mexception_class\u001b[0m\u001b[0;34m(\u001b[0m\u001b[0mmessage\u001b[0m\u001b[0;34m,\u001b[0m \u001b[0mscreen\u001b[0m\u001b[0;34m,\u001b[0m \u001b[0mstacktrace\u001b[0m\u001b[0;34m)\u001b[0m\u001b[0;34m\u001b[0m\u001b[0;34m\u001b[0m\u001b[0m\n\u001b[0m\u001b[1;32m    243\u001b[0m \u001b[0;34m\u001b[0m\u001b[0m\n\u001b[1;32m    244\u001b[0m     \u001b[0;32mdef\u001b[0m \u001b[0m_value_or_default\u001b[0m\u001b[0;34m(\u001b[0m\u001b[0mself\u001b[0m\u001b[0;34m,\u001b[0m \u001b[0mobj\u001b[0m\u001b[0;34m,\u001b[0m \u001b[0mkey\u001b[0m\u001b[0;34m,\u001b[0m \u001b[0mdefault\u001b[0m\u001b[0;34m)\u001b[0m\u001b[0;34m:\u001b[0m\u001b[0;34m\u001b[0m\u001b[0;34m\u001b[0m\u001b[0m\n",
      "\u001b[0;31mElementNotInteractableException\u001b[0m: Message: element not interactable: element has zero size\n  (Session info: chrome=84.0.4147.125)\n"
     ]
    }
   ],
   "source": [
    "if n_iter == 0:\n",
    "    start = 1; end = 11\n",
    "else:\n",
    "    start = 3; end = 13\n",
    "    \n",
    "## 10페이지가 끝나면 다음 10페이지를 불러옵니다.\n",
    "while n_iter <= 50:\n",
    "\n",
    "    ## start번째 페이지에 접속합니다.\n",
    "    for k in tqdm(range(start,end)):\n",
    "        \n",
    "        driver.find_element_by_css_selector(f'#pageListViewArea > a:nth-child({k})').click()\n",
    "        ## start번째 페이지의 i번째 의안에 접근합니다.\n",
    "        for i in range(1,101):\n",
    "            ## i 번째 의안에 접근합니다.\n",
    "            MAX_SLEEP_TIME = 3\n",
    "            rand_value = randint(1, MAX_SLEEP_TIME)\n",
    "            time.sleep(rand_value)\n",
    "            bill = driver.find_element_by_css_selector(f'body > div > div.contentWrap > div.subContents > div > div.tableCol01 > table > tbody > tr:nth-child({i})')\n",
    "\n",
    "            num = bill.find_element_by_css_selector('td:nth-child(1)').text\n",
    "            title = bill.find_element_by_css_selector('td.alignL').text\n",
    "            proposer_type = bill.find_element_by_css_selector('td:nth-child(3)').text\n",
    "            propose_date = bill.find_element_by_css_selector('td:nth-child(4)').text\n",
    "            resolution_date = bill.find_element_by_css_selector('td:nth-child(5)').text\n",
    "            resolution_result = bill.find_element_by_css_selector('td:nth-child(6)').text\n",
    "            progress = bill.find_element_by_css_selector('td:nth-child(8)').text\n",
    "\n",
    "            num_list.append(num)\n",
    "            if resolution_date == '':\n",
    "                handled_list.append('계')\n",
    "            else:\n",
    "                handled_list.append('처')\n",
    "            title_list.append(title)\n",
    "            proposer_type_list.append(proposer_type)\n",
    "            propose_date_list.append(propose_date)\n",
    "            resolution_date_list.append(resolution_date)\n",
    "            resolution_result_list.append(resolution_result)\n",
    "            progress_list.append(progress)\n",
    "\n",
    "\n",
    "            ## start번째 페이지의 i번째 의안에 접속합니다.\n",
    "            bill = driver.find_element_by_css_selector(f'body > div > div.contentWrap > div.subContents > div > div.tableCol01 > table > tbody > tr:nth-child({i}) > td.alignL > div.pl25 > a')\n",
    "            bill.click()\n",
    "            \n",
    "            MAX_SLEEP_TIME = 3\n",
    "            rand_value = randint(1, MAX_SLEEP_TIME)\n",
    "            time.sleep(rand_value)\n",
    "            paper = driver.find_element_by_css_selector('body > div > div.contentWrap > div.subContents > div > div.contIn > div.tableCol01 > table > tbody > tr > td:nth-child(4)').text\n",
    "            session = driver.find_element_by_css_selector('body > div > div.contentWrap > div.subContents > div > div.contIn > div.tableCol01 > table > tbody > tr > td:nth-child(5)').text     \n",
    "\n",
    "            paper_list.append(paper)\n",
    "            session_list.append(session)\n",
    "            \n",
    "            ## 제안이유를 담습니다.\n",
    "            try:\n",
    "                # 더 보기를 클릭합니다.\n",
    "                more_info = driver.find_element_by_css_selector('#summaryContentMoreBtn').click()\n",
    "                reason_raw_text = driver.find_element_by_css_selector('div.contIn > div.textType02').text\n",
    "                \n",
    "                content = []\n",
    "                reason_split = re.split('\\r|\\t|\\n|\\xa0', reason_raw_text)\n",
    "                content.append(''.join(reason_split))\n",
    "                reason_list.append(content)            \n",
    "                \n",
    "            except:\n",
    "                reason_list.append([]) \n",
    "\n",
    "            ## 소관위원회를 담습니다.\n",
    "            try:\n",
    "                board = driver.find_element_by_css_selector('body > div > div.contentWrap > div.subContents > div > div:nth-child(5) > div > table > tbody > tr > td:nth-child(1)').text\n",
    "                board_list.append(board)\n",
    "            except:\n",
    "                board_list.append([])\n",
    "            \n",
    "            ## 제안자를 담습니다.\n",
    "            member_list = []    \n",
    "            try:\n",
    "                proposer = driver.find_element_by_css_selector('body > div > div.contentWrap > div.subContents > div > div.contIn > div.tableCol01 > table > tbody > tr > td:nth-child(3) > a > img')\n",
    "                proposer.click()\n",
    "\n",
    "                # 새로운 창으로 초점을 바꿉니다.\n",
    "                driver.switch_to_window(driver.window_handles[1])\n",
    "                driver.get_window_position(driver.window_handles[1])\n",
    "\n",
    "                member_num = len(driver.find_elements_by_tag_name('a'))\n",
    "                member_end = (member_num//3) + member_num + 2\n",
    "\n",
    "                for j in range(2, member_end):\n",
    "                    try:\n",
    "                        member = driver.find_element_by_css_selector(f'#periodDiv > div.layerInScroll.coaTxtScroll > div > a:nth-child({j})').text\n",
    "                        member_list.append(member)\n",
    "                    except:\n",
    "                        continue\n",
    "                        \n",
    "                driver.close()\n",
    "                proposer_list.append(member_list)\n",
    "\n",
    "                # 원래 창으로 초점을 바꿉니다.\n",
    "                driver.switch_to_window(driver.window_handles[0])\n",
    "                driver.get_window_position(driver.window_handles[0])\n",
    "\n",
    "            except:\n",
    "                proposer_list.append([])\n",
    "    \n",
    "            driver.back()\n",
    "            driver.execute_script(\"window.scrollTo(0, window.scrollY + 70)\")\n",
    "\n",
    "    driver.find_element_by_css_selector(f'#pageListViewArea > a:nth-child({10+start})').click()\n",
    "    if n_iter == 0:\n",
    "        start = 1; end = 11\n",
    "    else:\n",
    "        start = 3; end = 13\n",
    "    n_iter += 1\n",
    "    MAX_SLEEP_TIME = 6\n",
    "    rand_value = randint(4, MAX_SLEEP_TIME)\n",
    "    time.sleep(rand_value)"
   ]
  },
  {
   "cell_type": "markdown",
   "metadata": {},
   "source": [
    "### 4. 데이터프레임"
   ]
  },
  {
   "cell_type": "code",
   "execution_count": null,
   "metadata": {
    "scrolled": true
   },
   "outputs": [],
   "source": [
    "result = [num_list, handled_list, title_list, proposer_type_list, propose_date_list, resolution_date_list, resolution_result_list,\\\n",
    "          progress_list, paper_list, session_list, reason_list, board_list, proposer_list]\n",
    "result_df = pd.DataFrame(result).T\n",
    "result_df.columns = ['의안번호', '처리여부', '의안명', '제안자구분', '제안일자', '의결일자', '의결결과', \\\n",
    "                     '심사진행상태', '문서', '제안회기' , '제안이유', '소관위원회', '제안자']\n",
    "result_df"
   ]
  },
  {
   "cell_type": "code",
   "execution_count": null,
   "metadata": {},
   "outputs": [],
   "source": [
    "result_df.to_csv('21대 국회 의안정보 18페이지부터.csv', encoding='utf-8-sig', index=False)"
   ]
  },
  {
   "cell_type": "code",
   "execution_count": null,
   "metadata": {},
   "outputs": [],
   "source": []
  },
  {
   "cell_type": "code",
   "execution_count": null,
   "metadata": {},
   "outputs": [],
   "source": []
  },
  {
   "cell_type": "code",
   "execution_count": null,
   "metadata": {},
   "outputs": [],
   "source": []
  }
 ],
 "metadata": {
  "kernelspec": {
   "display_name": "Python 3",
   "language": "python",
   "name": "python3"
  },
  "language_info": {
   "codemirror_mode": {
    "name": "ipython",
    "version": 3
   },
   "file_extension": ".py",
   "mimetype": "text/x-python",
   "name": "python",
   "nbconvert_exporter": "python",
   "pygments_lexer": "ipython3",
   "version": "3.7.6"
  }
 },
 "nbformat": 4,
 "nbformat_minor": 4
}
