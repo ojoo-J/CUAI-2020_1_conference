{
 "cells": [
  {
   "cell_type": "markdown",
   "metadata": {},
   "source": [
    "# 계류 법안 분석 \n",
    "\n",
    "작성자: 박하람"
   ]
  },
  {
   "cell_type": "code",
   "execution_count": 1,
   "metadata": {},
   "outputs": [],
   "source": [
    "import sys\n",
    "sys.path.append(\"/usr/local/lib/python3.8/site-packages\")"
   ]
  },
  {
   "cell_type": "code",
   "execution_count": 2,
   "metadata": {},
   "outputs": [],
   "source": [
    "import pandas as pd\n",
    "import numpy as np\n",
    "import matplotlib.pyplot as plt\n",
    "import seaborn as sns\n",
    "import re\n",
    "%matplotlib inline"
   ]
  },
  {
   "cell_type": "code",
   "execution_count": 3,
   "metadata": {},
   "outputs": [],
   "source": [
    "bill_df = pd.read_csv('bill_20th_data_final.csv', encoding='utf-8', parse_dates=['제안일자','의결일자'])\n",
    "bill_df = bill_df[['의안번호','의안명','제안자구분','제안일자','의결일자','의결결과','제안회기','제안이유','소관위원회','법률반영여부']]"
   ]
  },
  {
   "cell_type": "code",
   "execution_count": 4,
   "metadata": {},
   "outputs": [
    {
     "data": {
      "text/plain": [
       "(23684, 10)"
      ]
     },
     "execution_count": 4,
     "metadata": {},
     "output_type": "execute_result"
    }
   ],
   "source": [
    "bill_df.shape"
   ]
  },
  {
   "cell_type": "code",
   "execution_count": 5,
   "metadata": {},
   "outputs": [
    {
     "name": "stdout",
     "output_type": "stream",
     "text": [
      "<class 'pandas.core.frame.DataFrame'>\n",
      "RangeIndex: 23684 entries, 0 to 23683\n",
      "Data columns (total 10 columns):\n",
      " #   Column  Non-Null Count  Dtype         \n",
      "---  ------  --------------  -----         \n",
      " 0   의안번호    23684 non-null  int64         \n",
      " 1   의안명     23684 non-null  object        \n",
      " 2   제안자구분   23684 non-null  object        \n",
      " 3   제안일자    23684 non-null  datetime64[ns]\n",
      " 4   의결일자    23684 non-null  datetime64[ns]\n",
      " 5   의결결과    23684 non-null  object        \n",
      " 6   제안회기    23684 non-null  object        \n",
      " 7   제안이유    23016 non-null  object        \n",
      " 8   소관위원회   23454 non-null  object        \n",
      " 9   법률반영여부  23684 non-null  object        \n",
      "dtypes: datetime64[ns](2), int64(1), object(7)\n",
      "memory usage: 1.8+ MB\n"
     ]
    }
   ],
   "source": [
    "bill_df.info()"
   ]
  },
  {
   "cell_type": "code",
   "execution_count": 6,
   "metadata": {
    "scrolled": true
   },
   "outputs": [
    {
     "data": {
      "text/plain": [
       "의안번호      0\n",
       "의안명       0\n",
       "제안자구분     0\n",
       "제안일자      0\n",
       "의결일자      0\n",
       "의결결과      0\n",
       "제안회기      0\n",
       "제안이유      0\n",
       "소관위원회     0\n",
       "법률반영여부    0\n",
       "dtype: int64"
      ]
     },
     "execution_count": 6,
     "metadata": {},
     "output_type": "execute_result"
    }
   ],
   "source": [
    "# NaN 채우기 \n",
    "bill_df = bill_df.fillna('')\n",
    "bill_df.isnull().sum()"
   ]
  },
  {
   "cell_type": "code",
   "execution_count": null,
   "metadata": {},
   "outputs": [],
   "source": []
  },
  {
   "cell_type": "markdown",
   "metadata": {},
   "source": [
    "## 데이터 전처리 \n",
    "\n",
    "- 법률안만 선정\n",
    "\n",
    "> 의안의 결과를 예측하기 위해서는 먼저 문제의 특성을 잘 이해하는 것이 중요하다. 먼저 의안에는 기존 법률을 수정, 폐지하거나 새로운 법률을 제안하는 법률안만 있는 것이 아니라 결의안, 동의안, 출석요구안, 예산안, 정부 관리직의 임명선출안 등도 포함된다. 그 중에서 일반 시민 및 각종 이익 단체에 영향을 가장 크게 주는 것은 법을 수정하는 법률안이므로, 이 연구에서는 법률안에 중점을 둔다.(선행연구)"
   ]
  },
  {
   "cell_type": "markdown",
   "metadata": {},
   "source": [
    "#### 법률안 추리기"
   ]
  },
  {
   "cell_type": "code",
   "execution_count": 7,
   "metadata": {},
   "outputs": [],
   "source": [
    "def split_name(x): \n",
    "    name = x.split('(')[0]\n",
    "    return name\n",
    "\n",
    "def preprocessing(text):\n",
    "    # 특수문자 제거\n",
    "    text = re.sub('[?.,;:|\\)(*~`’!^\\-_+<>@\\#$%&-=#}※]', '', text)\n",
    "    # 한글, 영문만 남기고 모두 제거하도록 합니다.\n",
    "    text = re.sub('[^가-힣ㄱ-ㅎㅏ-ㅣa-zA-Z0-9]', ' ', text)\n",
    "    return text"
   ]
  },
  {
   "cell_type": "code",
   "execution_count": 8,
   "metadata": {},
   "outputs": [],
   "source": [
    "bill_df['의안명'] = bill_df['의안명'].apply(lambda x: split_name(x))"
   ]
  },
  {
   "cell_type": "code",
   "execution_count": 9,
   "metadata": {},
   "outputs": [],
   "source": [
    "bill_df.loc[bill_df['의안명'].str.endswith('법률안') == True, '법률안'] = 1\n",
    "bill_df.loc[bill_df['의안명'].str.endswith('법률안') == False, '법률안'] = 0"
   ]
  },
  {
   "cell_type": "code",
   "execution_count": 10,
   "metadata": {},
   "outputs": [
    {
     "data": {
      "text/plain": [
       "1.0    22453\n",
       "0.0     1231\n",
       "Name: 법률안, dtype: int64"
      ]
     },
     "execution_count": 10,
     "metadata": {},
     "output_type": "execute_result"
    }
   ],
   "source": [
    "bill_df['법률안'].value_counts()"
   ]
  },
  {
   "cell_type": "code",
   "execution_count": 11,
   "metadata": {},
   "outputs": [],
   "source": [
    "bill_df = bill_df[bill_df['법률안'] == 1]"
   ]
  },
  {
   "cell_type": "code",
   "execution_count": 12,
   "metadata": {},
   "outputs": [
    {
     "data": {
      "text/plain": [
       "22453"
      ]
     },
     "execution_count": 12,
     "metadata": {},
     "output_type": "execute_result"
    }
   ],
   "source": [
    "len(bill_df)"
   ]
  },
  {
   "cell_type": "markdown",
   "metadata": {},
   "source": [
    "#### 의안명, 제안이유 클렌징"
   ]
  },
  {
   "cell_type": "code",
   "execution_count": 13,
   "metadata": {},
   "outputs": [
    {
     "name": "stdout",
     "output_type": "stream",
     "text": [
      "CPU times: user 91.1 ms, sys: 1.7 ms, total: 92.8 ms\n",
      "Wall time: 93.8 ms\n",
      "CPU times: user 1.23 s, sys: 13.5 ms, total: 1.25 s\n",
      "Wall time: 1.25 s\n"
     ]
    }
   ],
   "source": [
    "%time bill_df['의안명'] = bill_df['의안명'].apply(lambda x: preprocessing(x))\n",
    "%time bill_df['제안이유'] = bill_df['제안이유'].apply(lambda x: preprocessing(x))"
   ]
  },
  {
   "cell_type": "code",
   "execution_count": null,
   "metadata": {},
   "outputs": [],
   "source": []
  },
  {
   "cell_type": "markdown",
   "metadata": {},
   "source": [
    "## EDA \n",
    "\n",
    "### 법률 반영/미반영 기준으로 의안처리시 소요시간 분석\n",
    "\n",
    "- 법률반영: 원안가결, 원안수정, 대안반영, 수정안반영\n",
    "- 법률미반영: 부결, 폐기, 철회, 반려, 기타 "
   ]
  },
  {
   "cell_type": "code",
   "execution_count": 14,
   "metadata": {},
   "outputs": [
    {
     "data": {
      "text/plain": [
       "array(['임기만료폐기', '원안가결', '수정가결', '대안반영폐기', '철회', '폐기', '부결', '수정안반영폐기'],\n",
       "      dtype=object)"
      ]
     },
     "execution_count": 14,
     "metadata": {},
     "output_type": "execute_result"
    }
   ],
   "source": [
    "bill_df['의결결과'].unique()"
   ]
  },
  {
   "cell_type": "markdown",
   "metadata": {},
   "source": [
    "- accept_list = ['대안반영폐기', '원안가결', '수정가결', '수정안반영폐기', '가결']\n",
    "- reject_list = ['임기만료폐기', '부결', '철회', '반려', '심사대상제외', '폐기']"
   ]
  },
  {
   "cell_type": "code",
   "execution_count": 15,
   "metadata": {},
   "outputs": [
    {
     "data": {
      "text/plain": [
       "임기만료폐기     14269\n",
       "대안반영폐기      5003\n",
       "원안가결        1964\n",
       "수정가결         852\n",
       "철회           201\n",
       "폐기           121\n",
       "수정안반영폐기       41\n",
       "부결             2\n",
       "Name: 의결결과, dtype: int64"
      ]
     },
     "execution_count": 15,
     "metadata": {},
     "output_type": "execute_result"
    }
   ],
   "source": [
    "bill_tmp = bill_df['의결결과'].value_counts()\n",
    "bill_tmp"
   ]
  },
  {
   "cell_type": "code",
   "execution_count": 16,
   "metadata": {},
   "outputs": [
    {
     "data": {
      "text/plain": [
       "미반영    14593\n",
       "반영      7860\n",
       "Name: 법률반영여부, dtype: int64"
      ]
     },
     "execution_count": 16,
     "metadata": {},
     "output_type": "execute_result"
    }
   ],
   "source": [
    "bill_df['법률반영여부'].value_counts()"
   ]
  },
  {
   "cell_type": "code",
   "execution_count": 17,
   "metadata": {},
   "outputs": [
    {
     "data": {
      "text/html": [
       "<div>\n",
       "<style scoped>\n",
       "    .dataframe tbody tr th:only-of-type {\n",
       "        vertical-align: middle;\n",
       "    }\n",
       "\n",
       "    .dataframe tbody tr th {\n",
       "        vertical-align: top;\n",
       "    }\n",
       "\n",
       "    .dataframe thead th {\n",
       "        text-align: right;\n",
       "    }\n",
       "</style>\n",
       "<table border=\"1\" class=\"dataframe\">\n",
       "  <thead>\n",
       "    <tr style=\"text-align: right;\">\n",
       "      <th></th>\n",
       "      <th>의안번호</th>\n",
       "      <th>의안명</th>\n",
       "      <th>제안자구분</th>\n",
       "      <th>제안일자</th>\n",
       "      <th>의결일자</th>\n",
       "      <th>의결결과</th>\n",
       "      <th>제안회기</th>\n",
       "      <th>제안이유</th>\n",
       "      <th>소관위원회</th>\n",
       "      <th>법률반영여부</th>\n",
       "      <th>법률안</th>\n",
       "      <th>의결처리기간</th>\n",
       "    </tr>\n",
       "  </thead>\n",
       "  <tbody>\n",
       "    <tr>\n",
       "      <th>0</th>\n",
       "      <td>2024996</td>\n",
       "      <td>집합건물의 소유 및 관리에 관한 법률 일부개정법률안</td>\n",
       "      <td>의원</td>\n",
       "      <td>2020-05-22</td>\n",
       "      <td>2020-05-29</td>\n",
       "      <td>임기만료폐기</td>\n",
       "      <td>제20대 (2016~2020) 제378회</td>\n",
       "      <td>아파트 등 공동주택은  공동주택관리법 에 의해 체계적으로 관리되고 있는 반면  ...</td>\n",
       "      <td>법제사법위원회</td>\n",
       "      <td>미반영</td>\n",
       "      <td>1.0</td>\n",
       "      <td>7</td>\n",
       "    </tr>\n",
       "    <tr>\n",
       "      <th>1</th>\n",
       "      <td>2024995</td>\n",
       "      <td>지방세법 일부개정법률안</td>\n",
       "      <td>의원</td>\n",
       "      <td>2020-05-22</td>\n",
       "      <td>2020-05-29</td>\n",
       "      <td>임기만료폐기</td>\n",
       "      <td>제20대 (2016~2020) 제378회</td>\n",
       "      <td>현행법상 아파트 등 주택에 대한 재산세 과세표준은 국토교통부가 해마다  부동산 가격...</td>\n",
       "      <td>행정안전위원회</td>\n",
       "      <td>미반영</td>\n",
       "      <td>1.0</td>\n",
       "      <td>7</td>\n",
       "    </tr>\n",
       "    <tr>\n",
       "      <th>2</th>\n",
       "      <td>2024994</td>\n",
       "      <td>법률용어 정비를 위한 정보위원회 소관 개 법률 일부개정을 위한 법률안</td>\n",
       "      <td>위원장</td>\n",
       "      <td>2020-05-20</td>\n",
       "      <td>2020-05-20</td>\n",
       "      <td>원안가결</td>\n",
       "      <td>제20대 (2016~2020) 제378회</td>\n",
       "      <td></td>\n",
       "      <td>정보위원회</td>\n",
       "      <td>반영</td>\n",
       "      <td>1.0</td>\n",
       "      <td>0</td>\n",
       "    </tr>\n",
       "  </tbody>\n",
       "</table>\n",
       "</div>"
      ],
      "text/plain": [
       "      의안번호                                     의안명 제안자구분       제안일자  \\\n",
       "0  2024996            집합건물의 소유 및 관리에 관한 법률 일부개정법률안    의원 2020-05-22   \n",
       "1  2024995                            지방세법 일부개정법률안    의원 2020-05-22   \n",
       "2  2024994  법률용어 정비를 위한 정보위원회 소관 개 법률 일부개정을 위한 법률안   위원장 2020-05-20   \n",
       "\n",
       "        의결일자    의결결과                    제안회기  \\\n",
       "0 2020-05-29  임기만료폐기  제20대 (2016~2020) 제378회   \n",
       "1 2020-05-29  임기만료폐기  제20대 (2016~2020) 제378회   \n",
       "2 2020-05-20    원안가결  제20대 (2016~2020) 제378회   \n",
       "\n",
       "                                                제안이유    소관위원회 법률반영여부  법률안  \\\n",
       "0    아파트 등 공동주택은  공동주택관리법 에 의해 체계적으로 관리되고 있는 반면  ...  법제사법위원회    미반영  1.0   \n",
       "1  현행법상 아파트 등 주택에 대한 재산세 과세표준은 국토교통부가 해마다  부동산 가격...  행정안전위원회    미반영  1.0   \n",
       "2                                                       정보위원회     반영  1.0   \n",
       "\n",
       "   의결처리기간  \n",
       "0       7  \n",
       "1       7  \n",
       "2       0  "
      ]
     },
     "execution_count": 17,
     "metadata": {},
     "output_type": "execute_result"
    }
   ],
   "source": [
    "bill_df['의결처리기간'] = (bill_df['의결일자'] - bill_df['제안일자']).dt.days\n",
    "bill_df.head(3)"
   ]
  },
  {
   "cell_type": "code",
   "execution_count": 18,
   "metadata": {},
   "outputs": [
    {
     "data": {
      "text/plain": [
       "법률반영여부\n",
       "미반영    759.561228\n",
       "반영     253.647837\n",
       "Name: 의결처리기간, dtype: float64"
      ]
     },
     "execution_count": 18,
     "metadata": {},
     "output_type": "execute_result"
    }
   ],
   "source": [
    "bill_df['의결처리기간'].groupby(bill_df['법률반영여부']).mean()"
   ]
  },
  {
   "cell_type": "code",
   "execution_count": 19,
   "metadata": {},
   "outputs": [
    {
     "data": {
      "text/html": [
       "<div>\n",
       "<style scoped>\n",
       "    .dataframe tbody tr th:only-of-type {\n",
       "        vertical-align: middle;\n",
       "    }\n",
       "\n",
       "    .dataframe tbody tr th {\n",
       "        vertical-align: top;\n",
       "    }\n",
       "\n",
       "    .dataframe thead th {\n",
       "        text-align: right;\n",
       "    }\n",
       "</style>\n",
       "<table border=\"1\" class=\"dataframe\">\n",
       "  <thead>\n",
       "    <tr style=\"text-align: right;\">\n",
       "      <th></th>\n",
       "      <th></th>\n",
       "      <th>의결처리기간</th>\n",
       "    </tr>\n",
       "    <tr>\n",
       "      <th>법률반영여부</th>\n",
       "      <th>의결결과</th>\n",
       "      <th></th>\n",
       "    </tr>\n",
       "  </thead>\n",
       "  <tbody>\n",
       "    <tr>\n",
       "      <th rowspan=\"4\" valign=\"top\">미반영</th>\n",
       "      <th>부결</th>\n",
       "      <td>217.500000</td>\n",
       "    </tr>\n",
       "    <tr>\n",
       "      <th>임기만료폐기</th>\n",
       "      <td>772.238419</td>\n",
       "    </tr>\n",
       "    <tr>\n",
       "      <th>철회</th>\n",
       "      <td>83.865672</td>\n",
       "    </tr>\n",
       "    <tr>\n",
       "      <th>폐기</th>\n",
       "      <td>395.991736</td>\n",
       "    </tr>\n",
       "    <tr>\n",
       "      <th rowspan=\"4\" valign=\"top\">반영</th>\n",
       "      <th>대안반영폐기</th>\n",
       "      <td>321.562063</td>\n",
       "    </tr>\n",
       "    <tr>\n",
       "      <th>수정가결</th>\n",
       "      <td>283.303991</td>\n",
       "    </tr>\n",
       "    <tr>\n",
       "      <th>수정안반영폐기</th>\n",
       "      <td>207.975610</td>\n",
       "    </tr>\n",
       "    <tr>\n",
       "      <th>원안가결</th>\n",
       "      <td>68.734725</td>\n",
       "    </tr>\n",
       "  </tbody>\n",
       "</table>\n",
       "</div>"
      ],
      "text/plain": [
       "                    의결처리기간\n",
       "법률반영여부 의결결과               \n",
       "미반영    부결       217.500000\n",
       "       임기만료폐기   772.238419\n",
       "       철회        83.865672\n",
       "       폐기       395.991736\n",
       "반영     대안반영폐기   321.562063\n",
       "       수정가결     283.303991\n",
       "       수정안반영폐기  207.975610\n",
       "       원안가결      68.734725"
      ]
     },
     "execution_count": 19,
     "metadata": {},
     "output_type": "execute_result"
    }
   ],
   "source": [
    "pend_df = pd.pivot_table(bill_df, \n",
    "                        index=['법률반영여부', '의결결과'],\n",
    "                        values=['의결처리기간']).fillna(0)\n",
    "pend_df"
   ]
  },
  {
   "cell_type": "code",
   "execution_count": 20,
   "metadata": {},
   "outputs": [
    {
     "data": {
      "text/html": [
       "<div>\n",
       "<style scoped>\n",
       "    .dataframe tbody tr th:only-of-type {\n",
       "        vertical-align: middle;\n",
       "    }\n",
       "\n",
       "    .dataframe tbody tr th {\n",
       "        vertical-align: top;\n",
       "    }\n",
       "\n",
       "    .dataframe thead th {\n",
       "        text-align: right;\n",
       "    }\n",
       "</style>\n",
       "<table border=\"1\" class=\"dataframe\">\n",
       "  <thead>\n",
       "    <tr style=\"text-align: right;\">\n",
       "      <th></th>\n",
       "      <th></th>\n",
       "      <th>의결처리기간</th>\n",
       "      <th>의결결과</th>\n",
       "    </tr>\n",
       "    <tr>\n",
       "      <th>법률반영여부</th>\n",
       "      <th>의결결과</th>\n",
       "      <th></th>\n",
       "      <th></th>\n",
       "    </tr>\n",
       "  </thead>\n",
       "  <tbody>\n",
       "    <tr>\n",
       "      <th rowspan=\"4\" valign=\"top\">미반영</th>\n",
       "      <th>부결</th>\n",
       "      <td>217.500000</td>\n",
       "      <td>2</td>\n",
       "    </tr>\n",
       "    <tr>\n",
       "      <th>임기만료폐기</th>\n",
       "      <td>772.238419</td>\n",
       "      <td>14269</td>\n",
       "    </tr>\n",
       "    <tr>\n",
       "      <th>철회</th>\n",
       "      <td>83.865672</td>\n",
       "      <td>201</td>\n",
       "    </tr>\n",
       "    <tr>\n",
       "      <th>폐기</th>\n",
       "      <td>395.991736</td>\n",
       "      <td>121</td>\n",
       "    </tr>\n",
       "    <tr>\n",
       "      <th rowspan=\"4\" valign=\"top\">반영</th>\n",
       "      <th>대안반영폐기</th>\n",
       "      <td>321.562063</td>\n",
       "      <td>5003</td>\n",
       "    </tr>\n",
       "    <tr>\n",
       "      <th>수정가결</th>\n",
       "      <td>283.303991</td>\n",
       "      <td>852</td>\n",
       "    </tr>\n",
       "    <tr>\n",
       "      <th>수정안반영폐기</th>\n",
       "      <td>207.975610</td>\n",
       "      <td>41</td>\n",
       "    </tr>\n",
       "    <tr>\n",
       "      <th>원안가결</th>\n",
       "      <td>68.734725</td>\n",
       "      <td>1964</td>\n",
       "    </tr>\n",
       "  </tbody>\n",
       "</table>\n",
       "</div>"
      ],
      "text/plain": [
       "                    의결처리기간   의결결과\n",
       "법률반영여부 의결결과                      \n",
       "미반영    부결       217.500000      2\n",
       "       임기만료폐기   772.238419  14269\n",
       "       철회        83.865672    201\n",
       "       폐기       395.991736    121\n",
       "반영     대안반영폐기   321.562063   5003\n",
       "       수정가결     283.303991    852\n",
       "       수정안반영폐기  207.975610     41\n",
       "       원안가결      68.734725   1964"
      ]
     },
     "execution_count": 20,
     "metadata": {},
     "output_type": "execute_result"
    }
   ],
   "source": [
    "# 의결처리기간 - 평균 \n",
    "pd.merge(pend_df, bill_tmp, left_on='의결결과', right_index=True)"
   ]
  },
  {
   "cell_type": "code",
   "execution_count": 21,
   "metadata": {},
   "outputs": [
    {
     "name": "stdout",
     "output_type": "stream",
     "text": [
      "미반영 평균 소요시간:  367.3989565322882\n",
      "반영 평균 소요시간:  220.39409704492132\n"
     ]
    }
   ],
   "source": [
    "print('미반영 평균 소요시간: ', pend_df.loc['미반영','의결처리기간'].mean())\n",
    "print('반영 평균 소요시간: ', pend_df.loc['반영','의결처리기간'].mean())"
   ]
  },
  {
   "cell_type": "markdown",
   "metadata": {},
   "source": [
    "#### 소관위원회별 법률반영여부 분석"
   ]
  },
  {
   "cell_type": "code",
   "execution_count": null,
   "metadata": {},
   "outputs": [],
   "source": []
  },
  {
   "cell_type": "code",
   "execution_count": null,
   "metadata": {},
   "outputs": [],
   "source": []
  },
  {
   "cell_type": "markdown",
   "metadata": {},
   "source": [
    "법률반영여부에 대한 기준은 의안정보시스템에 따른 것. 그러나 대안반영폐기, 수정안반영폐기는 법률안이 되지 못하므로 이것이 과연 법률이 반영 되었다 볼 수 있는가의 문제도 존재. \n",
    "\n",
    "> 일반적으로 법률안들은 임기만료폐기, 대안반영폐기, 폐기, 철회, 부결, 공포 등 6가지 상태 중 하나로 끝나게 된다. 그 중에서 공포된 법률안만이 성공적으로 “통과”되었다고 볼 수 있으며, 공포 단계에 이르기 전에 현재 국회의 임기가 만료되거나(임기만료폐기), 같은 목적을 가진 다른 대안이 반영되어 원안이 폐 기되거나(대안반영폐기), 발의한 의원들이 철회를 하는 경우 법률안은 법이 되지 못한다. 본 연구에서는 법률안의 발의 시점, 즉 접수 단계에서 해당 법률안이 공포될 것인지의 여부를 예측하는 것을 목표로 한다. (선행연구) \n",
    "\n",
    "### 법률공포여부 분석"
   ]
  },
  {
   "cell_type": "code",
   "execution_count": 22,
   "metadata": {},
   "outputs": [],
   "source": [
    "comm_df = bill_df.copy()"
   ]
  },
  {
   "cell_type": "code",
   "execution_count": 23,
   "metadata": {},
   "outputs": [],
   "source": [
    "proclaim_list = ['원안가결', '수정가결']\n",
    "reject_list = ['임기만료폐기', '대안반영폐기', '철회', '폐기', '부결', '수정안반영폐기']"
   ]
  },
  {
   "cell_type": "code",
   "execution_count": 24,
   "metadata": {},
   "outputs": [],
   "source": [
    "comm_df.loc[comm_df['의결결과'].isin(proclaim_list), '법률공포여부'] = '공포'\n",
    "comm_df.loc[comm_df['의결결과'].isin(reject_list), '법률공포여부'] = '미공포'"
   ]
  },
  {
   "cell_type": "code",
   "execution_count": 25,
   "metadata": {},
   "outputs": [],
   "source": [
    "# 기타 index 번호: 9443, 10301, 10508 (소관위원회 없는 경우)\n",
    "comm_df[comm_df['소관위원회'] == '']\n",
    "comm_df.drop([9443, 10301, 10508],inplace=True)"
   ]
  },
  {
   "cell_type": "code",
   "execution_count": 26,
   "metadata": {},
   "outputs": [
    {
     "data": {
      "text/plain": [
       "미공포    19634\n",
       "공포      2816\n",
       "Name: 법률공포여부, dtype: int64"
      ]
     },
     "execution_count": 26,
     "metadata": {},
     "output_type": "execute_result"
    }
   ],
   "source": [
    "comm_df['법률공포여부'].value_counts()"
   ]
  },
  {
   "cell_type": "markdown",
   "metadata": {},
   "source": [
    "#### 소관위원회별 법률공포여부 분석"
   ]
  },
  {
   "cell_type": "markdown",
   "metadata": {},
   "source": [
    "국회법 제4장 회의 제2절 발의, 동의, 철회와 번안 \n",
    "\n",
    "> 제33조 3번 의안이 발의 또는 제출되었을 때에는 의장은 이것을 국회에 보고한 후 적당한 위원회에 부탁하고 그 심사가 끝난 뒤에 본회의에 부의한다. **단, 법률안 이외의 의안은 국회의 결의에 의하여 위원회의 심사를 생략할 수 있다.**\n",
    "\n",
    "**적어도 100개 이상**의 데이터가 있는 것으로 분석해야"
   ]
  },
  {
   "cell_type": "code",
   "execution_count": 27,
   "metadata": {},
   "outputs": [
    {
     "name": "stdout",
     "output_type": "stream",
     "text": [
      "상설 특별위원회 리스트: \n",
      " ['헌법개정 및 정치개혁 특별위원회', '정치개혁 특별위원회', '사법개혁 특별위원회'] \n",
      "\n",
      "상임위원회 리스트: \n",
      " ['법제사법위원회', '행정안전위원회', '정보위원회', '여성가족위원회', '문화체육관광위원회', '국회운영위원회', '과학기술정보방송통신위원회', '기획재정위원회', '국토교통위원회', '환경노동위원회', '외교통일위원회', '농림축산식품해양수산위원회', '정무위원회', '국방위원회', '교육위원회', '보건복지위원회', '산업통상자원중소벤처기업위원회', '교육문화체육관광위원회', '안전행정위원회', '산업통상자원위원회', '미래창조과학방송통신위원회']\n"
     ]
    }
   ],
   "source": [
    "comm = comm_df['소관위원회'].unique()\n",
    "special_comm = [com for com in comm if com.endswith('특별위원회') == True]\n",
    "basic_comm = [com for com in comm if com.endswith('특별위원회') == False]\n",
    "\n",
    "print('상설 특별위원회 리스트:', '\\n', special_comm, '\\n')\n",
    "print('상임위원회 리스트:', '\\n', basic_comm)"
   ]
  },
  {
   "cell_type": "code",
   "execution_count": 28,
   "metadata": {},
   "outputs": [],
   "source": [
    "comm_df.loc[comm_df['소관위원회'].isin(basic_comm), '위원회 분류'] = '상임위원회'\n",
    "comm_df.loc[comm_df['소관위원회'].isin(special_comm), '위원회 분류'] = '특별위원회'"
   ]
  },
  {
   "cell_type": "code",
   "execution_count": null,
   "metadata": {},
   "outputs": [],
   "source": []
  },
  {
   "cell_type": "markdown",
   "metadata": {},
   "source": [
    "#### 상임위원회만 분석"
   ]
  },
  {
   "cell_type": "code",
   "execution_count": 29,
   "metadata": {},
   "outputs": [
    {
     "data": {
      "text/html": [
       "<div>\n",
       "<style scoped>\n",
       "    .dataframe tbody tr th:only-of-type {\n",
       "        vertical-align: middle;\n",
       "    }\n",
       "\n",
       "    .dataframe tbody tr th {\n",
       "        vertical-align: top;\n",
       "    }\n",
       "\n",
       "    .dataframe thead th {\n",
       "        text-align: right;\n",
       "    }\n",
       "</style>\n",
       "<table border=\"1\" class=\"dataframe\">\n",
       "  <thead>\n",
       "    <tr style=\"text-align: right;\">\n",
       "      <th></th>\n",
       "      <th>의안번호</th>\n",
       "      <th>의안명</th>\n",
       "      <th>제안자구분</th>\n",
       "      <th>제안일자</th>\n",
       "      <th>의결일자</th>\n",
       "      <th>의결결과</th>\n",
       "      <th>제안회기</th>\n",
       "      <th>제안이유</th>\n",
       "      <th>소관위원회</th>\n",
       "      <th>법률반영여부</th>\n",
       "      <th>법률안</th>\n",
       "      <th>의결처리기간</th>\n",
       "      <th>법률공포여부</th>\n",
       "      <th>위원회 분류</th>\n",
       "    </tr>\n",
       "  </thead>\n",
       "  <tbody>\n",
       "    <tr>\n",
       "      <th>0</th>\n",
       "      <td>2024996</td>\n",
       "      <td>집합건물의 소유 및 관리에 관한 법률 일부개정법률안</td>\n",
       "      <td>의원</td>\n",
       "      <td>2020-05-22</td>\n",
       "      <td>2020-05-29</td>\n",
       "      <td>임기만료폐기</td>\n",
       "      <td>제20대 (2016~2020) 제378회</td>\n",
       "      <td>아파트 등 공동주택은  공동주택관리법 에 의해 체계적으로 관리되고 있는 반면  ...</td>\n",
       "      <td>법제사법위원회</td>\n",
       "      <td>미반영</td>\n",
       "      <td>1.0</td>\n",
       "      <td>7</td>\n",
       "      <td>미공포</td>\n",
       "      <td>상임위원회</td>\n",
       "    </tr>\n",
       "    <tr>\n",
       "      <th>1</th>\n",
       "      <td>2024995</td>\n",
       "      <td>지방세법 일부개정법률안</td>\n",
       "      <td>의원</td>\n",
       "      <td>2020-05-22</td>\n",
       "      <td>2020-05-29</td>\n",
       "      <td>임기만료폐기</td>\n",
       "      <td>제20대 (2016~2020) 제378회</td>\n",
       "      <td>현행법상 아파트 등 주택에 대한 재산세 과세표준은 국토교통부가 해마다  부동산 가격...</td>\n",
       "      <td>행정안전위원회</td>\n",
       "      <td>미반영</td>\n",
       "      <td>1.0</td>\n",
       "      <td>7</td>\n",
       "      <td>미공포</td>\n",
       "      <td>상임위원회</td>\n",
       "    </tr>\n",
       "    <tr>\n",
       "      <th>2</th>\n",
       "      <td>2024994</td>\n",
       "      <td>법률용어 정비를 위한 정보위원회 소관 개 법률 일부개정을 위한 법률안</td>\n",
       "      <td>위원장</td>\n",
       "      <td>2020-05-20</td>\n",
       "      <td>2020-05-20</td>\n",
       "      <td>원안가결</td>\n",
       "      <td>제20대 (2016~2020) 제378회</td>\n",
       "      <td></td>\n",
       "      <td>정보위원회</td>\n",
       "      <td>반영</td>\n",
       "      <td>1.0</td>\n",
       "      <td>0</td>\n",
       "      <td>공포</td>\n",
       "      <td>상임위원회</td>\n",
       "    </tr>\n",
       "    <tr>\n",
       "      <th>3</th>\n",
       "      <td>2024993</td>\n",
       "      <td>진실 화해를 위한 과거사정리 기본법 일부개정법률안</td>\n",
       "      <td>위원장</td>\n",
       "      <td>2020-05-20</td>\n",
       "      <td>2020-05-20</td>\n",
       "      <td>원안가결</td>\n",
       "      <td>제20대 (2016~2020) 제378회</td>\n",
       "      <td></td>\n",
       "      <td>행정안전위원회</td>\n",
       "      <td>반영</td>\n",
       "      <td>1.0</td>\n",
       "      <td>0</td>\n",
       "      <td>공포</td>\n",
       "      <td>상임위원회</td>\n",
       "    </tr>\n",
       "    <tr>\n",
       "      <th>4</th>\n",
       "      <td>2024992</td>\n",
       "      <td>화재예방 소방시설 설치 유지 및 안전관리에 관한 법률 일부개정법률안</td>\n",
       "      <td>위원장</td>\n",
       "      <td>2020-05-20</td>\n",
       "      <td>2020-05-20</td>\n",
       "      <td>원안가결</td>\n",
       "      <td>제20대 (2016~2020) 제378회</td>\n",
       "      <td></td>\n",
       "      <td>행정안전위원회</td>\n",
       "      <td>반영</td>\n",
       "      <td>1.0</td>\n",
       "      <td>0</td>\n",
       "      <td>공포</td>\n",
       "      <td>상임위원회</td>\n",
       "    </tr>\n",
       "  </tbody>\n",
       "</table>\n",
       "</div>"
      ],
      "text/plain": [
       "      의안번호                                     의안명 제안자구분       제안일자  \\\n",
       "0  2024996            집합건물의 소유 및 관리에 관한 법률 일부개정법률안    의원 2020-05-22   \n",
       "1  2024995                            지방세법 일부개정법률안    의원 2020-05-22   \n",
       "2  2024994  법률용어 정비를 위한 정보위원회 소관 개 법률 일부개정을 위한 법률안   위원장 2020-05-20   \n",
       "3  2024993             진실 화해를 위한 과거사정리 기본법 일부개정법률안   위원장 2020-05-20   \n",
       "4  2024992   화재예방 소방시설 설치 유지 및 안전관리에 관한 법률 일부개정법률안   위원장 2020-05-20   \n",
       "\n",
       "        의결일자    의결결과                    제안회기  \\\n",
       "0 2020-05-29  임기만료폐기  제20대 (2016~2020) 제378회   \n",
       "1 2020-05-29  임기만료폐기  제20대 (2016~2020) 제378회   \n",
       "2 2020-05-20    원안가결  제20대 (2016~2020) 제378회   \n",
       "3 2020-05-20    원안가결  제20대 (2016~2020) 제378회   \n",
       "4 2020-05-20    원안가결  제20대 (2016~2020) 제378회   \n",
       "\n",
       "                                                제안이유    소관위원회 법률반영여부  법률안  \\\n",
       "0    아파트 등 공동주택은  공동주택관리법 에 의해 체계적으로 관리되고 있는 반면  ...  법제사법위원회    미반영  1.0   \n",
       "1  현행법상 아파트 등 주택에 대한 재산세 과세표준은 국토교통부가 해마다  부동산 가격...  행정안전위원회    미반영  1.0   \n",
       "2                                                       정보위원회     반영  1.0   \n",
       "3                                                     행정안전위원회     반영  1.0   \n",
       "4                                                     행정안전위원회     반영  1.0   \n",
       "\n",
       "   의결처리기간 법률공포여부 위원회 분류  \n",
       "0       7    미공포  상임위원회  \n",
       "1       7    미공포  상임위원회  \n",
       "2       0     공포  상임위원회  \n",
       "3       0     공포  상임위원회  \n",
       "4       0     공포  상임위원회  "
      ]
     },
     "execution_count": 29,
     "metadata": {},
     "output_type": "execute_result"
    }
   ],
   "source": [
    "comm_df1 = comm_df[comm_df['위원회 분류'] == '상임위원회']\n",
    "comm_df1.head()"
   ]
  },
  {
   "cell_type": "code",
   "execution_count": 30,
   "metadata": {},
   "outputs": [
    {
     "data": {
      "text/html": [
       "<div>\n",
       "<style scoped>\n",
       "    .dataframe tbody tr th:only-of-type {\n",
       "        vertical-align: middle;\n",
       "    }\n",
       "\n",
       "    .dataframe tbody tr th {\n",
       "        vertical-align: top;\n",
       "    }\n",
       "\n",
       "    .dataframe thead th {\n",
       "        text-align: right;\n",
       "    }\n",
       "</style>\n",
       "<table border=\"1\" class=\"dataframe\">\n",
       "  <thead>\n",
       "    <tr style=\"text-align: right;\">\n",
       "      <th></th>\n",
       "      <th>소관위원회</th>\n",
       "      <th>공포</th>\n",
       "      <th>미공포</th>\n",
       "    </tr>\n",
       "  </thead>\n",
       "  <tbody>\n",
       "    <tr>\n",
       "      <th>0</th>\n",
       "      <td>과학기술정보방송통신위원회</td>\n",
       "      <td>111</td>\n",
       "      <td>855</td>\n",
       "    </tr>\n",
       "    <tr>\n",
       "      <th>1</th>\n",
       "      <td>교육문화체육관광위원회</td>\n",
       "      <td>109</td>\n",
       "      <td>124</td>\n",
       "    </tr>\n",
       "    <tr>\n",
       "      <th>2</th>\n",
       "      <td>교육위원회</td>\n",
       "      <td>91</td>\n",
       "      <td>796</td>\n",
       "    </tr>\n",
       "    <tr>\n",
       "      <th>3</th>\n",
       "      <td>국방위원회</td>\n",
       "      <td>58</td>\n",
       "      <td>424</td>\n",
       "    </tr>\n",
       "    <tr>\n",
       "      <th>4</th>\n",
       "      <td>국토교통위원회</td>\n",
       "      <td>385</td>\n",
       "      <td>1751</td>\n",
       "    </tr>\n",
       "  </tbody>\n",
       "</table>\n",
       "</div>"
      ],
      "text/plain": [
       "           소관위원회   공포   미공포\n",
       "0  과학기술정보방송통신위원회  111   855\n",
       "1    교육문화체육관광위원회  109   124\n",
       "2          교육위원회   91   796\n",
       "3          국방위원회   58   424\n",
       "4        국토교통위원회  385  1751"
      ]
     },
     "execution_count": 30,
     "metadata": {},
     "output_type": "execute_result"
    }
   ],
   "source": [
    "comm_df2 = pd.DataFrame(comm_df1.groupby('소관위원회')['법률공포여부'].value_counts()).unstack().fillna(0)\n",
    "comm_df2.reset_index(inplace=True)\n",
    "comm_df2.columns = ['소관위원회','공포','미공포']\n",
    "comm_df2.head()"
   ]
  },
  {
   "cell_type": "code",
   "execution_count": 31,
   "metadata": {},
   "outputs": [
    {
     "data": {
      "text/html": [
       "<div>\n",
       "<style scoped>\n",
       "    .dataframe tbody tr th:only-of-type {\n",
       "        vertical-align: middle;\n",
       "    }\n",
       "\n",
       "    .dataframe tbody tr th {\n",
       "        vertical-align: top;\n",
       "    }\n",
       "\n",
       "    .dataframe thead th {\n",
       "        text-align: right;\n",
       "    }\n",
       "</style>\n",
       "<table border=\"1\" class=\"dataframe\">\n",
       "  <thead>\n",
       "    <tr style=\"text-align: right;\">\n",
       "      <th></th>\n",
       "      <th>소관위원회</th>\n",
       "      <th>공포</th>\n",
       "      <th>미공포</th>\n",
       "      <th>합계</th>\n",
       "      <th>공포율</th>\n",
       "    </tr>\n",
       "  </thead>\n",
       "  <tbody>\n",
       "    <tr>\n",
       "      <th>9</th>\n",
       "      <td>미래창조과학방송통신위원회</td>\n",
       "      <td>7</td>\n",
       "      <td>4</td>\n",
       "      <td>11</td>\n",
       "      <td>64.0</td>\n",
       "    </tr>\n",
       "    <tr>\n",
       "      <th>12</th>\n",
       "      <td>산업통상자원위원회</td>\n",
       "      <td>58</td>\n",
       "      <td>38</td>\n",
       "      <td>96</td>\n",
       "      <td>60.0</td>\n",
       "    </tr>\n",
       "    <tr>\n",
       "      <th>1</th>\n",
       "      <td>교육문화체육관광위원회</td>\n",
       "      <td>109</td>\n",
       "      <td>124</td>\n",
       "      <td>233</td>\n",
       "      <td>47.0</td>\n",
       "    </tr>\n",
       "    <tr>\n",
       "      <th>7</th>\n",
       "      <td>농림축산식품해양수산위원회</td>\n",
       "      <td>446</td>\n",
       "      <td>1158</td>\n",
       "      <td>1604</td>\n",
       "      <td>28.0</td>\n",
       "    </tr>\n",
       "    <tr>\n",
       "      <th>14</th>\n",
       "      <td>안전행정위원회</td>\n",
       "      <td>33</td>\n",
       "      <td>109</td>\n",
       "      <td>142</td>\n",
       "      <td>23.0</td>\n",
       "    </tr>\n",
       "    <tr>\n",
       "      <th>4</th>\n",
       "      <td>국토교통위원회</td>\n",
       "      <td>385</td>\n",
       "      <td>1751</td>\n",
       "      <td>2136</td>\n",
       "      <td>18.0</td>\n",
       "    </tr>\n",
       "    <tr>\n",
       "      <th>15</th>\n",
       "      <td>여성가족위원회</td>\n",
       "      <td>65</td>\n",
       "      <td>325</td>\n",
       "      <td>390</td>\n",
       "      <td>17.0</td>\n",
       "    </tr>\n",
       "    <tr>\n",
       "      <th>13</th>\n",
       "      <td>산업통상자원중소벤처기업위원회</td>\n",
       "      <td>199</td>\n",
       "      <td>998</td>\n",
       "      <td>1197</td>\n",
       "      <td>17.0</td>\n",
       "    </tr>\n",
       "    <tr>\n",
       "      <th>11</th>\n",
       "      <td>보건복지위원회</td>\n",
       "      <td>314</td>\n",
       "      <td>2158</td>\n",
       "      <td>2472</td>\n",
       "      <td>13.0</td>\n",
       "    </tr>\n",
       "    <tr>\n",
       "      <th>3</th>\n",
       "      <td>국방위원회</td>\n",
       "      <td>58</td>\n",
       "      <td>424</td>\n",
       "      <td>482</td>\n",
       "      <td>12.0</td>\n",
       "    </tr>\n",
       "    <tr>\n",
       "      <th>17</th>\n",
       "      <td>정무위원회</td>\n",
       "      <td>184</td>\n",
       "      <td>1385</td>\n",
       "      <td>1569</td>\n",
       "      <td>12.0</td>\n",
       "    </tr>\n",
       "    <tr>\n",
       "      <th>0</th>\n",
       "      <td>과학기술정보방송통신위원회</td>\n",
       "      <td>111</td>\n",
       "      <td>855</td>\n",
       "      <td>966</td>\n",
       "      <td>11.0</td>\n",
       "    </tr>\n",
       "    <tr>\n",
       "      <th>16</th>\n",
       "      <td>외교통일위원회</td>\n",
       "      <td>31</td>\n",
       "      <td>253</td>\n",
       "      <td>284</td>\n",
       "      <td>11.0</td>\n",
       "    </tr>\n",
       "    <tr>\n",
       "      <th>8</th>\n",
       "      <td>문화체육관광위원회</td>\n",
       "      <td>85</td>\n",
       "      <td>660</td>\n",
       "      <td>745</td>\n",
       "      <td>11.0</td>\n",
       "    </tr>\n",
       "    <tr>\n",
       "      <th>2</th>\n",
       "      <td>교육위원회</td>\n",
       "      <td>91</td>\n",
       "      <td>796</td>\n",
       "      <td>887</td>\n",
       "      <td>10.0</td>\n",
       "    </tr>\n",
       "    <tr>\n",
       "      <th>20</th>\n",
       "      <td>환경노동위원회</td>\n",
       "      <td>177</td>\n",
       "      <td>1791</td>\n",
       "      <td>1968</td>\n",
       "      <td>9.0</td>\n",
       "    </tr>\n",
       "    <tr>\n",
       "      <th>10</th>\n",
       "      <td>법제사법위원회</td>\n",
       "      <td>151</td>\n",
       "      <td>1667</td>\n",
       "      <td>1818</td>\n",
       "      <td>8.0</td>\n",
       "    </tr>\n",
       "    <tr>\n",
       "      <th>6</th>\n",
       "      <td>기획재정위원회</td>\n",
       "      <td>114</td>\n",
       "      <td>1902</td>\n",
       "      <td>2016</td>\n",
       "      <td>6.0</td>\n",
       "    </tr>\n",
       "    <tr>\n",
       "      <th>19</th>\n",
       "      <td>행정안전위원회</td>\n",
       "      <td>162</td>\n",
       "      <td>2502</td>\n",
       "      <td>2664</td>\n",
       "      <td>6.0</td>\n",
       "    </tr>\n",
       "    <tr>\n",
       "      <th>5</th>\n",
       "      <td>국회운영위원회</td>\n",
       "      <td>25</td>\n",
       "      <td>490</td>\n",
       "      <td>515</td>\n",
       "      <td>5.0</td>\n",
       "    </tr>\n",
       "    <tr>\n",
       "      <th>18</th>\n",
       "      <td>정보위원회</td>\n",
       "      <td>1</td>\n",
       "      <td>30</td>\n",
       "      <td>31</td>\n",
       "      <td>3.0</td>\n",
       "    </tr>\n",
       "  </tbody>\n",
       "</table>\n",
       "</div>"
      ],
      "text/plain": [
       "              소관위원회   공포   미공포    합계   공포율\n",
       "9     미래창조과학방송통신위원회    7     4    11  64.0\n",
       "12        산업통상자원위원회   58    38    96  60.0\n",
       "1       교육문화체육관광위원회  109   124   233  47.0\n",
       "7     농림축산식품해양수산위원회  446  1158  1604  28.0\n",
       "14          안전행정위원회   33   109   142  23.0\n",
       "4           국토교통위원회  385  1751  2136  18.0\n",
       "15          여성가족위원회   65   325   390  17.0\n",
       "13  산업통상자원중소벤처기업위원회  199   998  1197  17.0\n",
       "11          보건복지위원회  314  2158  2472  13.0\n",
       "3             국방위원회   58   424   482  12.0\n",
       "17            정무위원회  184  1385  1569  12.0\n",
       "0     과학기술정보방송통신위원회  111   855   966  11.0\n",
       "16          외교통일위원회   31   253   284  11.0\n",
       "8         문화체육관광위원회   85   660   745  11.0\n",
       "2             교육위원회   91   796   887  10.0\n",
       "20          환경노동위원회  177  1791  1968   9.0\n",
       "10          법제사법위원회  151  1667  1818   8.0\n",
       "6           기획재정위원회  114  1902  2016   6.0\n",
       "19          행정안전위원회  162  2502  2664   6.0\n",
       "5           국회운영위원회   25   490   515   5.0\n",
       "18            정보위원회    1    30    31   3.0"
      ]
     },
     "execution_count": 31,
     "metadata": {},
     "output_type": "execute_result"
    }
   ],
   "source": [
    "comm_df2['합계'] = comm_df2['공포'] + comm_df2['미공포']\n",
    "comm_df2['공포율'] = np.round((comm_df2['공포'] / comm_df2['합계']) * 100)\n",
    "\n",
    "# 9, 12번은 의안수가 100이하라는 것을 감안하면, 아래 100 이상 의안수는 의미 있다. 왜 이렇게 나올까? \n",
    "comm_df2.sort_values(by='공포율', ascending=False)"
   ]
  },
  {
   "cell_type": "code",
   "execution_count": 32,
   "metadata": {},
   "outputs": [
    {
     "data": {
      "text/html": [
       "<div>\n",
       "<style scoped>\n",
       "    .dataframe tbody tr th:only-of-type {\n",
       "        vertical-align: middle;\n",
       "    }\n",
       "\n",
       "    .dataframe tbody tr th {\n",
       "        vertical-align: top;\n",
       "    }\n",
       "\n",
       "    .dataframe thead th {\n",
       "        text-align: right;\n",
       "    }\n",
       "</style>\n",
       "<table border=\"1\" class=\"dataframe\">\n",
       "  <thead>\n",
       "    <tr style=\"text-align: right;\">\n",
       "      <th></th>\n",
       "      <th>소관위원회</th>\n",
       "      <th>공포</th>\n",
       "      <th>미공포</th>\n",
       "      <th>합계</th>\n",
       "      <th>공포율</th>\n",
       "    </tr>\n",
       "  </thead>\n",
       "  <tbody>\n",
       "    <tr>\n",
       "      <th>19</th>\n",
       "      <td>행정안전위원회</td>\n",
       "      <td>162</td>\n",
       "      <td>2502</td>\n",
       "      <td>2664</td>\n",
       "      <td>6.0</td>\n",
       "    </tr>\n",
       "    <tr>\n",
       "      <th>11</th>\n",
       "      <td>보건복지위원회</td>\n",
       "      <td>314</td>\n",
       "      <td>2158</td>\n",
       "      <td>2472</td>\n",
       "      <td>13.0</td>\n",
       "    </tr>\n",
       "    <tr>\n",
       "      <th>4</th>\n",
       "      <td>국토교통위원회</td>\n",
       "      <td>385</td>\n",
       "      <td>1751</td>\n",
       "      <td>2136</td>\n",
       "      <td>18.0</td>\n",
       "    </tr>\n",
       "    <tr>\n",
       "      <th>6</th>\n",
       "      <td>기획재정위원회</td>\n",
       "      <td>114</td>\n",
       "      <td>1902</td>\n",
       "      <td>2016</td>\n",
       "      <td>6.0</td>\n",
       "    </tr>\n",
       "    <tr>\n",
       "      <th>20</th>\n",
       "      <td>환경노동위원회</td>\n",
       "      <td>177</td>\n",
       "      <td>1791</td>\n",
       "      <td>1968</td>\n",
       "      <td>9.0</td>\n",
       "    </tr>\n",
       "    <tr>\n",
       "      <th>10</th>\n",
       "      <td>법제사법위원회</td>\n",
       "      <td>151</td>\n",
       "      <td>1667</td>\n",
       "      <td>1818</td>\n",
       "      <td>8.0</td>\n",
       "    </tr>\n",
       "    <tr>\n",
       "      <th>7</th>\n",
       "      <td>농림축산식품해양수산위원회</td>\n",
       "      <td>446</td>\n",
       "      <td>1158</td>\n",
       "      <td>1604</td>\n",
       "      <td>28.0</td>\n",
       "    </tr>\n",
       "    <tr>\n",
       "      <th>17</th>\n",
       "      <td>정무위원회</td>\n",
       "      <td>184</td>\n",
       "      <td>1385</td>\n",
       "      <td>1569</td>\n",
       "      <td>12.0</td>\n",
       "    </tr>\n",
       "    <tr>\n",
       "      <th>13</th>\n",
       "      <td>산업통상자원중소벤처기업위원회</td>\n",
       "      <td>199</td>\n",
       "      <td>998</td>\n",
       "      <td>1197</td>\n",
       "      <td>17.0</td>\n",
       "    </tr>\n",
       "    <tr>\n",
       "      <th>0</th>\n",
       "      <td>과학기술정보방송통신위원회</td>\n",
       "      <td>111</td>\n",
       "      <td>855</td>\n",
       "      <td>966</td>\n",
       "      <td>11.0</td>\n",
       "    </tr>\n",
       "    <tr>\n",
       "      <th>2</th>\n",
       "      <td>교육위원회</td>\n",
       "      <td>91</td>\n",
       "      <td>796</td>\n",
       "      <td>887</td>\n",
       "      <td>10.0</td>\n",
       "    </tr>\n",
       "    <tr>\n",
       "      <th>8</th>\n",
       "      <td>문화체육관광위원회</td>\n",
       "      <td>85</td>\n",
       "      <td>660</td>\n",
       "      <td>745</td>\n",
       "      <td>11.0</td>\n",
       "    </tr>\n",
       "    <tr>\n",
       "      <th>5</th>\n",
       "      <td>국회운영위원회</td>\n",
       "      <td>25</td>\n",
       "      <td>490</td>\n",
       "      <td>515</td>\n",
       "      <td>5.0</td>\n",
       "    </tr>\n",
       "    <tr>\n",
       "      <th>3</th>\n",
       "      <td>국방위원회</td>\n",
       "      <td>58</td>\n",
       "      <td>424</td>\n",
       "      <td>482</td>\n",
       "      <td>12.0</td>\n",
       "    </tr>\n",
       "    <tr>\n",
       "      <th>15</th>\n",
       "      <td>여성가족위원회</td>\n",
       "      <td>65</td>\n",
       "      <td>325</td>\n",
       "      <td>390</td>\n",
       "      <td>17.0</td>\n",
       "    </tr>\n",
       "    <tr>\n",
       "      <th>16</th>\n",
       "      <td>외교통일위원회</td>\n",
       "      <td>31</td>\n",
       "      <td>253</td>\n",
       "      <td>284</td>\n",
       "      <td>11.0</td>\n",
       "    </tr>\n",
       "    <tr>\n",
       "      <th>1</th>\n",
       "      <td>교육문화체육관광위원회</td>\n",
       "      <td>109</td>\n",
       "      <td>124</td>\n",
       "      <td>233</td>\n",
       "      <td>47.0</td>\n",
       "    </tr>\n",
       "    <tr>\n",
       "      <th>14</th>\n",
       "      <td>안전행정위원회</td>\n",
       "      <td>33</td>\n",
       "      <td>109</td>\n",
       "      <td>142</td>\n",
       "      <td>23.0</td>\n",
       "    </tr>\n",
       "    <tr>\n",
       "      <th>12</th>\n",
       "      <td>산업통상자원위원회</td>\n",
       "      <td>58</td>\n",
       "      <td>38</td>\n",
       "      <td>96</td>\n",
       "      <td>60.0</td>\n",
       "    </tr>\n",
       "    <tr>\n",
       "      <th>18</th>\n",
       "      <td>정보위원회</td>\n",
       "      <td>1</td>\n",
       "      <td>30</td>\n",
       "      <td>31</td>\n",
       "      <td>3.0</td>\n",
       "    </tr>\n",
       "    <tr>\n",
       "      <th>9</th>\n",
       "      <td>미래창조과학방송통신위원회</td>\n",
       "      <td>7</td>\n",
       "      <td>4</td>\n",
       "      <td>11</td>\n",
       "      <td>64.0</td>\n",
       "    </tr>\n",
       "  </tbody>\n",
       "</table>\n",
       "</div>"
      ],
      "text/plain": [
       "              소관위원회   공포   미공포    합계   공포율\n",
       "19          행정안전위원회  162  2502  2664   6.0\n",
       "11          보건복지위원회  314  2158  2472  13.0\n",
       "4           국토교통위원회  385  1751  2136  18.0\n",
       "6           기획재정위원회  114  1902  2016   6.0\n",
       "20          환경노동위원회  177  1791  1968   9.0\n",
       "10          법제사법위원회  151  1667  1818   8.0\n",
       "7     농림축산식품해양수산위원회  446  1158  1604  28.0\n",
       "17            정무위원회  184  1385  1569  12.0\n",
       "13  산업통상자원중소벤처기업위원회  199   998  1197  17.0\n",
       "0     과학기술정보방송통신위원회  111   855   966  11.0\n",
       "2             교육위원회   91   796   887  10.0\n",
       "8         문화체육관광위원회   85   660   745  11.0\n",
       "5           국회운영위원회   25   490   515   5.0\n",
       "3             국방위원회   58   424   482  12.0\n",
       "15          여성가족위원회   65   325   390  17.0\n",
       "16          외교통일위원회   31   253   284  11.0\n",
       "1       교육문화체육관광위원회  109   124   233  47.0\n",
       "14          안전행정위원회   33   109   142  23.0\n",
       "12        산업통상자원위원회   58    38    96  60.0\n",
       "18            정보위원회    1    30    31   3.0\n",
       "9     미래창조과학방송통신위원회    7     4    11  64.0"
      ]
     },
     "execution_count": 32,
     "metadata": {},
     "output_type": "execute_result"
    }
   ],
   "source": [
    "# 국회의원들의 관심도를 드러내는 것이 맞을까? 이렇게 많이 발의했다면? \n",
    "comm_df2.sort_values(by='합계', ascending=False)"
   ]
  },
  {
   "cell_type": "code",
   "execution_count": null,
   "metadata": {},
   "outputs": [],
   "source": []
  },
  {
   "cell_type": "code",
   "execution_count": null,
   "metadata": {},
   "outputs": [],
   "source": []
  },
  {
   "cell_type": "code",
   "execution_count": null,
   "metadata": {},
   "outputs": [],
   "source": []
  },
  {
   "cell_type": "code",
   "execution_count": null,
   "metadata": {},
   "outputs": [],
   "source": []
  },
  {
   "cell_type": "markdown",
   "metadata": {},
   "source": [
    "## 소관위원회별 토픽 모델링 \n",
    "\n"
   ]
  },
  {
   "cell_type": "code",
   "execution_count": 33,
   "metadata": {},
   "outputs": [
    {
     "name": "stdout",
     "output_type": "stream",
     "text": [
      "zsh:1: command not found: apt-get\n",
      "zsh:1: command not found: apt-get\n",
      "Requirement already satisfied: JPype1-py3 in /usr/local/lib/python3.8/site-packages (0.5.5.4)\n",
      "Requirement already satisfied: konlpy in /usr/local/lib/python3.8/site-packages (0.5.2)\n",
      "Requirement already satisfied: tweepy>=3.7.0 in /usr/local/lib/python3.8/site-packages (from konlpy) (3.9.0)\n",
      "Requirement already satisfied: numpy>=1.6 in /usr/local/lib/python3.8/site-packages (from konlpy) (1.19.1)\n",
      "Requirement already satisfied: JPype1>=0.7.0 in /usr/local/lib/python3.8/site-packages (from konlpy) (1.0.2)\n",
      "Requirement already satisfied: lxml>=4.1.0 in /usr/local/lib/python3.8/site-packages (from konlpy) (4.5.2)\n",
      "Requirement already satisfied: beautifulsoup4==4.6.0 in /usr/local/lib/python3.8/site-packages (from konlpy) (4.6.0)\n",
      "Requirement already satisfied: colorama in /usr/local/lib/python3.8/site-packages (from konlpy) (0.4.3)\n",
      "Requirement already satisfied: requests[socks]>=2.11.1 in /usr/local/lib/python3.8/site-packages (from tweepy>=3.7.0->konlpy) (2.24.0)\n",
      "Requirement already satisfied: requests-oauthlib>=0.7.0 in /usr/local/lib/python3.8/site-packages (from tweepy>=3.7.0->konlpy) (1.3.0)\n",
      "Requirement already satisfied: six>=1.10.0 in /usr/local/lib/python3.8/site-packages (from tweepy>=3.7.0->konlpy) (1.15.0)\n",
      "Requirement already satisfied: idna<3,>=2.5 in /usr/local/lib/python3.8/site-packages (from requests[socks]>=2.11.1->tweepy>=3.7.0->konlpy) (2.10)\n",
      "Requirement already satisfied: urllib3!=1.25.0,!=1.25.1,<1.26,>=1.21.1 in /usr/local/lib/python3.8/site-packages (from requests[socks]>=2.11.1->tweepy>=3.7.0->konlpy) (1.25.10)\n",
      "Requirement already satisfied: certifi>=2017.4.17 in /usr/local/lib/python3.8/site-packages (from requests[socks]>=2.11.1->tweepy>=3.7.0->konlpy) (2020.6.20)\n",
      "Requirement already satisfied: chardet<4,>=3.0.2 in /usr/local/lib/python3.8/site-packages (from requests[socks]>=2.11.1->tweepy>=3.7.0->konlpy) (3.0.4)\n",
      "Requirement already satisfied: PySocks!=1.5.7,>=1.5.6; extra == \"socks\" in /usr/local/lib/python3.8/site-packages (from requests[socks]>=2.11.1->tweepy>=3.7.0->konlpy) (1.7.1)\n",
      "Requirement already satisfied: oauthlib>=3.0.0 in /usr/local/lib/python3.8/site-packages (from requests-oauthlib>=0.7.0->tweepy>=3.7.0->konlpy) (3.1.0)\n",
      "Requirement already satisfied: nltk in /usr/local/lib/python3.8/site-packages (3.5)\n",
      "Requirement already satisfied: joblib in /usr/local/lib/python3.8/site-packages (from nltk) (0.16.0)\n",
      "Requirement already satisfied: tqdm in /usr/local/lib/python3.8/site-packages (from nltk) (4.48.2)\n",
      "Requirement already satisfied: regex in /usr/local/lib/python3.8/site-packages (from nltk) (2020.7.14)\n",
      "Requirement already satisfied: click in /usr/local/lib/python3.8/site-packages (from nltk) (7.1.2)\n"
     ]
    }
   ],
   "source": [
    "# !apt-get update \n",
    "# !apt-get install g++ openjdk-8-jdk python-dev python3-dev \n",
    "# !pip3 install JPype1-py3 \n",
    "# !pip3 install konlpy \n",
    "# !JAVA_HOME=\"C:\\Program Files\\Java\\jdk-13.0.2\"\n",
    "# !pip3 install nltk"
   ]
  },
  {
   "cell_type": "code",
   "execution_count": 34,
   "metadata": {},
   "outputs": [
    {
     "name": "stdout",
     "output_type": "stream",
     "text": [
      "Unable to locate an executable at \"/Library/Java/JavaVirtualMachines/jdk-14.0.1.jdk/Contents/Home/bin/apt\" (-1)\r\n"
     ]
    }
   ],
   "source": [
    "# 한글폰트 설정\n",
    "import matplotlib as mpl\n",
    "import matplotlib.pyplot as plt\n",
    " \n",
    "%config InlineBackend.figure_format = 'retina'\n",
    " \n",
    "!apt -qq -y install fonts-nanum\n",
    " \n",
    "import matplotlib.font_manager as fm\n",
    "fontpath = '/usr/share/fonts/truetype/nanum/NanumBarunGothic.ttf'\n",
    "font = fm.FontProperties(fname=fontpath, size=9)\n",
    "plt.rc('font', family='NanumBarunGothic') \n",
    "mpl.font_manager._rebuild()"
   ]
  },
  {
   "cell_type": "code",
   "execution_count": 35,
   "metadata": {},
   "outputs": [],
   "source": [
    "comm_df.loc[comm_df['소관위원회'].isin(basic_comm), '위원회 분류'] = '상임위원회'\n",
    "comm_df.loc[comm_df['소관위원회'].isin(special_comm), '위원회 분류'] = '특별위원회'"
   ]
  },
  {
   "cell_type": "markdown",
   "metadata": {},
   "source": [
    "### 상임위원회 분석"
   ]
  },
  {
   "cell_type": "code",
   "execution_count": 36,
   "metadata": {},
   "outputs": [
    {
     "data": {
      "text/html": [
       "<div>\n",
       "<style scoped>\n",
       "    .dataframe tbody tr th:only-of-type {\n",
       "        vertical-align: middle;\n",
       "    }\n",
       "\n",
       "    .dataframe tbody tr th {\n",
       "        vertical-align: top;\n",
       "    }\n",
       "\n",
       "    .dataframe thead th {\n",
       "        text-align: right;\n",
       "    }\n",
       "</style>\n",
       "<table border=\"1\" class=\"dataframe\">\n",
       "  <thead>\n",
       "    <tr style=\"text-align: right;\">\n",
       "      <th></th>\n",
       "      <th>의안번호</th>\n",
       "      <th>의안명</th>\n",
       "      <th>제안자구분</th>\n",
       "      <th>제안일자</th>\n",
       "      <th>의결일자</th>\n",
       "      <th>의결결과</th>\n",
       "      <th>제안회기</th>\n",
       "      <th>제안이유</th>\n",
       "      <th>소관위원회</th>\n",
       "      <th>법률반영여부</th>\n",
       "      <th>법률안</th>\n",
       "      <th>의결처리기간</th>\n",
       "      <th>법률공포여부</th>\n",
       "      <th>위원회 분류</th>\n",
       "    </tr>\n",
       "  </thead>\n",
       "  <tbody>\n",
       "    <tr>\n",
       "      <th>0</th>\n",
       "      <td>2024996</td>\n",
       "      <td>집합건물의 소유 및 관리에 관한 법률 일부개정법률안</td>\n",
       "      <td>의원</td>\n",
       "      <td>2020-05-22</td>\n",
       "      <td>2020-05-29</td>\n",
       "      <td>임기만료폐기</td>\n",
       "      <td>제20대 (2016~2020) 제378회</td>\n",
       "      <td>아파트 등 공동주택은  공동주택관리법 에 의해 체계적으로 관리되고 있는 반면  ...</td>\n",
       "      <td>법제사법위원회</td>\n",
       "      <td>미반영</td>\n",
       "      <td>1.0</td>\n",
       "      <td>7</td>\n",
       "      <td>미공포</td>\n",
       "      <td>상임위원회</td>\n",
       "    </tr>\n",
       "    <tr>\n",
       "      <th>1</th>\n",
       "      <td>2024995</td>\n",
       "      <td>지방세법 일부개정법률안</td>\n",
       "      <td>의원</td>\n",
       "      <td>2020-05-22</td>\n",
       "      <td>2020-05-29</td>\n",
       "      <td>임기만료폐기</td>\n",
       "      <td>제20대 (2016~2020) 제378회</td>\n",
       "      <td>현행법상 아파트 등 주택에 대한 재산세 과세표준은 국토교통부가 해마다  부동산 가격...</td>\n",
       "      <td>행정안전위원회</td>\n",
       "      <td>미반영</td>\n",
       "      <td>1.0</td>\n",
       "      <td>7</td>\n",
       "      <td>미공포</td>\n",
       "      <td>상임위원회</td>\n",
       "    </tr>\n",
       "    <tr>\n",
       "      <th>2</th>\n",
       "      <td>2024994</td>\n",
       "      <td>법률용어 정비를 위한 정보위원회 소관 개 법률 일부개정을 위한 법률안</td>\n",
       "      <td>위원장</td>\n",
       "      <td>2020-05-20</td>\n",
       "      <td>2020-05-20</td>\n",
       "      <td>원안가결</td>\n",
       "      <td>제20대 (2016~2020) 제378회</td>\n",
       "      <td></td>\n",
       "      <td>정보위원회</td>\n",
       "      <td>반영</td>\n",
       "      <td>1.0</td>\n",
       "      <td>0</td>\n",
       "      <td>공포</td>\n",
       "      <td>상임위원회</td>\n",
       "    </tr>\n",
       "  </tbody>\n",
       "</table>\n",
       "</div>"
      ],
      "text/plain": [
       "      의안번호                                     의안명 제안자구분       제안일자  \\\n",
       "0  2024996            집합건물의 소유 및 관리에 관한 법률 일부개정법률안    의원 2020-05-22   \n",
       "1  2024995                            지방세법 일부개정법률안    의원 2020-05-22   \n",
       "2  2024994  법률용어 정비를 위한 정보위원회 소관 개 법률 일부개정을 위한 법률안   위원장 2020-05-20   \n",
       "\n",
       "        의결일자    의결결과                    제안회기  \\\n",
       "0 2020-05-29  임기만료폐기  제20대 (2016~2020) 제378회   \n",
       "1 2020-05-29  임기만료폐기  제20대 (2016~2020) 제378회   \n",
       "2 2020-05-20    원안가결  제20대 (2016~2020) 제378회   \n",
       "\n",
       "                                                제안이유    소관위원회 법률반영여부  법률안  \\\n",
       "0    아파트 등 공동주택은  공동주택관리법 에 의해 체계적으로 관리되고 있는 반면  ...  법제사법위원회    미반영  1.0   \n",
       "1  현행법상 아파트 등 주택에 대한 재산세 과세표준은 국토교통부가 해마다  부동산 가격...  행정안전위원회    미반영  1.0   \n",
       "2                                                       정보위원회     반영  1.0   \n",
       "\n",
       "   의결처리기간 법률공포여부 위원회 분류  \n",
       "0       7    미공포  상임위원회  \n",
       "1       7    미공포  상임위원회  \n",
       "2       0     공포  상임위원회  "
      ]
     },
     "execution_count": 36,
     "metadata": {},
     "output_type": "execute_result"
    }
   ],
   "source": [
    "comm_df1 = comm_df[comm_df['위원회 분류'] == '상임위원회']\n",
    "comm_df1.head(3)"
   ]
  },
  {
   "cell_type": "code",
   "execution_count": 37,
   "metadata": {},
   "outputs": [
    {
     "data": {
      "text/plain": [
       "행정안전위원회            2664\n",
       "보건복지위원회            2472\n",
       "국토교통위원회            2136\n",
       "기획재정위원회            2016\n",
       "환경노동위원회            1968\n",
       "법제사법위원회            1818\n",
       "농림축산식품해양수산위원회      1604\n",
       "정무위원회              1569\n",
       "산업통상자원중소벤처기업위원회    1197\n",
       "과학기술정보방송통신위원회       966\n",
       "교육위원회               887\n",
       "문화체육관광위원회           745\n",
       "국회운영위원회             515\n",
       "국방위원회               482\n",
       "여성가족위원회             390\n",
       "외교통일위원회             284\n",
       "교육문화체육관광위원회         233\n",
       "안전행정위원회             142\n",
       "산업통상자원위원회            96\n",
       "정보위원회                31\n",
       "미래창조과학방송통신위원회        11\n",
       "Name: 소관위원회, dtype: int64"
      ]
     },
     "execution_count": 37,
     "metadata": {},
     "output_type": "execute_result"
    }
   ],
   "source": [
    "comm_df1['소관위원회'].value_counts()"
   ]
  },
  {
   "cell_type": "code",
   "execution_count": 38,
   "metadata": {},
   "outputs": [
    {
     "name": "stderr",
     "output_type": "stream",
     "text": [
      "<ipython-input-38-4d774aa0361d>:1: SettingWithCopyWarning: \n",
      "A value is trying to be set on a copy of a slice from a DataFrame.\n",
      "Try using .loc[row_indexer,col_indexer] = value instead\n",
      "\n",
      "See the caveats in the documentation: https://pandas.pydata.org/pandas-docs/stable/user_guide/indexing.html#returning-a-view-versus-a-copy\n",
      "  comm_df1['의안명+제안이유'] = (comm_df1['의안명'] + ' ' + comm_df1['제안이유']).str.strip()\n"
     ]
    }
   ],
   "source": [
    "comm_df1['의안명+제안이유'] = (comm_df1['의안명'] + ' ' + comm_df1['제안이유']).str.strip()"
   ]
  },
  {
   "cell_type": "code",
   "execution_count": 39,
   "metadata": {},
   "outputs": [
    {
     "name": "stdout",
     "output_type": "stream",
     "text": [
      "0 법제사법위원회\n",
      "1 행정안전위원회\n",
      "2 정보위원회\n",
      "3 여성가족위원회\n",
      "4 문화체육관광위원회\n",
      "5 국회운영위원회\n",
      "6 과학기술정보방송통신위원회\n",
      "7 기획재정위원회\n",
      "8 국토교통위원회\n",
      "9 환경노동위원회\n",
      "10 외교통일위원회\n",
      "11 농림축산식품해양수산위원회\n",
      "12 정무위원회\n",
      "13 국방위원회\n",
      "14 교육위원회\n",
      "15 보건복지위원회\n",
      "16 산업통상자원중소벤처기업위원회\n",
      "17 교육문화체육관광위원회\n",
      "18 안전행정위원회\n",
      "19 산업통상자원위원회\n",
      "20 미래창조과학방송통신위원회\n"
     ]
    }
   ],
   "source": [
    "comm_anal1 = comm_df1[['소관위원회','의결결과','법률공포여부','의결처리기간','의안명+제안이유']]\n",
    "\n",
    "for index, com in enumerate(basic_comm): \n",
    "    print(index, com)"
   ]
  },
  {
   "cell_type": "markdown",
   "metadata": {},
   "source": [
    "#### [0] 법제사법위원회\n",
    "\n",
    "법제사법위원회(法制司法委員會)는 법제·사법에 관한 국회의 의사결정기능을 실질적으로 수행하는 국회 상임위원회이다."
   ]
  },
  {
   "cell_type": "code",
   "execution_count": 40,
   "metadata": {},
   "outputs": [
    {
     "data": {
      "text/plain": [
       "(1818, 5)"
      ]
     },
     "execution_count": 40,
     "metadata": {},
     "output_type": "execute_result"
    }
   ],
   "source": [
    "com1 = comm_anal1[comm_anal1['소관위원회'] == basic_comm[0]]\n",
    "com1.shape"
   ]
  },
  {
   "cell_type": "code",
   "execution_count": 41,
   "metadata": {},
   "outputs": [
    {
     "data": {
      "text/plain": [
       "미공포    1667\n",
       "공포      151\n",
       "Name: 법률공포여부, dtype: int64"
      ]
     },
     "execution_count": 41,
     "metadata": {},
     "output_type": "execute_result"
    }
   ],
   "source": [
    "com1['법률공포여부'].value_counts()"
   ]
  },
  {
   "cell_type": "code",
   "execution_count": 42,
   "metadata": {},
   "outputs": [],
   "source": [
    "# 공포/미공포 분류\n",
    "com1_pro = com1[com1['법률공포여부'] == '공포'].reset_index()\n",
    "com1_unpro = com1[com1['법률공포여부'] == '미공포'].reset_index()"
   ]
  },
  {
   "cell_type": "code",
   "execution_count": 43,
   "metadata": {},
   "outputs": [
    {
     "data": {
      "text/html": [
       "<div>\n",
       "<style scoped>\n",
       "    .dataframe tbody tr th:only-of-type {\n",
       "        vertical-align: middle;\n",
       "    }\n",
       "\n",
       "    .dataframe tbody tr th {\n",
       "        vertical-align: top;\n",
       "    }\n",
       "\n",
       "    .dataframe thead th {\n",
       "        text-align: right;\n",
       "    }\n",
       "</style>\n",
       "<table border=\"1\" class=\"dataframe\">\n",
       "  <thead>\n",
       "    <tr style=\"text-align: right;\">\n",
       "      <th></th>\n",
       "      <th>index</th>\n",
       "      <th>소관위원회</th>\n",
       "      <th>의결결과</th>\n",
       "      <th>법률공포여부</th>\n",
       "      <th>의결처리기간</th>\n",
       "      <th>의안명+제안이유</th>\n",
       "    </tr>\n",
       "  </thead>\n",
       "  <tbody>\n",
       "    <tr>\n",
       "      <th>0</th>\n",
       "      <td>59</td>\n",
       "      <td>법제사법위원회</td>\n",
       "      <td>원안가결</td>\n",
       "      <td>공포</td>\n",
       "      <td>0</td>\n",
       "      <td>군사법원법 일부개정법률안 군인 군무원 등 사이에 발생한 범죄의 피해자에게 변호사가 ...</td>\n",
       "    </tr>\n",
       "    <tr>\n",
       "      <th>1</th>\n",
       "      <td>61</td>\n",
       "      <td>법제사법위원회</td>\n",
       "      <td>원안가결</td>\n",
       "      <td>공포</td>\n",
       "      <td>0</td>\n",
       "      <td>출입국관리법 일부개정법률안 가  출입국 전 과정에서 지문  얼굴을 비롯하여 홍채  ...</td>\n",
       "    </tr>\n",
       "    <tr>\n",
       "      <th>2</th>\n",
       "      <td>62</td>\n",
       "      <td>법제사법위원회</td>\n",
       "      <td>원안가결</td>\n",
       "      <td>공포</td>\n",
       "      <td>0</td>\n",
       "      <td>주택임대차보호법 일부개정법률안 현행법은 임대인은 임대차기간 종료 개월 전부터 개월 ...</td>\n",
       "    </tr>\n",
       "  </tbody>\n",
       "</table>\n",
       "</div>"
      ],
      "text/plain": [
       "   index    소관위원회  의결결과 법률공포여부  의결처리기간  \\\n",
       "0     59  법제사법위원회  원안가결     공포       0   \n",
       "1     61  법제사법위원회  원안가결     공포       0   \n",
       "2     62  법제사법위원회  원안가결     공포       0   \n",
       "\n",
       "                                            의안명+제안이유  \n",
       "0  군사법원법 일부개정법률안 군인 군무원 등 사이에 발생한 범죄의 피해자에게 변호사가 ...  \n",
       "1  출입국관리법 일부개정법률안 가  출입국 전 과정에서 지문  얼굴을 비롯하여 홍채  ...  \n",
       "2  주택임대차보호법 일부개정법률안 현행법은 임대인은 임대차기간 종료 개월 전부터 개월 ...  "
      ]
     },
     "execution_count": 43,
     "metadata": {},
     "output_type": "execute_result"
    }
   ],
   "source": [
    "com1_pro.head(3)"
   ]
  },
  {
   "cell_type": "code",
   "execution_count": 44,
   "metadata": {},
   "outputs": [],
   "source": [
    "import nltk \n",
    "from konlpy.tag import Okt\n",
    "\n",
    "stopwords = ['을','이','의','를','에','가','들','은','는','으로','한','도',\n",
    "              '수','에서','로','것','그','과','제','입니다','할','하고','적','하는',\n",
    "              '합니다','와','에게','고','인','하여','등','저','있습니다','말','까지',\n",
    "              '그리고','다','만','했습니다','안','된','못','일','더','위',\n",
    "              '있는','해','또한','명','하지','정말','물','많은','것임',\n",
    "              '중','게','너무','자','이런','때','되지','위해','에는','없는',\n",
    "              '및','요','때문','관련','대한','전','라고','되었습니다','하기','나','후','같은','해서',\n",
    "              '글','되어','주','차','하','내','없이','대해','잘','항','조','경우','함안','기간','하려는','일부',\n",
    "             '마련','있도록','또는','함','하도록','개월','부터','제호','관','되고','년','월']\n",
    "\n",
    "# 토큰화 해주기 \n",
    "def tokenize(textlist): \n",
    "    okt = Okt()\n",
    "    nounlist = []\n",
    "    for i in range(len(textlist)):\n",
    "        n = re.sub('[-=.#/:$}·,■?]','',textlist[i])\n",
    "        k = re.sub('[0-9]','',n)\n",
    "        nounlist.append(kkma.nouns(k))\n",
    "    return nounlist \n",
    "\n",
    "# 의미없는 단어 삭제 \n",
    "def rem_useless(nounlist, stopwords): \n",
    "    cleanlist = []\n",
    "    removedict = []\n",
    "    for i in nounlist: \n",
    "        if (i not in removedict) and (i not in stopword_list) and (len(i) > 1):\n",
    "            cleanlist.append(i) \n",
    "    return cleanlist \n",
    "\n",
    "def preproc(textlist): \n",
    "    nounlist = tokenize(textlist)\n",
    "    cleanlist = rem_useless(nounlist, stopwords)\n",
    "    return cleanlist"
   ]
  },
  {
   "cell_type": "code",
   "execution_count": 53,
   "metadata": {},
   "outputs": [
    {
     "ename": "TypeError",
     "evalue": "No matching overloads found for kr.lucypark.okt.OktInterface.tokenize(int,java.lang.Boolean,java.lang.Boolean), options are:\n\tpublic java.util.List kr.lucypark.okt.OktInterface.tokenize(java.lang.String,java.lang.Boolean,java.lang.Boolean)\n\n",
     "output_type": "error",
     "traceback": [
      "\u001b[0;31m---------------------------------------------------------------------------\u001b[0m",
      "\u001b[0;31mTypeError\u001b[0m                                 Traceback (most recent call last)",
      "\u001b[0;32m<ipython-input-53-58730bf001fe>\u001b[0m in \u001b[0;36m<module>\u001b[0;34m\u001b[0m\n\u001b[0;32m----> 1\u001b[0;31m \u001b[0mlaw_pro_list\u001b[0m \u001b[0;34m=\u001b[0m \u001b[0mpreproc\u001b[0m\u001b[0;34m(\u001b[0m\u001b[0mcom1_pro\u001b[0m\u001b[0;34m[\u001b[0m\u001b[0;34m'의안명+제안이유'\u001b[0m\u001b[0;34m]\u001b[0m\u001b[0;34m.\u001b[0m\u001b[0mtolist\u001b[0m\u001b[0;34m(\u001b[0m\u001b[0;34m)\u001b[0m\u001b[0;34m)\u001b[0m\u001b[0;34m\u001b[0m\u001b[0;34m\u001b[0m\u001b[0m\n\u001b[0m",
      "\u001b[0;32m<ipython-input-44-e50909372252>\u001b[0m in \u001b[0;36mpreproc\u001b[0;34m(textlist)\u001b[0m\n\u001b[1;32m     30\u001b[0m \u001b[0;34m\u001b[0m\u001b[0m\n\u001b[1;32m     31\u001b[0m \u001b[0;32mdef\u001b[0m \u001b[0mpreproc\u001b[0m\u001b[0;34m(\u001b[0m\u001b[0mtextlist\u001b[0m\u001b[0;34m)\u001b[0m\u001b[0;34m:\u001b[0m\u001b[0;34m\u001b[0m\u001b[0;34m\u001b[0m\u001b[0m\n\u001b[0;32m---> 32\u001b[0;31m     \u001b[0mnounlist\u001b[0m \u001b[0;34m=\u001b[0m \u001b[0mtokenize\u001b[0m\u001b[0;34m(\u001b[0m\u001b[0mtextlist\u001b[0m\u001b[0;34m)\u001b[0m\u001b[0;34m\u001b[0m\u001b[0;34m\u001b[0m\u001b[0m\n\u001b[0m\u001b[1;32m     33\u001b[0m     \u001b[0mcleanlist\u001b[0m \u001b[0;34m=\u001b[0m \u001b[0mrem_useless\u001b[0m\u001b[0;34m(\u001b[0m\u001b[0mnounlist\u001b[0m\u001b[0;34m,\u001b[0m \u001b[0mstopwords\u001b[0m\u001b[0;34m)\u001b[0m\u001b[0;34m\u001b[0m\u001b[0;34m\u001b[0m\u001b[0m\n\u001b[1;32m     34\u001b[0m     \u001b[0;32mreturn\u001b[0m \u001b[0mcleanlist\u001b[0m\u001b[0;34m\u001b[0m\u001b[0;34m\u001b[0m\u001b[0m\n",
      "\u001b[0;32m<ipython-input-44-e50909372252>\u001b[0m in \u001b[0;36mtokenize\u001b[0;34m(textlist)\u001b[0m\n\u001b[1;32m     17\u001b[0m     \u001b[0mnounlist\u001b[0m \u001b[0;34m=\u001b[0m \u001b[0;34m[\u001b[0m\u001b[0;34m]\u001b[0m\u001b[0;34m\u001b[0m\u001b[0;34m\u001b[0m\u001b[0m\n\u001b[1;32m     18\u001b[0m     \u001b[0;32mfor\u001b[0m \u001b[0mi\u001b[0m \u001b[0;32min\u001b[0m \u001b[0mrange\u001b[0m\u001b[0;34m(\u001b[0m\u001b[0mlen\u001b[0m\u001b[0;34m(\u001b[0m\u001b[0mtextlist\u001b[0m\u001b[0;34m)\u001b[0m\u001b[0;34m)\u001b[0m\u001b[0;34m:\u001b[0m\u001b[0;34m\u001b[0m\u001b[0;34m\u001b[0m\u001b[0m\n\u001b[0;32m---> 19\u001b[0;31m         \u001b[0mnounlist\u001b[0m\u001b[0;34m.\u001b[0m\u001b[0mappend\u001b[0m\u001b[0;34m(\u001b[0m\u001b[0mokt\u001b[0m\u001b[0;34m.\u001b[0m\u001b[0mnouns\u001b[0m\u001b[0;34m(\u001b[0m\u001b[0mi\u001b[0m\u001b[0;34m)\u001b[0m\u001b[0;34m)\u001b[0m\u001b[0;34m\u001b[0m\u001b[0;34m\u001b[0m\u001b[0m\n\u001b[0m\u001b[1;32m     20\u001b[0m     \u001b[0;32mreturn\u001b[0m \u001b[0mnounlist\u001b[0m\u001b[0;34m\u001b[0m\u001b[0;34m\u001b[0m\u001b[0m\n\u001b[1;32m     21\u001b[0m \u001b[0;34m\u001b[0m\u001b[0m\n",
      "\u001b[0;32m/usr/local/lib/python3.8/site-packages/konlpy/tag/_okt.py\u001b[0m in \u001b[0;36mnouns\u001b[0;34m(self, phrase)\u001b[0m\n\u001b[1;32m     70\u001b[0m         \u001b[0;34m\"\"\"Noun extractor.\"\"\"\u001b[0m\u001b[0;34m\u001b[0m\u001b[0;34m\u001b[0m\u001b[0m\n\u001b[1;32m     71\u001b[0m \u001b[0;34m\u001b[0m\u001b[0m\n\u001b[0;32m---> 72\u001b[0;31m         \u001b[0mtagged\u001b[0m \u001b[0;34m=\u001b[0m \u001b[0mself\u001b[0m\u001b[0;34m.\u001b[0m\u001b[0mpos\u001b[0m\u001b[0;34m(\u001b[0m\u001b[0mphrase\u001b[0m\u001b[0;34m)\u001b[0m\u001b[0;34m\u001b[0m\u001b[0;34m\u001b[0m\u001b[0m\n\u001b[0m\u001b[1;32m     73\u001b[0m         \u001b[0;32mreturn\u001b[0m \u001b[0;34m[\u001b[0m\u001b[0ms\u001b[0m \u001b[0;32mfor\u001b[0m \u001b[0ms\u001b[0m\u001b[0;34m,\u001b[0m \u001b[0mt\u001b[0m \u001b[0;32min\u001b[0m \u001b[0mtagged\u001b[0m \u001b[0;32mif\u001b[0m \u001b[0mt\u001b[0m \u001b[0;34m==\u001b[0m \u001b[0;34m'Noun'\u001b[0m\u001b[0;34m]\u001b[0m\u001b[0;34m\u001b[0m\u001b[0;34m\u001b[0m\u001b[0m\n\u001b[1;32m     74\u001b[0m \u001b[0;34m\u001b[0m\u001b[0m\n",
      "\u001b[0;32m/usr/local/lib/python3.8/site-packages/konlpy/tag/_okt.py\u001b[0m in \u001b[0;36mpos\u001b[0;34m(self, phrase, norm, stem, join)\u001b[0m\n\u001b[1;32m     58\u001b[0m         \"\"\"\n\u001b[1;32m     59\u001b[0m \u001b[0;34m\u001b[0m\u001b[0m\n\u001b[0;32m---> 60\u001b[0;31m         tokens = self.jki.tokenize(\n\u001b[0m\u001b[1;32m     61\u001b[0m                     \u001b[0mphrase\u001b[0m\u001b[0;34m,\u001b[0m\u001b[0;34m\u001b[0m\u001b[0;34m\u001b[0m\u001b[0m\n\u001b[1;32m     62\u001b[0m                     \u001b[0mjpype\u001b[0m\u001b[0;34m.\u001b[0m\u001b[0mjava\u001b[0m\u001b[0;34m.\u001b[0m\u001b[0mlang\u001b[0m\u001b[0;34m.\u001b[0m\u001b[0mBoolean\u001b[0m\u001b[0;34m(\u001b[0m\u001b[0mnorm\u001b[0m\u001b[0;34m)\u001b[0m\u001b[0;34m,\u001b[0m\u001b[0;34m\u001b[0m\u001b[0;34m\u001b[0m\u001b[0m\n",
      "\u001b[0;31mTypeError\u001b[0m: No matching overloads found for kr.lucypark.okt.OktInterface.tokenize(int,java.lang.Boolean,java.lang.Boolean), options are:\n\tpublic java.util.List kr.lucypark.okt.OktInterface.tokenize(java.lang.String,java.lang.Boolean,java.lang.Boolean)\n\n"
     ]
    }
   ],
   "source": [
    "law_pro_list = preproc(com1_pro['의안명+제안이유'].tolist())\n"
   ]
  },
  {
   "cell_type": "code",
   "execution_count": null,
   "metadata": {},
   "outputs": [],
   "source": []
  },
  {
   "cell_type": "code",
   "execution_count": null,
   "metadata": {},
   "outputs": [],
   "source": []
  }
 ],
 "metadata": {
  "kernelspec": {
   "display_name": "Python 3",
   "language": "python",
   "name": "python3"
  },
  "language_info": {
   "codemirror_mode": {
    "name": "ipython",
    "version": 3
   },
   "file_extension": ".py",
   "mimetype": "text/x-python",
   "name": "python",
   "nbconvert_exporter": "python",
   "pygments_lexer": "ipython3",
   "version": "3.8.5"
  }
 },
 "nbformat": 4,
 "nbformat_minor": 4
}
