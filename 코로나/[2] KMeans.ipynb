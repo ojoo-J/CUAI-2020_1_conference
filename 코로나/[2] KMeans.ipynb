{
 "cells": [
  {
   "cell_type": "markdown",
   "metadata": {
    "colab_type": "text",
    "id": "OZnsBQohPV3z"
   },
   "source": [
    "## 1. Import & 전처리"
   ]
  },
  {
   "cell_type": "code",
   "execution_count": 8,
   "metadata": {
    "colab": {},
    "colab_type": "code",
    "executionInfo": {
     "elapsed": 1092,
     "status": "ok",
     "timestamp": 1598847341977,
     "user": {
      "displayName": "룰룰",
      "photoUrl": "",
      "userId": "05382561314242975039"
     },
     "user_tz": -540
    },
    "id": "XoW1_QeIkZzR"
   },
   "outputs": [],
   "source": [
    "import pandas as pd\n",
    "import numpy as np\n",
    "import time\n",
    "import matplotlib.pyplot as plt\n",
    "import seaborn as sns\n",
    "import re\n",
    "from tqdm import tqdm\n",
    "from gensim.models import Word2Vec\n",
    "from sklearn.cluster import KMeans\n",
    "import os\n",
    "from gensim import models\n",
    "import fasttext.util\n",
    "from sklearn.cluster import AgglomerativeClustering\n",
    "%matplotlib inline"
   ]
  },
  {
   "cell_type": "code",
   "execution_count": 9,
   "metadata": {
    "colab": {
     "base_uri": "https://localhost:8080/",
     "height": 1000
    },
    "colab_type": "code",
    "executionInfo": {
     "elapsed": 1198,
     "status": "ok",
     "timestamp": 1598847342439,
     "user": {
      "displayName": "룰룰",
      "photoUrl": "",
      "userId": "05382561314242975039"
     },
     "user_tz": -540
    },
    "id": "rSEOIU25krUs",
    "outputId": "bda7fa07-aae7-4d70-e431-c962fe896962"
   },
   "outputs": [
    {
     "data": {
      "text/html": [
       "<div>\n",
       "<style scoped>\n",
       "    .dataframe tbody tr th:only-of-type {\n",
       "        vertical-align: middle;\n",
       "    }\n",
       "\n",
       "    .dataframe tbody tr th {\n",
       "        vertical-align: top;\n",
       "    }\n",
       "\n",
       "    .dataframe thead th {\n",
       "        text-align: right;\n",
       "    }\n",
       "</style>\n",
       "<table border=\"1\" class=\"dataframe\">\n",
       "  <thead>\n",
       "    <tr style=\"text-align: right;\">\n",
       "      <th></th>\n",
       "      <th>Unnamed: 0</th>\n",
       "      <th>의안번호</th>\n",
       "      <th>처리여부</th>\n",
       "      <th>의안명</th>\n",
       "      <th>제안자구분</th>\n",
       "      <th>제안일자</th>\n",
       "      <th>의결일자</th>\n",
       "      <th>의결결과</th>\n",
       "      <th>심사진행상태</th>\n",
       "      <th>문서</th>\n",
       "      <th>제안회기</th>\n",
       "      <th>제안이유</th>\n",
       "      <th>소관위원회</th>\n",
       "      <th>제안자</th>\n",
       "      <th>법률안</th>\n",
       "      <th>제안정당</th>\n",
       "      <th>법률공포여부</th>\n",
       "      <th>텍스트</th>\n",
       "      <th>토큰</th>\n",
       "      <th>명사수</th>\n",
       "    </tr>\n",
       "  </thead>\n",
       "  <tbody>\n",
       "    <tr>\n",
       "      <th>0</th>\n",
       "      <td>0</td>\n",
       "      <td>2024549</td>\n",
       "      <td>처</td>\n",
       "      <td>감염병의 예방 및 관리에 관한 법률 일부개정법률안</td>\n",
       "      <td>의원</td>\n",
       "      <td>2020-01-28</td>\n",
       "      <td>2020-02-26 00:00:00</td>\n",
       "      <td>대안반영폐기</td>\n",
       "      <td>NaN</td>\n",
       "      <td>의안원문</td>\n",
       "      <td>제20대 (2016~2020) 제375회</td>\n",
       "      <td>최근 신종 코로나바이러스감염증(2019 novel Coronavirus  2019 ...</td>\n",
       "      <td>보건복지위원회</td>\n",
       "      <td>[\"['유의동(새로운보수당/兪義東)'\", \" '권성동(자유한국당/權性東)'\", \" ...</td>\n",
       "      <td>1.0</td>\n",
       "      <td>['미래를향한전진4.0', '자유한국당', '바른미래당', '새로운보수당']</td>\n",
       "      <td>미공포</td>\n",
       "      <td>감염병의 예방 및 관리에 관한 법률 일부개정법률안 최근 신종 코로나바이러스감염증...</td>\n",
       "      <td>['감염병', '예방', '관리', '법률', '일부개정법률안', '신종', '코로...</td>\n",
       "      <td>59</td>\n",
       "    </tr>\n",
       "    <tr>\n",
       "      <th>1</th>\n",
       "      <td>1</td>\n",
       "      <td>2024556</td>\n",
       "      <td>처</td>\n",
       "      <td>검역법 일부개정법률안</td>\n",
       "      <td>의원</td>\n",
       "      <td>2020-01-29</td>\n",
       "      <td>2020-05-29 00:00:00</td>\n",
       "      <td>임기만료폐기</td>\n",
       "      <td>NaN</td>\n",
       "      <td>의안원문</td>\n",
       "      <td>제20대 (2016~2020) 제375회</td>\n",
       "      <td>현행법은 보건복지부장관이 출입국의 금지 또는 정지 요청 규정상 검역감염병 환자등 또...</td>\n",
       "      <td>보건복지위원회</td>\n",
       "      <td>[\"['원유철(자유한국당/元裕哲)'\", \" '강석호(자유한국당/姜碩鎬)'\", \" '...</td>\n",
       "      <td>1.0</td>\n",
       "      <td>['새로운보수당', '무소속', '자유한국당']</td>\n",
       "      <td>미공포</td>\n",
       "      <td>검역법 일부개정법률안 현행법은 보건복지부장관이 출입국의 금지 또는 정지 요청 규...</td>\n",
       "      <td>['검역법', '일부개정법률안', '현행법', '보건복지부장관', '출입국', '금...</td>\n",
       "      <td>74</td>\n",
       "    </tr>\n",
       "    <tr>\n",
       "      <th>2</th>\n",
       "      <td>2</td>\n",
       "      <td>2024555</td>\n",
       "      <td>처</td>\n",
       "      <td>감염병의 예방 및 관리에 관한 법률 일부개정법률안</td>\n",
       "      <td>의원</td>\n",
       "      <td>2020-01-29</td>\n",
       "      <td>2020-02-26 00:00:00</td>\n",
       "      <td>대안반영폐기</td>\n",
       "      <td>NaN</td>\n",
       "      <td>의안원문</td>\n",
       "      <td>제20대 (2016~2020) 제375회</td>\n",
       "      <td>현행법은 감염병환자등이 발생하였거나 발생할 우려가 있는 경우 육군ㆍ해군ㆍ공군 소속 ...</td>\n",
       "      <td>보건복지위원회</td>\n",
       "      <td>[\"['원유철(자유한국당/元裕哲)'\", \" '강석호(자유한국당/姜碩鎬)'\", \" '...</td>\n",
       "      <td>1.0</td>\n",
       "      <td>['새로운보수당', '무소속', '자유한국당']</td>\n",
       "      <td>미공포</td>\n",
       "      <td>감염병의 예방 및 관리에 관한 법률 일부개정법률안 현행법은 감염병환자등이 발생하...</td>\n",
       "      <td>['감염병', '예방', '관리', '법률', '일부개정법률안', '현행법', '감...</td>\n",
       "      <td>59</td>\n",
       "    </tr>\n",
       "    <tr>\n",
       "      <th>3</th>\n",
       "      <td>3</td>\n",
       "      <td>2024582</td>\n",
       "      <td>처</td>\n",
       "      <td>감염병의 예방 및 관리에 관한 법률 일부개정법률안</td>\n",
       "      <td>의원</td>\n",
       "      <td>2020-02-06</td>\n",
       "      <td>2020-02-26 00:00:00</td>\n",
       "      <td>대안반영폐기</td>\n",
       "      <td>NaN</td>\n",
       "      <td>의안원문\\n비용추계서 미첨부 사유서</td>\n",
       "      <td>제20대 (2016~2020) 제375회</td>\n",
       "      <td>세계적으로 신종감염병의 수가 지난 60년간 4배 이상 늘어나면서 감염병 유행이 전 ...</td>\n",
       "      <td>보건복지위원회</td>\n",
       "      <td>[\"['기동민(더불어민주당/奇東旻)'\", \" '강훈식(더불어민주당/姜勳植)'\", \"...</td>\n",
       "      <td>1.0</td>\n",
       "      <td>['더불어민주당']</td>\n",
       "      <td>미공포</td>\n",
       "      <td>감염병의 예방 및 관리에 관한 법률 일부개정법률안 세계적으로 신종감염병의 수가 ...</td>\n",
       "      <td>['감염병', '예방', '관리', '법률', '일부개정법률안', '세계적', '신...</td>\n",
       "      <td>142</td>\n",
       "    </tr>\n",
       "    <tr>\n",
       "      <th>4</th>\n",
       "      <td>4</td>\n",
       "      <td>2024584</td>\n",
       "      <td>처</td>\n",
       "      <td>감염병의 예방 및 관리에 관한 법률 일부개정법률안</td>\n",
       "      <td>의원</td>\n",
       "      <td>2020-02-06</td>\n",
       "      <td>2020-02-26 00:00:00</td>\n",
       "      <td>대안반영폐기</td>\n",
       "      <td>NaN</td>\n",
       "      <td>의안원문</td>\n",
       "      <td>제20대 (2016~2020) 제375회</td>\n",
       "      <td>최근 신종 코로나바이러스 감염병과 관련하여 의료기관은 중국 입국자 및 접촉자 관련 ...</td>\n",
       "      <td>보건복지위원회</td>\n",
       "      <td>[\"['허윤정(더불어민주당/許允貞)'\", \" '기동민(더불어민주당/奇東旻)'\", \"...</td>\n",
       "      <td>1.0</td>\n",
       "      <td>['더불어민주당', '무소속']</td>\n",
       "      <td>미공포</td>\n",
       "      <td>감염병의 예방 및 관리에 관한 법률 일부개정법률안 최근 신종 코로나바이러스 감염...</td>\n",
       "      <td>['감염병', '예방', '관리', '법률', '일부개정법률안', '신종', '코로...</td>\n",
       "      <td>91</td>\n",
       "    </tr>\n",
       "  </tbody>\n",
       "</table>\n",
       "</div>"
      ],
      "text/plain": [
       "   Unnamed: 0     의안번호 처리여부                            의안명 제안자구분        제안일자  \\\n",
       "0           0  2024549    처    감염병의 예방 및 관리에 관한 법률 일부개정법률안    의원  2020-01-28   \n",
       "1           1  2024556    처                    검역법 일부개정법률안    의원  2020-01-29   \n",
       "2           2  2024555    처    감염병의 예방 및 관리에 관한 법률 일부개정법률안    의원  2020-01-29   \n",
       "3           3  2024582    처    감염병의 예방 및 관리에 관한 법률 일부개정법률안    의원  2020-02-06   \n",
       "4           4  2024584    처    감염병의 예방 및 관리에 관한 법률 일부개정법률안    의원  2020-02-06   \n",
       "\n",
       "                  의결일자    의결결과 심사진행상태                   문서  \\\n",
       "0  2020-02-26 00:00:00  대안반영폐기    NaN                 의안원문   \n",
       "1  2020-05-29 00:00:00  임기만료폐기    NaN                 의안원문   \n",
       "2  2020-02-26 00:00:00  대안반영폐기    NaN                 의안원문   \n",
       "3  2020-02-26 00:00:00  대안반영폐기    NaN  의안원문\\n비용추계서 미첨부 사유서   \n",
       "4  2020-02-26 00:00:00  대안반영폐기    NaN                 의안원문   \n",
       "\n",
       "                     제안회기                                               제안이유  \\\n",
       "0  제20대 (2016~2020) 제375회  최근 신종 코로나바이러스감염증(2019 novel Coronavirus  2019 ...   \n",
       "1  제20대 (2016~2020) 제375회  현행법은 보건복지부장관이 출입국의 금지 또는 정지 요청 규정상 검역감염병 환자등 또...   \n",
       "2  제20대 (2016~2020) 제375회  현행법은 감염병환자등이 발생하였거나 발생할 우려가 있는 경우 육군ㆍ해군ㆍ공군 소속 ...   \n",
       "3  제20대 (2016~2020) 제375회  세계적으로 신종감염병의 수가 지난 60년간 4배 이상 늘어나면서 감염병 유행이 전 ...   \n",
       "4  제20대 (2016~2020) 제375회  최근 신종 코로나바이러스 감염병과 관련하여 의료기관은 중국 입국자 및 접촉자 관련 ...   \n",
       "\n",
       "     소관위원회                                                제안자  법률안  \\\n",
       "0  보건복지위원회  [\"['유의동(새로운보수당/兪義東)'\", \" '권성동(자유한국당/權性東)'\", \" ...  1.0   \n",
       "1  보건복지위원회  [\"['원유철(자유한국당/元裕哲)'\", \" '강석호(자유한국당/姜碩鎬)'\", \" '...  1.0   \n",
       "2  보건복지위원회  [\"['원유철(자유한국당/元裕哲)'\", \" '강석호(자유한국당/姜碩鎬)'\", \" '...  1.0   \n",
       "3  보건복지위원회  [\"['기동민(더불어민주당/奇東旻)'\", \" '강훈식(더불어민주당/姜勳植)'\", \"...  1.0   \n",
       "4  보건복지위원회  [\"['허윤정(더불어민주당/許允貞)'\", \" '기동민(더불어민주당/奇東旻)'\", \"...  1.0   \n",
       "\n",
       "                                         제안정당 법률공포여부  \\\n",
       "0  ['미래를향한전진4.0', '자유한국당', '바른미래당', '새로운보수당']    미공포   \n",
       "1                  ['새로운보수당', '무소속', '자유한국당']    미공포   \n",
       "2                  ['새로운보수당', '무소속', '자유한국당']    미공포   \n",
       "3                                  ['더불어민주당']    미공포   \n",
       "4                           ['더불어민주당', '무소속']    미공포   \n",
       "\n",
       "                                                 텍스트  \\\n",
       "0    감염병의 예방 및 관리에 관한 법률 일부개정법률안 최근 신종 코로나바이러스감염증...   \n",
       "1    검역법 일부개정법률안 현행법은 보건복지부장관이 출입국의 금지 또는 정지 요청 규...   \n",
       "2    감염병의 예방 및 관리에 관한 법률 일부개정법률안 현행법은 감염병환자등이 발생하...   \n",
       "3    감염병의 예방 및 관리에 관한 법률 일부개정법률안 세계적으로 신종감염병의 수가 ...   \n",
       "4    감염병의 예방 및 관리에 관한 법률 일부개정법률안 최근 신종 코로나바이러스 감염...   \n",
       "\n",
       "                                                  토큰  명사수  \n",
       "0  ['감염병', '예방', '관리', '법률', '일부개정법률안', '신종', '코로...   59  \n",
       "1  ['검역법', '일부개정법률안', '현행법', '보건복지부장관', '출입국', '금...   74  \n",
       "2  ['감염병', '예방', '관리', '법률', '일부개정법률안', '현행법', '감...   59  \n",
       "3  ['감염병', '예방', '관리', '법률', '일부개정법률안', '세계적', '신...  142  \n",
       "4  ['감염병', '예방', '관리', '법률', '일부개정법률안', '신종', '코로...   91  "
      ]
     },
     "execution_count": 9,
     "metadata": {},
     "output_type": "execute_result"
    }
   ],
   "source": [
    "Covid = pd.read_csv(\"./[코로나] tocken.csv\", encoding='utf-8-sig')\n",
    "Covid.head()"
   ]
  },
  {
   "cell_type": "code",
   "execution_count": 10,
   "metadata": {
    "colab": {
     "base_uri": "https://localhost:8080/",
     "height": 193
    },
    "colab_type": "code",
    "executionInfo": {
     "elapsed": 2299,
     "status": "ok",
     "timestamp": 1598847344024,
     "user": {
      "displayName": "룰룰",
      "photoUrl": "",
      "userId": "05382561314242975039"
     },
     "user_tz": -540
    },
    "id": "WZiMAa5OlJ0_",
    "outputId": "289540a4-2cf4-4824-b6ab-54ea1a975648"
   },
   "outputs": [
    {
     "name": "stderr",
     "output_type": "stream",
     "text": [
      "/Users/ojoo/opt/anaconda3/lib/python3.7/site-packages/ipykernel_launcher.py:11: SettingWithCopyWarning: \n",
      "A value is trying to be set on a copy of a slice from a DataFrame\n",
      "\n",
      "See the caveats in the documentation: https://pandas.pydata.org/pandas-docs/stable/user_guide/indexing.html#returning-a-view-versus-a-copy\n",
      "  # This is added back by InteractiveShellApp.init_path()\n",
      "/Users/ojoo/opt/anaconda3/lib/python3.7/site-packages/ipykernel_launcher.py:15: SettingWithCopyWarning: \n",
      "A value is trying to be set on a copy of a slice from a DataFrame\n",
      "\n",
      "See the caveats in the documentation: https://pandas.pydata.org/pandas-docs/stable/user_guide/indexing.html#returning-a-view-versus-a-copy\n",
      "  from ipykernel import kernelapp as app\n"
     ]
    }
   ],
   "source": [
    "# 명사 수가 50개를 넘어가는 경우만 추출\n",
    "\n",
    "covid = Covid[Covid['명사수'] >= 50]\n",
    "covid = covid.reset_index(drop=True)\n",
    "\n",
    "# ['토큰'] 칼럼 콤마 기준 스플릿\n",
    "for i in range(len(covid)):\n",
    "\n",
    "    covid_tocken=[]\n",
    "\n",
    "    covid['토큰'][i] = covid['토큰'][i][1:-1].split(', ')\n",
    "    for j in covid['토큰'][i]:\n",
    "        covid_tocken.append(j[1:-1])\n",
    "\n",
    "    covid['토큰'][i] = covid_tocken"
   ]
  },
  {
   "cell_type": "code",
   "execution_count": 11,
   "metadata": {
    "colab": {
     "base_uri": "https://localhost:8080/",
     "height": 228
    },
    "colab_type": "code",
    "executionInfo": {
     "elapsed": 1811,
     "status": "ok",
     "timestamp": 1598847344028,
     "user": {
      "displayName": "룰룰",
      "photoUrl": "",
      "userId": "05382561314242975039"
     },
     "user_tz": -540
    },
    "id": "yg2rREONMVyJ",
    "outputId": "9db8f10f-f2ca-407b-da2c-891d70e0c356"
   },
   "outputs": [
    {
     "data": {
      "text/plain": [
       "0      [감염병, 예방, 관리, 법률, 일부개정법률안, 신종, 코로나바이러스감염증, 국내,...\n",
       "1      [검역법, 일부개정법률안, 현행법, 보건복지부장관, 출입국, 금지, 정지, 요청, ...\n",
       "2      [감염병, 예방, 관리, 법률, 일부개정법률안, 현행법, 감염병환자, 발생, 발생,...\n",
       "3      [감염병, 예방, 관리, 법률, 일부개정법률안, 세계적, 신종감염병, 이상, 감염병...\n",
       "4      [감염병, 예방, 관리, 법률, 일부개정법률안, 신종, 코로나바이러스, 감염병, 관...\n",
       "                             ...                        \n",
       "384    [감염병, 예방, 관리, 법률, 일부개정법률안, 코로나, 감염병, 사회적, 경계, ...\n",
       "385    [폐기물관리법, 일부개정법률안, 시행, 현행법, 급증, 의료폐기물, 원활한, 처리,...\n",
       "386    [소상공, 보호, 지원, 법률, 일부개정법률안, 현행법, 소상공인, 자유로운, 기업...\n",
       "387    [전기사업법, 일부개정법률안, 사태, 무역전쟁, 전세계적, 경제, 국면, 지역, 산...\n",
       "388    [감염병, 예방, 관리, 법률, 일부개정법률안, 현행법, 제조제호, 보건복지부장관,...\n",
       "Name: 토큰, Length: 389, dtype: object"
      ]
     },
     "execution_count": 11,
     "metadata": {},
     "output_type": "execute_result"
    }
   ],
   "source": [
    "covid['토큰']"
   ]
  },
  {
   "cell_type": "markdown",
   "metadata": {},
   "source": [
    "#### 의미없는 단어 제거"
   ]
  },
  {
   "cell_type": "code",
   "execution_count": 12,
   "metadata": {
    "colab": {
     "base_uri": "https://localhost:8080/",
     "height": 105
    },
    "colab_type": "code",
    "executionInfo": {
     "elapsed": 1847,
     "status": "ok",
     "timestamp": 1598847344626,
     "user": {
      "displayName": "룰룰",
      "photoUrl": "",
      "userId": "05382561314242975039"
     },
     "user_tz": -540
    },
    "id": "gVU9wLiQPQ2q",
    "outputId": "ba3d9471-433b-4cd2-9166-ccf26785b734"
   },
   "outputs": [],
   "source": [
    "def remove_stopword(text): \n",
    "    stopwords = ['법률','경우','것임','대한','신설','규정','현행법','사업','지원','위원회','관리','국가','해당','발생','관련','사항','있음’,’정책','일부','개정','최근',\n",
    "                '집단','국내','의거','거나','함안','시행','이하','기한', '위해', '장관', '특별법', '마련','제호','임안','조사','운영','기관', '또한', '포함', '내용', \n",
    "                 '명시', '촉진', '근거', '실시', '지정', '현행', '의무', '확인', '도지사', '대통령령', '업무', '제출','대해', '제조','제항', '일부개정법률안','조제항',\n",
    "                 '제조의제항','관련','만원','천만원','억원','연장함','해당','제조제항제호','법률','신설','이하','시행','사항','제호','포함','코로나바이러스감염증','일부개정법률안의안번호',\n",
    "                 '비롯','곳곳','허영','코로나']\n",
    "    text = [word for word in text if word not in stopwords]\n",
    "    return text"
   ]
  },
  {
   "cell_type": "code",
   "execution_count": 13,
   "metadata": {
    "colab": {
     "base_uri": "https://localhost:8080/",
     "height": 228
    },
    "colab_type": "code",
    "executionInfo": {
     "elapsed": 1074,
     "status": "ok",
     "timestamp": 1598847344626,
     "user": {
      "displayName": "룰룰",
      "photoUrl": "",
      "userId": "05382561314242975039"
     },
     "user_tz": -540
    },
    "id": "HACW6cJBQdfJ",
    "outputId": "fb59d4db-405e-43d9-e7ca-8018bcd4a76b"
   },
   "outputs": [],
   "source": [
    "covid['토큰'] = remove_stopword(covid['토큰'])"
   ]
  },
  {
   "cell_type": "code",
   "execution_count": null,
   "metadata": {},
   "outputs": [],
   "source": []
  },
  {
   "cell_type": "code",
   "execution_count": null,
   "metadata": {},
   "outputs": [],
   "source": []
  },
  {
   "cell_type": "markdown",
   "metadata": {},
   "source": [
    "## 2. 벡터화 - Word2Vec"
   ]
  },
  {
   "cell_type": "markdown",
   "metadata": {},
   "source": [
    "#### 모델생성"
   ]
  },
  {
   "cell_type": "code",
   "execution_count": 14,
   "metadata": {
    "colab": {},
    "colab_type": "code",
    "executionInfo": {
     "elapsed": 222265,
     "status": "ok",
     "timestamp": 1598848650565,
     "user": {
      "displayName": "룰룰",
      "photoUrl": "",
      "userId": "05382561314242975039"
     },
     "user_tz": -540
    },
    "id": "BiJ-WC7IykfZ"
   },
   "outputs": [],
   "source": [
    "#포스태깅된 컨텐츠를 300차원의 벡터로 바꿔라. 코퍼스 내 출현 빈도가 50번 미만인 단어는 분석에서 제외해라.\n",
    "#CPU는 쿼드코어를 쓰고 100번 반복 학습해라. 분석방법론은 CBOW와 Skip-Gram 중 후자를 선택해라.\n",
    "model = Word2Vec(covid['토큰'], size=300, window = 10, min_count=50, workers=4, iter=100, sg=1)"
   ]
  },
  {
   "cell_type": "code",
   "execution_count": 15,
   "metadata": {},
   "outputs": [],
   "source": [
    "# 기존 학습 모델\n",
    "#model = gensim.models.Word2Vec.load('./ko/ko.bin')"
   ]
  },
  {
   "cell_type": "markdown",
   "metadata": {},
   "source": [
    "#### 문장벡터 생성"
   ]
  },
  {
   "cell_type": "code",
   "execution_count": 16,
   "metadata": {
    "colab": {},
    "colab_type": "code",
    "executionInfo": {
     "elapsed": 1085,
     "status": "ok",
     "timestamp": 1598848698363,
     "user": {
      "displayName": "룰룰",
      "photoUrl": "",
      "userId": "05382561314242975039"
     },
     "user_tz": -540
    },
    "id": "XAvgGk0XldlB"
   },
   "outputs": [],
   "source": [
    "def get_sentence_mean_vector(morphs):\n",
    "\n",
    "    vector = []\n",
    "\n",
    "    for i in morphs:\n",
    "\n",
    "        try:\n",
    "            vector.append(model.wv[i])\n",
    "        except:\n",
    "            pass\n",
    "\n",
    "\n",
    "    try:\n",
    "        return np.mean(vector, axis=0)\n",
    "    except:\n",
    "        pass\n",
    "    \n",
    "    \n",
    "    \n",
    "covid['문장벡터'] = covid['토큰'].map(get_sentence_mean_vector)\n"
   ]
  },
  {
   "cell_type": "code",
   "execution_count": 17,
   "metadata": {
    "colab": {},
    "colab_type": "code",
    "id": "3nhkSCqyACSR"
   },
   "outputs": [
    {
     "data": {
      "text/plain": [
       "array([ 0.03771923,  0.03217825,  0.18394935, -0.00904461,  0.00148775,\n",
       "       -0.0161849 , -0.05400394,  0.03698995,  0.17970158,  0.22600205,\n",
       "        0.03727503, -0.0380431 ,  0.10958488,  0.00551861,  0.04556789,\n",
       "       -0.15462668,  0.04934594,  0.01955394, -0.01419952, -0.08244588,\n",
       "       -0.22043674, -0.0638486 ,  0.02008538, -0.26478466, -0.12490218,\n",
       "        0.02652651, -0.0049549 ,  0.05699551, -0.11745506,  0.14730725,\n",
       "       -0.05266555, -0.09501644, -0.04468214,  0.17339246, -0.0639801 ,\n",
       "        0.03333544,  0.00954069,  0.0375351 , -0.00684624, -0.12091988,\n",
       "        0.03657757,  0.09841401,  0.0721776 ,  0.0229777 ,  0.1169323 ,\n",
       "       -0.02959888, -0.00168948, -0.06601848,  0.06176512,  0.06074897,\n",
       "       -0.01294926, -0.11491006, -0.04717845, -0.04010469,  0.00559383,\n",
       "       -0.11968327,  0.08738932,  0.03338728,  0.01642012,  0.04104489,\n",
       "        0.10573526,  0.08527363,  0.08815625,  0.08321643, -0.0158259 ,\n",
       "       -0.07276563, -0.0048114 ,  0.04311419,  0.07333516,  0.0759341 ,\n",
       "        0.05741886,  0.04186541,  0.03384798, -0.02617265, -0.13179722,\n",
       "       -0.028759  , -0.14466856,  0.06331975, -0.12113108,  0.12128252,\n",
       "        0.16046949, -0.01629033,  0.0445248 ,  0.08370324, -0.16624798,\n",
       "        0.11693533,  0.05510311, -0.01396318,  0.06050236,  0.0542912 ,\n",
       "       -0.01768063, -0.05068349, -0.10312995, -0.00413179, -0.07562166,\n",
       "        0.07017401, -0.09635511, -0.07085641, -0.04357383,  0.00175779,\n",
       "        0.06189033, -0.0971935 , -0.00365016, -0.05761481,  0.04912483,\n",
       "        0.05943611,  0.03792576,  0.02671438, -0.11232561, -0.14342017,\n",
       "        0.09000065,  0.00372326,  0.00525385,  0.00318382, -0.06927643,\n",
       "       -0.06164462,  0.00677392, -0.04206832,  0.0415118 , -0.14312147,\n",
       "       -0.02134781,  0.06304123,  0.02340766,  0.01386448,  0.10994718,\n",
       "       -0.04991252, -0.09146716,  0.06747793, -0.05260624, -0.04650187,\n",
       "       -0.16419698, -0.01602973, -0.05169482,  0.07265061, -0.17358044,\n",
       "       -0.03342931, -0.00354296,  0.00939928, -0.07005513, -0.09154668,\n",
       "       -0.04482778, -0.12709759,  0.01849396,  0.05755974,  0.04507628,\n",
       "        0.05740456,  0.02170159,  0.09210998, -0.12649949, -0.01129532,\n",
       "        0.13458614, -0.0209562 , -0.10230042,  0.01768482,  0.00855075,\n",
       "       -0.04486585,  0.07666329,  0.05464762, -0.03373665,  0.03043666,\n",
       "       -0.13948904, -0.1270398 ,  0.02203061,  0.06878011, -0.05631391,\n",
       "        0.07371731, -0.03497018,  0.05793809,  0.03514128, -0.06200672,\n",
       "       -0.1651778 ,  0.04047468, -0.04148995,  0.0037204 ,  0.05538583,\n",
       "        0.05208423, -0.02801958, -0.03477396, -0.07748535,  0.0712123 ,\n",
       "       -0.04256269,  0.07464574,  0.02110336,  0.13120145, -0.0162464 ,\n",
       "       -0.07157968, -0.0362953 ,  0.08810303, -0.01140121, -0.15236613,\n",
       "        0.14465082, -0.13289039,  0.06300063, -0.01233549,  0.11960211,\n",
       "       -0.09071757, -0.12497728,  0.00978841,  0.04464977,  0.10228287,\n",
       "       -0.02049245,  0.07229351,  0.08058841, -0.1785708 ,  0.09412915,\n",
       "       -0.01177961, -0.07756688,  0.02071363,  0.1850378 ,  0.09043332,\n",
       "       -0.09551172, -0.02705527,  0.01772324,  0.09116212, -0.03327162,\n",
       "        0.05320976, -0.15305911,  0.02119818, -0.24737991,  0.05478641,\n",
       "        0.14321883, -0.08234276, -0.10189568,  0.01996802, -0.14588109,\n",
       "        0.04220556, -0.0003016 ,  0.0002698 , -0.04542709, -0.0816163 ,\n",
       "       -0.06971738,  0.17185763, -0.02114587,  0.04335225,  0.06659099,\n",
       "        0.03088817,  0.00914006, -0.04057006,  0.10116994,  0.03188346,\n",
       "       -0.01761767,  0.07875466,  0.0120314 ,  0.06821328,  0.03888035,\n",
       "       -0.03037068,  0.00468462,  0.0398793 ,  0.0911676 , -0.03138825,\n",
       "       -0.01374175,  0.07107525,  0.09609181, -0.03036536,  0.07018382,\n",
       "        0.04211471,  0.08842862, -0.0749344 , -0.0693235 , -0.00906139,\n",
       "        0.00083635, -0.00321262,  0.16833392, -0.08374796,  0.1268423 ,\n",
       "        0.06685894,  0.04267492,  0.04740553,  0.18995667, -0.0637793 ,\n",
       "        0.08353338, -0.18459854,  0.05925649, -0.00853412,  0.13544235,\n",
       "        0.03123214, -0.03970607,  0.1256411 ,  0.00696648,  0.03099505,\n",
       "       -0.05041015, -0.02976625, -0.03480438, -0.03183215, -0.0176668 ,\n",
       "       -0.0441536 ,  0.0004401 , -0.05629171, -0.08934252,  0.01234423,\n",
       "        0.14827852, -0.04154745, -0.0622269 , -0.08462745,  0.20606026,\n",
       "       -0.07425043, -0.02099431,  0.00964164, -0.04339167, -0.0066968 ],\n",
       "      dtype=float32)"
      ]
     },
     "execution_count": 17,
     "metadata": {},
     "output_type": "execute_result"
    }
   ],
   "source": [
    "covid['문장벡터'][0]"
   ]
  },
  {
   "cell_type": "code",
   "execution_count": null,
   "metadata": {},
   "outputs": [],
   "source": []
  },
  {
   "cell_type": "code",
   "execution_count": null,
   "metadata": {},
   "outputs": [],
   "source": []
  },
  {
   "cell_type": "markdown",
   "metadata": {},
   "source": [
    "## 3. '코로나' 데이터 차원 축소 및 시각화 & 군집 개수 결정 "
   ]
  },
  {
   "cell_type": "markdown",
   "metadata": {},
   "source": [
    "#### '코로나'데이터 분포 확인"
   ]
  },
  {
   "cell_type": "code",
   "execution_count": 18,
   "metadata": {},
   "outputs": [
    {
     "name": "stdout",
     "output_type": "stream",
     "text": [
      "[t-SNE] Computing 121 nearest neighbors...\n",
      "[t-SNE] Indexed 389 samples in 0.002s...\n",
      "[t-SNE] Computed neighbors for 389 samples in 0.081s...\n",
      "[t-SNE] Computed conditional probabilities for sample 389 / 389\n",
      "[t-SNE] Mean sigma: 0.345119\n",
      "[t-SNE] KL divergence after 250 iterations with early exaggeration: 64.156754\n",
      "[t-SNE] KL divergence after 300 iterations: 0.618507\n"
     ]
    }
   ],
   "source": [
    "import time\n",
    "from sklearn.manifold import TSNE\n",
    "\n",
    "n_sne = 7000\n",
    "\n",
    "wv_list = list(covid['문장벡터'])\n",
    "tsne = TSNE(n_components=2, verbose=1, perplexity=40, n_iter=300)\n",
    "tsne_results = tsne.fit_transform(wv_list)\n",
    "\n",
    "tsne_df = pd.DataFrame(tsne_results, index=covid['의안명'], columns=[\"x\", \"y\"])"
   ]
  },
  {
   "cell_type": "code",
   "execution_count": 19,
   "metadata": {},
   "outputs": [
    {
     "data": {
      "text/html": [
       "<div>\n",
       "<style scoped>\n",
       "    .dataframe tbody tr th:only-of-type {\n",
       "        vertical-align: middle;\n",
       "    }\n",
       "\n",
       "    .dataframe tbody tr th {\n",
       "        vertical-align: top;\n",
       "    }\n",
       "\n",
       "    .dataframe thead th {\n",
       "        text-align: right;\n",
       "    }\n",
       "</style>\n",
       "<table border=\"1\" class=\"dataframe\">\n",
       "  <thead>\n",
       "    <tr style=\"text-align: right;\">\n",
       "      <th></th>\n",
       "      <th>x</th>\n",
       "      <th>y</th>\n",
       "    </tr>\n",
       "    <tr>\n",
       "      <th>의안명</th>\n",
       "      <th></th>\n",
       "      <th></th>\n",
       "    </tr>\n",
       "  </thead>\n",
       "  <tbody>\n",
       "    <tr>\n",
       "      <th>감염병의 예방 및 관리에 관한 법률 일부개정법률안</th>\n",
       "      <td>8.633037</td>\n",
       "      <td>10.869694</td>\n",
       "    </tr>\n",
       "    <tr>\n",
       "      <th>검역법 일부개정법률안</th>\n",
       "      <td>5.894176</td>\n",
       "      <td>6.530456</td>\n",
       "    </tr>\n",
       "    <tr>\n",
       "      <th>감염병의 예방 및 관리에 관한 법률 일부개정법률안</th>\n",
       "      <td>10.320564</td>\n",
       "      <td>5.379883</td>\n",
       "    </tr>\n",
       "    <tr>\n",
       "      <th>감염병의 예방 및 관리에 관한 법률 일부개정법률안</th>\n",
       "      <td>9.433026</td>\n",
       "      <td>5.763428</td>\n",
       "    </tr>\n",
       "    <tr>\n",
       "      <th>감염병의 예방 및 관리에 관한 법률 일부개정법률안</th>\n",
       "      <td>13.285707</td>\n",
       "      <td>7.145914</td>\n",
       "    </tr>\n",
       "  </tbody>\n",
       "</table>\n",
       "</div>"
      ],
      "text/plain": [
       "                                       x          y\n",
       "의안명                                                \n",
       "  감염병의 예방 및 관리에 관한 법률 일부개정법률안   8.633037  10.869694\n",
       "  검역법 일부개정법률안                   5.894176   6.530456\n",
       "  감염병의 예방 및 관리에 관한 법률 일부개정법률안  10.320564   5.379883\n",
       "  감염병의 예방 및 관리에 관한 법률 일부개정법률안   9.433026   5.763428\n",
       "  감염병의 예방 및 관리에 관한 법률 일부개정법률안  13.285707   7.145914"
      ]
     },
     "execution_count": 19,
     "metadata": {},
     "output_type": "execute_result"
    }
   ],
   "source": [
    "tsne_df.head()"
   ]
  },
  {
   "cell_type": "code",
   "execution_count": 20,
   "metadata": {},
   "outputs": [
    {
     "data": {
      "image/png": "[encoded data removed]",
      "text/plain": [
       "<Figure size 1440x720 with 1 Axes>"
      ]
     },
     "metadata": {
      "needs_background": "light"
     },
     "output_type": "display_data"
    }
   ],
   "source": [
    "%matplotlib inline\n",
    "\n",
    "fig = plt.figure()\n",
    "fig.set_size_inches(20, 10)\n",
    "ax = fig.add_subplot(1, 1, 1)\n",
    "ax.scatter(tsne_df[\"x\"], tsne_df[\"y\"])\n",
    "\n",
    "plt.show()"
   ]
  },
  {
   "cell_type": "markdown",
   "metadata": {
    "colab_type": "text",
    "id": "ehEmEgRAW4eb"
   },
   "source": [
    "#### 군집개수 결정 - 엘보우 함수"
   ]
  },
  {
   "cell_type": "code",
   "execution_count": 21,
   "metadata": {},
   "outputs": [],
   "source": [
    "# 엘보우 함수\n",
    "\n",
    "def elbow(X):\n",
    "    \n",
    "    sse = []\n",
    "    \n",
    "    for i in tqdm(range(1,15), desc = '엘보우'):\n",
    "        km = KMeans(init='k-means++', n_clusters = i, random_state=0)\n",
    "        km.fit(X)\n",
    "        sse.append(km.inertia_)\n",
    "        \n",
    "    plt.plot(range(1,15), sse, marker='o')\n",
    "    plt.xlabel(\"number of cluster\")\n",
    "    plt.ylabel(\"SSE\")\n",
    "    plt.show()"
   ]
  },
  {
   "cell_type": "code",
   "execution_count": 22,
   "metadata": {
    "colab": {},
    "colab_type": "code",
    "id": "bjwqUFdoNASC"
   },
   "outputs": [
    {
     "name": "stderr",
     "output_type": "stream",
     "text": [
      "엘보우: 100%|██████████| 14/14 [00:01<00:00,  9.99it/s]\n"
     ]
    },
    {
     "data": {
      "image/png": "[encoded data removed]",
      "text/plain": [
       "<Figure size 432x288 with 1 Axes>"
      ]
     },
     "metadata": {
      "needs_background": "light"
     },
     "output_type": "display_data"
    }
   ],
   "source": [
    "word_vectors = covid.문장벡터.to_list() # 함수에 넣을 X값 지정\n",
    "elbow(word_vectors)"
   ]
  },
  {
   "cell_type": "markdown",
   "metadata": {
    "colab_type": "text",
    "id": "womyi8t-W8F-"
   },
   "source": [
    "#### 군집 개수 결정 - 실루엣 계수"
   ]
  },
  {
   "cell_type": "code",
   "execution_count": 23,
   "metadata": {
    "colab": {},
    "colab_type": "code",
    "id": "dTPWLeGVW-oK"
   },
   "outputs": [],
   "source": [
    "from sklearn.metrics import silhouette_samples\n",
    "from sklearn.datasets import make_blobs\n",
    "from matplotlib import cm\n",
    "\n",
    "def plotSilhouette(X, y_km):\n",
    "    cluster_labels = np.unique(y_km)\n",
    "    n_clusters = cluster_labels.shape[0]\n",
    "    silhouette_vals = silhouette_samples(X, y_km, metric = 'euclidean')\n",
    "    y_ax_lower, y_ax_upper = 0, 0\n",
    "    yticks = []\n",
    "\n",
    "    for i, c in enumerate(cluster_labels):\n",
    "        c_silhouette_vals = silhouette_vals[y_km == c]\n",
    "        c_silhouette_vals.sort()\n",
    "        y_ax_upper += len(c_silhouette_vals)\n",
    "        color = cm.jet(i/n_clusters)\n",
    "\n",
    "        plt.barh(range(y_ax_lower, y_ax_upper), c_silhouette_vals, height=1.0,\n",
    "                edgecolor='none', color=color)\n",
    "        yticks.append((y_ax_lower + y_ax_upper)/2)\n",
    "        y_ax_lower += len(c_silhouette_vals)\n",
    "\n",
    "    silhoutte_avg = np.mean(silhouette_vals)\n",
    "    plt.axvline(silhoutte_avg, color = 'red', linestyle='--')\n",
    "    plt.yticks(yticks, cluster_labels+1)\n",
    "    plt.ylabel('K')\n",
    "    plt.xlabel('silhouette')\n",
    "    plt.show()\n"
   ]
  },
  {
   "cell_type": "markdown",
   "metadata": {},
   "source": [
    "#### 군집 수 = 2일 때 "
   ]
  },
  {
   "cell_type": "code",
   "execution_count": 24,
   "metadata": {},
   "outputs": [
    {
     "data": {
      "image/png": "[encoded data removed]",
      "text/plain": [
       "<Figure size 432x288 with 1 Axes>"
      ]
     },
     "metadata": {
      "needs_background": "light"
     },
     "output_type": "display_data"
    }
   ],
   "source": [
    "word_vectors = covid.문장벡터.to_list()\n",
    "k= 2\n",
    "\n",
    "km = KMeans(n_clusters=k, algorithm='auto', random_state=42)\n",
    "y_km = km.fit_predict(word_vectors)\n",
    "plotSilhouette(word_vectors, y_km)"
   ]
  },
  {
   "cell_type": "markdown",
   "metadata": {
    "colab_type": "text",
    "id": "YccfG_mHYfl7"
   },
   "source": [
    "#### 군집 수 = 3일 때"
   ]
  },
  {
   "cell_type": "code",
   "execution_count": 25,
   "metadata": {
    "colab": {},
    "colab_type": "code",
    "id": "tIlWYl0_W-sU"
   },
   "outputs": [
    {
     "data": {
      "image/png": "[encoded data removed]",
      "text/plain": [
       "<Figure size 432x288 with 1 Axes>"
      ]
     },
     "metadata": {
      "needs_background": "light"
     },
     "output_type": "display_data"
    }
   ],
   "source": [
    "word_vectors = covid.문장벡터.to_list()\n",
    "k= 3\n",
    "\n",
    "km = KMeans(n_clusters=k, algorithm='auto', random_state=42)\n",
    "y_km = km.fit_predict(word_vectors)\n",
    "plotSilhouette(word_vectors, y_km)"
   ]
  },
  {
   "cell_type": "markdown",
   "metadata": {
    "colab_type": "text",
    "id": "eLQMRQToYlNB"
   },
   "source": [
    "#### 군집 수 = 4일 때"
   ]
  },
  {
   "cell_type": "code",
   "execution_count": 26,
   "metadata": {
    "colab": {},
    "colab_type": "code",
    "id": "fz46-wABW-qt"
   },
   "outputs": [
    {
     "data": {
      "image/png": "[encoded data removed]",
      "text/plain": [
       "<Figure size 432x288 with 1 Axes>"
      ]
     },
     "metadata": {
      "needs_background": "light"
     },
     "output_type": "display_data"
    }
   ],
   "source": [
    "word_vectors = covid.문장벡터.to_list()\n",
    "k= 4\n",
    "\n",
    "km = KMeans(n_clusters=k, algorithm='auto', random_state=42)\n",
    "y_km = km.fit_predict(word_vectors)\n",
    "plotSilhouette(word_vectors, y_km)"
   ]
  },
  {
   "cell_type": "markdown",
   "metadata": {
    "colab_type": "text",
    "id": "KYWQzixMYlml"
   },
   "source": [
    "#### 군집 수 = 5일 때"
   ]
  },
  {
   "cell_type": "code",
   "execution_count": 27,
   "metadata": {
    "colab": {},
    "colab_type": "code",
    "id": "pjJPAUiJYkpy"
   },
   "outputs": [
    {
     "data": {
      "image/png": "[encoded data removed]",
      "text/plain": [
       "<Figure size 432x288 with 1 Axes>"
      ]
     },
     "metadata": {
      "needs_background": "light"
     },
     "output_type": "display_data"
    }
   ],
   "source": [
    "word_vectors = covid.문장벡터.to_list()\n",
    "k= 5\n",
    "\n",
    "km = KMeans(n_clusters=k, algorithm='auto', random_state=42)\n",
    "y_km = km.fit_predict(word_vectors)\n",
    "plotSilhouette(word_vectors, y_km)"
   ]
  },
  {
   "cell_type": "markdown",
   "metadata": {
    "colab_type": "text",
    "id": "egqz1W27ZRzE"
   },
   "source": [
    "#### 군집 수 = 6일 때"
   ]
  },
  {
   "cell_type": "code",
   "execution_count": 37,
   "metadata": {
    "colab": {},
    "colab_type": "code",
    "id": "4A4jF5zcZR6x"
   },
   "outputs": [
    {
     "data": {
      "image/png": "[encoded data removed]",
      "text/plain": [
       "<Figure size 432x288 with 1 Axes>"
      ]
     },
     "metadata": {
      "needs_background": "light"
     },
     "output_type": "display_data"
    }
   ],
   "source": [
    "word_vectors = covid.문장벡터.to_list()\n",
    "k= 6\n",
    "\n",
    "km = KMeans(n_clusters=k, algorithm='auto', random_state=42)\n",
    "y_km = km.fit_predict(word_vectors)\n",
    "plotSilhouette(word_vectors, y_km)"
   ]
  },
  {
   "cell_type": "code",
   "execution_count": null,
   "metadata": {
    "colab": {},
    "colab_type": "code",
    "id": "dEKM-ffdamp3"
   },
   "outputs": [],
   "source": []
  },
  {
   "cell_type": "markdown",
   "metadata": {},
   "source": [
    "## 4. Kmeans 수행 및 시각화"
   ]
  },
  {
   "cell_type": "markdown",
   "metadata": {
    "colab_type": "text",
    "id": "2OICGVE1RZre"
   },
   "source": [
    "#### 군집 수 = 3일 때\n"
   ]
  },
  {
   "cell_type": "code",
   "execution_count": 68,
   "metadata": {
    "colab": {},
    "colab_type": "code",
    "id": "3JygTnEWOyyb"
   },
   "outputs": [],
   "source": [
    "# K means 수행 \n",
    "\n",
    "word_vectors = covid.문장벡터.to_list()\n",
    "num_clusters = 3\n",
    "\n",
    "kmeans_clustering = KMeans(n_clusters = num_clusters)\n",
    "idx = kmeans_clustering.fit_predict(word_vectors)\n",
    "covid['category'] = idx"
   ]
  },
  {
   "cell_type": "code",
   "execution_count": 69,
   "metadata": {
    "colab": {},
    "colab_type": "code",
    "id": "eNj2oLCgRpNL"
   },
   "outputs": [
    {
     "data": {
      "text/plain": [
       "2    290\n",
       "0     87\n",
       "1     12\n",
       "Name: category, dtype: int64"
      ]
     },
     "execution_count": 69,
     "metadata": {},
     "output_type": "execute_result"
    }
   ],
   "source": [
    "covid.category.value_counts()"
   ]
  },
  {
   "cell_type": "code",
   "execution_count": 70,
   "metadata": {},
   "outputs": [],
   "source": [
    "covid.to_csv('[코로나] 3cluster.csv', encoding='utf-8-sig')"
   ]
  },
  {
   "cell_type": "code",
   "execution_count": 71,
   "metadata": {
    "colab": {},
    "colab_type": "code",
    "id": "7umgHEPgR2Rm"
   },
   "outputs": [],
   "source": [
    "from sklearn.manifold import TSNE\n",
    "\n",
    "X = covid['문장벡터'].to_list()\n",
    "y = covid['category'].to_list()\n",
    "\n",
    "tsne = TSNE(random_state=42)\n",
    "tsne_points = tsne.fit_transform(X)\n",
    "\n",
    "tsne_df = pd.DataFrame(tsne_points, index=range(len(X)), columns=['x_coord', 'y_coord'])\n",
    "tsne_df['BillNo'] = covid['의안번호'].to_list()\n",
    "tsne_df['BillName'] = covid['의안명'].to_list()\n",
    "tsne_df['cluster_no'] = y\n"
   ]
  },
  {
   "cell_type": "code",
   "execution_count": 72,
   "metadata": {
    "colab": {},
    "colab_type": "code",
    "id": "1oT5RkYVSInh"
   },
   "outputs": [
    {
     "data": {
      "text/html": [
       "<div>\n",
       "<style scoped>\n",
       "    .dataframe tbody tr th:only-of-type {\n",
       "        vertical-align: middle;\n",
       "    }\n",
       "\n",
       "    .dataframe tbody tr th {\n",
       "        vertical-align: top;\n",
       "    }\n",
       "\n",
       "    .dataframe thead th {\n",
       "        text-align: right;\n",
       "    }\n",
       "</style>\n",
       "<table border=\"1\" class=\"dataframe\">\n",
       "  <thead>\n",
       "    <tr style=\"text-align: right;\">\n",
       "      <th></th>\n",
       "      <th>x_coord</th>\n",
       "      <th>y_coord</th>\n",
       "      <th>BillNo</th>\n",
       "      <th>BillName</th>\n",
       "      <th>cluster_no</th>\n",
       "    </tr>\n",
       "  </thead>\n",
       "  <tbody>\n",
       "    <tr>\n",
       "      <th>0</th>\n",
       "      <td>-6.049650</td>\n",
       "      <td>-27.586233</td>\n",
       "      <td>2024549</td>\n",
       "      <td>감염병의 예방 및 관리에 관한 법률 일부개정법률안</td>\n",
       "      <td>2</td>\n",
       "    </tr>\n",
       "    <tr>\n",
       "      <th>1</th>\n",
       "      <td>4.367957</td>\n",
       "      <td>-21.910419</td>\n",
       "      <td>2024556</td>\n",
       "      <td>검역법 일부개정법률안</td>\n",
       "      <td>2</td>\n",
       "    </tr>\n",
       "    <tr>\n",
       "      <th>2</th>\n",
       "      <td>-2.415426</td>\n",
       "      <td>-24.778215</td>\n",
       "      <td>2024555</td>\n",
       "      <td>감염병의 예방 및 관리에 관한 법률 일부개정법률안</td>\n",
       "      <td>2</td>\n",
       "    </tr>\n",
       "    <tr>\n",
       "      <th>3</th>\n",
       "      <td>-5.064430</td>\n",
       "      <td>-18.792486</td>\n",
       "      <td>2024582</td>\n",
       "      <td>감염병의 예방 및 관리에 관한 법률 일부개정법률안</td>\n",
       "      <td>2</td>\n",
       "    </tr>\n",
       "    <tr>\n",
       "      <th>4</th>\n",
       "      <td>-9.230567</td>\n",
       "      <td>-24.523901</td>\n",
       "      <td>2024584</td>\n",
       "      <td>감염병의 예방 및 관리에 관한 법률 일부개정법률안</td>\n",
       "      <td>2</td>\n",
       "    </tr>\n",
       "  </tbody>\n",
       "</table>\n",
       "</div>"
      ],
      "text/plain": [
       "    x_coord    y_coord   BillNo                       BillName  cluster_no\n",
       "0 -6.049650 -27.586233  2024549    감염병의 예방 및 관리에 관한 법률 일부개정법률안           2\n",
       "1  4.367957 -21.910419  2024556                    검역법 일부개정법률안           2\n",
       "2 -2.415426 -24.778215  2024555    감염병의 예방 및 관리에 관한 법률 일부개정법률안           2\n",
       "3 -5.064430 -18.792486  2024582    감염병의 예방 및 관리에 관한 법률 일부개정법률안           2\n",
       "4 -9.230567 -24.523901  2024584    감염병의 예방 및 관리에 관한 법률 일부개정법률안           2"
      ]
     },
     "execution_count": 72,
     "metadata": {},
     "output_type": "execute_result"
    }
   ],
   "source": [
    "tsne_df.head()"
   ]
  },
  {
   "cell_type": "code",
   "execution_count": 73,
   "metadata": {
    "colab": {},
    "colab_type": "code",
    "id": "QAGXrjCGUecJ"
   },
   "outputs": [],
   "source": [
    "tsne_df.to_csv(\"[코로나] tnse_3clusters.csv\", encoding=\"utf-8-sig\")"
   ]
  },
  {
   "cell_type": "code",
   "execution_count": 74,
   "metadata": {
    "colab": {},
    "colab_type": "code",
    "id": "GK6fsmE6STmb"
   },
   "outputs": [
    {
     "data": {
      "text/html": [
       "\n",
       "    <div class=\"bk-root\">\n",
       "        <a href=\"https://bokeh.org\" target=\"_blank\" class=\"bk-logo bk-logo-small bk-logo-notebook\"></a>\n",
       "        <span id=\"1322\">Loading BokehJS ...</span>\n",
       "    </div>"
      ]
     },
     "metadata": {},
     "output_type": "display_data"
    },
    {
     "data": {
      "application/javascript": [
       "\n",
       "(function(root) {\n",
       "  function now() {\n",
       "    return new Date();\n",
       "  }\n",
       "\n",
       "  var force = true;\n",
       "\n",
       "  if (typeof root._bokeh_onload_callbacks === \"undefined\" || force === true) {\n",
       "    root._bokeh_onload_callbacks = [];\n",
       "    root._bokeh_is_loading = undefined;\n",
       "  }\n",
       "\n",
       "  var JS_MIME_TYPE = 'application/javascript';\n",
       "  var HTML_MIME_TYPE = 'text/html';\n",
       "  var EXEC_MIME_TYPE = 'application/vnd.bokehjs_exec.v0+json';\n",
       "  var CLASS_NAME = 'output_bokeh rendered_html';\n",
       "\n",
       "  /**\n",
       "   * Render data to the DOM node\n",
       "   */\n",
       "  function render(props, node) {\n",
       "    var script = document.createElement(\"script\");\n",
       "    node.appendChild(script);\n",
       "  }\n",
       "\n",
       "  /**\n",
       "   * Handle when an output is cleared or removed\n",
       "   */\n",
       "  function handleClearOutput(event, handle) {\n",
       "    var cell = handle.cell;\n",
       "\n",
       "    var id = cell.output_area._bokeh_element_id;\n",
       "    var server_id = cell.output_area._bokeh_server_id;\n",
       "    // Clean up Bokeh references\n",
       "    if (id != null && id in Bokeh.index) {\n",
       "      Bokeh.index[id].model.document.clear();\n",
       "      delete Bokeh.index[id];\n",
       "    }\n",
       "\n",
       "    if (server_id !== undefined) {\n",
       "      // Clean up Bokeh references\n",
       "      var cmd = \"from bokeh.io.state import curstate; print(curstate().uuid_to_server['\" + server_id + \"'].get_sessions()[0].document.roots[0]._id)\";\n",
       "      cell.notebook.kernel.execute(cmd, {\n",
       "        iopub: {\n",
       "          output: function(msg) {\n",
       "            var id = msg.content.text.trim();\n",
       "            if (id in Bokeh.index) {\n",
       "              Bokeh.index[id].model.document.clear();\n",
       "              delete Bokeh.index[id];\n",
       "            }\n",
       "          }\n",
       "        }\n",
       "      });\n",
       "      // Destroy server and session\n",
       "      var cmd = \"import bokeh.io.notebook as ion; ion.destroy_server('\" + server_id + \"')\";\n",
       "      cell.notebook.kernel.execute(cmd);\n",
       "    }\n",
       "  }\n",
       "\n",
       "  /**\n",
       "   * Handle when a new output is added\n",
       "   */\n",
       "  function handleAddOutput(event, handle) {\n",
       "    var output_area = handle.output_area;\n",
       "    var output = handle.output;\n",
       "\n",
       "    // limit handleAddOutput to display_data with EXEC_MIME_TYPE content only\n",
       "    if ((output.output_type != \"display_data\") || (!output.data.hasOwnProperty(EXEC_MIME_TYPE))) {\n",
       "      return\n",
       "    }\n",
       "\n",
       "    var toinsert = output_area.element.find(\".\" + CLASS_NAME.split(' ')[0]);\n",
       "\n",
       "    if (output.metadata[EXEC_MIME_TYPE][\"id\"] !== undefined) {\n",
       "      toinsert[toinsert.length - 1].firstChild.textContent = output.data[JS_MIME_TYPE];\n",
       "      // store reference to embed id on output_area\n",
       "      output_area._bokeh_element_id = output.metadata[EXEC_MIME_TYPE][\"id\"];\n",
       "    }\n",
       "    if (output.metadata[EXEC_MIME_TYPE][\"server_id\"] !== undefined) {\n",
       "      var bk_div = document.createElement(\"div\");\n",
       "      bk_div.innerHTML = output.data[HTML_MIME_TYPE];\n",
       "      var script_attrs = bk_div.children[0].attributes;\n",
       "      for (var i = 0; i < script_attrs.length; i++) {\n",
       "        toinsert[toinsert.length - 1].firstChild.setAttribute(script_attrs[i].name, script_attrs[i].value);\n",
       "      }\n",
       "      // store reference to server id on output_area\n",
       "      output_area._bokeh_server_id = output.metadata[EXEC_MIME_TYPE][\"server_id\"];\n",
       "    }\n",
       "  }\n",
       "\n",
       "  function register_renderer(events, OutputArea) {\n",
       "\n",
       "    function append_mime(data, metadata, element) {\n",
       "      // create a DOM node to render to\n",
       "      var toinsert = this.create_output_subarea(\n",
       "        metadata,\n",
       "        CLASS_NAME,\n",
       "        EXEC_MIME_TYPE\n",
       "      );\n",
       "      this.keyboard_manager.register_events(toinsert);\n",
       "      // Render to node\n",
       "      var props = {data: data, metadata: metadata[EXEC_MIME_TYPE]};\n",
       "      render(props, toinsert[toinsert.length - 1]);\n",
       "      element.append(toinsert);\n",
       "      return toinsert\n",
       "    }\n",
       "\n",
       "    /* Handle when an output is cleared or removed */\n",
       "    events.on('clear_output.CodeCell', handleClearOutput);\n",
       "    events.on('delete.Cell', handleClearOutput);\n",
       "\n",
       "    /* Handle when a new output is added */\n",
       "    events.on('output_added.OutputArea', handleAddOutput);\n",
       "\n",
       "    /**\n",
       "     * Register the mime type and append_mime function with output_area\n",
       "     */\n",
       "    OutputArea.prototype.register_mime_type(EXEC_MIME_TYPE, append_mime, {\n",
       "      /* Is output safe? */\n",
       "      safe: true,\n",
       "      /* Index of renderer in `output_area.display_order` */\n",
       "      index: 0\n",
       "    });\n",
       "  }\n",
       "\n",
       "  // register the mime type if in Jupyter Notebook environment and previously unregistered\n",
       "  if (root.Jupyter !== undefined) {\n",
       "    var events = require('base/js/events');\n",
       "    var OutputArea = require('notebook/js/outputarea').OutputArea;\n",
       "\n",
       "    if (OutputArea.prototype.mime_types().indexOf(EXEC_MIME_TYPE) == -1) {\n",
       "      register_renderer(events, OutputArea);\n",
       "    }\n",
       "  }\n",
       "\n",
       "  \n",
       "  if (typeof (root._bokeh_timeout) === \"undefined\" || force === true) {\n",
       "    root._bokeh_timeout = Date.now() + 5000;\n",
       "    root._bokeh_failed_load = false;\n",
       "  }\n",
       "\n",
       "  var NB_LOAD_WARNING = {'data': {'text/html':\n",
       "     \"<div style='background-color: #fdd'>\\n\"+\n",
       "     \"<p>\\n\"+\n",
       "     \"BokehJS does not appear to have successfully loaded. If loading BokehJS from CDN, this \\n\"+\n",
       "     \"may be due to a slow or bad network connection. Possible fixes:\\n\"+\n",
       "     \"</p>\\n\"+\n",
       "     \"<ul>\\n\"+\n",
       "     \"<li>re-rerun `output_notebook()` to attempt to load from CDN again, or</li>\\n\"+\n",
       "     \"<li>use INLINE resources instead, as so:</li>\\n\"+\n",
       "     \"</ul>\\n\"+\n",
       "     \"<code>\\n\"+\n",
       "     \"from bokeh.resources import INLINE\\n\"+\n",
       "     \"output_notebook(resources=INLINE)\\n\"+\n",
       "     \"</code>\\n\"+\n",
       "     \"</div>\"}};\n",
       "\n",
       "  function display_loaded() {\n",
       "    var el = document.getElementById(\"1322\");\n",
       "    if (el != null) {\n",
       "      el.textContent = \"BokehJS is loading...\";\n",
       "    }\n",
       "    if (root.Bokeh !== undefined) {\n",
       "      if (el != null) {\n",
       "        el.textContent = \"BokehJS \" + root.Bokeh.version + \" successfully loaded.\";\n",
       "      }\n",
       "    } else if (Date.now() < root._bokeh_timeout) {\n",
       "      setTimeout(display_loaded, 100)\n",
       "    }\n",
       "  }\n",
       "\n",
       "\n",
       "  function run_callbacks() {\n",
       "    try {\n",
       "      root._bokeh_onload_callbacks.forEach(function(callback) {\n",
       "        if (callback != null)\n",
       "          callback();\n",
       "      });\n",
       "    } finally {\n",
       "      delete root._bokeh_onload_callbacks\n",
       "    }\n",
       "    console.debug(\"Bokeh: all callbacks have finished\");\n",
       "  }\n",
       "\n",
       "  function load_libs(css_urls, js_urls, callback) {\n",
       "    if (css_urls == null) css_urls = [];\n",
       "    if (js_urls == null) js_urls = [];\n",
       "\n",
       "    root._bokeh_onload_callbacks.push(callback);\n",
       "    if (root._bokeh_is_loading > 0) {\n",
       "      console.debug(\"Bokeh: BokehJS is being loaded, scheduling callback at\", now());\n",
       "      return null;\n",
       "    }\n",
       "    if (js_urls == null || js_urls.length === 0) {\n",
       "      run_callbacks();\n",
       "      return null;\n",
       "    }\n",
       "    console.debug(\"Bokeh: BokehJS not loaded, scheduling load and callback at\", now());\n",
       "    root._bokeh_is_loading = css_urls.length + js_urls.length;\n",
       "\n",
       "    function on_load() {\n",
       "      root._bokeh_is_loading--;\n",
       "      if (root._bokeh_is_loading === 0) {\n",
       "        console.debug(\"Bokeh: all BokehJS libraries/stylesheets loaded\");\n",
       "        run_callbacks()\n",
       "      }\n",
       "    }\n",
       "\n",
       "    function on_error() {\n",
       "      console.error(\"failed to load \" + url);\n",
       "    }\n",
       "\n",
       "    for (var i = 0; i < css_urls.length; i++) {\n",
       "      var url = css_urls[i];\n",
       "      const element = document.createElement(\"link\");\n",
       "      element.onload = on_load;\n",
       "      element.onerror = on_error;\n",
       "      element.rel = \"stylesheet\";\n",
       "      element.type = \"text/css\";\n",
       "      element.href = url;\n",
       "      console.debug(\"Bokeh: injecting link tag for BokehJS stylesheet: \", url);\n",
       "      document.body.appendChild(element);\n",
       "    }\n",
       "\n",
       "    for (var i = 0; i < js_urls.length; i++) {\n",
       "      var url = js_urls[i];\n",
       "      var element = document.createElement('script');\n",
       "      element.onload = on_load;\n",
       "      element.onerror = on_error;\n",
       "      element.async = false;\n",
       "      element.src = url;\n",
       "      console.debug(\"Bokeh: injecting script tag for BokehJS library: \", url);\n",
       "      document.head.appendChild(element);\n",
       "    }\n",
       "  };var element = document.getElementById(\"1322\");\n",
       "  if (element == null) {\n",
       "    console.error(\"Bokeh: ERROR: autoload.js configured with elementid '1322' but no matching script tag was found. \")\n",
       "    return false;\n",
       "  }\n",
       "\n",
       "  function inject_raw_css(css) {\n",
       "    const element = document.createElement(\"style\");\n",
       "    element.appendChild(document.createTextNode(css));\n",
       "    document.body.appendChild(element);\n",
       "  }\n",
       "\n",
       "  \n",
       "  var js_urls = [\"https://cdn.pydata.org/bokeh/release/bokeh-1.4.0.min.js\", \"https://cdn.pydata.org/bokeh/release/bokeh-widgets-1.4.0.min.js\", \"https://cdn.pydata.org/bokeh/release/bokeh-tables-1.4.0.min.js\", \"https://cdn.pydata.org/bokeh/release/bokeh-gl-1.4.0.min.js\"];\n",
       "  var css_urls = [];\n",
       "  \n",
       "\n",
       "  var inline_js = [\n",
       "    function(Bokeh) {\n",
       "      Bokeh.set_log_level(\"info\");\n",
       "    },\n",
       "    function(Bokeh) {\n",
       "    \n",
       "    \n",
       "    }\n",
       "  ];\n",
       "\n",
       "  function run_inline_js() {\n",
       "    \n",
       "    if (root.Bokeh !== undefined || force === true) {\n",
       "      \n",
       "    for (var i = 0; i < inline_js.length; i++) {\n",
       "      inline_js[i].call(root, root.Bokeh);\n",
       "    }\n",
       "    if (force === true) {\n",
       "        display_loaded();\n",
       "      }} else if (Date.now() < root._bokeh_timeout) {\n",
       "      setTimeout(run_inline_js, 100);\n",
       "    } else if (!root._bokeh_failed_load) {\n",
       "      console.log(\"Bokeh: BokehJS failed to load within specified timeout.\");\n",
       "      root._bokeh_failed_load = true;\n",
       "    } else if (force !== true) {\n",
       "      var cell = $(document.getElementById(\"1322\")).parents('.cell').data().cell;\n",
       "      cell.output_area.append_execute_result(NB_LOAD_WARNING)\n",
       "    }\n",
       "\n",
       "  }\n",
       "\n",
       "  if (root._bokeh_is_loading === 0) {\n",
       "    console.debug(\"Bokeh: BokehJS loaded, going straight to plotting\");\n",
       "    run_inline_js();\n",
       "  } else {\n",
       "    load_libs(css_urls, js_urls, function() {\n",
       "      console.debug(\"Bokeh: BokehJS plotting callback run at\", now());\n",
       "      run_inline_js();\n",
       "    });\n",
       "  }\n",
       "}(window));"
      ],
      "application/vnd.bokehjs_load.v0+json": "\n(function(root) {\n  function now() {\n    return new Date();\n  }\n\n  var force = true;\n\n  if (typeof root._bokeh_onload_callbacks === \"undefined\" || force === true) {\n    root._bokeh_onload_callbacks = [];\n    root._bokeh_is_loading = undefined;\n  }\n\n  \n\n  \n  if (typeof (root._bokeh_timeout) === \"undefined\" || force === true) {\n    root._bokeh_timeout = Date.now() + 5000;\n    root._bokeh_failed_load = false;\n  }\n\n  var NB_LOAD_WARNING = {'data': {'text/html':\n     \"<div style='background-color: #fdd'>\\n\"+\n     \"<p>\\n\"+\n     \"BokehJS does not appear to have successfully loaded. If loading BokehJS from CDN, this \\n\"+\n     \"may be due to a slow or bad network connection. Possible fixes:\\n\"+\n     \"</p>\\n\"+\n     \"<ul>\\n\"+\n     \"<li>re-rerun `output_notebook()` to attempt to load from CDN again, or</li>\\n\"+\n     \"<li>use INLINE resources instead, as so:</li>\\n\"+\n     \"</ul>\\n\"+\n     \"<code>\\n\"+\n     \"from bokeh.resources import INLINE\\n\"+\n     \"output_notebook(resources=INLINE)\\n\"+\n     \"</code>\\n\"+\n     \"</div>\"}};\n\n  function display_loaded() {\n    var el = document.getElementById(\"1322\");\n    if (el != null) {\n      el.textContent = \"BokehJS is loading...\";\n    }\n    if (root.Bokeh !== undefined) {\n      if (el != null) {\n        el.textContent = \"BokehJS \" + root.Bokeh.version + \" successfully loaded.\";\n      }\n    } else if (Date.now() < root._bokeh_timeout) {\n      setTimeout(display_loaded, 100)\n    }\n  }\n\n\n  function run_callbacks() {\n    try {\n      root._bokeh_onload_callbacks.forEach(function(callback) {\n        if (callback != null)\n          callback();\n      });\n    } finally {\n      delete root._bokeh_onload_callbacks\n    }\n    console.debug(\"Bokeh: all callbacks have finished\");\n  }\n\n  function load_libs(css_urls, js_urls, callback) {\n    if (css_urls == null) css_urls = [];\n    if (js_urls == null) js_urls = [];\n\n    root._bokeh_onload_callbacks.push(callback);\n    if (root._bokeh_is_loading > 0) {\n      console.debug(\"Bokeh: BokehJS is being loaded, scheduling callback at\", now());\n      return null;\n    }\n    if (js_urls == null || js_urls.length === 0) {\n      run_callbacks();\n      return null;\n    }\n    console.debug(\"Bokeh: BokehJS not loaded, scheduling load and callback at\", now());\n    root._bokeh_is_loading = css_urls.length + js_urls.length;\n\n    function on_load() {\n      root._bokeh_is_loading--;\n      if (root._bokeh_is_loading === 0) {\n        console.debug(\"Bokeh: all BokehJS libraries/stylesheets loaded\");\n        run_callbacks()\n      }\n    }\n\n    function on_error() {\n      console.error(\"failed to load \" + url);\n    }\n\n    for (var i = 0; i < css_urls.length; i++) {\n      var url = css_urls[i];\n      const element = document.createElement(\"link\");\n      element.onload = on_load;\n      element.onerror = on_error;\n      element.rel = \"stylesheet\";\n      element.type = \"text/css\";\n      element.href = url;\n      console.debug(\"Bokeh: injecting link tag for BokehJS stylesheet: \", url);\n      document.body.appendChild(element);\n    }\n\n    for (var i = 0; i < js_urls.length; i++) {\n      var url = js_urls[i];\n      var element = document.createElement('script');\n      element.onload = on_load;\n      element.onerror = on_error;\n      element.async = false;\n      element.src = url;\n      console.debug(\"Bokeh: injecting script tag for BokehJS library: \", url);\n      document.head.appendChild(element);\n    }\n  };var element = document.getElementById(\"1322\");\n  if (element == null) {\n    console.error(\"Bokeh: ERROR: autoload.js configured with elementid '1322' but no matching script tag was found. \")\n    return false;\n  }\n\n  function inject_raw_css(css) {\n    const element = document.createElement(\"style\");\n    element.appendChild(document.createTextNode(css));\n    document.body.appendChild(element);\n  }\n\n  \n  var js_urls = [\"https://cdn.pydata.org/bokeh/release/bokeh-1.4.0.min.js\", \"https://cdn.pydata.org/bokeh/release/bokeh-widgets-1.4.0.min.js\", \"https://cdn.pydata.org/bokeh/release/bokeh-tables-1.4.0.min.js\", \"https://cdn.pydata.org/bokeh/release/bokeh-gl-1.4.0.min.js\"];\n  var css_urls = [];\n  \n\n  var inline_js = [\n    function(Bokeh) {\n      Bokeh.set_log_level(\"info\");\n    },\n    function(Bokeh) {\n    \n    \n    }\n  ];\n\n  function run_inline_js() {\n    \n    if (root.Bokeh !== undefined || force === true) {\n      \n    for (var i = 0; i < inline_js.length; i++) {\n      inline_js[i].call(root, root.Bokeh);\n    }\n    if (force === true) {\n        display_loaded();\n      }} else if (Date.now() < root._bokeh_timeout) {\n      setTimeout(run_inline_js, 100);\n    } else if (!root._bokeh_failed_load) {\n      console.log(\"Bokeh: BokehJS failed to load within specified timeout.\");\n      root._bokeh_failed_load = true;\n    } else if (force !== true) {\n      var cell = $(document.getElementById(\"1322\")).parents('.cell').data().cell;\n      cell.output_area.append_execute_result(NB_LOAD_WARNING)\n    }\n\n  }\n\n  if (root._bokeh_is_loading === 0) {\n    console.debug(\"Bokeh: BokehJS loaded, going straight to plotting\");\n    run_inline_js();\n  } else {\n    load_libs(css_urls, js_urls, function() {\n      console.debug(\"Bokeh: BokehJS plotting callback run at\", now());\n      run_inline_js();\n    });\n  }\n}(window));"
     },
     "metadata": {},
     "output_type": "display_data"
    }
   ],
   "source": [
    "from bokeh.plotting import figure, show, output_notebook\n",
    "from bokeh.models import HoverTool, ColumnDataSource, value\n",
    "from bokeh.palettes import brewer\n",
    "\n",
    "output_notebook()"
   ]
  },
  {
   "cell_type": "code",
   "execution_count": 75,
   "metadata": {
    "colab": {},
    "colab_type": "code",
    "id": "GAJ3VQYXSa8f"
   },
   "outputs": [],
   "source": [
    "# 색 정해주기\n",
    "\n",
    "colors = brewer[\"Spectral\"][len(tsne_df['cluster_no'].unique())]\n",
    "\n",
    "colormap = {i: colors[i] for i in tsne_df['cluster_no'].unique()}\n",
    "\n",
    "colors = [colormap[x] for x in tsne_df['cluster_no']]\n",
    "\n",
    "tsne_df['color'] = colors"
   ]
  },
  {
   "cell_type": "code",
   "execution_count": 76,
   "metadata": {
    "colab": {},
    "colab_type": "code",
    "id": "3yVolrxzSdGa"
   },
   "outputs": [],
   "source": [
    "# Bokeh가 인식하는 DataSource 객체 만들어주기\n",
    "\n",
    "plot_data = ColumnDataSource(\n",
    "    data=tsne_df.to_dict(orient='list')\n",
    ")\n",
    "\n",
    "# Plot 만들기(배경)\n",
    "\n",
    "tsne_plot = figure(\n",
    "    title='Bills about Covid19',\n",
    "    plot_width = 650,\n",
    "    plot_height = 650,\n",
    "    active_scroll='wheel_zoom',\n",
    "    output_backend=\"webgl\", # GPU 가속\n",
    ")"
   ]
  },
  {
   "cell_type": "code",
   "execution_count": 77,
   "metadata": {
    "colab": {},
    "colab_type": "code",
    "id": "o2BkO3QvSf5j"
   },
   "outputs": [
    {
     "data": {
      "text/html": [
       "\n",
       "\n",
       "\n",
       "\n",
       "\n",
       "\n",
       "  <div class=\"bk-root\" id=\"5ec8d69e-1273-47da-bf53-cb476023473b\" data-root-id=\"1324\"></div>\n"
      ]
     },
     "metadata": {},
     "output_type": "display_data"
    },
    {
     "data": {
      "application/javascript": [
       "(function(root) {\n",
       "  function embed_document(root) {\n",
       "    \n",
       "  var docs_json = {\"d5a137cc-d379-4cc9-a450-a8bdd92ab217\":{\"roots\":{\"references\":[{\"attributes\":{\"below\":[{\"id\":\"1335\",\"type\":\"LinearAxis\"}],\"center\":[{\"id\":\"1339\",\"type\":\"Grid\"},{\"id\":\"1344\",\"type\":\"Grid\"}],\"left\":[{\"id\":\"1340\",\"type\":\"LinearAxis\"}],\"outline_line_color\":{\"value\":null},\"output_backend\":\"webgl\",\"plot_height\":650,\"plot_width\":650,\"renderers\":[{\"id\":\"1363\",\"type\":\"GlyphRenderer\"}],\"title\":{\"id\":\"1325\",\"type\":\"Title\"},\"toolbar\":{\"id\":\"1351\",\"type\":\"Toolbar\"},\"x_range\":{\"id\":\"1327\",\"type\":\"DataRange1d\"},\"x_scale\":{\"id\":\"1331\",\"type\":\"LinearScale\"},\"y_range\":{\"id\":\"1329\",\"type\":\"DataRange1d\"},\"y_scale\":{\"id\":\"1333\",\"type\":\"LinearScale\"}},\"id\":\"1324\",\"subtype\":\"Figure\",\"type\":\"Plot\"},{\"attributes\":{},\"id\":\"1331\",\"type\":\"LinearScale\"},{\"attributes\":{\"overlay\":{\"id\":\"1396\",\"type\":\"BoxAnnotation\"}},\"id\":\"1347\",\"type\":\"BoxZoomTool\"},{\"attributes\":{\"callback\":null},\"id\":\"1327\",\"type\":\"DataRange1d\"},{\"attributes\":{},\"id\":\"1348\",\"type\":\"SaveTool\"},{\"attributes\":{\"callback\":null,\"data\":{\"BillName\":[\"  \\uac10\\uc5fc\\ubcd1\\uc758 \\uc608\\ubc29 \\ubc0f \\uad00\\ub9ac\\uc5d0 \\uad00\\ud55c \\ubc95\\ub960 \\uc77c\\ubd80\\uac1c\\uc815\\ubc95\\ub960\\uc548\",\"  \\uac80\\uc5ed\\ubc95 \\uc77c\\ubd80\\uac1c\\uc815\\ubc95\\ub960\\uc548\",\"  \\uac10\\uc5fc\\ubcd1\\uc758 \\uc608\\ubc29 \\ubc0f \\uad00\\ub9ac\\uc5d0 \\uad00\\ud55c \\ubc95\\ub960 \\uc77c\\ubd80\\uac1c\\uc815\\ubc95\\ub960\\uc548\",\"  \\uac10\\uc5fc\\ubcd1\\uc758 \\uc608\\ubc29 \\ubc0f \\uad00\\ub9ac\\uc5d0 \\uad00\\ud55c \\ubc95\\ub960 \\uc77c\\ubd80\\uac1c\\uc815\\ubc95\\ub960\\uc548\",\"  \\uac10\\uc5fc\\ubcd1\\uc758 \\uc608\\ubc29 \\ubc0f \\uad00\\ub9ac\\uc5d0 \\uad00\\ud55c \\ubc95\\ub960 \\uc77c\\ubd80\\uac1c\\uc815\\ubc95\\ub960\\uc548\",\"  \\ud559\\uad50\\ubcf4\\uac74\\ubc95 \\uc77c\\ubd80\\uac1c\\uc815\\ubc95\\ub960\\uc548\",\"  \\uac10\\uc5fc\\ubcd1\\uc758 \\uc608\\ubc29 \\ubc0f \\uad00\\ub9ac\\uc5d0 \\uad00\\ud55c \\ubc95\\ub960 \\uc77c\\ubd80\\uac1c\\uc815\\ubc95\\ub960\\uc548\",\"  \\ub0a8\\ub140\\uace0\\uc6a9\\ud3c9\\ub4f1\\uacfc \\uc77c\\u00b7\\uac00\\uc815 \\uc591\\ub9bd \\uc9c0\\uc6d0\\uc5d0 \\uad00\\ud55c \\ubc95\\ub960 \\uc77c\\ubd80\\uac1c\\uc815\\ubc95\\ub960\\uc548\",\"  \\uac10\\uc5fc\\ubcd1\\uc758 \\uc608\\ubc29 \\ubc0f \\uad00\\ub9ac\\uc5d0 \\uad00\\ud55c \\ubc95\\ub960 \\uc77c\\ubd80\\uac1c\\uc815\\ubc95\\ub960\\uc548\",\"  \\uc911\\uc18c\\uae30\\uc5c5\\uc9c4\\ud765\\uc5d0 \\uad00\\ud55c \\ubc95\\ub960 \\uc77c\\ubd80\\uac1c\\uc815\\ubc95\\ub960\\uc548\",\"  \\uac10\\uc5fc\\ubcd1\\uc758 \\uc608\\ubc29 \\ubc0f \\uad00\\ub9ac\\uc5d0 \\uad00\\ud55c \\ubc95\\ub960 \\uc77c\\ubd80\\uac1c\\uc815\\ubc95\\ub960\\uc548\",\"  \\ubb3c\\uac00\\uc548\\uc815\\uc5d0 \\uad00\\ud55c \\ubc95\\ub960 \\uc77c\\ubd80\\uac1c\\uc815\\ubc95\\ub960\\uc548\",\"  \\uac10\\uc5fc\\ubcd1\\uc758 \\uc608\\ubc29 \\ubc0f \\uad00\\ub9ac\\uc5d0 \\uad00\\ud55c \\ubc95\\ub960 \\uc77c\\ubd80\\uac1c\\uc815\\ubc95\\ub960\\uc548\",\"  \\uc870\\uc138\\ud2b9\\ub840\\uc81c\\ud55c\\ubc95 \\uc77c\\ubd80\\uac1c\\uc815\\ubc95\\ub960\\uc548\",\"  \\uc870\\uc138\\ud2b9\\ub840\\uc81c\\ud55c\\ubc95 \\uc77c\\ubd80\\uac1c\\uc815\\ubc95\\ub960\\uc548\",\"  \\uac10\\uc5fc\\ubcd1\\uc758 \\uc608\\ubc29 \\ubc0f \\uad00\\ub9ac\\uc5d0 \\uad00\\ud55c \\ubc95\\ub960 \\uc77c\\ubd80\\uac1c\\uc815\\ubc95\\ub960\\uc548\",\"  \\uac10\\uc5fc\\ubcd1\\uc758 \\uc608\\ubc29 \\ubc0f \\uad00\\ub9ac\\uc5d0 \\uad00\\ud55c \\ubc95\\ub960 \\uc77c\\ubd80\\uac1c\\uc815\\ubc95\\ub960\\uc548\",\"  \\uc870\\uc138\\ud2b9\\ub840\\uc81c\\ud55c\\ubc95 \\uc77c\\ubd80\\uac1c\\uc815\\ubc95\\ub960\\uc548\",\"  \\uc870\\uc138\\ud2b9\\ub840\\uc81c\\ud55c\\ubc95 \\uc77c\\ubd80\\uac1c\\uc815\\ubc95\\ub960\\uc548\",\"  \\uc9c0\\ubc29\\uc138\\ud2b9\\ub840\\uc81c\\ud55c\\ubc95 \\uc77c\\ubd80\\uac1c\\uc815\\ubc95\\ub960\\uc548\",\"  \\ubd80\\uac00\\uac00\\uce58\\uc138\\ubc95 \\uc77c\\ubd80\\uac1c\\uc815\\ubc95\\ub960\\uc548\",\"  \\uc870\\uc138\\ud2b9\\ub840\\uc81c\\ud55c\\ubc95 \\uc77c\\ubd80\\uac1c\\uc815\\ubc95\\ub960\\uc548\",\"  \\uac10\\uc5fc\\ubcd1\\uc758 \\uc608\\ubc29 \\ubc0f \\uad00\\ub9ac\\uc5d0 \\uad00\\ud55c \\ubc95\\ub960 \\uc77c\\ubd80\\uac1c\\uc815\\ubc95\\ub960\\uc548\",\"  \\uac10\\uc5fc\\ubcd1\\uc758 \\uc608\\ubc29 \\ubc0f \\uad00\\ub9ac\\uc5d0 \\uad00\\ud55c \\ubc95\\ub960 \\uc77c\\ubd80\\uac1c\\uc815\\ubc95\\ub960\\uc548\",\"  \\uc601\\ud654 \\ubc0f \\ube44\\ub514\\uc624\\ubb3c\\uc758 \\uc9c4\\ud765\\uc5d0 \\uad00\\ud55c \\ubc95\\ub960 \\uc77c\\ubd80\\uac1c\\uc815\\ubc95\\ub960\\uc548\",\"  \\uc7ac\\ub09c \\ubc0f \\uc548\\uc804\\uad00\\ub9ac \\uae30\\ubcf8\\ubc95 \\uc77c\\ubd80\\uac1c\\uc815\\ubc95\\ub960\\uc548\",\"  \\uadfc\\ub85c\\ubcf5\\uc9c0\\uae30\\ubcf8\\ubc95 \\uc77c\\ubd80\\uac1c\\uc815\\ubc95\\ub960\\uc548\",\"  \\uc7ac\\ub09c \\ubc0f \\uc548\\uc804\\uad00\\ub9ac \\uae30\\ubcf8\\ubc95 \\uc77c\\ubd80\\uac1c\\uc815\\ubc95\\ub960\\uc548\",\"  \\uc870\\uc138\\ud2b9\\ub840\\uc81c\\ud55c\\ubc95 \\uc77c\\ubd80\\uac1c\\uc815\\ubc95\\ub960\\uc548\",\"  \\uc870\\uc138\\ud2b9\\ub840\\uc81c\\ud55c\\ubc95 \\uc77c\\ubd80\\uac1c\\uc815\\ubc95\\ub960\\uc548\",\"  \\ubd80\\uac00\\uac00\\uce58\\uc138\\ubc95 \\uc77c\\ubd80\\uac1c\\uc815\\ubc95\\ub960\\uc548\",\"  \\uc870\\uc138\\ud2b9\\ub840\\uc81c\\ud55c\\ubc95 \\uc77c\\ubd80\\uac1c\\uc815\\ubc95\\ub960\\uc548\",\"  \\uc870\\uc138\\ud2b9\\ub840\\uc81c\\ud55c\\ubc95 \\uc77c\\ubd80\\uac1c\\uc815\\ubc95\\ub960\\uc548\",\"  \\uac10\\uc5fc\\ubcd1\\uc758 \\uc608\\ubc29 \\ubc0f \\uad00\\ub9ac\\uc5d0 \\uad00\\ud55c \\ubc95\\ub960 \\uc77c\\ubd80\\uac1c\\uc815\\ubc95\\ub960\\uc548\",\"  \\ucd9c\\uc785\\uad6d\\uad00\\ub9ac\\ubc95 \\uc77c\\ubd80\\uac1c\\uc815\\ubc95\\ub960\\uc548\",\"  \\ubd80\\uac00\\uac00\\uce58\\uc138\\ubc95 \\uc77c\\ubd80\\uac1c\\uc815\\ubc95\\ub960\\uc548\",\"  \\uc815\\ubd80\\uc870\\uc9c1\\ubc95 \\uc77c\\ubd80\\uac1c\\uc815\\ubc95\\ub960\\uc548\",\"  \\uc815\\ubd80\\uc870\\uc9c1\\ubc95 \\uc77c\\ubd80\\uac1c\\uc815\\ubc95\\ub960\\uc548\",\"  \\uac10\\uc5fc\\ubcd1\\uc758 \\uc608\\ubc29 \\ubc0f \\uad00\\ub9ac\\uc5d0 \\uad00\\ud55c \\ubc95\\ub960 \\uc77c\\ubd80\\uac1c\\uc815\\ubc95\\ub960\\uc548\",\"  \\uace0\\ub4f1\\uad50\\uc721\\ubc95 \\uc77c\\ubd80\\uac1c\\uc815\\ubc95\\ub960\\uc548\",\"  \\ub18d\\uc5c5\\u00b7\\ub18d\\ucd0c \\ubc0f \\uc2dd\\ud488\\uc0b0\\uc5c5 \\uae30\\ubcf8\\ubc95 \\uc77c\\ubd80\\uac1c\\uc815\\ubc95\\ub960\\uc548\",\"  \\uc591\\uace1\\uad00\\ub9ac\\ubc95 \\uc77c\\ubd80\\uac1c\\uc815\\ubc95\\ub960\\uc548\",\"  \\uc57d\\uad00\\uc758 \\uaddc\\uc81c\\uc5d0 \\uad00\\ud55c \\ubc95\\ub960 \\uc77c\\ubd80\\uac1c\\uc815\\ubc95\\ub960\\uc548\",\"  \\uc0c1\\uac00\\uac74\\ubb3c \\uc784\\ub300\\ucc28\\ubcf4\\ud638\\ubc95 \\uc77c\\ubd80\\uac1c\\uc815\\ubc95\\ub960\\uc548\",\"  \\uc870\\uc138\\ud2b9\\ub840\\uc81c\\ud55c\\ubc95 \\uc77c\\ubd80\\uac1c\\uc815\\ubc95\\ub960\\uc548\",\"  \\uc18c\\uc0c1\\uacf5\\uc778 \\ubcf4\\ud638 \\ubc0f \\uc9c0\\uc6d0\\uc5d0 \\uad00\\ud55c \\ubc95\\ub960 \\uc77c\\ubd80\\uac1c\\uc815\\ubc95\\ub960\\uc548\",\"  \\uad6d\\uc720\\uc7ac\\uc0b0\\ud2b9\\ub840\\uc81c\\ud55c\\ubc95 \\uc77c\\ubd80\\uac1c\\uc815\\ubc95\\ub960\\uc548\",\"  \\uc815\\ubd80\\uc870\\uc9c1\\ubc95 \\uc77c\\ubd80\\uac1c\\uc815\\ubc95\\ub960\\uc548\",\"  \\ubb3c\\uac00\\uc548\\uc815\\uc5d0 \\uad00\\ud55c \\ubc95\\ub960 \\uc77c\\ubd80\\uac1c\\uc815\\ubc95\\ub960\\uc548\",\"  \\uacf5\\uc911\\ubcf4\\uac74 \\uc704\\uae30\\ub300\\uc751 \\uc758\\uc57d\\ud488 \\uac1c\\ubc1c \\ubc0f \\uc9c0\\uc6d0\\uc5d0 \\uad00\\ud55c \\ubc95\\ub960\\uc548\",\"  \\ub0a8\\ub140\\uace0\\uc6a9\\ud3c9\\ub4f1\\uacfc \\uc77c\\u00b7\\uac00\\uc815 \\uc591\\ub9bd \\uc9c0\\uc6d0\\uc5d0 \\uad00\\ud55c \\ubc95\\ub960 \\uc77c\\ubd80\\uac1c\\uc815\\ubc95\\ub960\\uc548\",\"  \\uc870\\uc138\\ud2b9\\ub840\\uc81c\\ud55c\\ubc95 \\uc77c\\ubd80\\uac1c\\uc815\\ubc95\\ub960\\uc548\",\"  \\uc0c1\\uac00\\uac74\\ubb3c \\uc784\\ub300\\ucc28\\ubcf4\\ud638\\ubc95 \\uc77c\\ubd80\\uac1c\\uc815\\ubc95\\ub960\\uc548\",\"  \\uc8fc\\ud0dd\\uc784\\ub300\\ucc28\\ubcf4\\ud638\\ubc95 \\uc77c\\ubd80\\uac1c\\uc815\\ubc95\\ub960\\uc548\",\"  \\uad6d\\uac00\\uc7ac\\uc815\\ubc95 \\uc77c\\ubd80\\uac1c\\uc815\\ubc95\\ub960\\uc548\",\"  \\ud559\\uad50\\ubcf4\\uac74\\ubc95 \\uc77c\\ubd80\\uac1c\\uc815\\ubc95\\ub960\\uc548\",\"  \\ubb3c\\uac00\\uc548\\uc815\\uc5d0 \\uad00\\ud55c \\ubc95\\ub960 \\uc77c\\ubd80\\uac1c\\uc815\\ubc95\\ub960\\uc548\",\"  \\uc870\\uc138\\ud2b9\\ub840\\uc81c\\ud55c\\ubc95 \\uc77c\\ubd80\\uac1c\\uc815\\ubc95\\ub960\\uc548\",\"  \\uad6d\\ub9bd\\uacf5\\uacf5\\ubcf4\\uac74\\uc758\\ub8cc\\ub300\\ud559 \\uc124\\ub9bd \\ubc0f \\uc6b4\\uc601\\uc5d0 \\uad00\\ud55c \\ubc95\\ub960\\uc548\",\"  \\uc751\\uae09\\uc758\\ub8cc\\uc5d0 \\uad00\\ud55c \\ubc95\\ub960 \\uc77c\\ubd80\\uac1c\\uc815\\ubc95\\ub960\\uc548\",\"  \\uad6d\\uc720\\uc7ac\\uc0b0\\ud2b9\\ub840\\uc81c\\ud55c\\ubc95 \\uc77c\\ubd80\\uac1c\\uc815\\ubc95\\ub960\\uc548\",\"  \\uc870\\uc138\\ud2b9\\ub840\\uc81c\\ud55c\\ubc95 \\uc77c\\ubd80\\uac1c\\uc815\\ubc95\\ub960\\uc548\",\"  \\ubd80\\uac00\\uac00\\uce58\\uc138\\ubc95 \\uc77c\\ubd80\\uac1c\\uc815\\ubc95\\ub960\\uc548\",\"  \\ubd80\\uac00\\uac00\\uce58\\uc138\\ubc95 \\uc77c\\ubd80\\uac1c\\uc815\\ubc95\\ub960\\uc548\",\"  \\uc870\\uc138\\ud2b9\\ub840\\uc81c\\ud55c\\ubc95 \\uc77c\\ubd80\\uac1c\\uc815\\ubc95\\ub960\\uc548\",\"  \\uc815\\ubd80\\uc870\\uc9c1\\ubc95 \\uc77c\\ubd80\\uac1c\\uc815\\ubc95\\ub960\\uc548\",\"  \\uc9c0\\ubc29\\uc138\\ubc95 \\uc77c\\ubd80\\uac1c\\uc815\\ubc95\\ub960\\uc548\",\"  \\uc870\\uc138\\ud2b9\\ub840\\uc81c\\ud55c\\ubc95 \\uc77c\\ubd80\\uac1c\\uc815\\ubc95\\ub960\\uc548\",\"  \\uad6d\\uac00\\uc7ac\\uc815\\ubc95 \\uc77c\\ubd80\\uac1c\\uc815\\ubc95\\ub960\\uc548\",\"  \\uc815\\ubd80\\uc870\\uc9c1\\ubc95 \\uc77c\\ubd80\\uac1c\\uc815\\ubc95\\ub960\\uc548\",\"  \\uc9c0\\ubc29\\uc138\\ud2b9\\ub840\\uc81c\\ud55c\\ubc95 \\uc77c\\ubd80\\uac1c\\uc815\\ubc95\\ub960\\uc548\",\"  \\uc9c0\\ubc29\\uc138\\ud2b9\\ub840\\uc81c\\ud55c\\ubc95 \\uc77c\\ubd80\\uac1c\\uc815\\ubc95\\ub960\\uc548\",\"  \\uc870\\uc138\\ud2b9\\ub840\\uc81c\\ud55c\\ubc95 \\uc77c\\ubd80\\uac1c\\uc815\\ubc95\\ub960\\uc548\",\"  \\uc7ac\\ub09c \\ubc0f \\uc548\\uc804\\uad00\\ub9ac \\uae30\\ubcf8\\ubc95 \\uc77c\\ubd80\\uac1c\\uc815\\ubc95\\ub960\\uc548\",\"  \\uace0\\ub4f1\\uad50\\uc721\\ubc95 \\uc77c\\ubd80\\uac1c\\uc815\\ubc95\\ub960\\uc548\",\"  \\uc7ac\\ub09c \\ubc0f \\uc548\\uc804\\uad00\\ub9ac \\uae30\\ubcf8\\ubc95 \\uc77c\\ubd80\\uac1c\\uc815\\ubc95\\ub960\\uc548\",\"  \\uc815\\ubd80\\uc870\\uc9c1\\ubc95 \\uc77c\\ubd80\\uac1c\\uc815\\ubc95\\ub960\\uc548\",\"  \\uc804\\ud1b5\\uc2dc\\uc7a5 \\ubc0f \\uc0c1\\uc810\\uac00 \\uc721\\uc131\\uc744 \\uc704\\ud55c \\ud2b9\\ubcc4\\ubc95 \\uc77c\\ubd80\\uac1c\\uc815\\ubc95\\ub960\\uc548\",\"  \\uc870\\uc138\\ud2b9\\ub840\\uc81c\\ud55c\\ubc95 \\uc77c\\ubd80\\uac1c\\uc815\\ubc95\\ub960\\uc548\",\"  \\ub3c5\\uc810\\uaddc\\uc81c \\ubc0f \\uacf5\\uc815\\uac70\\ub798\\uc5d0 \\uad00\\ud55c \\ubc95\\ub960 \\uc77c\\ubd80\\uac1c\\uc815\\ubc95\\ub960\\uc548\",\"  \\ubd80\\uac00\\uac00\\uce58\\uc138\\ubc95 \\uc77c\\ubd80\\uac1c\\uc815\\ubc95\\ub960\\uc548\",\"  \\uc9c0\\ubc29\\uc138\\ud2b9\\ub840\\uc81c\\ud55c\\ubc95 \\uc77c\\ubd80\\uac1c\\uc815\\ubc95\\ub960\\uc548\",\"  \\uc870\\uc138\\ud2b9\\ub840\\uc81c\\ud55c\\ubc95 \\uc77c\\ubd80\\uac1c\\uc815\\ubc95\\ub960\\uc548\",\"  \\uad6d\\uac00\\uc7ac\\uc815\\ubc95 \\uc77c\\ubd80\\uac1c\\uc815\\ubc95\\ub960\\uc548\",\"  \\uc601\\ud654 \\ubc0f \\ube44\\ub514\\uc624\\ubb3c\\uc758 \\uc9c4\\ud765\\uc5d0 \\uad00\\ud55c \\ubc95\\ub960 \\uc77c\\ubd80\\uac1c\\uc815\\ubc95\\ub960\\uc548\",\"  \\ucd08\\u00b7\\uc911\\ub4f1\\uad50\\uc721\\ubc95 \\uc77c\\ubd80\\uac1c\\uc815\\ubc95\\ub960\\uc548\",\"  \\ucd5c\\uc800\\uc784\\uae08\\ubc95 \\uc77c\\ubd80\\uac1c\\uc815\\ubc95\\ub960\\uc548\",\"  \\uc0dd\\uba85\\uc548\\uc804\\uc5c5\\ubb34 \\uc885\\uc0ac\\uc790\\uc758 \\uc9c1\\uc811\\uace0\\uc6a9 \\ub4f1\\uc5d0 \\uad00\\ud55c \\ubc95\\ub960\\uc548\",\"  \\uad6d\\ubbfc\\uac74\\uac15\\ubcf4\\ud5d8\\ubc95 \\uc77c\\ubd80\\uac1c\\uc815\\ubc95\\ub960\\uc548\",\"  \\uadfc\\ub85c\\uae30\\uc900\\ubc95 \\uc77c\\ubd80\\uac1c\\uc815\\ubc95\\ub960\\uc548\",\"  \\uc7ac\\ub09c \\ubc0f \\uc548\\uc804\\uad00\\ub9ac \\uae30\\ubcf8\\ubc95 \\uc77c\\ubd80\\uac1c\\uc815\\ubc95\\ub960\\uc548\",\"  \\uc870\\uc138\\ud2b9\\ub840\\uc81c\\ud55c\\ubc95 \\uc77c\\ubd80\\uac1c\\uc815\\ubc95\\ub960\\uc548\",\"  \\uace0\\ub4f1\\uad50\\uc721\\ubc95 \\uc77c\\ubd80\\uac1c\\uc815\\ubc95\\ub960\\uc548\",\"  \\ub300\\u00b7\\uc911\\uc18c\\uae30\\uc5c5 \\uc0c1\\uc0dd\\ud611\\ub825 \\ucd09\\uc9c4\\uc5d0 \\uad00\\ud55c \\ubc95\\ub960 \\uc77c\\ubd80\\uac1c\\uc815\\ubc95\\ub960\\uc548\",\"  \\uace0\\ub4f1\\uad50\\uc721\\ubc95 \\uc77c\\ubd80\\uac1c\\uc815\\ubc95\\ub960\\uc548\",\"  \\uc9c0\\ubc29\\uc758\\ub8cc\\uc6d0\\uc758 \\uc124\\ub9bd \\ubc0f \\uc6b4\\uc601\\uc5d0 \\uad00\\ud55c \\ubc95\\ub960 \\uc77c\\ubd80\\uac1c\\uc815\\ubc95\\ub960\\uc548\",\"  \\uc5ec\\uac1d\\uc790\\ub3d9\\ucc28 \\uc6b4\\uc218\\uc0ac\\uc5c5\\ubc95 \\uc77c\\ubd80\\uac1c\\uc815\\ubc95\\ub960\\uc548\",\"  \\uc5b4\\ub9b0\\uc774\\uac74\\uac15 \\ubcf4\\ud638 \\ubc0f \\uc99d\\uc9c4\\uc5d0 \\uad00\\ud55c \\ubc95\\ub960\\uc548\",\"  \\uc870\\uc138\\ud2b9\\ub840\\uc81c\\ud55c\\ubc95 \\uc77c\\ubd80\\uac1c\\uc815\\ubc95\\ub960\\uc548\",\"  \\uc0c1\\uac00\\uac74\\ubb3c \\uc784\\ub300\\ucc28\\ubcf4\\ud638\\ubc95 \\uc77c\\ubd80\\uac1c\\uc815\\ubc95\\ub960\\uc548\",\"  \\uadfc\\ub85c\\uae30\\uc900\\ubc95 \\uc77c\\ubd80\\uac1c\\uc815\\ubc95\\ub960\\uc548\",\"  \\uc7ac\\ub09c \\ubc0f \\uc548\\uc804\\uad00\\ub9ac \\uae30\\ubcf8\\ubc95 \\uc77c\\ubd80\\uac1c\\uc815\\ubc95\\ub960\\uc548\",\"  \\ud608\\uc561\\uad00\\ub9ac\\ubc95 \\uc77c\\ubd80\\uac1c\\uc815\\ubc95\\ub960\\uc548\",\"  \\ud574\\uc678\\uc9c4\\ucd9c\\uae30\\uc5c5\\uc758 \\uad6d\\ub0b4\\ubcf5\\uadc0 \\uc9c0\\uc6d0\\uc5d0 \\uad00\\ud55c \\ubc95\\ub960 \\uc77c\\ubd80\\uac1c\\uc815\\ubc95\\ub960\\uc548\",\"  \\ubc29\\uc1a1\\ud1b5\\uc2e0\\ubc1c\\uc804 \\uae30\\ubcf8\\ubc95 \\uc77c\\ubd80\\uac1c\\uc815\\ubc95\\ub960\\uc548\",\"  \\ubd80\\uac00\\uac00\\uce58\\uc138\\ubc95 \\uc77c\\ubd80\\uac1c\\uc815\\ubc95\\ub960\\uc548\",\"  \\ubb38\\ud654\\uc0b0\\uc5c5\\uc9c4\\ud765 \\uae30\\ubcf8\\ubc95 \\uc77c\\ubd80\\uac1c\\uc815\\ubc95\\ub960\\uc548\",\"  \\uad6d\\uac00\\uc7ac\\uc815\\ubc95 \\uc77c\\ubd80\\uac1c\\uc815\\ubc95\\ub960\\uc548\",\"  \\ubcf5\\uad8c \\ubc0f \\ubcf5\\uad8c\\uae30\\uae08\\ubc95 \\uc77c\\ubd80\\uac1c\\uc815\\ubc95\\ub960\\uc548\",\"  \\ubd80\\uac00\\uac00\\uce58\\uc138\\ubc95 \\uc77c\\ubd80\\uac1c\\uc815\\ubc95\\ub960\\uc548\",\"  \\uc9c0\\ubc29\\uc138\\ud2b9\\ub840\\uc81c\\ud55c\\ubc95 \\uc77c\\ubd80\\uac1c\\uc815\\ubc95\\ub960\\uc548\",\"  \\uc870\\uc138\\ud2b9\\ub840\\uc81c\\ud55c\\ubc95 \\uc77c\\ubd80\\uac1c\\uc815\\ubc95\\ub960\\uc548\",\"  \\uac10\\uc5fc\\ubcd1\\uc758 \\uc608\\ubc29 \\ubc0f \\uad00\\ub9ac\\uc5d0 \\uad00\\ud55c \\ubc95\\ub960 \\uc77c\\ubd80\\uac1c\\uc815\\ubc95\\ub960\\uc548\",\"  \\uc7ac\\ub09c \\ubc0f \\uc548\\uc804\\uad00\\ub9ac \\uae30\\ubcf8\\ubc95 \\uc77c\\ubd80\\uac1c\\uc815\\ubc95\\ub960\\uc548\",\"  \\uccad\\ub144\\uace0\\uc6a9\\ucd09\\uc9c4 \\ud2b9\\ubcc4\\ubc95 \\uc77c\\ubd80\\uac1c\\uc815\\ubc95\\ub960\\uc548\",\"  \\uc18c\\ub4dd\\uc138\\ubc95 \\uc77c\\ubd80\\uac1c\\uc815\\ubc95\\ub960\\uc548\",\"  \\uc870\\uc138\\ud2b9\\ub840\\uc81c\\ud55c\\ubc95 \\uc77c\\ubd80\\uac1c\\uc815\\ubc95\\ub960\\uc548\",\"  \\uccad\\ub144\\uace0\\uc6a9\\ucd09\\uc9c4 \\ud2b9\\ubcc4\\ubc95 \\uc77c\\ubd80\\uac1c\\uc815\\ubc95\\ub960\\uc548\",\"  \\ubd80\\uac00\\uac00\\uce58\\uc138\\ubc95 \\uc77c\\ubd80\\uac1c\\uc815\\ubc95\\ub960\\uc548\",\"  \\ud608\\uc561\\uad00\\ub9ac\\ubc95 \\uc77c\\ubd80\\uac1c\\uc815\\ubc95\\ub960\\uc548\",\"  \\uc0c8\\ub9c8\\uc744\\uc6b4\\ub3d9\\uc870\\uc9c1 \\uc721\\uc131\\ubc95 \\uc77c\\ubd80\\uac1c\\uc815\\ubc95\\ub960\\uc548\",\"  \\uc870\\uc138\\ud2b9\\ub840\\uc81c\\ud55c\\ubc95 \\uc77c\\ubd80\\uac1c\\uc815\\ubc95\\ub960\\uc548\",\"  \\uc870\\uc138\\ud2b9\\ub840\\uc81c\\ud55c\\ubc95 \\uc77c\\ubd80\\uac1c\\uc815\\ubc95\\ub960\\uc548\",\"  \\uc870\\uc138\\ud2b9\\ub840\\uc81c\\ud55c\\ubc95 \\uc77c\\ubd80\\uac1c\\uc815\\ubc95\\ub960\\uc548\",\"  \\uadfc\\ub85c\\ubcf5\\uc9c0\\uae30\\ubcf8\\ubc95 \\uc77c\\ubd80\\uac1c\\uc815\\ubc95\\ub960\\uc548\",\"  \\uc870\\uc138\\ud2b9\\ub840\\uc81c\\ud55c\\ubc95 \\uc77c\\ubd80\\uac1c\\uc815\\ubc95\\ub960\\uc548\",\"  \\uad6d\\uac00\\uc720\\uacf5\\uc790 \\ub4f1 \\uc608\\uc6b0 \\ubc0f \\uc9c0\\uc6d0\\uc5d0 \\uad00\\ud55c \\ubc95\\ub960 \\uc77c\\ubd80\\uac1c\\uc815\\ubc95\\ub960\\uc548\",\"  \\uc9c0\\uc5ed\\uc0ac\\ub791\\uc0c1\\ud488\\uad8c \\uc774\\uc6a9 \\ud65c\\uc131\\ud654\\uc5d0 \\uad00\\ud55c \\ubc95\\ub960 \\uc77c\\ubd80\\uac1c\\uc815\\ubc95\\ub960\\uc548\",\"  \\ub179\\uc0c9\\uac74\\ucd95\\ubb3c \\uc870\\uc131 \\uc9c0\\uc6d0\\ubc95 \\uc77c\\ubd80\\uac1c\\uc815\\ubc95\\ub960\\uc548\",\"  \\uae30\\uc5c5\\ud65c\\ub3d9 \\uaddc\\uc81c\\uc644\\ud654\\uc5d0 \\uad00\\ud55c \\ud2b9\\ubcc4\\uc870\\uce58\\ubc95 \\uc77c\\ubd80\\uac1c\\uc815\\ubc95\\ub960\\uc548\",\"  \\uadfc\\ub85c\\uae30\\uc900\\ubc95 \\uc77c\\ubd80\\uac1c\\uc815\\ubc95\\ub960\\uc548\",\"  \\uc870\\uc138\\ud2b9\\ub840\\uc81c\\ud55c\\ubc95 \\uc77c\\ubd80\\uac1c\\uc815\\ubc95\\ub960\\uc548\",\"  \\uadfc\\ub85c\\uae30\\uc900\\ubc95 \\uc77c\\ubd80\\uac1c\\uc815\\ubc95\\ub960\\uc548\",\"  \\uace0\\uc6a9\\ubcf4\\ud5d8\\ubc95 \\uc77c\\ubd80\\uac1c\\uc815\\ubc95\\ub960\\uc548\",\"  \\uc7ac\\uc678\\uad6d\\ubbfc\\uc758 \\uad50\\uc721\\uc9c0\\uc6d0 \\ub4f1\\uc5d0 \\uad00\\ud55c \\ubc95\\ub960 \\uc77c\\ubd80\\uac1c\\uc815\\ubc95\\ub960\\uc548\",\"  \\uad6d\\ub9bd\\uacf5\\uacf5\\ubcf4\\uac74\\uc758\\ub8cc\\ub300\\ud559 \\uc124\\ub9bd\\u00b7\\uc6b4\\uc601\\uc5d0 \\uad00\\ud55c \\ubc95\\ub960\\uc548\",\"  \\ubc95\\uc778\\uc138\\ubc95 \\uc77c\\ubd80\\uac1c\\uc815\\ubc95\\ub960\\uc548\",\"  \\uc870\\uc138\\ud2b9\\ub840\\uc81c\\ud55c\\ubc95 \\uc77c\\ubd80\\uac1c\\uc815\\ubc95\\ub960\\uc548\",\"  \\uc870\\uc138\\ud2b9\\ub840\\uc81c\\ud55c\\ubc95 \\uc77c\\ubd80\\uac1c\\uc815\\ubc95\\ub960\\uc548\",\"  \\ud56d\\uacf5\\uc6b0\\uc8fc\\uc0b0\\uc5c5\\uac1c\\ubc1c \\ucd09\\uc9c4\\ubc95 \\uc77c\\ubd80\\uac1c\\uc815\\ubc95\\ub960\\uc548\",\"  \\ud559\\uad50\\uae09\\uc2dd\\ubc95 \\uc77c\\ubd80\\uac1c\\uc815\\ubc95\\ub960\\uc548\",\"  \\uc608\\uc220\\uc778 \\ubcf5\\uc9c0\\ubc95 \\uc77c\\ubd80\\uac1c\\uc815\\ubc95\\ub960\\uc548\",\"  \\uad6d\\uac00\\uc7ac\\uc815\\ubc95 \\uc77c\\ubd80\\uac1c\\uc815\\ubc95\\ub960\\uc548\",\"  \\uc9c0\\ubc29\\ub300\\ud559 \\ubc0f \\uc9c0\\uc5ed\\uade0\\ud615\\uc778\\uc7ac \\uc721\\uc131\\uc5d0 \\uad00\\ud55c \\ubc95\\ub960 \\uc77c\\ubd80\\uac1c\\uc815\\ubc95\\ub960\\uc548\",\"  \\ub0a8\\ub140\\uace0\\uc6a9\\ud3c9\\ub4f1\\uacfc \\uc77c\\u00b7\\uac00\\uc815 \\uc591\\ub9bd \\uc9c0\\uc6d0\\uc5d0 \\uad00\\ud55c \\ubc95\\ub960 \\uc77c\\ubd80\\uac1c\\uc815\\ubc95\\ub960\\uc548\",\"  \\ub0a8\\ubd81 \\ubcf4\\uac74\\uc758\\ub8cc\\uc758 \\uad50\\ub958\\ud611\\ub825 \\uc99d\\uc9c4\\uc5d0 \\uad00\\ud55c \\ubc95\\ub960\\uc548\",\"  \\uac10\\uc5fc\\ubcd1\\uc758 \\uc608\\ubc29 \\ubc0f \\uad00\\ub9ac\\uc5d0 \\uad00\\ud55c \\ubc95\\ub960 \\uc77c\\ubd80\\uac1c\\uc815\\ubc95\\ub960\\uc548\",\"  \\uac10\\uc5fc\\ubcd1\\uc758 \\uc608\\ubc29 \\ubc0f \\uad00\\ub9ac\\uc5d0 \\uad00\\ud55c \\ubc95\\ub960 \\uc77c\\ubd80\\uac1c\\uc815\\ubc95\\ub960\\uc548\",\"  \\uac00\\ub9f9\\uc0ac\\uc5c5\\uac70\\ub798\\uc758 \\uacf5\\uc815\\ud654\\uc5d0 \\uad00\\ud55c \\ubc95\\ub960 \\uc77c\\ubd80\\uac1c\\uc815\\ubc95\\ub960\\uc548\",\"  \\ubd80\\uac00\\uac00\\uce58\\uc138\\ubc95 \\uc77c\\ubd80\\uac1c\\uc815\\ubc95\\ub960\\uc548\",\"  \\uc18c\\uc0c1\\uacf5\\uc778 \\ubcf4\\ud638 \\ubc0f \\uc9c0\\uc6d0\\uc5d0 \\uad00\\ud55c \\ubc95\\ub960 \\uc77c\\ubd80\\uac1c\\uc815\\ubc95\\ub960\\uc548\",\"  \\uc870\\uc138\\ud2b9\\ub840\\uc81c\\ud55c\\ubc95 \\uc77c\\ubd80\\uac1c\\uc815\\ubc95\\ub960\\uc548\",\"  \\ub300\\ub9ac\\uc810\\uac70\\ub798\\uc758 \\uacf5\\uc815\\ud654\\uc5d0 \\uad00\\ud55c \\ubc95\\ub960 \\uc77c\\ubd80\\uac1c\\uc815\\ubc95\\ub960\\uc548\",\"  \\ubd80\\uac00\\uac00\\uce58\\uc138\\ubc95 \\uc77c\\ubd80\\uac1c\\uc815\\ubc95\\ub960\\uc548\",\"  \\uacf5\\uacf5\\uae30\\uad00\\uc758 \\uc6b4\\uc601\\uc5d0 \\uad00\\ud55c \\ubc95\\ub960 \\uc77c\\ubd80\\uac1c\\uc815\\ubc95\\ub960\\uc548\",\"  \\uad6d\\uac00\\ub97c \\ub2f9\\uc0ac\\uc790\\ub85c \\ud558\\ub294 \\uacc4\\uc57d\\uc5d0 \\uad00\\ud55c \\ubc95\\ub960 \\uc77c\\ubd80\\uac1c\\uc815\\ubc95\\ub960\\uc548\",\"  \\uc870\\uc138\\ud2b9\\ub840\\uc81c\\ud55c\\ubc95 \\uc77c\\ubd80\\uac1c\\uc815\\ubc95\\ub960\\uc548\",\"  \\uc9c0\\ubc29\\uacf5\\ubb34\\uc6d0\\ubc95 \\uc77c\\ubd80\\uac1c\\uc815\\ubc95\\ub960\\uc548\",\"  \\uad6d\\uac00\\uacf5\\ubb34\\uc6d0\\ubc95 \\uc77c\\ubd80\\uac1c\\uc815\\ubc95\\ub960\\uc548\",\"  \\ub18d\\uc5c5\\uae30\\uacc4\\ud654 \\ucd09\\uc9c4\\ubc95 \\uc77c\\ubd80\\uac1c\\uc815\\ubc95\\ub960\\uc548\",\"  \\uadfc\\ub85c\\uae30\\uc900\\ubc95 \\uc77c\\ubd80\\uac1c\\uc815\\ubc95\\ub960\\uc548\",\"  \\uc870\\uc138\\ud2b9\\ub840\\uc81c\\ud55c\\ubc95 \\uc77c\\ubd80\\uac1c\\uc815\\ubc95\\ub960\\uc548\",\"  \\uac10\\uc5fc\\ubcd1\\uc758 \\uc608\\ubc29 \\ubc0f \\uad00\\ub9ac\\uc5d0 \\uad00\\ud55c \\ubc95\\ub960 \\uc77c\\ubd80\\uac1c\\uc815\\ubc95\\ub960\\uc548\",\"  \\ucd08\\u00b7\\uc911\\ub4f1\\uad50\\uc721\\ubc95 \\uc77c\\ubd80\\uac1c\\uc815\\ubc95\\ub960\\uc548\",\"  \\uac10\\uc5fc\\ubcd1\\uc758 \\uc608\\ubc29 \\ubc0f \\uad00\\ub9ac\\uc5d0 \\uad00\\ud55c \\ubc95\\ub960 \\uc77c\\ubd80\\uac1c\\uc815\\ubc95\\ub960\\uc548\",\"  \\uac10\\uc5fc\\ubcd1\\uc758 \\uc608\\ubc29 \\ubc0f \\uad00\\ub9ac\\uc5d0 \\uad00\\ud55c \\ubc95\\ub960 \\uc77c\\ubd80\\uac1c\\uc815\\ubc95\\ub960\\uc548\",\"  \\uc790\\uc6d0\\uc758 \\uc808\\uc57d\\uacfc \\uc7ac\\ud65c\\uc6a9\\ucd09\\uc9c4\\uc5d0 \\uad00\\ud55c \\ubc95\\ub960 \\uc77c\\ubd80\\uac1c\\uc815\\ubc95\\ub960\\uc548\",\"  \\ucd08\\u00b7\\uc911\\ub4f1\\uad50\\uc721\\ubc95 \\uc77c\\ubd80\\uac1c\\uc815\\ubc95\\ub960\\uc548\",\"  \\uc7ac\\ub09c \\ubc0f \\uc548\\uc804\\uad00\\ub9ac \\uae30\\ubcf8\\ubc95 \\uc77c\\ubd80\\uac1c\\uc815\\ubc95\\ub960\\uc548\",\"  \\ucd9c\\uc785\\uad6d\\uad00\\ub9ac\\ubc95 \\uc77c\\ubd80\\uac1c\\uc815\\ubc95\\ub960\\uc548\",\"  \\uc9c1\\uc5c5\\uad50\\uc721\\ud6c8\\ub828 \\ucd09\\uc9c4\\ubc95 \\uc77c\\ubd80\\uac1c\\uc815\\ubc95\\ub960\\uc548\",\"  \\uad6d\\uac00\\ud68c\\uacc4\\ubc95 \\uc77c\\ubd80\\uac1c\\uc815\\ubc95\\ub960\\uc548\",\"  \\uad6d\\uac00\\uc7ac\\uc815\\ubc95 \\uc77c\\ubd80\\uac1c\\uc815\\ubc95\\ub960\\uc548\",\"  \\uc0c1\\uc18d\\uc138 \\ubc0f \\uc99d\\uc5ec\\uc138\\ubc95 \\uc77c\\ubd80\\uac1c\\uc815\\ubc95\\ub960\\uc548\",\"  \\ubd80\\uac00\\uac00\\uce58\\uc138\\ubc95 \\uc77c\\ubd80\\uac1c\\uc815\\ubc95\\ub960\\uc548\",\"  \\ubd80\\uac00\\uac00\\uce58\\uc138\\ubc95 \\uc77c\\ubd80\\uac1c\\uc815\\ubc95\\ub960\\uc548\",\"  \\uace0\\ub4f1\\uad50\\uc721\\ubc95 \\uc77c\\ubd80\\uac1c\\uc815\\ubc95\\ub960\\uc548\",\"  \\uad6d\\ubbfc\\uac74\\uac15\\ubcf4\\ud5d8\\ubc95 \\uc77c\\ubd80\\uac1c\\uc815\\ubc95\\ub960\\uc548\",\"  \\ucd5c\\uc800\\uc784\\uae08\\ubc95 \\uc77c\\ubd80\\uac1c\\uc815\\ubc95\\ub960\\uc548\",\"  119\\uad6c\\uc870\\u00b7\\uad6c\\uae09\\uc5d0 \\uad00\\ud55c \\ubc95\\ub960 \\uc77c\\ubd80\\uac1c\\uc815\\ubc95\\ub960\\uc548\",\"  \\ubc95\\uc778\\uc138\\ubc95 \\uc77c\\ubd80\\uac1c\\uc815\\ubc95\\ub960\\uc548\",\"  \\ubb3c\\uac00\\uc548\\uc815\\uc5d0 \\uad00\\ud55c \\ubc95\\ub960 \\uc77c\\ubd80\\uac1c\\uc815\\ubc95\\ub960\\uc548\",\"  \\uac10\\uc5fc\\ubcd1\\uc758 \\uc608\\ubc29 \\ubc0f \\uad00\\ub9ac\\uc5d0 \\uad00\\ud55c \\ubc95\\ub960 \\uc77c\\ubd80\\uac1c\\uc815\\ubc95\\ub960\\uc548\",\"  \\uad6d\\uc720\\uc7ac\\uc0b0\\ud2b9\\ub840\\uc81c\\ud55c\\ubc95 \\uc77c\\ubd80\\uac1c\\uc815\\ubc95\\ub960\\uc548\",\"  \\ud3d0\\uad11\\uc9c0\\uc5ed \\uac1c\\ubc1c \\uc9c0\\uc6d0\\uc5d0 \\uad00\\ud55c \\ud2b9\\ubcc4\\ubc95 \\uc77c\\ubd80\\uac1c\\uc815\\ubc95\\ub960\\uc548\",\"  \\uc870\\uc138\\ud2b9\\ub840\\uc81c\\ud55c\\ubc95 \\uc77c\\ubd80\\uac1c\\uc815\\ubc95\\ub960\\uc548\",\"  \\uc18c\\ub4dd\\uc138\\ubc95 \\uc77c\\ubd80\\uac1c\\uc815\\ubc95\\ub960\\uc548\",\"  \\uac10\\uc5fc\\ubcd1\\uc758 \\uc608\\ubc29 \\ubc0f \\uad00\\ub9ac\\uc5d0 \\uad00\\ud55c \\ubc95\\ub960 \\uc77c\\ubd80\\uac1c\\uc815\\ubc95\\ub960\\uc548\",\"  \\uc18c\\uc0c1\\uacf5\\uc778 \\ubcf4\\ud638 \\ubc0f \\uc9c0\\uc6d0\\uc5d0 \\uad00\\ud55c \\ubc95\\ub960 \\uc77c\\ubd80\\uac1c\\uc815\\ubc95\\ub960\\uc548\",\"  \\ubbfc\\uac04\\uc784\\ub300\\uc8fc\\ud0dd\\uc5d0 \\uad00\\ud55c \\ud2b9\\ubcc4\\ubc95 \\uc77c\\ubd80\\uac1c\\uc815\\ubc95\\ub960\\uc548\",\"  \\uc870\\uc138\\ud2b9\\ub840\\uc81c\\ud55c\\ubc95 \\uc77c\\ubd80\\uac1c\\uc815\\ubc95\\ub960\\uc548\",\"  \\uac10\\uc5fc\\ubcd1\\uc758 \\uc608\\ubc29 \\ubc0f \\uad00\\ub9ac\\uc5d0 \\uad00\\ud55c \\ubc95\\ub960 \\uc77c\\ubd80\\uac1c\\uc815\\ubc95\\ub960\\uc548\",\"  \\uac10\\uc5fc\\ubcd1\\uc758 \\uc608\\ubc29 \\ubc0f \\uad00\\ub9ac\\uc5d0 \\uad00\\ud55c \\ubc95\\ub960 \\uc77c\\ubd80\\uac1c\\uc815\\ubc95\\ub960\\uc548\",\"  \\uc758\\ub8cc\\ubc95 \\uc77c\\ubd80\\uac1c\\uc815\\ubc95\\ub960\\uc548\",\"  \\uc815\\uc2e0\\uac74\\uac15\\uc99d\\uc9c4 \\ubc0f \\uc815\\uc2e0\\uc9c8\\ud658\\uc790 \\ubcf5\\uc9c0\\uc11c\\ube44\\uc2a4 \\uc9c0\\uc6d0\\uc5d0 \\uad00\\ud55c \\ubc95\\ub960 \\uc77c\\ubd80\\uac1c\\uc815\\ubc95\\ub960\\uc548\",\"  \\uadfc\\ub85c\\ubcf5\\uc9c0\\uae30\\ubcf8\\ubc95 \\uc77c\\ubd80\\uac1c\\uc815\\ubc95\\ub960\\uc548\",\"  \\uc870\\uc138\\ud2b9\\ub840\\uc81c\\ud55c\\ubc95 \\uc77c\\ubd80\\uac1c\\uc815\\ubc95\\ub960\\uc548\",\"  \\uc870\\uc138\\ud2b9\\ub840\\uc81c\\ud55c\\ubc95 \\uc77c\\ubd80\\uac1c\\uc815\\ubc95\\ub960\\uc548\",\"  \\uc5ec\\uac1d\\uc790\\ub3d9\\ucc28 \\uc6b4\\uc218\\uc0ac\\uc5c5\\ubc95 \\uc77c\\ubd80\\uac1c\\uc815\\ubc95\\ub960\\uc548\",\"  \\uad6d\\uac00\\uc7ac\\uc815\\ubc95 \\uc77c\\ubd80\\uac1c\\uc815\\ubc95\\ub960\\uc548\",\"  \\uad6d\\ubbfc\\uac74\\uac15\\ubcf4\\ud5d8\\ubc95 \\uc77c\\ubd80\\uac1c\\uc815\\ubc95\\ub960\\uc548\",\"  \\uacbd\\uc81c\\uc790\\uc720\\uad6c\\uc5ed\\uc758 \\uc9c0\\uc815 \\ubc0f \\uc6b4\\uc601\\uc5d0 \\uad00\\ud55c \\ud2b9\\ubcc4\\ubc95 \\uc77c\\ubd80\\uac1c\\uc815\\ubc95\\ub960\\uc548\",\"  \\uc870\\uc138\\ud2b9\\ub840\\uc81c\\ud55c\\ubc95 \\uc77c\\ubd80\\uac1c\\uc815\\ubc95\\ub960\\uc548\",\"  \\uc774\\uc790\\uc81c\\ud55c\\ubc95 \\uc77c\\ubd80\\uac1c\\uc815\\ubc95\\ub960\\uc548\",\"  \\uc870\\uc138\\ud2b9\\ub840\\uc81c\\ud55c\\ubc95 \\uc77c\\ubd80\\uac1c\\uc815\\ubc95\\ub960\\uc548\",\"  \\ubd80\\uac00\\uac00\\uce58\\uc138\\ubc95 \\uc77c\\ubd80\\uac1c\\uc815\\ubc95\\ub960\\uc548\",\"  \\uacbd\\uc81c\\uc790\\uc720\\uad6c\\uc5ed\\uc758 \\uc9c0\\uc815 \\ubc0f \\uc6b4\\uc601\\uc5d0 \\uad00\\ud55c \\ud2b9\\ubcc4\\ubc95 \\uc77c\\ubd80\\uac1c\\uc815\\ubc95\\ub960\\uc548\",\"  \\uc9c0\\ubc29\\uc138\\ud2b9\\ub840\\uc81c\\ud55c\\ubc95 \\uc77c\\ubd80\\uac1c\\uc815\\ubc95\\ub960\\uc548\",\"  \\ub300\\ubd80\\uc5c5 \\ub4f1\\uc758 \\ub4f1\\ub85d \\ubc0f \\uae08\\uc735\\uc774\\uc6a9\\uc790 \\ubcf4\\ud638\\uc5d0 \\uad00\\ud55c \\ubc95\\ub960 \\uc77c\\ubd80\\uac1c\\uc815\\ubc95\\ub960\\uc548\",\"  \\ub179\\uc0c9\\uac74\\ucd95\\ubb3c \\uc870\\uc131 \\uc9c0\\uc6d0\\ubc95 \\uc77c\\ubd80\\uac1c\\uc815\\ubc95\\ub960\\uc548\",\"  \\uc870\\uc138\\ud2b9\\ub840\\uc81c\\ud55c\\ubc95 \\uc77c\\ubd80\\uac1c\\uc815\\ubc95\\ub960\\uc548\",\"  \\ubd80\\uac00\\uac00\\uce58\\uc138\\ubc95 \\uc77c\\ubd80\\uac1c\\uc815\\ubc95\\ub960\\uc548\",\"  \\uc870\\uc138\\ud2b9\\ub840\\uc81c\\ud55c\\ubc95 \\uc77c\\ubd80\\uac1c\\uc815\\ubc95\\ub960\\uc548\",\"  \\uc870\\uc138\\ud2b9\\ub840\\uc81c\\ud55c\\ubc95 \\uc77c\\ubd80\\uac1c\\uc815\\ubc95\\ub960\\uc548\",\"  \\uc870\\uc138\\ud2b9\\ub840\\uc81c\\ud55c\\ubc95 \\uc77c\\ubd80\\uac1c\\uc815\\ubc95\\ub960\\uc548\",\"  \\ud559\\uad50\\uccb4\\uc721 \\uc9c4\\ud765\\ubc95 \\uc77c\\ubd80\\uac1c\\uc815\\ubc95\\ub960\\uc548\",\"  \\uac10\\uc5fc\\ubcd1\\uc758 \\uc608\\ubc29 \\ubc0f \\uad00\\ub9ac\\uc5d0 \\uad00\\ud55c \\ubc95\\ub960 \\uc77c\\ubd80\\uac1c\\uc815\\ubc95\\ub960\\uc548\",\"  \\ucd08\\u00b7\\uc911\\ub4f1\\uad50\\uc721\\ubc95 \\uc77c\\ubd80\\uac1c\\uc815\\ubc95\\ub960\\uc548\",\"  \\uc0b0\\uc5c5\\uc9d1\\uc801\\ud65c\\uc131\\ud654 \\ubc0f \\uacf5\\uc7a5\\uc124\\ub9bd\\uc5d0 \\uad00\\ud55c \\ubc95\\ub960 \\uc77c\\ubd80\\uac1c\\uc815\\ubc95\\ub960\\uc548\",\"  \\uc870\\uc138\\ud2b9\\ub840\\uc81c\\ud55c\\ubc95 \\uc77c\\ubd80\\uac1c\\uc815\\ubc95\\ub960\\uc548\",\"  \\ubc95\\uc778\\uc138\\ubc95 \\uc77c\\ubd80\\uac1c\\uc815\\ubc95\\ub960\\uc548\",\"  \\uc561\\ud654\\uc11d\\uc720\\uac00\\uc2a4\\uc758 \\uc548\\uc804\\uad00\\ub9ac \\ubc0f \\uc0ac\\uc5c5\\ubc95 \\uc77c\\ubd80\\uac1c\\uc815\\ubc95\\ub960\\uc548\",\"  \\uc870\\uc138\\ud2b9\\ub840\\uc81c\\ud55c\\ubc95 \\uc77c\\ubd80\\uac1c\\uc815\\ubc95\\ub960\\uc548\",\"  \\uc870\\uc138\\ud2b9\\ub840\\uc81c\\ud55c\\ubc95 \\uc77c\\ubd80\\uac1c\\uc815\\ubc95\\ub960\\uc548\",\"  \\ud2b9\\ud5c8\\ubc95 \\uc77c\\ubd80\\uac1c\\uc815\\ubc95\\ub960\\uc548\",\"  \\ubb3c\\uac00\\uc548\\uc815\\uc5d0 \\uad00\\ud55c \\ubc95\\ub960 \\uc77c\\ubd80\\uac1c\\uc815\\ubc95\\ub960\\uc548\",\"  \\uc0ac\\ub9bd\\ud559\\uad50\\ubc95 \\uc77c\\ubd80\\uac1c\\uc815\\ubc95\\ub960\\uc548\",\"  \\uace0\\ub4f1\\uad50\\uc721\\ubc95 \\uc77c\\ubd80\\uac1c\\uc815\\ubc95\\ub960\\uc548\",\"  \\uadfc\\ub85c\\uae30\\uc900\\ubc95 \\uc77c\\ubd80\\uac1c\\uc815\\ubc95\\ub960\\uc548\",\"  \\uc9c0\\ubc29\\uad50\\uc721\\uc790\\uce58\\uc5d0 \\uad00\\ud55c \\ubc95\\ub960 \\uc77c\\ubd80\\uac1c\\uc815\\ubc95\\ub960\\uc548\",\"  \\uc0ac\\ub9bd\\ud559\\uad50\\ubc95 \\uc77c\\ubd80\\uac1c\\uc815\\ubc95\\ub960\\uc548\",\"  \\uace0\\ub4f1\\uad50\\uc721\\ubc95 \\uc77c\\ubd80\\uac1c\\uc815\\ubc95\\ub960\\uc548\",\"  \\uc9c0\\ubc29\\uad50\\uc721\\uc790\\uce58\\uc5d0 \\uad00\\ud55c \\ubc95\\ub960 \\uc77c\\ubd80\\uac1c\\uc815\\ubc95\\ub960\\uc548\",\"  \\uadfc\\ub85c\\uae30\\uc900\\ubc95 \\uc77c\\ubd80\\uac1c\\uc815\\ubc95\\ub960\\uc548\",\"  \\ud55c\\uad6d\\uc0b0\\uc5c5\\uc740\\ud589\\ubc95 \\uc77c\\ubd80\\uac1c\\uc815\\ubc95\\ub960\\uc548\",\"  \\uc218\\uc0b0\\ubb3c \\uc720\\ud1b5\\uc758 \\uad00\\ub9ac \\ubc0f \\uc9c0\\uc6d0\\uc5d0 \\uad00\\ud55c \\ubc95\\ub960 \\uc77c\\ubd80\\uac1c\\uc815\\ubc95\\ub960\\uc548\",\"  \\uc218\\uc0b0\\ubb3c \\uc720\\ud1b5\\uc758 \\uad00\\ub9ac \\ubc0f \\uc9c0\\uc6d0\\uc5d0 \\uad00\\ud55c \\ubc95\\ub960 \\uc77c\\ubd80\\uac1c\\uc815\\ubc95\\ub960\\uc548\",\"  \\uadfc\\ub85c\\ubcf5\\uc9c0\\uae30\\ubcf8\\ubc95 \\uc77c\\ubd80\\uac1c\\uc815\\ubc95\\ub960\\uc548\",\"  \\uadfc\\ub85c\\ubcf5\\uc9c0\\uae30\\ubcf8\\ubc95 \\uc77c\\ubd80\\uac1c\\uc815\\ubc95\\ub960\\uc548\",\"  \\uace0\\uc6a9\\ubcf4\\ud5d8\\ubc95 \\uc77c\\ubd80\\uac1c\\uc815\\ubc95\\ub960\\uc548\",\"  \\uc870\\uc138\\ud2b9\\ub840\\uc81c\\ud55c\\ubc95 \\uc77c\\ubd80\\uac1c\\uc815\\ubc95\\ub960\\uc548\",\"  \\uac10\\uc5fc\\ubcd1\\uc758 \\uc608\\ubc29 \\ubc0f \\uad00\\ub9ac\\uc5d0 \\uad00\\ud55c \\ubc95\\ub960 \\uc77c\\ubd80\\uac1c\\uc815\\ubc95\\ub960\\uc548\",\"  \\uace0\\uc6a9\\ubcf4\\ud5d8\\ubc95 \\uc77c\\ubd80\\uac1c\\uc815\\ubc95\\ub960\\uc548\",\"  \\uc870\\uc138\\ud2b9\\ub840\\uc81c\\ud55c\\ubc95 \\uc77c\\ubd80\\uac1c\\uc815\\ubc95\\ub960\\uc548\",\"  \\uac10\\uc5fc\\ubcd1\\uc758 \\uc608\\ubc29 \\ubc0f \\uad00\\ub9ac\\uc5d0 \\uad00\\ud55c \\ubc95\\ub960 \\uc77c\\ubd80\\uac1c\\uc815\\ubc95\\ub960\\uc548\",\"  \\uac10\\uc5fc\\ubcd1\\uc758 \\uc608\\ubc29 \\ubc0f \\uad00\\ub9ac\\uc5d0 \\uad00\\ud55c \\ubc95\\ub960 \\uc77c\\ubd80\\uac1c\\uc815\\ubc95\\ub960\\uc548\",\"  \\uc9c0\\ubc29\\uc7ac\\uc815\\ubc95 \\uc77c\\ubd80\\uac1c\\uc815\\ubc95\\ub960\\uc548\",\"  \\uac10\\uc5fc\\ubcd1\\uc758 \\uc608\\ubc29 \\ubc0f \\uad00\\ub9ac\\uc5d0 \\uad00\\ud55c \\ubc95\\ub960 \\uc77c\\ubd80\\uac1c\\uc815\\ubc95\\ub960\\uc548\",\"  \\uac10\\uc5fc\\ubcd1\\uc758 \\uc608\\ubc29 \\ubc0f \\uad00\\ub9ac\\uc5d0 \\uad00\\ud55c \\ubc95\\ub960 \\uc77c\\ubd80\\uac1c\\uc815\\ubc95\\ub960\\uc548\",\"  \\uad6d\\uac00\\ud68c\\uacc4\\ubc95 \\uc77c\\ubd80\\uac1c\\uc815\\ubc95\\ub960\\uc548\",\"  \\uc9c0\\ubc29\\uc790\\uce58\\ub2e8\\uccb4 \\uae30\\uae08\\uad00\\ub9ac\\uae30\\ubcf8\\ubc95 \\uc77c\\ubd80\\uac1c\\uc815\\ubc95\\ub960\\uc548\",\"  \\uad6d\\uac00\\uc7ac\\uc815\\ubc95 \\uc77c\\ubd80\\uac1c\\uc815\\ubc95\\ub960\\uc548\",\"  \\ud55c\\uad6d\\ubc29\\uc1a1\\ud1b5\\uc2e0\\ub300\\ud559\\uad50 \\uc124\\ub9bd\\u318d\\uc6b4\\uc601\\uc5d0 \\uad00\\ud55c \\ubc95\\ub960\\uc548\",\"  \\uc9c0\\ubc29\\ud68c\\uacc4\\ubc95 \\uc77c\\ubd80\\uac1c\\uc815\\ubc95\\ub960\\uc548\",\"  \\uc758\\ub8cc\\ubc95 \\uc77c\\ubd80\\uac1c\\uc815\\ubc95\\ub960\\uc548\",\"  \\uac10\\uc5fc\\ubcd1\\uc758 \\uc608\\ubc29 \\ubc0f \\uad00\\ub9ac\\uc5d0 \\uad00\\ud55c \\ubc95\\ub960 \\uc77c\\ubd80\\uac1c\\uc815\\ubc95\\ub960\\uc548\",\"  \\uad6d\\uac00\\ud68c\\uacc4\\ubc95 \\uc77c\\ubd80\\uac1c\\uc815\\ubc95\\ub960\\uc548\",\"  \\uc9c0\\ubc29\\uc790\\uce58\\ub2e8\\uccb4 \\uae30\\uae08\\uad00\\ub9ac\\uae30\\ubcf8\\ubc95 \\uc77c\\ubd80\\uac1c\\uc815\\ubc95\\ub960\\uc548\",\"  \\ud55c\\uad6d\\ubc29\\uc1a1\\ud1b5\\uc2e0\\ub300\\ud559\\uad50 \\uc124\\ub9bd\\u318d\\uc6b4\\uc601\\uc5d0 \\uad00\\ud55c \\ubc95\\ub960\\uc548\",\"  \\uc9c0\\ubc29\\uc7ac\\uc815\\ubc95 \\uc77c\\ubd80\\uac1c\\uc815\\ubc95\\ub960\\uc548\",\"  \\uc9c0\\ubc29\\ud68c\\uacc4\\ubc95 \\uc77c\\ubd80\\uac1c\\uc815\\ubc95\\ub960\\uc548\",\"  \\uad6d\\uac00\\uc7ac\\uc815\\ubc95 \\uc77c\\ubd80\\uac1c\\uc815\\ubc95\\ub960\\uc548\",\"  \\uc9c0\\uc5ed\\uc758\\uc0ac \\uc591\\uc131\\uc744 \\uc704\\ud55c \\ubc95\\ub960\\uc548\",\"  \\uc778\\ucc9c\\uad6d\\uc81c\\uacf5\\ud56d\\uacf5\\uc0ac\\ubc95 \\uc77c\\ubd80\\uac1c\\uc815\\ubc95\\ub960\\uc548\",\"  \\uc9c0\\ubc29\\uc138\\ud2b9\\ub840\\uc81c\\ud55c\\ubc95 \\uc77c\\ubd80\\uac1c\\uc815\\ubc95\\ub960\\uc548\",\"  \\uacf5\\uacf5\\uc8fc\\ud0dd \\ud2b9\\ubcc4\\ubc95 \\uc77c\\ubd80\\uac1c\\uc815\\ubc95\\ub960\\uc548\",\"  \\uc870\\uc138\\ud2b9\\ub840\\uc81c\\ud55c\\ubc95 \\uc77c\\ubd80\\uac1c\\uc815\\ubc95\\ub960\\uc548\",\"  \\uc778\\ucc9c\\uad6d\\uc81c\\uacf5\\ud56d\\uacf5\\uc0ac\\ubc95 \\uc77c\\ubd80\\uac1c\\uc815\\ubc95\\ub960\\uc548\",\"  \\uc9c0\\ubc29\\uc138\\ud2b9\\ub840\\uc81c\\ud55c\\ubc95 \\uc77c\\ubd80\\uac1c\\uc815\\ubc95\\ub960\\uc548\",\"  \\uacf5\\uacf5\\uc8fc\\ud0dd \\ud2b9\\ubcc4\\ubc95 \\uc77c\\ubd80\\uac1c\\uc815\\ubc95\\ub960\\uc548\",\"  \\uc870\\uc138\\ud2b9\\ub840\\uc81c\\ud55c\\ubc95 \\uc77c\\ubd80\\uac1c\\uc815\\ubc95\\ub960\\uc548\",\"  \\uc9c0\\ubc29\\uc138\\ud2b9\\ub840\\uc81c\\ud55c\\ubc95 \\uc77c\\ubd80\\uac1c\\uc815\\ubc95\\ub960\\uc548\",\"  \\uc9c0\\ubc29\\uc138\\ud2b9\\ub840\\uc81c\\ud55c\\ubc95 \\uc77c\\ubd80\\uac1c\\uc815\\ubc95\\ub960\\uc548\",\"  \\uc870\\uc138\\ud2b9\\ub840\\uc81c\\ud55c\\ubc95 \\uc77c\\ubd80\\uac1c\\uc815\\ubc95\\ub960\\uc548\",\"  \\uc870\\uc138\\ud2b9\\ub840\\uc81c\\ud55c\\ubc95 \\uc77c\\ubd80\\uac1c\\uc815\\ubc95\\ub960\\uc548\",\"  \\uad6d\\uac00\\uc7ac\\uc815\\ubc95 \\uc77c\\ubd80\\uac1c\\uc815\\ubc95\\ub960\\uc548\",\"  \\uc9c0\\ubc29\\uc758\\ub8cc\\uc6d0\\uc758 \\uc124\\ub9bd \\ubc0f \\uc6b4\\uc601\\uc5d0 \\uad00\\ud55c \\ubc95\\ub960 \\uc77c\\ubd80\\uac1c\\uc815\\ubc95\\ub960\\uc548\",\"  \\uad6d\\uc720\\uc7ac\\uc0b0\\ud2b9\\ub840\\uc81c\\ud55c\\ubc95 \\uc77c\\ubd80\\uac1c\\uc815\\ubc95\\ub960\\uc548\",\"  \\uc9c0\\ubc29\\uc138\\ud2b9\\ub840\\uc81c\\ud55c\\ubc95 \\uc77c\\ubd80\\uac1c\\uc815\\ubc95\\ub960\\uc548\",\"  \\uc870\\uc138\\ud2b9\\ub840\\uc81c\\ud55c\\ubc95 \\uc77c\\ubd80\\uac1c\\uc815\\ubc95\\ub960\\uc548\",\"  \\uc870\\uc138\\ud2b9\\ub840\\uc81c\\ud55c\\ubc95 \\uc77c\\ubd80\\uac1c\\uc815\\ubc95\\ub960\\uc548\",\"  \\uc9c0\\ubc29\\uc138\\ud2b9\\ub840\\uc81c\\ud55c\\ubc95 \\uc77c\\ubd80\\uac1c\\uc815\\ubc95\\ub960\\uc548\",\"  \\uad6d\\uac00\\uc7ac\\uc815\\ubc95 \\uc77c\\ubd80\\uac1c\\uc815\\ubc95\\ub960\\uc548\",\"  \\uc9c0\\ubc29\\uc758\\ub8cc\\uc6d0\\uc758 \\uc124\\ub9bd \\ubc0f \\uc6b4\\uc601\\uc5d0 \\uad00\\ud55c \\ubc95\\ub960 \\uc77c\\ubd80\\uac1c\\uc815\\ubc95\\ub960\\uc548\",\"  \\uad6d\\uc720\\uc7ac\\uc0b0\\ud2b9\\ub840\\uc81c\\ud55c\\ubc95 \\uc77c\\ubd80\\uac1c\\uc815\\ubc95\\ub960\\uc548\",\"  \\uac77\\uae30\\uc5ec\\ud589\\uae38\\uc758 \\uc870\\uc131\\u00b7\\uad00\\ub9ac \\ubc0f \\uc774\\uc6a9\\ucd09\\uc9c4\\uc5d0 \\uad00\\ud55c \\ubc95\\ub960\\uc548\",\"  \\uac77\\uae30\\uc5ec\\ud589\\uae38\\uc758 \\uc870\\uc131\\u00b7\\uad00\\ub9ac \\ubc0f \\uc774\\uc6a9\\ucd09\\uc9c4\\uc5d0 \\uad00\\ud55c \\ubc95\\ub960\\uc548\",\"  \\ubd80\\uac00\\uac00\\uce58\\uc138\\ubc95 \\uc77c\\ubd80\\uac1c\\uc815\\ubc95\\ub960\\uc548\",\"  \\ubc29\\uc1a1\\ubc95 \\uc77c\\ubd80\\uac1c\\uc815\\ubc95\\ub960\\uc548\",\"  \\ucd08\\u00b7\\uc911\\ub4f1\\uad50\\uc721\\ubc95 \\uc77c\\ubd80\\uac1c\\uc815\\ubc95\\ub960\\uc548\",\"  \\ub0a8\\ub140\\uace0\\uc6a9\\ud3c9\\ub4f1\\uacfc \\uc77c\\u00b7\\uac00\\uc815 \\uc591\\ub9bd \\uc9c0\\uc6d0\\uc5d0 \\uad00\\ud55c \\ubc95\\ub960 \\uc77c\\ubd80\\uac1c\\uc815\\ubc95\\ub960\\uc548\",\"  \\ucd08\\u00b7\\uc911\\ub4f1\\uad50\\uc721\\ubc95 \\uc77c\\ubd80\\uac1c\\uc815\\ubc95\\ub960\\uc548\",\"  \\ub0a8\\ub140\\uace0\\uc6a9\\ud3c9\\ub4f1\\uacfc \\uc77c\\u00b7\\uac00\\uc815 \\uc591\\ub9bd \\uc9c0\\uc6d0\\uc5d0 \\uad00\\ud55c \\ubc95\\ub960 \\uc77c\\ubd80\\uac1c\\uc815\\ubc95\\ub960\\uc548\",\"  \\ubd80\\uac00\\uac00\\uce58\\uc138\\ubc95 \\uc77c\\ubd80\\uac1c\\uc815\\ubc95\\ub960\\uc548\",\"  \\ubc29\\uc1a1\\ubc95 \\uc77c\\ubd80\\uac1c\\uc815\\ubc95\\ub960\\uc548\",\"  \\uac10\\uc5fc\\ubcd1\\uc758 \\uc608\\ubc29 \\ubc0f \\uad00\\ub9ac\\uc5d0 \\uad00\\ud55c \\ubc95\\ub960 \\uc77c\\ubd80\\uac1c\\uc815\\ubc95\\ub960\\uc548\",\"  \\uac10\\uc5fc\\ubcd1\\uc758 \\uc608\\ubc29 \\ubc0f \\uad00\\ub9ac\\uc5d0 \\uad00\\ud55c \\ubc95\\ub960 \\uc77c\\ubd80\\uac1c\\uc815\\ubc95\\ub960\\uc548\",\"  \\uc0c1\\ubc95 \\uc77c\\ubd80\\uac1c\\uc815\\ubc95\\ub960\\uc548\",\"  \\uc544\\ub3d9\\ud559\\ub300\\ubc94\\uc8c4\\uc758 \\ucc98\\ubc8c \\ub4f1\\uc5d0 \\uad00\\ud55c \\ud2b9\\ub840\\ubc95 \\uc77c\\ubd80\\uac1c\\uc815\\ubc95\\ub960\\uc548\",\"  \\uc7a5\\uc560\\uc778\\uace0\\uc6a9\\ucd09\\uc9c4 \\ubc0f \\uc9c1\\uc5c5\\uc7ac\\ud65c\\ubc95 \\uc77c\\ubd80\\uac1c\\uc815\\ubc95\\ub960\\uc548\",\"  \\ud55c\\uad6d\\uad50\\uc721\\ubc29\\uc1a1\\uacf5\\uc0ac\\ubc95 \\uc77c\\ubd80\\uac1c\\uc815\\ubc95\\ub960\\uc548\",\"  \\ub300\\ubd80\\uc5c5 \\ub4f1\\uc758 \\ub4f1\\ub85d \\ubc0f \\uae08\\uc735\\uc774\\uc6a9\\uc790 \\ubcf4\\ud638\\uc5d0 \\uad00\\ud55c \\ubc95\\ub960 \\uc77c\\ubd80\\uac1c\\uc815\\ubc95\\ub960\\uc548\",\"  \\uacfc\\ud559\\uae30\\uc220\\ubd84\\uc57c \\uc815\\ubd80\\ucd9c\\uc5f0\\uc5f0\\uad6c\\uae30\\uad00 \\ub4f1\\uc758 \\uc124\\ub9bd\\u00b7\\uc6b4\\uc601 \\ubc0f \\uc721\\uc131\\uc5d0 \\uad00\\ud55c \\ubc95\\ub960 \\uc77c\\ubd80\\uac1c\\uc815\\ubc95\\ub960\\uc548\",\"  \\uc870\\uc138\\ud2b9\\ub840\\uc81c\\ud55c\\ubc95 \\uc77c\\ubd80\\uac1c\\uc815\\ubc95\\ub960\\uc548\",\"  \\ud574\\uc678\\uc9c4\\ucd9c\\uae30\\uc5c5\\uc758 \\uad6d\\ub0b4\\ubcf5\\uadc0 \\uc9c0\\uc6d0\\uc5d0 \\uad00\\ud55c \\ubc95\\ub960 \\uc77c\\ubd80\\uac1c\\uc815\\ubc95\\ub960\\uc548\",\"  \\uc774\\uc790\\uc81c\\ud55c\\ubc95 \\uc77c\\ubd80\\uac1c\\uc815\\ubc95\\ub960\\uc548\",\"  \\uc7a5\\uc560\\uc778\\uace0\\uc6a9\\ucd09\\uc9c4 \\ubc0f \\uc9c1\\uc5c5\\uc7ac\\ud65c\\ubc95 \\uc77c\\ubd80\\uac1c\\uc815\\ubc95\\ub960\\uc548\",\"  \\ud55c\\uad6d\\uad50\\uc721\\ubc29\\uc1a1\\uacf5\\uc0ac\\ubc95 \\uc77c\\ubd80\\uac1c\\uc815\\ubc95\\ub960\\uc548\",\"  \\uc544\\ub3d9\\ud559\\ub300\\ubc94\\uc8c4\\uc758 \\ucc98\\ubc8c \\ub4f1\\uc5d0 \\uad00\\ud55c \\ud2b9\\ub840\\ubc95 \\uc77c\\ubd80\\uac1c\\uc815\\ubc95\\ub960\\uc548\",\"  \\uc870\\uc138\\ud2b9\\ub840\\uc81c\\ud55c\\ubc95 \\uc77c\\ubd80\\uac1c\\uc815\\ubc95\\ub960\\uc548\",\"  \\uc0c1\\ubc95 \\uc77c\\ubd80\\uac1c\\uc815\\ubc95\\ub960\\uc548\",\"  \\ud574\\uc678\\uc9c4\\ucd9c\\uae30\\uc5c5\\uc758 \\uad6d\\ub0b4\\ubcf5\\uadc0 \\uc9c0\\uc6d0\\uc5d0 \\uad00\\ud55c \\ubc95\\ub960 \\uc77c\\ubd80\\uac1c\\uc815\\ubc95\\ub960\\uc548\",\"  \\uacfc\\ud559\\uae30\\uc220\\ubd84\\uc57c \\uc815\\ubd80\\ucd9c\\uc5f0\\uc5f0\\uad6c\\uae30\\uad00 \\ub4f1\\uc758 \\uc124\\ub9bd\\u00b7\\uc6b4\\uc601 \\ubc0f \\uc721\\uc131\\uc5d0 \\uad00\\ud55c \\ubc95\\ub960 \\uc77c\\ubd80\\uac1c\\uc815\\ubc95\\ub960\\uc548\",\"  \\ub300\\ubd80\\uc5c5 \\ub4f1\\uc758 \\ub4f1\\ub85d \\ubc0f \\uae08\\uc735\\uc774\\uc6a9\\uc790 \\ubcf4\\ud638\\uc5d0 \\uad00\\ud55c \\ubc95\\ub960 \\uc77c\\ubd80\\uac1c\\uc815\\ubc95\\ub960\\uc548\",\"  \\uc774\\uc790\\uc81c\\ud55c\\ubc95 \\uc77c\\ubd80\\uac1c\\uc815\\ubc95\\ub960\\uc548\",\"  \\ucd08\\u00b7\\uc911\\ub4f1\\uad50\\uc721\\ubc95 \\uc77c\\ubd80\\uac1c\\uc815\\ubc95\\ub960\\uc548\",\"  \\uc0b0\\uc5c5\\uc7ac\\ud574\\ubcf4\\uc0c1\\ubcf4\\ud5d8\\ubc95 \\uc77c\\ubd80\\uac1c\\uc815\\ubc95\\ub960\\uc548\",\"  \\uc9c0\\ubc29\\uc138\\ud2b9\\ub840\\uc81c\\ud55c\\ubc95 \\uc77c\\ubd80\\uac1c\\uc815\\ubc95\\ub960\\uc548\",\"  \\uc870\\uc138\\ud2b9\\ub840\\uc81c\\ud55c\\ubc95 \\uc77c\\ubd80\\uac1c\\uc815\\ubc95\\ub960\\uc548\",\"  \\uc778\\ucc9c\\uad6d\\uc81c\\uacf5\\ud56d\\uacf5\\uc0ac\\ubc95 \\uc77c\\ubd80\\uac1c\\uc815\\ubc95\\ub960\\uc548\",\"  \\ube44\\ub300\\uba74\\uc911\\uc18c\\ubca4\\ucc98\\uae30\\uc5c5 \\uc721\\uc131\\uc5d0 \\uad00\\ud55c \\ubc95\\ub960\\uc548\",\"  \\uc9c0\\ubc29\\uc138\\ud2b9\\ub840\\uc81c\\ud55c\\ubc95 \\uc77c\\ubd80\\uac1c\\uc815\\ubc95\\ub960\\uc548\",\"  \\uc870\\uc138\\ud2b9\\ub840\\uc81c\\ud55c\\ubc95 \\uc77c\\ubd80\\uac1c\\uc815\\ubc95\\ub960\\uc548\",\"  \\uc778\\ucc9c\\uad6d\\uc81c\\uacf5\\ud56d\\uacf5\\uc0ac\\ubc95 \\uc77c\\ubd80\\uac1c\\uc815\\ubc95\\ub960\\uc548\",\"  \\ucd08\\u00b7\\uc911\\ub4f1\\uad50\\uc721\\ubc95 \\uc77c\\ubd80\\uac1c\\uc815\\ubc95\\ub960\\uc548\",\"  \\ube44\\ub300\\uba74\\uc911\\uc18c\\ubca4\\ucc98\\uae30\\uc5c5 \\uc721\\uc131\\uc5d0 \\uad00\\ud55c \\ubc95\\ub960\\uc548\",\"  \\uc0b0\\uc5c5\\uc7ac\\ud574\\ubcf4\\uc0c1\\ubcf4\\ud5d8\\ubc95 \\uc77c\\ubd80\\uac1c\\uc815\\ubc95\\ub960\\uc548\",\"  \\ub0a8\\ub140\\uace0\\uc6a9\\ud3c9\\ub4f1\\uacfc \\uc77c\\u00b7\\uac00\\uc815 \\uc591\\ub9bd \\uc9c0\\uc6d0\\uc5d0 \\uad00\\ud55c \\ubc95\\ub960 \\uc77c\\ubd80\\uac1c\\uc815\\ubc95\\ub960\\uc548\",\"  \\ubd80\\uac00\\uac00\\uce58\\uc138\\ubc95 \\uc77c\\ubd80\\uac1c\\uc815\\ubc95\\ub960\\uc548\",\"  \\uc870\\uc138\\ud2b9\\ub840\\uc81c\\ud55c\\ubc95 \\uc77c\\ubd80\\uac1c\\uc815\\ubc95\\ub960\\uc548\",\"  \\ubd80\\uac00\\uac00\\uce58\\uc138\\ubc95 \\uc77c\\ubd80\\uac1c\\uc815\\ubc95\\ub960\\uc548\",\"  \\ub0a8\\ub140\\uace0\\uc6a9\\ud3c9\\ub4f1\\uacfc \\uc77c\\u00b7\\uac00\\uc815 \\uc591\\ub9bd \\uc9c0\\uc6d0\\uc5d0 \\uad00\\ud55c \\ubc95\\ub960 \\uc77c\\ubd80\\uac1c\\uc815\\ubc95\\ub960\\uc548\",\"  \\uc870\\uc138\\ud2b9\\ub840\\uc81c\\ud55c\\ubc95 \\uc77c\\ubd80\\uac1c\\uc815\\ubc95\\ub960\\uc548\",\"  \\ubc29\\uc1a1\\ubc95 \\uc77c\\ubd80\\uac1c\\uc815\\ubc95\\ub960\\uc548\",\"  \\uac10\\uc5fc\\ubcd1\\uc758 \\uc608\\ubc29 \\ubc0f \\uad00\\ub9ac\\uc5d0 \\uad00\\ud55c \\ubc95\\ub960 \\uc77c\\ubd80\\uac1c\\uc815\\ubc95\\ub960\\uc548\",\"  \\uac10\\uc5fc\\ubcd1\\uc758 \\uc608\\ubc29 \\ubc0f \\uad00\\ub9ac\\uc5d0 \\uad00\\ud55c \\ubc95\\ub960 \\uc77c\\ubd80\\uac1c\\uc815\\ubc95\\ub960\\uc548\",\"  \\ubc29\\uc1a1\\ubc95 \\uc77c\\ubd80\\uac1c\\uc815\\ubc95\\ub960\\uc548\",\"  \\uac10\\uc5fc\\ubcd1\\uc758 \\uc608\\ubc29 \\ubc0f \\uad00\\ub9ac\\uc5d0 \\uad00\\ud55c \\ubc95\\ub960 \\uc77c\\ubd80\\uac1c\\uc815\\ubc95\\ub960\\uc548\",\"  \\uac10\\uc5fc\\ubcd1\\uc758 \\uc608\\ubc29 \\ubc0f \\uad00\\ub9ac\\uc5d0 \\uad00\\ud55c \\ubc95\\ub960 \\uc77c\\ubd80\\uac1c\\uc815\\ubc95\\ub960\\uc548\",\"  \\uc778\\ucc9c\\uad6d\\uc81c\\uacf5\\ud56d\\uacf5\\uc0ac\\ubc95 \\uc77c\\ubd80\\uac1c\\uc815\\ubc95\\ub960\\uc548\",\"  \\uc778\\ucc9c\\uad6d\\uc81c\\uacf5\\ud56d\\uacf5\\uc0ac\\ubc95 \\uc77c\\ubd80\\uac1c\\uc815\\ubc95\\ub960\\uc548\",\"  \\ubd80\\uac00\\uac00\\uce58\\uc138\\ubc95 \\uc77c\\ubd80\\uac1c\\uc815\\ubc95\\ub960\\uc548\",\"  \\ubd80\\uac00\\uac00\\uce58\\uc138\\ubc95 \\uc77c\\ubd80\\uac1c\\uc815\\ubc95\\ub960\\uc548\",\"  \\uc9c0\\ubc29\\uc138\\ud2b9\\ub840\\uc81c\\ud55c\\ubc95 \\uc77c\\ubd80\\uac1c\\uc815\\ubc95\\ub960\\uc548\",\"  \\uc9c0\\ubc29\\uc138\\ud2b9\\ub840\\uc81c\\ud55c\\ubc95 \\uc77c\\ubd80\\uac1c\\uc815\\ubc95\\ub960\\uc548\",\"  \\uc7a5\\uc560\\uc778\\ucc28\\ubcc4\\uae08\\uc9c0 \\ubc0f \\uad8c\\ub9ac\\uad6c\\uc81c \\ub4f1\\uc5d0 \\uad00\\ud55c \\ubc95\\ub960 \\uc77c\\ubd80\\uac1c\\uc815\\ubc95\\ub960\\uc548\",\"  \\uc720\\ud1b5\\uc0b0\\uc5c5\\ubc1c\\uc804\\ubc95 \\uc77c\\ubd80\\uac1c\\uc815\\ubc95\\ub960\\uc548\",\"  \\uc7a5\\uc560\\uc778\\ucc28\\ubcc4\\uae08\\uc9c0 \\ubc0f \\uad8c\\ub9ac\\uad6c\\uc81c \\ub4f1\\uc5d0 \\uad00\\ud55c \\ubc95\\ub960 \\uc77c\\ubd80\\uac1c\\uc815\\ubc95\\ub960\\uc548\",\"  \\uc720\\ud1b5\\uc0b0\\uc5c5\\ubc1c\\uc804\\ubc95 \\uc77c\\ubd80\\uac1c\\uc815\\ubc95\\ub960\\uc548\",\"  \\uc7ac\\ub09c \\ubc0f \\uc548\\uc804\\uad00\\ub9ac \\uae30\\ubcf8\\ubc95 \\uc77c\\ubd80\\uac1c\\uc815\\ubc95\\ub960\\uc548\",\"  \\uc870\\uc138\\ud2b9\\ub840\\uc81c\\ud55c\\ubc95 \\uc77c\\ubd80\\uac1c\\uc815\\ubc95\\ub960\\uc548\",\"  \\uc0dd\\ud65c\\uccb4\\uc721\\uc9c4\\ud765\\ubc95 \\uc77c\\ubd80\\uac1c\\uc815\\ubc95\\ub960\\uc548\",\"  \\ud559\\uad50\\uccb4\\uc721 \\uc9c4\\ud765\\ubc95 \\uc77c\\ubd80\\uac1c\\uc815\\ubc95\\ub960\\uc548\",\"  \\uc528\\ub984 \\uc9c4\\ud765\\ubc95 \\uc77c\\ubd80\\uac1c\\uc815\\ubc95\\ub960\\uc548\",\"  \\uad00\\uad11\\uae30\\ubcf8\\ubc95 \\uc77c\\ubd80\\uac1c\\uc815\\ubc95\\ub960\\uc548\",\"  \\uc9c0\\ubc29\\uc7ac\\uc815\\ubc95 \\uc77c\\ubd80\\uac1c\\uc815\\ubc95\\ub960\\uc548\",\"  \\uace0\\ub4f1\\uad50\\uc721\\ubc95 \\uc77c\\ubd80\\uac1c\\uc815\\ubc95\\ub960\\uc548\",\"  \\uc790\\uc6d0\\uc758 \\uc808\\uc57d\\uacfc \\uc7ac\\ud65c\\uc6a9\\ucd09\\uc9c4\\uc5d0 \\uad00\\ud55c \\ubc95\\ub960 \\uc77c\\ubd80\\uac1c\\uc815\\ubc95\\ub960\\uc548\",\"  \\uc804\\ud1b5\\ubb34\\uc608\\uc9c4\\ud765\\ubc95 \\uc77c\\ubd80\\uac1c\\uc815\\ubc95\\ub960\\uc548\",\"  \\ud0dc\\uad8c\\ub3c4 \\uc9c4\\ud765 \\ubc0f \\ud0dc\\uad8c\\ub3c4\\uacf5\\uc6d0 \\uc870\\uc131 \\ub4f1\\uc5d0 \\uad00\\ud55c \\ubc95\\ub960 \\uc77c\\ubd80\\uac1c\\uc815\\ubc95\\ub960\\uc548\",\"  \\uc2a4\\ud3ec\\uce20\\uc0b0\\uc5c5 \\uc9c4\\ud765\\ubc95 \\uc77c\\ubd80\\uac1c\\uc815\\ubc95\\ub960\\uc548\",\"  \\uad6d\\uc81c\\ud68c\\uc758\\uc0b0\\uc5c5 \\uc721\\uc131\\uc5d0 \\uad00\\ud55c \\ubc95\\ub960 \\uc77c\\ubd80\\uac1c\\uc815\\ubc95\\ub960\\uc548\",\"  \\uccb4\\uc721\\uc2dc\\uc124\\uc758 \\uc124\\uce58\\u00b7\\uc774\\uc6a9\\uc5d0 \\uad00\\ud55c \\ubc95\\ub960 \\uc77c\\ubd80\\uac1c\\uc815\\ubc95\\ub960\\uc548\",\"  \\uac10\\uc5fc\\ubcd1\\uc758 \\uc608\\ubc29 \\ubc0f \\uad00\\ub9ac\\uc5d0 \\uad00\\ud55c \\ubc95\\ub960 \\uc77c\\ubd80\\uac1c\\uc815\\ubc95\\ub960\\uc548\",\"  \\uace0\\ub4f1\\uad50\\uc721\\ubc95 \\uc77c\\ubd80\\uac1c\\uc815\\ubc95\\ub960\\uc548\",\"  \\uc9c0\\ubc29\\uc7ac\\uc815\\ubc95 \\uc77c\\ubd80\\uac1c\\uc815\\ubc95\\ub960\\uc548\",\"  \\uc870\\uc138\\ud2b9\\ub840\\uc81c\\ud55c\\ubc95 \\uc77c\\ubd80\\uac1c\\uc815\\ubc95\\ub960\\uc548\",\"  \\uc7ac\\ub09c \\ubc0f \\uc548\\uc804\\uad00\\ub9ac \\uae30\\ubcf8\\ubc95 \\uc77c\\ubd80\\uac1c\\uc815\\ubc95\\ub960\\uc548\",\"  \\uad00\\uad11\\uae30\\ubcf8\\ubc95 \\uc77c\\ubd80\\uac1c\\uc815\\ubc95\\ub960\\uc548\",\"  \\uc528\\ub984 \\uc9c4\\ud765\\ubc95 \\uc77c\\ubd80\\uac1c\\uc815\\ubc95\\ub960\\uc548\",\"  \\uc0dd\\ud65c\\uccb4\\uc721\\uc9c4\\ud765\\ubc95 \\uc77c\\ubd80\\uac1c\\uc815\\ubc95\\ub960\\uc548\",\"  \\ud559\\uad50\\uccb4\\uc721 \\uc9c4\\ud765\\ubc95 \\uc77c\\ubd80\\uac1c\\uc815\\ubc95\\ub960\\uc548\",\"  \\uc790\\uc6d0\\uc758 \\uc808\\uc57d\\uacfc \\uc7ac\\ud65c\\uc6a9\\ucd09\\uc9c4\\uc5d0 \\uad00\\ud55c \\ubc95\\ub960 \\uc77c\\ubd80\\uac1c\\uc815\\ubc95\\ub960\\uc548\",\"  \\uccb4\\uc721\\uc2dc\\uc124\\uc758 \\uc124\\uce58\\u00b7\\uc774\\uc6a9\\uc5d0 \\uad00\\ud55c \\ubc95\\ub960 \\uc77c\\ubd80\\uac1c\\uc815\\ubc95\\ub960\\uc548\",\"  \\uac10\\uc5fc\\ubcd1\\uc758 \\uc608\\ubc29 \\ubc0f \\uad00\\ub9ac\\uc5d0 \\uad00\\ud55c \\ubc95\\ub960 \\uc77c\\ubd80\\uac1c\\uc815\\ubc95\\ub960\\uc548\",\"  \\uc804\\ud1b5\\ubb34\\uc608\\uc9c4\\ud765\\ubc95 \\uc77c\\ubd80\\uac1c\\uc815\\ubc95\\ub960\\uc548\",\"  \\ud0dc\\uad8c\\ub3c4 \\uc9c4\\ud765 \\ubc0f \\ud0dc\\uad8c\\ub3c4\\uacf5\\uc6d0 \\uc870\\uc131 \\ub4f1\\uc5d0 \\uad00\\ud55c \\ubc95\\ub960 \\uc77c\\ubd80\\uac1c\\uc815\\ubc95\\ub960\\uc548\",\"  \\uc2a4\\ud3ec\\uce20\\uc0b0\\uc5c5 \\uc9c4\\ud765\\ubc95 \\uc77c\\ubd80\\uac1c\\uc815\\ubc95\\ub960\\uc548\",\"  \\uad6d\\uc81c\\ud68c\\uc758\\uc0b0\\uc5c5 \\uc721\\uc131\\uc5d0 \\uad00\\ud55c \\ubc95\\ub960 \\uc77c\\ubd80\\uac1c\\uc815\\ubc95\\ub960\\uc548\",\"  \\ud3d0\\uae30\\ubb3c\\uad00\\ub9ac\\ubc95 \\uc77c\\ubd80\\uac1c\\uc815\\ubc95\\ub960\\uc548\",\"  \\uc18c\\uc0c1\\uacf5\\uc778 \\ubcf4\\ud638 \\ubc0f \\uc9c0\\uc6d0\\uc5d0 \\uad00\\ud55c \\ubc95\\ub960 \\uc77c\\ubd80\\uac1c\\uc815\\ubc95\\ub960\\uc548\",\"  \\uac10\\uc5fc\\ubcd1\\uc758 \\uc608\\ubc29 \\ubc0f \\uad00\\ub9ac\\uc5d0 \\uad00\\ud55c \\ubc95\\ub960 \\uc77c\\ubd80\\uac1c\\uc815\\ubc95\\ub960\\uc548\",\"  \\uc804\\uae30\\uc0ac\\uc5c5\\ubc95 \\uc77c\\ubd80\\uac1c\\uc815\\ubc95\\ub960\\uc548\",\"  \\uac10\\uc5fc\\ubcd1\\uc758 \\uc608\\ubc29 \\ubc0f \\uad00\\ub9ac\\uc5d0 \\uad00\\ud55c \\ubc95\\ub960 \\uc77c\\ubd80\\uac1c\\uc815\\ubc95\\ub960\\uc548\",\"  \\uac10\\uc5fc\\ubcd1\\uc758 \\uc608\\ubc29 \\ubc0f \\uad00\\ub9ac\\uc5d0 \\uad00\\ud55c \\ubc95\\ub960 \\uc77c\\ubd80\\uac1c\\uc815\\ubc95\\ub960\\uc548\",\"  \\ud3d0\\uae30\\ubb3c\\uad00\\ub9ac\\ubc95 \\uc77c\\ubd80\\uac1c\\uc815\\ubc95\\ub960\\uc548\",\"  \\uc18c\\uc0c1\\uacf5\\uc778 \\ubcf4\\ud638 \\ubc0f \\uc9c0\\uc6d0\\uc5d0 \\uad00\\ud55c \\ubc95\\ub960 \\uc77c\\ubd80\\uac1c\\uc815\\ubc95\\ub960\\uc548\",\"  \\uc804\\uae30\\uc0ac\\uc5c5\\ubc95 \\uc77c\\ubd80\\uac1c\\uc815\\ubc95\\ub960\\uc548\",\"  \\uac10\\uc5fc\\ubcd1\\uc758 \\uc608\\ubc29 \\ubc0f \\uad00\\ub9ac\\uc5d0 \\uad00\\ud55c \\ubc95\\ub960 \\uc77c\\ubd80\\uac1c\\uc815\\ubc95\\ub960\\uc548\"],\"BillNo\":[2024549,2024556,2024555,2024582,2024584,2024596,2024597,2024612,2024611,2024626,2024634,2024650,2024654,2024655,2024788,2024787,2024789,2024804,2024805,2024803,2024811,2024814,2024816,2024821,2024828,2024831,2024832,2024833,2024851,2024863,2024871,2024872,2024873,2100038,2100048,2100049,2100033,2100002,2100004,2100005,2100006,2100007,2100009,2100010,2100011,2100116,2100119,2100087,2100160,2100166,2100170,2100171,2100173,2100174,2100229,2100225,2100208,2100191,2100198,2100194,2100200,2100270,2100281,2100250,2100253,2100306,2100286,2100327,2100324,2100317,2100318,2100319,2100316,2100376,2100387,2100396,2100386,2100372,2100356,2100367,2100364,2100359,2100449,2100403,2100423,2100417,2100480,2100484,2100564,2100566,2100559,2100512,2100508,2100499,2100534,2100620,2100621,2100671,2100679,2100686,2100659,2100633,2100641,2100653,2100657,2100744,2100710,2100709,2100708,2100714,2100716,2100715,2100741,2100717,2100841,2100844,2100830,2100827,2100808,2100809,2100906,2100861,2100880,2100860,2100873,2100879,2100973,2100977,2100979,2101072,2101039,2101051,2101151,2101155,2101215,2101204,2101206,2101205,2101234,2101170,2101273,2101253,2101265,2101352,2101332,2101298,2101306,2101310,2101427,2101431,2101433,2101449,2101446,2101439,2101381,2101383,2101385,2101471,2101470,2101467,2101493,2101581,2101587,2101598,2101543,2101544,2101569,2101565,2101659,2101663,2101672,2101666,2101665,2101636,2101629,2101690,2101684,2101678,2101697,2101793,2101789,2101799,2101801,2101778,2101781,2101856,2101857,2101866,2101860,2101871,2101817,2101841,2101838,2101832,2101831,2101948,2101935,2101889,2101997,2101994,2102000,2102002,2102011,2102012,2101958,2101964,2101980,2101978,2101977,2101981,2102042,2102023,2102025,2102109,2102093,2102113,2102089,2102079,2102114,2102143,2102145,2102150,2102195,2102163,2102177,2102184,2102262,2102261,2102260,2102259,2102262,2102261,2102259,2102260,2102239,2102272,2102272,2102323,2102323,2102381,2102348,2102358,2102381,2102348,2102358,2102402,2102421,2102402,2102410,2102415,2102416,2102417,2102418,2102422,2102391,2102410,2102415,2102416,2102418,2102421,2102422,2102417,2102390,2102441,2102437,2102431,2102430,2102441,2102437,2102431,2102430,2102494,2102496,2102497,2102498,2102467,2102470,2102471,2102496,2102497,2102498,2102494,2102467,2102470,2102471,2102501,2102501,2102603,2102549,2102592,2102580,2102592,2102580,2102603,2102549,2102648,2102648,2102656,2102680,2102676,2102686,2102689,2102662,2102669,2102670,2102690,2102676,2102686,2102680,2102669,2102656,2102670,2102662,2102689,2102690,2102716,2102709,2102698,2102699,2102702,2102711,2102698,2102699,2102702,2102716,2102711,2102709,2102813,2102805,2102778,2102805,2102813,2102778,2102840,2102845,2102845,2102840,2102875,2102875,2102946,2102946,2102981,2102981,2103034,2103034,2103051,2103062,2103051,2103062,2103104,2103103,2103122,2103123,2103124,2103125,2103101,2103100,2103098,2103092,2103093,2103094,2103095,2103097,2103086,2103100,2103101,2103103,2103104,2103125,2103124,2103122,2103123,2103098,2103097,2103086,2103092,2103093,2103094,2103095,2103145,2103127,2103136,2103135,2103154,2103154,2103145,2103127,2103135,2103136],\"cluster_no\":[2,2,2,2,2,2,2,2,2,2,2,2,2,0,0,2,2,0,0,0,0,0,2,2,2,2,2,2,0,2,0,0,0,2,2,0,2,2,2,2,2,2,2,2,0,2,2,2,2,2,2,2,2,2,2,2,2,0,2,2,2,0,0,0,0,2,2,0,2,2,0,2,2,2,2,2,2,2,0,2,0,0,2,2,2,2,2,2,2,2,2,0,2,2,2,2,2,2,2,2,2,2,2,2,2,0,2,2,2,0,0,0,2,2,2,2,0,2,0,2,2,0,0,0,2,0,2,2,2,2,2,0,2,2,2,2,2,2,0,2,2,2,2,2,2,2,2,2,2,0,2,0,2,0,2,2,0,2,2,2,2,0,2,2,2,2,2,2,2,2,2,2,2,0,0,0,2,2,2,2,2,2,2,2,0,0,0,2,2,0,2,2,2,2,2,2,0,2,2,2,2,2,0,2,0,0,2,2,2,2,0,0,0,0,0,2,2,2,2,0,0,2,0,0,2,2,2,2,2,2,2,2,2,2,2,2,2,2,2,2,2,2,2,2,2,2,1,2,2,1,1,1,2,1,2,2,1,1,2,1,1,1,2,2,0,2,0,2,0,2,0,0,2,2,0,2,2,2,2,2,0,0,2,2,2,2,2,0,2,2,2,2,2,0,2,2,2,2,2,2,2,2,2,0,2,2,2,2,2,0,2,2,2,2,2,2,2,0,0,2,2,0,0,2,2,2,2,2,0,0,0,2,0,2,2,2,2,2,2,2,2,0,0,0,0,2,2,2,2,2,2,2,2,2,2,1,2,2,2,2,2,2,2,2,2,1,2,2,2,2,2,2,2,2,2,2,2,2,2,2,2,2,0,2,2,2,2,0,2],\"color\":[\"#fc8d59\",\"#fc8d59\",\"#fc8d59\",\"#fc8d59\",\"#fc8d59\",\"#fc8d59\",\"#fc8d59\",\"#fc8d59\",\"#fc8d59\",\"#fc8d59\",\"#fc8d59\",\"#fc8d59\",\"#fc8d59\",\"#99d594\",\"#99d594\",\"#fc8d59\",\"#fc8d59\",\"#99d594\",\"#99d594\",\"#99d594\",\"#99d594\",\"#99d594\",\"#fc8d59\",\"#fc8d59\",\"#fc8d59\",\"#fc8d59\",\"#fc8d59\",\"#fc8d59\",\"#99d594\",\"#fc8d59\",\"#99d594\",\"#99d594\",\"#99d594\",\"#fc8d59\",\"#fc8d59\",\"#99d594\",\"#fc8d59\",\"#fc8d59\",\"#fc8d59\",\"#fc8d59\",\"#fc8d59\",\"#fc8d59\",\"#fc8d59\",\"#fc8d59\",\"#99d594\",\"#fc8d59\",\"#fc8d59\",\"#fc8d59\",\"#fc8d59\",\"#fc8d59\",\"#fc8d59\",\"#fc8d59\",\"#fc8d59\",\"#fc8d59\",\"#fc8d59\",\"#fc8d59\",\"#fc8d59\",\"#99d594\",\"#fc8d59\",\"#fc8d59\",\"#fc8d59\",\"#99d594\",\"#99d594\",\"#99d594\",\"#99d594\",\"#fc8d59\",\"#fc8d59\",\"#99d594\",\"#fc8d59\",\"#fc8d59\",\"#99d594\",\"#fc8d59\",\"#fc8d59\",\"#fc8d59\",\"#fc8d59\",\"#fc8d59\",\"#fc8d59\",\"#fc8d59\",\"#99d594\",\"#fc8d59\",\"#99d594\",\"#99d594\",\"#fc8d59\",\"#fc8d59\",\"#fc8d59\",\"#fc8d59\",\"#fc8d59\",\"#fc8d59\",\"#fc8d59\",\"#fc8d59\",\"#fc8d59\",\"#99d594\",\"#fc8d59\",\"#fc8d59\",\"#fc8d59\",\"#fc8d59\",\"#fc8d59\",\"#fc8d59\",\"#fc8d59\",\"#fc8d59\",\"#fc8d59\",\"#fc8d59\",\"#fc8d59\",\"#fc8d59\",\"#fc8d59\",\"#99d594\",\"#fc8d59\",\"#fc8d59\",\"#fc8d59\",\"#99d594\",\"#99d594\",\"#99d594\",\"#fc8d59\",\"#fc8d59\",\"#fc8d59\",\"#fc8d59\",\"#99d594\",\"#fc8d59\",\"#99d594\",\"#fc8d59\",\"#fc8d59\",\"#99d594\",\"#99d594\",\"#99d594\",\"#fc8d59\",\"#99d594\",\"#fc8d59\",\"#fc8d59\",\"#fc8d59\",\"#fc8d59\",\"#fc8d59\",\"#99d594\",\"#fc8d59\",\"#fc8d59\",\"#fc8d59\",\"#fc8d59\",\"#fc8d59\",\"#fc8d59\",\"#99d594\",\"#fc8d59\",\"#fc8d59\",\"#fc8d59\",\"#fc8d59\",\"#fc8d59\",\"#fc8d59\",\"#fc8d59\",\"#fc8d59\",\"#fc8d59\",\"#fc8d59\",\"#99d594\",\"#fc8d59\",\"#99d594\",\"#fc8d59\",\"#99d594\",\"#fc8d59\",\"#fc8d59\",\"#99d594\",\"#fc8d59\",\"#fc8d59\",\"#fc8d59\",\"#fc8d59\",\"#99d594\",\"#fc8d59\",\"#fc8d59\",\"#fc8d59\",\"#fc8d59\",\"#fc8d59\",\"#fc8d59\",\"#fc8d59\",\"#fc8d59\",\"#fc8d59\",\"#fc8d59\",\"#fc8d59\",\"#99d594\",\"#99d594\",\"#99d594\",\"#fc8d59\",\"#fc8d59\",\"#fc8d59\",\"#fc8d59\",\"#fc8d59\",\"#fc8d59\",\"#fc8d59\",\"#fc8d59\",\"#99d594\",\"#99d594\",\"#99d594\",\"#fc8d59\",\"#fc8d59\",\"#99d594\",\"#fc8d59\",\"#fc8d59\",\"#fc8d59\",\"#fc8d59\",\"#fc8d59\",\"#fc8d59\",\"#99d594\",\"#fc8d59\",\"#fc8d59\",\"#fc8d59\",\"#fc8d59\",\"#fc8d59\",\"#99d594\",\"#fc8d59\",\"#99d594\",\"#99d594\",\"#fc8d59\",\"#fc8d59\",\"#fc8d59\",\"#fc8d59\",\"#99d594\",\"#99d594\",\"#99d594\",\"#99d594\",\"#99d594\",\"#fc8d59\",\"#fc8d59\",\"#fc8d59\",\"#fc8d59\",\"#99d594\",\"#99d594\",\"#fc8d59\",\"#99d594\",\"#99d594\",\"#fc8d59\",\"#fc8d59\",\"#fc8d59\",\"#fc8d59\",\"#fc8d59\",\"#fc8d59\",\"#fc8d59\",\"#fc8d59\",\"#fc8d59\",\"#fc8d59\",\"#fc8d59\",\"#fc8d59\",\"#fc8d59\",\"#fc8d59\",\"#fc8d59\",\"#fc8d59\",\"#fc8d59\",\"#fc8d59\",\"#fc8d59\",\"#fc8d59\",\"#fc8d59\",\"#fc8d59\",\"#ffffbf\",\"#fc8d59\",\"#fc8d59\",\"#ffffbf\",\"#ffffbf\",\"#ffffbf\",\"#fc8d59\",\"#ffffbf\",\"#fc8d59\",\"#fc8d59\",\"#ffffbf\",\"#ffffbf\",\"#fc8d59\",\"#ffffbf\",\"#ffffbf\",\"#ffffbf\",\"#fc8d59\",\"#fc8d59\",\"#99d594\",\"#fc8d59\",\"#99d594\",\"#fc8d59\",\"#99d594\",\"#fc8d59\",\"#99d594\",\"#99d594\",\"#fc8d59\",\"#fc8d59\",\"#99d594\",\"#fc8d59\",\"#fc8d59\",\"#fc8d59\",\"#fc8d59\",\"#fc8d59\",\"#99d594\",\"#99d594\",\"#fc8d59\",\"#fc8d59\",\"#fc8d59\",\"#fc8d59\",\"#fc8d59\",\"#99d594\",\"#fc8d59\",\"#fc8d59\",\"#fc8d59\",\"#fc8d59\",\"#fc8d59\",\"#99d594\",\"#fc8d59\",\"#fc8d59\",\"#fc8d59\",\"#fc8d59\",\"#fc8d59\",\"#fc8d59\",\"#fc8d59\",\"#fc8d59\",\"#fc8d59\",\"#99d594\",\"#fc8d59\",\"#fc8d59\",\"#fc8d59\",\"#fc8d59\",\"#fc8d59\",\"#99d594\",\"#fc8d59\",\"#fc8d59\",\"#fc8d59\",\"#fc8d59\",\"#fc8d59\",\"#fc8d59\",\"#fc8d59\",\"#99d594\",\"#99d594\",\"#fc8d59\",\"#fc8d59\",\"#99d594\",\"#99d594\",\"#fc8d59\",\"#fc8d59\",\"#fc8d59\",\"#fc8d59\",\"#fc8d59\",\"#99d594\",\"#99d594\",\"#99d594\",\"#fc8d59\",\"#99d594\",\"#fc8d59\",\"#fc8d59\",\"#fc8d59\",\"#fc8d59\",\"#fc8d59\",\"#fc8d59\",\"#fc8d59\",\"#fc8d59\",\"#99d594\",\"#99d594\",\"#99d594\",\"#99d594\",\"#fc8d59\",\"#fc8d59\",\"#fc8d59\",\"#fc8d59\",\"#fc8d59\",\"#fc8d59\",\"#fc8d59\",\"#fc8d59\",\"#fc8d59\",\"#fc8d59\",\"#ffffbf\",\"#fc8d59\",\"#fc8d59\",\"#fc8d59\",\"#fc8d59\",\"#fc8d59\",\"#fc8d59\",\"#fc8d59\",\"#fc8d59\",\"#fc8d59\",\"#ffffbf\",\"#fc8d59\",\"#fc8d59\",\"#fc8d59\",\"#fc8d59\",\"#fc8d59\",\"#fc8d59\",\"#fc8d59\",\"#fc8d59\",\"#fc8d59\",\"#fc8d59\",\"#fc8d59\",\"#fc8d59\",\"#fc8d59\",\"#fc8d59\",\"#fc8d59\",\"#fc8d59\",\"#99d594\",\"#fc8d59\",\"#fc8d59\",\"#fc8d59\",\"#fc8d59\",\"#99d594\",\"#fc8d59\"],\"x_coord\":[-6.049649715423584,4.36795711517334,-2.4154255390167236,-5.064430236816406,-9.23056697845459,-1.842342734336853,-5.918168067932129,-3.009331464767456,-2.2327957153320312,3.678804397583008,-3.907864570617676,2.770961284637451,0.6083364486694336,17.320669174194336,18.310470581054688,6.365820407867432,-0.6263183951377869,16.776641845703125,16.675735473632812,18.941762924194336,23.69147491455078,16.85963249206543,-2.673868417739868,1.703269600868225,9.445880889892578,-11.56096076965332,4.270055770874023,-3.5023281574249268,14.996428489685059,-9.146471977233887,19.12114143371582,19.763629913330078,15.905791282653809,-0.6836822032928467,-18.75822639465332,21.867874145507812,-3.890819787979126,-4.547455310821533,-6.907468795776367,-18.583345413208008,3.221414566040039,2.0248634815216064,-1.6275784969329834,2.1886322498321533,14.035292625427246,16.965303421020508,-15.402241706848145,-5.797753810882568,7.828303813934326,-5.385739803314209,-2.9648380279541016,15.224671363830566,21.13162612915039,20.988515853881836,2.386939525604248,-1.8351855278015137,2.7709107398986816,20.15936279296875,-7.629751205444336,4.466660499572754,-17.389131546020508,13.504816055297852,22.34267807006836,20.63278579711914,15.638895988464355,-2.611307382583618,-22.17857551574707,17.03227424621582,-1.980605959892273,4.217670440673828,11.906039237976074,12.09801197052002,11.583420753479004,-11.552728652954102,-21.94356918334961,0.08186959475278854,-3.590951442718506,11.84502124786377,7.80473518371582,5.403781890869141,23.17359161376953,7.006910800933838,-6.755351543426514,11.29313850402832,9.445857048034668,-8.11552619934082,11.386638641357422,-10.511868476867676,-2.9864325523376465,-6.50271463394165,-0.9536628127098083,12.64738941192627,-21.866226196289062,11.13837718963623,-20.2294921875,-2.526585817337036,-7.74509334564209,-7.442060470581055,1.8677419424057007,21.835662841796875,-9.064216613769531,-19.312665939331055,1.0545318126678467,0.9272276759147644,-1.3235576152801514,14.737619400024414,-19.356613159179688,-18.27219581604004,-18.830507278442383,24.8924503326416,7.823083877563477,8.263100624084473,-3.860441207885742,-1.8164408206939697,1.4911564588546753,4.7903594970703125,13.025192260742188,5.9233832359313965,21.261138916015625,-4.523088455200195,-1.9144058227539062,10.48275375366211,12.33985424041748,12.244301795959473,-6.203078746795654,9.373193740844727,-0.15050657093524933,0.7865508794784546,-3.4712507724761963,5.10414457321167,3.228893518447876,17.75336265563965,-14.33127212524414,-14.52258014678955,-9.193680763244629,-4.193057537078857,-5.336818218231201,-5.316915035247803,11.525589942932129,-0.897812008857727,-12.451545715332031,-2.2596728801727295,-21.12955665588379,2.506739377975464,-7.177122592926025,-2.2493886947631836,0.8767725229263306,-3.9836349487304688,3.5978074073791504,21.57823944091797,16.488300323486328,19.150663375854492,4.344581604003906,23.89594841003418,14.879281997680664,15.153709411621094,13.693144798278809,-10.62124252319336,-10.621269226074219,21.401073455810547,-7.471083164215088,15.92013931274414,-1.2218106985092163,-10.818286895751953,-10.874814987182617,-3.043698787689209,-3.0917000770568848,-8.56679916381836,-1.958769679069519,-7.111236572265625,-1.8287394046783447,-22.271011352539062,-21.75801658630371,8.814817428588867,21.432008743286133,22.403804779052734,-21.279848098754883,8.183995246887207,-4.97188663482666,-2.2966177463531494,8.06368637084961,-8.192212104797363,-4.364947319030762,-16.526220321655273,7.527404308319092,21.12672996520996,21.140087127685547,-5.071372032165527,16.366436004638672,22.09490966796875,5.477774620056152,-6.60192346572876,-5.301798343658447,-8.718633651733398,0.6015208959579468,4.277077674865723,12.407649040222168,1.8293590545654297,6.698824405670166,-0.12097615003585815,-7.8940887451171875,-0.39100968837738037,7.147216320037842,6.618004322052002,19.465974807739258,22.538253784179688,4.681717872619629,6.81189489364624,-19.123571395874023,5.057372570037842,11.214151382446289,21.53116798400879,9.225574493408203,10.541742324829102,11.164457321166992,-3.398948907852173,-9.02061939239502,-11.289834976196289,-1.5933226346969604,21.822160720825195,21.77532386779785,0.12451065331697464,9.8073148727417,13.010822296142578,3.0692620277404785,2.5526604652404785,-17.45032501220703,-19.3252010345459,-9.836714744567871,-15.565102577209473,-17.450714111328125,-19.660789489746094,-15.565030097961426,-9.833985328674316,6.778934478759766,2.274030923843384,2.2740814685821533,5.461078643798828,5.460957050323486,7.691972255706787,-10.097806930541992,-4.244284152984619,7.692013263702393,0.6610628962516785,-4.244717121124268,-10.123103141784668,-28.644046783447266,-10.123103141784668,1.298620581626892,-30.049715042114258,-28.858570098876953,-30.926300048828125,-7.360164642333984,-27.898181915283203,-19.921072006225586,1.7259124517440796,-29.9407901763916,-29.723854064941406,-7.360164642333984,-28.006006240844727,-29.75153350830078,-31.097806930541992,-18.79116439819336,15.902742385864258,19.637479782104492,13.959980964660645,11.051733016967773,17.225982666015625,19.637939453125,13.960076332092285,11.051612854003906,9.091670989990234,-20.37479019165039,-20.780858993530273,18.0328426361084,-3.938537120819092,-17.168107986450195,-16.698467254638672,-20.896638870239258,-21.46312713623047,18.032123565673828,9.091670989990234,-3.938537120819092,-17.167356491088867,-16.698461532592773,-5.224632263183594,-5.224835395812988,23.013614654541016,3.806676149368286,-0.3895905315876007,2.4500041007995605,-0.38959047198295593,2.4497556686401367,22.091548919677734,3.8069355487823486,-7.615800857543945,-7.616163730621338,3.6911346912384033,1.479180932044983,7.218240737915039,9.727341651916504,-19.890766143798828,-7.604854106903076,14.394787788391113,9.963937759399414,-20.58428955078125,7.218096733093262,9.727632522583008,1.4792314767837524,14.394649505615234,3.6912784576416016,9.96392822265625,-7.604878902435303,-20.359819412231445,-19.997705459594727,-11.240385055541992,-9.43547248840332,10.319355964660645,11.221129417419434,16.58401870727539,15.456244468688965,10.705120086669922,11.221129417419434,16.552356719970703,-11.240327835083008,15.45639419555664,-9.43547248840332,-7.221085548400879,24.253164291381836,9.011831283569336,23.415454864501953,-7.221085548400879,9.011831283569336,6.388542175292969,6.548192977905273,6.850028038024902,6.388473987579346,1.3919892311096191,0.8209583163261414,17.27082633972168,15.870780944824219,23.4147891998291,24.02790641784668,7.221325874328613,7.222119331359863,-2.2216954231262207,-1.646551251411438,-2.2217440605163574,-1.6465519666671753,-13.680333137512207,4.134576797485352,-16.495668411254883,-16.789337158203125,-15.932724952697754,-18.195032119750977,-28.752910614013672,-20.568172454833984,0.07034878432750702,-17.874719619750977,-17.613037109375,-19.39335823059082,-18.995561599731445,-14.972447395324707,-1.3811893463134766,-20.7730655670166,-29.06620979309082,4.134800910949707,-13.680415153503418,-18.681093215942383,-16.61404037475586,-16.56485366821289,-17.445293426513672,0.07014074176549911,-15.129597663879395,-1.3811893463134766,-17.493337631225586,-18.383453369140625,-19.793922424316406,-19.600797653198242,5.182496070861816,16.33550262451172,-9.458783149719238,9.848823547363281,-4.289693355560303,-4.289693355560303,5.182714462280273,16.33574867248535,9.84813404083252,-9.45870590209961],\"y_coord\":[-27.586233139038086,-21.910419464111328,-24.778215408325195,-18.7924861907959,-24.523900985717773,-28.220062255859375,-27.353435516357422,-9.655508995056152,-21.37999725341797,-18.04595375061035,-18.311365127563477,-12.748051643371582,-20.546552658081055,21.12221908569336,9.531867027282715,-19.02574920654297,-20.526636123657227,8.624048233032227,11.653768539428711,8.820974349975586,25.57347297668457,21.211910247802734,-20.178316116333008,-18.074148178100586,-6.13803768157959,-0.28915414214134216,7.503266334533691,-15.066081047058105,13.808764457702637,-18.16478157043457,20.945661544799805,25.155946731567383,13.606476783752441,-18.668424606323242,10.473101615905762,23.183570861816406,-14.28452205657959,-13.024910926818848,-22.789276123046875,-15.23621940612793,-7.4459710121154785,-8.456404685974121,-11.105369567871094,-15.992274284362793,16.585163116455078,4.159426212310791,12.124622344970703,-13.88690185546875,-4.360479831695557,-0.2226787507534027,-9.603196144104004,11.129870414733887,5.729186534881592,5.341407775878906,-1.1718441247940063,-28.228700637817383,-12.748224258422852,24.225542068481445,-0.8733541965484619,-14.93579387664795,14.071226119995117,14.481303215026855,24.678691864013672,26.766368865966797,11.84907341003418,-18.153696060180664,14.837350845336914,12.072620391845703,-5.391788005828857,-6.546927452087402,4.618490219116211,0.02449629083275795,4.522865295410156,-0.17154808342456818,-12.926068305969238,-12.619818687438965,-7.945399284362793,7.271000862121582,20.37929916381836,4.968633651733398,23.515737533569336,20.575664520263672,-17.156583786010742,-2.8453595638275146,-6.1380615234375,-9.50918960571289,9.624228477478027,4.409488677978516,-3.3728435039520264,5.980933666229248,-15.503643035888672,28.028913497924805,-13.794493675231934,11.185002326965332,-14.042320251464844,-17.059965133666992,-11.417611122131348,-4.774899482727051,-25.773733139038086,7.454982757568359,8.895788192749023,-13.742084503173828,0.35199058055877686,2.5814921855926514,-7.53865385055542,24.640216827392578,15.494573593139648,15.503829002380371,16.16323471069336,25.235363006591797,22.2586727142334,22.052165985107422,-20.996997833251953,-9.475981712341309,-0.4425446093082428,-2.967975378036499,27.25743865966797,2.266798496246338,28.11350440979004,-10.744053840637207,-2.5647573471069336,26.15810203552246,16.459110260009766,22.88666343688965,9.20118236541748,15.684415817260742,-5.244604587554932,9.676220893859863,1.8496161699295044,0.36548829078674316,2.4847230911254883,19.617172241210938,9.343446731567383,9.386969566345215,-7.517550945281982,-4.86218786239624,-6.613345623016357,-6.599591255187988,13.44494342803955,2.184630870819092,-7.893204689025879,-13.11058235168457,14.06867504119873,-2.704867362976074,8.642014503479004,0.8466911911964417,-18.11709976196289,-20.220455169677734,-1.785772442817688,24.096874237060547,4.782227039337158,23.793624877929688,-2.323361873626709,28.3045597076416,7.911093235015869,7.864387512207031,13.415193557739258,3.137192726135254,3.1374847888946533,8.168898582458496,5.495659828186035,15.14870834350586,-17.924894332885742,-6.240406036376953,-22.998111724853516,-19.22972869873047,-6.395167827606201,-9.141093254089355,-13.911871910095215,-9.701584815979004,-0.7713338136672974,13.1099853515625,12.836607933044434,0.38385263085365295,25.34432601928711,27.82526969909668,-14.402920722961426,-11.116135597229004,6.647186279296875,-11.247346878051758,6.951353549957275,-15.747819900512695,-19.401153564453125,13.929579734802246,9.230857849121094,20.273880004882812,20.14042854309082,-25.99942398071289,6.077888488769531,8.482333183288574,10.064352035522461,-22.167739868164062,-19.90398406982422,-21.65970802307129,-11.004858016967773,7.567986488342285,28.697328567504883,-26.63519287109375,3.5997605323791504,0.3717319667339325,-22.93927001953125,4.527705669403076,12.633269309997559,-3.4593639373779297,26.088382720947266,26.41523551940918,10.961281776428223,12.368712425231934,12.617650985717773,2.6228573322296143,13.339323997497559,26.4412784576416,13.552288055419922,23.250865936279297,6.959603309631348,0.7231782078742981,-23.802263259887695,-10.397061347961426,1.607583999633789,14.877469062805176,14.856048583984375,-1.248047947883606,15.78717041015625,24.745155334472656,-4.397537708282471,-10.641480445861816,-10.48782730102539,-12.459823608398438,7.480057716369629,-6.3686017990112305,-10.48783016204834,-12.108705520629883,-6.368561744689941,7.478481769561768,6.404364109039307,9.981576919555664,9.981313705444336,7.448235511779785,7.447879314422607,4.129106044769287,-18.182376861572266,-23.03738021850586,4.129087448120117,-25.969989776611328,-23.03725242614746,-21.5436954498291,16.829275131225586,-21.54369354248047,-20.367677688598633,15.01457691192627,15.84802532196045,16.177425384521484,-1.8205844163894653,15.969439506530762,14.147858619689941,-20.7357177734375,14.060580253601074,16.876192092895508,-1.8205844163894653,14.913695335388184,15.92966365814209,15.029794692993164,14.138422966003418,-5.3459792137146,10.330698013305664,0.7523289918899536,21.844846725463867,-4.59910774230957,10.329206466674805,0.7522994875907898,21.845050811767578,26.826913833618164,16.226806640625,17.028533935546875,17.69212532043457,3.558882713317871,11.844258308410645,-1.2097374200820923,15.717778205871582,16.54730224609375,17.692129135131836,26.826913833618164,3.558882713317871,11.844403266906738,-1.209736943244934,-1.570907711982727,-1.5706803798675537,28.998720169067383,4.071573734283447,-8.686826705932617,5.5610575675964355,-8.6868257522583,5.560865879058838,29.113697052001953,4.0717573165893555,-20.569364547729492,-20.570268630981445,0.9495790600776672,-6.0258049964904785,-1.0418736934661865,-15.244647979736328,12.165938377380371,-30.133926391601562,19.147640228271484,2.35058331489563,11.266319274902344,-1.0417842864990234,-15.245347023010254,-6.025737762451172,19.147708892822266,0.949316143989563,2.3506340980529785,-30.13392448425293,12.35584831237793,11.199641227722168,-8.535012245178223,10.623162269592285,28.229049682617188,27.297182083129883,-4.2510271072387695,-10.200699806213379,28.509904861450195,27.297182083129883,-5.674164772033691,-8.53493881225586,-10.201518058776855,10.623162269592285,9.582569122314453,26.918848037719727,20.453763961791992,26.928653717041016,9.582569122314453,20.453763961791992,-8.514531135559082,-18.57505226135254,-18.97744369506836,-8.514225006103516,-21.584638595581055,-21.494279861450195,-5.395119667053223,-4.556657314300537,24.705183029174805,24.3142147064209,24.0671443939209,24.06781578063965,12.430398941040039,7.4735107421875,12.430412292480469,7.473508834838867,-15.857552528381348,15.377828598022461,-35.52149963378906,-33.05839157104492,-34.13079833984375,-34.29816436767578,14.114591598510742,-13.213310241699219,-2.8264095783233643,-35.694156646728516,-37.03538131713867,-36.22534942626953,-33.41060256958008,-35.27766036987305,-22.78609848022461,-12.669726371765137,15.018445014953613,15.37872314453125,-15.857537269592285,-34.95647048950195,-34.34531784057617,-36.317047119140625,-33.134761810302734,-2.8263285160064697,-36.02347946166992,-22.78609848022461,-35.02181625366211,-36.72710037231445,-35.474830627441406,-34.0485725402832,-12.291653633117676,3.0321261882781982,-14.294904708862305,11.47248649597168,-16.915950775146484,-16.915950775146484,-12.292387008666992,3.0322160720825195,11.47380256652832,-14.294283866882324]},\"selected\":{\"id\":\"1395\",\"type\":\"Selection\"},\"selection_policy\":{\"id\":\"1394\",\"type\":\"UnionRenderers\"}},\"id\":\"1323\",\"type\":\"ColumnDataSource\"},{\"attributes\":{\"fill_alpha\":{\"value\":0.2},\"fill_color\":{\"field\":\"color\"},\"line_alpha\":{\"value\":0.3},\"line_color\":{\"field\":\"color\"},\"size\":{\"units\":\"screen\",\"value\":10},\"x\":{\"field\":\"x_coord\"},\"y\":{\"field\":\"y_coord\"}},\"id\":\"1361\",\"type\":\"Circle\"},{\"attributes\":{},\"id\":\"1349\",\"type\":\"ResetTool\"},{\"attributes\":{\"callback\":null,\"tooltips\":\"@BillName\"},\"id\":\"1358\",\"type\":\"HoverTool\"},{\"attributes\":{\"callback\":null},\"id\":\"1329\",\"type\":\"DataRange1d\"},{\"attributes\":{},\"id\":\"1350\",\"type\":\"HelpTool\"},{\"attributes\":{},\"id\":\"1333\",\"type\":\"LinearScale\"},{\"attributes\":{\"formatter\":{\"id\":\"1391\",\"type\":\"BasicTickFormatter\"},\"ticker\":{\"id\":\"1336\",\"type\":\"BasicTicker\"},\"visible\":false},\"id\":\"1335\",\"type\":\"LinearAxis\"},{\"attributes\":{},\"id\":\"1341\",\"type\":\"BasicTicker\"},{\"attributes\":{},\"id\":\"1395\",\"type\":\"Selection\"},{\"attributes\":{},\"id\":\"1336\",\"type\":\"BasicTicker\"},{\"attributes\":{\"grid_line_color\":null,\"ticker\":{\"id\":\"1336\",\"type\":\"BasicTicker\"}},\"id\":\"1339\",\"type\":\"Grid\"},{\"attributes\":{\"fill_alpha\":{\"value\":0.1},\"fill_color\":{\"value\":\"#1f77b4\"},\"line_alpha\":{\"value\":0.1},\"line_color\":{\"value\":\"#1f77b4\"},\"size\":{\"units\":\"screen\",\"value\":10},\"x\":{\"field\":\"x_coord\"},\"y\":{\"field\":\"y_coord\"}},\"id\":\"1362\",\"type\":\"Circle\"},{\"attributes\":{\"dimension\":1,\"grid_line_color\":null,\"ticker\":{\"id\":\"1341\",\"type\":\"BasicTicker\"}},\"id\":\"1344\",\"type\":\"Grid\"},{\"attributes\":{\"data_source\":{\"id\":\"1323\",\"type\":\"ColumnDataSource\"},\"glyph\":{\"id\":\"1361\",\"type\":\"Circle\"},\"hover_glyph\":null,\"muted_glyph\":null,\"nonselection_glyph\":{\"id\":\"1362\",\"type\":\"Circle\"},\"selection_glyph\":null,\"view\":{\"id\":\"1364\",\"type\":\"CDSView\"}},\"id\":\"1363\",\"type\":\"GlyphRenderer\"},{\"attributes\":{\"formatter\":{\"id\":\"1393\",\"type\":\"BasicTickFormatter\"},\"ticker\":{\"id\":\"1341\",\"type\":\"BasicTicker\"},\"visible\":false},\"id\":\"1340\",\"type\":\"LinearAxis\"},{\"attributes\":{\"source\":{\"id\":\"1323\",\"type\":\"ColumnDataSource\"}},\"id\":\"1364\",\"type\":\"CDSView\"},{\"attributes\":{},\"id\":\"1394\",\"type\":\"UnionRenderers\"},{\"attributes\":{\"text\":\"Bills about Covid19\",\"text_font_size\":{\"value\":\"16pt\"}},\"id\":\"1325\",\"type\":\"Title\"},{\"attributes\":{},\"id\":\"1393\",\"type\":\"BasicTickFormatter\"},{\"attributes\":{},\"id\":\"1391\",\"type\":\"BasicTickFormatter\"},{\"attributes\":{\"active_drag\":\"auto\",\"active_inspect\":\"auto\",\"active_multi\":null,\"active_scroll\":{\"id\":\"1346\",\"type\":\"WheelZoomTool\"},\"active_tap\":\"auto\",\"tools\":[{\"id\":\"1345\",\"type\":\"PanTool\"},{\"id\":\"1346\",\"type\":\"WheelZoomTool\"},{\"id\":\"1347\",\"type\":\"BoxZoomTool\"},{\"id\":\"1348\",\"type\":\"SaveTool\"},{\"id\":\"1349\",\"type\":\"ResetTool\"},{\"id\":\"1350\",\"type\":\"HelpTool\"},{\"id\":\"1358\",\"type\":\"HoverTool\"}]},\"id\":\"1351\",\"type\":\"Toolbar\"},{\"attributes\":{},\"id\":\"1345\",\"type\":\"PanTool\"},{\"attributes\":{\"bottom_units\":\"screen\",\"fill_alpha\":{\"value\":0.5},\"fill_color\":{\"value\":\"lightgrey\"},\"left_units\":\"screen\",\"level\":\"overlay\",\"line_alpha\":{\"value\":1.0},\"line_color\":{\"value\":\"black\"},\"line_dash\":[4,4],\"line_width\":{\"value\":2},\"render_mode\":\"css\",\"right_units\":\"screen\",\"top_units\":\"screen\"},\"id\":\"1396\",\"type\":\"BoxAnnotation\"},{\"attributes\":{},\"id\":\"1346\",\"type\":\"WheelZoomTool\"}],\"root_ids\":[\"1324\"]},\"title\":\"Bokeh Application\",\"version\":\"1.4.0\"}};\n",
       "  var render_items = [{\"docid\":\"d5a137cc-d379-4cc9-a450-a8bdd92ab217\",\"roots\":{\"1324\":\"5ec8d69e-1273-47da-bf53-cb476023473b\"}}];\n",
       "  root.Bokeh.embed.embed_items_notebook(docs_json, render_items);\n",
       "\n",
       "  }\n",
       "  if (root.Bokeh !== undefined) {\n",
       "    embed_document(root);\n",
       "  } else {\n",
       "    var attempts = 0;\n",
       "    var timer = setInterval(function(root) {\n",
       "      if (root.Bokeh !== undefined) {\n",
       "        clearInterval(timer);\n",
       "        embed_document(root);\n",
       "      } else {\n",
       "        attempts++;\n",
       "        if (attempts > 100) {\n",
       "          clearInterval(timer);\n",
       "          console.log(\"Bokeh: ERROR: Unable to run BokehJS code because BokehJS library is missing\");\n",
       "        }\n",
       "      }\n",
       "    }, 10, root)\n",
       "  }\n",
       "})(window);"
      ],
      "application/vnd.bokehjs_exec.v0+json": ""
     },
     "metadata": {
      "application/vnd.bokehjs_exec.v0+json": {
       "id": "1324"
      }
     },
     "output_type": "display_data"
    }
   ],
   "source": [
    "# 마우스 올렸을 때 보여줄 것\n",
    "\n",
    "tsne_plot.add_tools(\n",
    "    HoverTool(\n",
    "        tooltips= '@BillName'\n",
    "    )\n",
    ")\n",
    "\n",
    "# 데이터 정보 넣기\n",
    "\n",
    "tsne_plot.circle(\n",
    "    source=plot_data,\n",
    "    x='x_coord',\n",
    "    y='y_coord',\n",
    "    line_alpha=0.3, \n",
    "    fill_alpha=0.2,\n",
    "    size=10,\n",
    "    fill_color='color',\n",
    "    line_color='color',\n",
    ")\n",
    "\n",
    "# 선 지우기\n",
    "\n",
    "tsne_plot.title.text_font_size = value('16pt')\n",
    "tsne_plot.xaxis.visible = False\n",
    "tsne_plot.yaxis.visible = False\n",
    "tsne_plot.grid.grid_line_color = None\n",
    "tsne_plot.outline_line_color = None\n",
    "\n",
    "\n",
    "show(tsne_plot)"
   ]
  },
  {
   "cell_type": "code",
   "execution_count": null,
   "metadata": {
    "colab": {},
    "colab_type": "code",
    "id": "0Zsh4eDkV2Eo"
   },
   "outputs": [],
   "source": []
  },
  {
   "cell_type": "code",
   "execution_count": null,
   "metadata": {
    "colab": {},
    "colab_type": "code",
    "id": "xHwlKvA_V2HS"
   },
   "outputs": [],
   "source": []
  },
  {
   "cell_type": "markdown",
   "metadata": {
    "colab_type": "text",
    "id": "yGipOKnzU8wL"
   },
   "source": [
    "#### 군집 수 = 4일 때"
   ]
  },
  {
   "cell_type": "code",
   "execution_count": 85,
   "metadata": {
    "colab": {},
    "colab_type": "code",
    "id": "OtCZqz2FSjKh"
   },
   "outputs": [],
   "source": [
    "# K means 수행 \n",
    "\n",
    "word_vectors = covid.문장벡터.to_list()\n",
    "num_clusters = 4\n",
    "\n",
    "kmeans_clustering = KMeans(n_clusters = num_clusters)\n",
    "idx = kmeans_clustering.fit_predict(word_vectors)\n",
    "covid['category'] = idx"
   ]
  },
  {
   "cell_type": "code",
   "execution_count": 86,
   "metadata": {
    "colab": {},
    "colab_type": "code",
    "id": "HpzicwI-VciI"
   },
   "outputs": [
    {
     "data": {
      "text/plain": [
       "1    165\n",
       "2    143\n",
       "0     69\n",
       "3     12\n",
       "Name: category, dtype: int64"
      ]
     },
     "execution_count": 86,
     "metadata": {},
     "output_type": "execute_result"
    }
   ],
   "source": [
    "covid.category.value_counts()"
   ]
  },
  {
   "cell_type": "code",
   "execution_count": 87,
   "metadata": {},
   "outputs": [],
   "source": [
    "covid.to_csv('[코로나] 4cluster.csv', encoding='utf-8-sig')"
   ]
  },
  {
   "cell_type": "code",
   "execution_count": 88,
   "metadata": {},
   "outputs": [],
   "source": [
    "from sklearn.manifold import TSNE\n",
    "\n",
    "X = covid['문장벡터'].to_list()\n",
    "y = covid['category'].to_list()\n",
    "\n",
    "tsne = TSNE(random_state=42)\n",
    "tsne_points = tsne.fit_transform(X)\n",
    "\n",
    "tsne_df = pd.DataFrame(tsne_points, index=range(len(X)), columns=['x_coord', 'y_coord'])\n",
    "tsne_df['BillNo'] = covid['의안번호'].to_list()\n",
    "tsne_df['BillName'] = covid['의안명'].to_list()\n",
    "tsne_df['cluster_no'] = y"
   ]
  },
  {
   "cell_type": "code",
   "execution_count": 89,
   "metadata": {
    "colab": {},
    "colab_type": "code",
    "id": "WbbrWvI8VcuB"
   },
   "outputs": [
    {
     "data": {
      "text/html": [
       "<div>\n",
       "<style scoped>\n",
       "    .dataframe tbody tr th:only-of-type {\n",
       "        vertical-align: middle;\n",
       "    }\n",
       "\n",
       "    .dataframe tbody tr th {\n",
       "        vertical-align: top;\n",
       "    }\n",
       "\n",
       "    .dataframe thead th {\n",
       "        text-align: right;\n",
       "    }\n",
       "</style>\n",
       "<table border=\"1\" class=\"dataframe\">\n",
       "  <thead>\n",
       "    <tr style=\"text-align: right;\">\n",
       "      <th></th>\n",
       "      <th>x_coord</th>\n",
       "      <th>y_coord</th>\n",
       "      <th>BillNo</th>\n",
       "      <th>BillName</th>\n",
       "      <th>cluster_no</th>\n",
       "    </tr>\n",
       "  </thead>\n",
       "  <tbody>\n",
       "    <tr>\n",
       "      <th>0</th>\n",
       "      <td>-6.049650</td>\n",
       "      <td>-27.586233</td>\n",
       "      <td>2024549</td>\n",
       "      <td>감염병의 예방 및 관리에 관한 법률 일부개정법률안</td>\n",
       "      <td>2</td>\n",
       "    </tr>\n",
       "    <tr>\n",
       "      <th>1</th>\n",
       "      <td>4.367957</td>\n",
       "      <td>-21.910419</td>\n",
       "      <td>2024556</td>\n",
       "      <td>검역법 일부개정법률안</td>\n",
       "      <td>2</td>\n",
       "    </tr>\n",
       "    <tr>\n",
       "      <th>2</th>\n",
       "      <td>-2.415426</td>\n",
       "      <td>-24.778215</td>\n",
       "      <td>2024555</td>\n",
       "      <td>감염병의 예방 및 관리에 관한 법률 일부개정법률안</td>\n",
       "      <td>2</td>\n",
       "    </tr>\n",
       "    <tr>\n",
       "      <th>3</th>\n",
       "      <td>-5.064430</td>\n",
       "      <td>-18.792486</td>\n",
       "      <td>2024582</td>\n",
       "      <td>감염병의 예방 및 관리에 관한 법률 일부개정법률안</td>\n",
       "      <td>2</td>\n",
       "    </tr>\n",
       "    <tr>\n",
       "      <th>4</th>\n",
       "      <td>-9.230567</td>\n",
       "      <td>-24.523901</td>\n",
       "      <td>2024584</td>\n",
       "      <td>감염병의 예방 및 관리에 관한 법률 일부개정법률안</td>\n",
       "      <td>2</td>\n",
       "    </tr>\n",
       "  </tbody>\n",
       "</table>\n",
       "</div>"
      ],
      "text/plain": [
       "    x_coord    y_coord   BillNo                       BillName  cluster_no\n",
       "0 -6.049650 -27.586233  2024549    감염병의 예방 및 관리에 관한 법률 일부개정법률안           2\n",
       "1  4.367957 -21.910419  2024556                    검역법 일부개정법률안           2\n",
       "2 -2.415426 -24.778215  2024555    감염병의 예방 및 관리에 관한 법률 일부개정법률안           2\n",
       "3 -5.064430 -18.792486  2024582    감염병의 예방 및 관리에 관한 법률 일부개정법률안           2\n",
       "4 -9.230567 -24.523901  2024584    감염병의 예방 및 관리에 관한 법률 일부개정법률안           2"
      ]
     },
     "execution_count": 89,
     "metadata": {},
     "output_type": "execute_result"
    }
   ],
   "source": [
    "tsne_df.head()"
   ]
  },
  {
   "cell_type": "code",
   "execution_count": 90,
   "metadata": {
    "colab": {},
    "colab_type": "code",
    "id": "UDfRIKOyVcwT"
   },
   "outputs": [],
   "source": [
    "tsne_df.to_csv(\"[코로나] tsne_4clusters.csv\", encoding=\"utf-8-sig\")"
   ]
  },
  {
   "cell_type": "code",
   "execution_count": 91,
   "metadata": {
    "colab": {},
    "colab_type": "code",
    "id": "IYGkRwHNVoZ0"
   },
   "outputs": [
    {
     "data": {
      "text/html": [
       "\n",
       "    <div class=\"bk-root\">\n",
       "        <a href=\"https://bokeh.org\" target=\"_blank\" class=\"bk-logo bk-logo-small bk-logo-notebook\"></a>\n",
       "        <span id=\"1445\">Loading BokehJS ...</span>\n",
       "    </div>"
      ]
     },
     "metadata": {},
     "output_type": "display_data"
    },
    {
     "data": {
      "application/javascript": [
       "\n",
       "(function(root) {\n",
       "  function now() {\n",
       "    return new Date();\n",
       "  }\n",
       "\n",
       "  var force = true;\n",
       "\n",
       "  if (typeof root._bokeh_onload_callbacks === \"undefined\" || force === true) {\n",
       "    root._bokeh_onload_callbacks = [];\n",
       "    root._bokeh_is_loading = undefined;\n",
       "  }\n",
       "\n",
       "  var JS_MIME_TYPE = 'application/javascript';\n",
       "  var HTML_MIME_TYPE = 'text/html';\n",
       "  var EXEC_MIME_TYPE = 'application/vnd.bokehjs_exec.v0+json';\n",
       "  var CLASS_NAME = 'output_bokeh rendered_html';\n",
       "\n",
       "  /**\n",
       "   * Render data to the DOM node\n",
       "   */\n",
       "  function render(props, node) {\n",
       "    var script = document.createElement(\"script\");\n",
       "    node.appendChild(script);\n",
       "  }\n",
       "\n",
       "  /**\n",
       "   * Handle when an output is cleared or removed\n",
       "   */\n",
       "  function handleClearOutput(event, handle) {\n",
       "    var cell = handle.cell;\n",
       "\n",
       "    var id = cell.output_area._bokeh_element_id;\n",
       "    var server_id = cell.output_area._bokeh_server_id;\n",
       "    // Clean up Bokeh references\n",
       "    if (id != null && id in Bokeh.index) {\n",
       "      Bokeh.index[id].model.document.clear();\n",
       "      delete Bokeh.index[id];\n",
       "    }\n",
       "\n",
       "    if (server_id !== undefined) {\n",
       "      // Clean up Bokeh references\n",
       "      var cmd = \"from bokeh.io.state import curstate; print(curstate().uuid_to_server['\" + server_id + \"'].get_sessions()[0].document.roots[0]._id)\";\n",
       "      cell.notebook.kernel.execute(cmd, {\n",
       "        iopub: {\n",
       "          output: function(msg) {\n",
       "            var id = msg.content.text.trim();\n",
       "            if (id in Bokeh.index) {\n",
       "              Bokeh.index[id].model.document.clear();\n",
       "              delete Bokeh.index[id];\n",
       "            }\n",
       "          }\n",
       "        }\n",
       "      });\n",
       "      // Destroy server and session\n",
       "      var cmd = \"import bokeh.io.notebook as ion; ion.destroy_server('\" + server_id + \"')\";\n",
       "      cell.notebook.kernel.execute(cmd);\n",
       "    }\n",
       "  }\n",
       "\n",
       "  /**\n",
       "   * Handle when a new output is added\n",
       "   */\n",
       "  function handleAddOutput(event, handle) {\n",
       "    var output_area = handle.output_area;\n",
       "    var output = handle.output;\n",
       "\n",
       "    // limit handleAddOutput to display_data with EXEC_MIME_TYPE content only\n",
       "    if ((output.output_type != \"display_data\") || (!output.data.hasOwnProperty(EXEC_MIME_TYPE))) {\n",
       "      return\n",
       "    }\n",
       "\n",
       "    var toinsert = output_area.element.find(\".\" + CLASS_NAME.split(' ')[0]);\n",
       "\n",
       "    if (output.metadata[EXEC_MIME_TYPE][\"id\"] !== undefined) {\n",
       "      toinsert[toinsert.length - 1].firstChild.textContent = output.data[JS_MIME_TYPE];\n",
       "      // store reference to embed id on output_area\n",
       "      output_area._bokeh_element_id = output.metadata[EXEC_MIME_TYPE][\"id\"];\n",
       "    }\n",
       "    if (output.metadata[EXEC_MIME_TYPE][\"server_id\"] !== undefined) {\n",
       "      var bk_div = document.createElement(\"div\");\n",
       "      bk_div.innerHTML = output.data[HTML_MIME_TYPE];\n",
       "      var script_attrs = bk_div.children[0].attributes;\n",
       "      for (var i = 0; i < script_attrs.length; i++) {\n",
       "        toinsert[toinsert.length - 1].firstChild.setAttribute(script_attrs[i].name, script_attrs[i].value);\n",
       "      }\n",
       "      // store reference to server id on output_area\n",
       "      output_area._bokeh_server_id = output.metadata[EXEC_MIME_TYPE][\"server_id\"];\n",
       "    }\n",
       "  }\n",
       "\n",
       "  function register_renderer(events, OutputArea) {\n",
       "\n",
       "    function append_mime(data, metadata, element) {\n",
       "      // create a DOM node to render to\n",
       "      var toinsert = this.create_output_subarea(\n",
       "        metadata,\n",
       "        CLASS_NAME,\n",
       "        EXEC_MIME_TYPE\n",
       "      );\n",
       "      this.keyboard_manager.register_events(toinsert);\n",
       "      // Render to node\n",
       "      var props = {data: data, metadata: metadata[EXEC_MIME_TYPE]};\n",
       "      render(props, toinsert[toinsert.length - 1]);\n",
       "      element.append(toinsert);\n",
       "      return toinsert\n",
       "    }\n",
       "\n",
       "    /* Handle when an output is cleared or removed */\n",
       "    events.on('clear_output.CodeCell', handleClearOutput);\n",
       "    events.on('delete.Cell', handleClearOutput);\n",
       "\n",
       "    /* Handle when a new output is added */\n",
       "    events.on('output_added.OutputArea', handleAddOutput);\n",
       "\n",
       "    /**\n",
       "     * Register the mime type and append_mime function with output_area\n",
       "     */\n",
       "    OutputArea.prototype.register_mime_type(EXEC_MIME_TYPE, append_mime, {\n",
       "      /* Is output safe? */\n",
       "      safe: true,\n",
       "      /* Index of renderer in `output_area.display_order` */\n",
       "      index: 0\n",
       "    });\n",
       "  }\n",
       "\n",
       "  // register the mime type if in Jupyter Notebook environment and previously unregistered\n",
       "  if (root.Jupyter !== undefined) {\n",
       "    var events = require('base/js/events');\n",
       "    var OutputArea = require('notebook/js/outputarea').OutputArea;\n",
       "\n",
       "    if (OutputArea.prototype.mime_types().indexOf(EXEC_MIME_TYPE) == -1) {\n",
       "      register_renderer(events, OutputArea);\n",
       "    }\n",
       "  }\n",
       "\n",
       "  \n",
       "  if (typeof (root._bokeh_timeout) === \"undefined\" || force === true) {\n",
       "    root._bokeh_timeout = Date.now() + 5000;\n",
       "    root._bokeh_failed_load = false;\n",
       "  }\n",
       "\n",
       "  var NB_LOAD_WARNING = {'data': {'text/html':\n",
       "     \"<div style='background-color: #fdd'>\\n\"+\n",
       "     \"<p>\\n\"+\n",
       "     \"BokehJS does not appear to have successfully loaded. If loading BokehJS from CDN, this \\n\"+\n",
       "     \"may be due to a slow or bad network connection. Possible fixes:\\n\"+\n",
       "     \"</p>\\n\"+\n",
       "     \"<ul>\\n\"+\n",
       "     \"<li>re-rerun `output_notebook()` to attempt to load from CDN again, or</li>\\n\"+\n",
       "     \"<li>use INLINE resources instead, as so:</li>\\n\"+\n",
       "     \"</ul>\\n\"+\n",
       "     \"<code>\\n\"+\n",
       "     \"from bokeh.resources import INLINE\\n\"+\n",
       "     \"output_notebook(resources=INLINE)\\n\"+\n",
       "     \"</code>\\n\"+\n",
       "     \"</div>\"}};\n",
       "\n",
       "  function display_loaded() {\n",
       "    var el = document.getElementById(\"1445\");\n",
       "    if (el != null) {\n",
       "      el.textContent = \"BokehJS is loading...\";\n",
       "    }\n",
       "    if (root.Bokeh !== undefined) {\n",
       "      if (el != null) {\n",
       "        el.textContent = \"BokehJS \" + root.Bokeh.version + \" successfully loaded.\";\n",
       "      }\n",
       "    } else if (Date.now() < root._bokeh_timeout) {\n",
       "      setTimeout(display_loaded, 100)\n",
       "    }\n",
       "  }\n",
       "\n",
       "\n",
       "  function run_callbacks() {\n",
       "    try {\n",
       "      root._bokeh_onload_callbacks.forEach(function(callback) {\n",
       "        if (callback != null)\n",
       "          callback();\n",
       "      });\n",
       "    } finally {\n",
       "      delete root._bokeh_onload_callbacks\n",
       "    }\n",
       "    console.debug(\"Bokeh: all callbacks have finished\");\n",
       "  }\n",
       "\n",
       "  function load_libs(css_urls, js_urls, callback) {\n",
       "    if (css_urls == null) css_urls = [];\n",
       "    if (js_urls == null) js_urls = [];\n",
       "\n",
       "    root._bokeh_onload_callbacks.push(callback);\n",
       "    if (root._bokeh_is_loading > 0) {\n",
       "      console.debug(\"Bokeh: BokehJS is being loaded, scheduling callback at\", now());\n",
       "      return null;\n",
       "    }\n",
       "    if (js_urls == null || js_urls.length === 0) {\n",
       "      run_callbacks();\n",
       "      return null;\n",
       "    }\n",
       "    console.debug(\"Bokeh: BokehJS not loaded, scheduling load and callback at\", now());\n",
       "    root._bokeh_is_loading = css_urls.length + js_urls.length;\n",
       "\n",
       "    function on_load() {\n",
       "      root._bokeh_is_loading--;\n",
       "      if (root._bokeh_is_loading === 0) {\n",
       "        console.debug(\"Bokeh: all BokehJS libraries/stylesheets loaded\");\n",
       "        run_callbacks()\n",
       "      }\n",
       "    }\n",
       "\n",
       "    function on_error() {\n",
       "      console.error(\"failed to load \" + url);\n",
       "    }\n",
       "\n",
       "    for (var i = 0; i < css_urls.length; i++) {\n",
       "      var url = css_urls[i];\n",
       "      const element = document.createElement(\"link\");\n",
       "      element.onload = on_load;\n",
       "      element.onerror = on_error;\n",
       "      element.rel = \"stylesheet\";\n",
       "      element.type = \"text/css\";\n",
       "      element.href = url;\n",
       "      console.debug(\"Bokeh: injecting link tag for BokehJS stylesheet: \", url);\n",
       "      document.body.appendChild(element);\n",
       "    }\n",
       "\n",
       "    for (var i = 0; i < js_urls.length; i++) {\n",
       "      var url = js_urls[i];\n",
       "      var element = document.createElement('script');\n",
       "      element.onload = on_load;\n",
       "      element.onerror = on_error;\n",
       "      element.async = false;\n",
       "      element.src = url;\n",
       "      console.debug(\"Bokeh: injecting script tag for BokehJS library: \", url);\n",
       "      document.head.appendChild(element);\n",
       "    }\n",
       "  };var element = document.getElementById(\"1445\");\n",
       "  if (element == null) {\n",
       "    console.error(\"Bokeh: ERROR: autoload.js configured with elementid '1445' but no matching script tag was found. \")\n",
       "    return false;\n",
       "  }\n",
       "\n",
       "  function inject_raw_css(css) {\n",
       "    const element = document.createElement(\"style\");\n",
       "    element.appendChild(document.createTextNode(css));\n",
       "    document.body.appendChild(element);\n",
       "  }\n",
       "\n",
       "  \n",
       "  var js_urls = [\"https://cdn.pydata.org/bokeh/release/bokeh-1.4.0.min.js\", \"https://cdn.pydata.org/bokeh/release/bokeh-widgets-1.4.0.min.js\", \"https://cdn.pydata.org/bokeh/release/bokeh-tables-1.4.0.min.js\", \"https://cdn.pydata.org/bokeh/release/bokeh-gl-1.4.0.min.js\"];\n",
       "  var css_urls = [];\n",
       "  \n",
       "\n",
       "  var inline_js = [\n",
       "    function(Bokeh) {\n",
       "      Bokeh.set_log_level(\"info\");\n",
       "    },\n",
       "    function(Bokeh) {\n",
       "    \n",
       "    \n",
       "    }\n",
       "  ];\n",
       "\n",
       "  function run_inline_js() {\n",
       "    \n",
       "    if (root.Bokeh !== undefined || force === true) {\n",
       "      \n",
       "    for (var i = 0; i < inline_js.length; i++) {\n",
       "      inline_js[i].call(root, root.Bokeh);\n",
       "    }\n",
       "    if (force === true) {\n",
       "        display_loaded();\n",
       "      }} else if (Date.now() < root._bokeh_timeout) {\n",
       "      setTimeout(run_inline_js, 100);\n",
       "    } else if (!root._bokeh_failed_load) {\n",
       "      console.log(\"Bokeh: BokehJS failed to load within specified timeout.\");\n",
       "      root._bokeh_failed_load = true;\n",
       "    } else if (force !== true) {\n",
       "      var cell = $(document.getElementById(\"1445\")).parents('.cell').data().cell;\n",
       "      cell.output_area.append_execute_result(NB_LOAD_WARNING)\n",
       "    }\n",
       "\n",
       "  }\n",
       "\n",
       "  if (root._bokeh_is_loading === 0) {\n",
       "    console.debug(\"Bokeh: BokehJS loaded, going straight to plotting\");\n",
       "    run_inline_js();\n",
       "  } else {\n",
       "    load_libs(css_urls, js_urls, function() {\n",
       "      console.debug(\"Bokeh: BokehJS plotting callback run at\", now());\n",
       "      run_inline_js();\n",
       "    });\n",
       "  }\n",
       "}(window));"
      ],
      "application/vnd.bokehjs_load.v0+json": "\n(function(root) {\n  function now() {\n    return new Date();\n  }\n\n  var force = true;\n\n  if (typeof root._bokeh_onload_callbacks === \"undefined\" || force === true) {\n    root._bokeh_onload_callbacks = [];\n    root._bokeh_is_loading = undefined;\n  }\n\n  \n\n  \n  if (typeof (root._bokeh_timeout) === \"undefined\" || force === true) {\n    root._bokeh_timeout = Date.now() + 5000;\n    root._bokeh_failed_load = false;\n  }\n\n  var NB_LOAD_WARNING = {'data': {'text/html':\n     \"<div style='background-color: #fdd'>\\n\"+\n     \"<p>\\n\"+\n     \"BokehJS does not appear to have successfully loaded. If loading BokehJS from CDN, this \\n\"+\n     \"may be due to a slow or bad network connection. Possible fixes:\\n\"+\n     \"</p>\\n\"+\n     \"<ul>\\n\"+\n     \"<li>re-rerun `output_notebook()` to attempt to load from CDN again, or</li>\\n\"+\n     \"<li>use INLINE resources instead, as so:</li>\\n\"+\n     \"</ul>\\n\"+\n     \"<code>\\n\"+\n     \"from bokeh.resources import INLINE\\n\"+\n     \"output_notebook(resources=INLINE)\\n\"+\n     \"</code>\\n\"+\n     \"</div>\"}};\n\n  function display_loaded() {\n    var el = document.getElementById(\"1445\");\n    if (el != null) {\n      el.textContent = \"BokehJS is loading...\";\n    }\n    if (root.Bokeh !== undefined) {\n      if (el != null) {\n        el.textContent = \"BokehJS \" + root.Bokeh.version + \" successfully loaded.\";\n      }\n    } else if (Date.now() < root._bokeh_timeout) {\n      setTimeout(display_loaded, 100)\n    }\n  }\n\n\n  function run_callbacks() {\n    try {\n      root._bokeh_onload_callbacks.forEach(function(callback) {\n        if (callback != null)\n          callback();\n      });\n    } finally {\n      delete root._bokeh_onload_callbacks\n    }\n    console.debug(\"Bokeh: all callbacks have finished\");\n  }\n\n  function load_libs(css_urls, js_urls, callback) {\n    if (css_urls == null) css_urls = [];\n    if (js_urls == null) js_urls = [];\n\n    root._bokeh_onload_callbacks.push(callback);\n    if (root._bokeh_is_loading > 0) {\n      console.debug(\"Bokeh: BokehJS is being loaded, scheduling callback at\", now());\n      return null;\n    }\n    if (js_urls == null || js_urls.length === 0) {\n      run_callbacks();\n      return null;\n    }\n    console.debug(\"Bokeh: BokehJS not loaded, scheduling load and callback at\", now());\n    root._bokeh_is_loading = css_urls.length + js_urls.length;\n\n    function on_load() {\n      root._bokeh_is_loading--;\n      if (root._bokeh_is_loading === 0) {\n        console.debug(\"Bokeh: all BokehJS libraries/stylesheets loaded\");\n        run_callbacks()\n      }\n    }\n\n    function on_error() {\n      console.error(\"failed to load \" + url);\n    }\n\n    for (var i = 0; i < css_urls.length; i++) {\n      var url = css_urls[i];\n      const element = document.createElement(\"link\");\n      element.onload = on_load;\n      element.onerror = on_error;\n      element.rel = \"stylesheet\";\n      element.type = \"text/css\";\n      element.href = url;\n      console.debug(\"Bokeh: injecting link tag for BokehJS stylesheet: \", url);\n      document.body.appendChild(element);\n    }\n\n    for (var i = 0; i < js_urls.length; i++) {\n      var url = js_urls[i];\n      var element = document.createElement('script');\n      element.onload = on_load;\n      element.onerror = on_error;\n      element.async = false;\n      element.src = url;\n      console.debug(\"Bokeh: injecting script tag for BokehJS library: \", url);\n      document.head.appendChild(element);\n    }\n  };var element = document.getElementById(\"1445\");\n  if (element == null) {\n    console.error(\"Bokeh: ERROR: autoload.js configured with elementid '1445' but no matching script tag was found. \")\n    return false;\n  }\n\n  function inject_raw_css(css) {\n    const element = document.createElement(\"style\");\n    element.appendChild(document.createTextNode(css));\n    document.body.appendChild(element);\n  }\n\n  \n  var js_urls = [\"https://cdn.pydata.org/bokeh/release/bokeh-1.4.0.min.js\", \"https://cdn.pydata.org/bokeh/release/bokeh-widgets-1.4.0.min.js\", \"https://cdn.pydata.org/bokeh/release/bokeh-tables-1.4.0.min.js\", \"https://cdn.pydata.org/bokeh/release/bokeh-gl-1.4.0.min.js\"];\n  var css_urls = [];\n  \n\n  var inline_js = [\n    function(Bokeh) {\n      Bokeh.set_log_level(\"info\");\n    },\n    function(Bokeh) {\n    \n    \n    }\n  ];\n\n  function run_inline_js() {\n    \n    if (root.Bokeh !== undefined || force === true) {\n      \n    for (var i = 0; i < inline_js.length; i++) {\n      inline_js[i].call(root, root.Bokeh);\n    }\n    if (force === true) {\n        display_loaded();\n      }} else if (Date.now() < root._bokeh_timeout) {\n      setTimeout(run_inline_js, 100);\n    } else if (!root._bokeh_failed_load) {\n      console.log(\"Bokeh: BokehJS failed to load within specified timeout.\");\n      root._bokeh_failed_load = true;\n    } else if (force !== true) {\n      var cell = $(document.getElementById(\"1445\")).parents('.cell').data().cell;\n      cell.output_area.append_execute_result(NB_LOAD_WARNING)\n    }\n\n  }\n\n  if (root._bokeh_is_loading === 0) {\n    console.debug(\"Bokeh: BokehJS loaded, going straight to plotting\");\n    run_inline_js();\n  } else {\n    load_libs(css_urls, js_urls, function() {\n      console.debug(\"Bokeh: BokehJS plotting callback run at\", now());\n      run_inline_js();\n    });\n  }\n}(window));"
     },
     "metadata": {},
     "output_type": "display_data"
    }
   ],
   "source": [
    "from bokeh.plotting import figure, show, output_notebook\n",
    "from bokeh.models import HoverTool, ColumnDataSource, value\n",
    "from bokeh.palettes import brewer\n",
    "\n",
    "output_notebook()"
   ]
  },
  {
   "cell_type": "code",
   "execution_count": 92,
   "metadata": {
    "colab": {},
    "colab_type": "code",
    "id": "g47c9ir4VoeB"
   },
   "outputs": [],
   "source": [
    "# 색 정해주기\n",
    "\n",
    "colors = brewer[\"Spectral\"][len(tsne_df['cluster_no'].unique())]\n",
    "\n",
    "colormap = {i: colors[i] for i in tsne_df['cluster_no'].unique()}\n",
    "\n",
    "colors = [colormap[x] for x in tsne_df['cluster_no']]\n",
    "\n",
    "tsne_df['color'] = colors"
   ]
  },
  {
   "cell_type": "code",
   "execution_count": 93,
   "metadata": {
    "colab": {},
    "colab_type": "code",
    "id": "uPsCr_jaVoiH"
   },
   "outputs": [],
   "source": [
    "# Bokeh가 인식하는 DataSource 객체 만들어주기\n",
    "\n",
    "plot_data = ColumnDataSource(\n",
    "    data=tsne_df.to_dict(orient='list')\n",
    ")\n",
    "\n",
    "# Plot 만들기(배경)\n",
    "\n",
    "tsne_plot = figure(\n",
    "    title='Bills about Covid19',\n",
    "    plot_width = 650,\n",
    "    plot_height = 650,\n",
    "    active_scroll='wheel_zoom',\n",
    "    output_backend=\"webgl\", # GPU 가속\n",
    ")"
   ]
  },
  {
   "cell_type": "code",
   "execution_count": 94,
   "metadata": {
    "colab": {},
    "colab_type": "code",
    "id": "G3MC3ZbhVopV"
   },
   "outputs": [
    {
     "data": {
      "text/html": [
       "\n",
       "\n",
       "\n",
       "\n",
       "\n",
       "\n",
       "  <div class=\"bk-root\" id=\"f2c44a71-e419-4745-9aff-202c7ec00e2b\" data-root-id=\"1447\"></div>\n"
      ]
     },
     "metadata": {},
     "output_type": "display_data"
    },
    {
     "data": {
      "application/javascript": [
       "(function(root) {\n",
       "  function embed_document(root) {\n",
       "    \n",
       "  var docs_json = {\"2bde872e-a393-429e-a95b-67f4175ca7af\":{\"roots\":{\"references\":[{\"attributes\":{\"below\":[{\"id\":\"1458\",\"type\":\"LinearAxis\"}],\"center\":[{\"id\":\"1462\",\"type\":\"Grid\"},{\"id\":\"1467\",\"type\":\"Grid\"}],\"left\":[{\"id\":\"1463\",\"type\":\"LinearAxis\"}],\"outline_line_color\":{\"value\":null},\"output_backend\":\"webgl\",\"plot_height\":650,\"plot_width\":650,\"renderers\":[{\"id\":\"1486\",\"type\":\"GlyphRenderer\"}],\"title\":{\"id\":\"1448\",\"type\":\"Title\"},\"toolbar\":{\"id\":\"1474\",\"type\":\"Toolbar\"},\"x_range\":{\"id\":\"1450\",\"type\":\"DataRange1d\"},\"x_scale\":{\"id\":\"1454\",\"type\":\"LinearScale\"},\"y_range\":{\"id\":\"1452\",\"type\":\"DataRange1d\"},\"y_scale\":{\"id\":\"1456\",\"type\":\"LinearScale\"}},\"id\":\"1447\",\"subtype\":\"Figure\",\"type\":\"Plot\"},{\"attributes\":{},\"id\":\"1469\",\"type\":\"WheelZoomTool\"},{\"attributes\":{},\"id\":\"1526\",\"type\":\"Selection\"},{\"attributes\":{},\"id\":\"1471\",\"type\":\"SaveTool\"},{\"attributes\":{},\"id\":\"1472\",\"type\":\"ResetTool\"},{\"attributes\":{},\"id\":\"1454\",\"type\":\"LinearScale\"},{\"attributes\":{},\"id\":\"1473\",\"type\":\"HelpTool\"},{\"attributes\":{\"fill_alpha\":{\"value\":0.1},\"fill_color\":{\"value\":\"#1f77b4\"},\"line_alpha\":{\"value\":0.1},\"line_color\":{\"value\":\"#1f77b4\"},\"size\":{\"units\":\"screen\",\"value\":10},\"x\":{\"field\":\"x_coord\"},\"y\":{\"field\":\"y_coord\"}},\"id\":\"1485\",\"type\":\"Circle\"},{\"attributes\":{\"active_drag\":\"auto\",\"active_inspect\":\"auto\",\"active_multi\":null,\"active_scroll\":{\"id\":\"1469\",\"type\":\"WheelZoomTool\"},\"active_tap\":\"auto\",\"tools\":[{\"id\":\"1468\",\"type\":\"PanTool\"},{\"id\":\"1469\",\"type\":\"WheelZoomTool\"},{\"id\":\"1470\",\"type\":\"BoxZoomTool\"},{\"id\":\"1471\",\"type\":\"SaveTool\"},{\"id\":\"1472\",\"type\":\"ResetTool\"},{\"id\":\"1473\",\"type\":\"HelpTool\"},{\"id\":\"1481\",\"type\":\"HoverTool\"}]},\"id\":\"1474\",\"type\":\"Toolbar\"},{\"attributes\":{},\"id\":\"1468\",\"type\":\"PanTool\"},{\"attributes\":{\"overlay\":{\"id\":\"1527\",\"type\":\"BoxAnnotation\"}},\"id\":\"1470\",\"type\":\"BoxZoomTool\"},{\"attributes\":{\"formatter\":{\"id\":\"1522\",\"type\":\"BasicTickFormatter\"},\"ticker\":{\"id\":\"1459\",\"type\":\"BasicTicker\"},\"visible\":false},\"id\":\"1458\",\"type\":\"LinearAxis\"},{\"attributes\":{\"data_source\":{\"id\":\"1446\",\"type\":\"ColumnDataSource\"},\"glyph\":{\"id\":\"1484\",\"type\":\"Circle\"},\"hover_glyph\":null,\"muted_glyph\":null,\"nonselection_glyph\":{\"id\":\"1485\",\"type\":\"Circle\"},\"selection_glyph\":null,\"view\":{\"id\":\"1487\",\"type\":\"CDSView\"}},\"id\":\"1486\",\"type\":\"GlyphRenderer\"},{\"attributes\":{},\"id\":\"1522\",\"type\":\"BasicTickFormatter\"},{\"attributes\":{\"callback\":null,\"data\":{\"BillName\":[\"  \\uac10\\uc5fc\\ubcd1\\uc758 \\uc608\\ubc29 \\ubc0f \\uad00\\ub9ac\\uc5d0 \\uad00\\ud55c \\ubc95\\ub960 \\uc77c\\ubd80\\uac1c\\uc815\\ubc95\\ub960\\uc548\",\"  \\uac80\\uc5ed\\ubc95 \\uc77c\\ubd80\\uac1c\\uc815\\ubc95\\ub960\\uc548\",\"  \\uac10\\uc5fc\\ubcd1\\uc758 \\uc608\\ubc29 \\ubc0f \\uad00\\ub9ac\\uc5d0 \\uad00\\ud55c \\ubc95\\ub960 \\uc77c\\ubd80\\uac1c\\uc815\\ubc95\\ub960\\uc548\",\"  \\uac10\\uc5fc\\ubcd1\\uc758 \\uc608\\ubc29 \\ubc0f \\uad00\\ub9ac\\uc5d0 \\uad00\\ud55c \\ubc95\\ub960 \\uc77c\\ubd80\\uac1c\\uc815\\ubc95\\ub960\\uc548\",\"  \\uac10\\uc5fc\\ubcd1\\uc758 \\uc608\\ubc29 \\ubc0f \\uad00\\ub9ac\\uc5d0 \\uad00\\ud55c \\ubc95\\ub960 \\uc77c\\ubd80\\uac1c\\uc815\\ubc95\\ub960\\uc548\",\"  \\ud559\\uad50\\ubcf4\\uac74\\ubc95 \\uc77c\\ubd80\\uac1c\\uc815\\ubc95\\ub960\\uc548\",\"  \\uac10\\uc5fc\\ubcd1\\uc758 \\uc608\\ubc29 \\ubc0f \\uad00\\ub9ac\\uc5d0 \\uad00\\ud55c \\ubc95\\ub960 \\uc77c\\ubd80\\uac1c\\uc815\\ubc95\\ub960\\uc548\",\"  \\ub0a8\\ub140\\uace0\\uc6a9\\ud3c9\\ub4f1\\uacfc \\uc77c\\u00b7\\uac00\\uc815 \\uc591\\ub9bd \\uc9c0\\uc6d0\\uc5d0 \\uad00\\ud55c \\ubc95\\ub960 \\uc77c\\ubd80\\uac1c\\uc815\\ubc95\\ub960\\uc548\",\"  \\uac10\\uc5fc\\ubcd1\\uc758 \\uc608\\ubc29 \\ubc0f \\uad00\\ub9ac\\uc5d0 \\uad00\\ud55c \\ubc95\\ub960 \\uc77c\\ubd80\\uac1c\\uc815\\ubc95\\ub960\\uc548\",\"  \\uc911\\uc18c\\uae30\\uc5c5\\uc9c4\\ud765\\uc5d0 \\uad00\\ud55c \\ubc95\\ub960 \\uc77c\\ubd80\\uac1c\\uc815\\ubc95\\ub960\\uc548\",\"  \\uac10\\uc5fc\\ubcd1\\uc758 \\uc608\\ubc29 \\ubc0f \\uad00\\ub9ac\\uc5d0 \\uad00\\ud55c \\ubc95\\ub960 \\uc77c\\ubd80\\uac1c\\uc815\\ubc95\\ub960\\uc548\",\"  \\ubb3c\\uac00\\uc548\\uc815\\uc5d0 \\uad00\\ud55c \\ubc95\\ub960 \\uc77c\\ubd80\\uac1c\\uc815\\ubc95\\ub960\\uc548\",\"  \\uac10\\uc5fc\\ubcd1\\uc758 \\uc608\\ubc29 \\ubc0f \\uad00\\ub9ac\\uc5d0 \\uad00\\ud55c \\ubc95\\ub960 \\uc77c\\ubd80\\uac1c\\uc815\\ubc95\\ub960\\uc548\",\"  \\uc870\\uc138\\ud2b9\\ub840\\uc81c\\ud55c\\ubc95 \\uc77c\\ubd80\\uac1c\\uc815\\ubc95\\ub960\\uc548\",\"  \\uc870\\uc138\\ud2b9\\ub840\\uc81c\\ud55c\\ubc95 \\uc77c\\ubd80\\uac1c\\uc815\\ubc95\\ub960\\uc548\",\"  \\uac10\\uc5fc\\ubcd1\\uc758 \\uc608\\ubc29 \\ubc0f \\uad00\\ub9ac\\uc5d0 \\uad00\\ud55c \\ubc95\\ub960 \\uc77c\\ubd80\\uac1c\\uc815\\ubc95\\ub960\\uc548\",\"  \\uac10\\uc5fc\\ubcd1\\uc758 \\uc608\\ubc29 \\ubc0f \\uad00\\ub9ac\\uc5d0 \\uad00\\ud55c \\ubc95\\ub960 \\uc77c\\ubd80\\uac1c\\uc815\\ubc95\\ub960\\uc548\",\"  \\uc870\\uc138\\ud2b9\\ub840\\uc81c\\ud55c\\ubc95 \\uc77c\\ubd80\\uac1c\\uc815\\ubc95\\ub960\\uc548\",\"  \\uc870\\uc138\\ud2b9\\ub840\\uc81c\\ud55c\\ubc95 \\uc77c\\ubd80\\uac1c\\uc815\\ubc95\\ub960\\uc548\",\"  \\uc9c0\\ubc29\\uc138\\ud2b9\\ub840\\uc81c\\ud55c\\ubc95 \\uc77c\\ubd80\\uac1c\\uc815\\ubc95\\ub960\\uc548\",\"  \\ubd80\\uac00\\uac00\\uce58\\uc138\\ubc95 \\uc77c\\ubd80\\uac1c\\uc815\\ubc95\\ub960\\uc548\",\"  \\uc870\\uc138\\ud2b9\\ub840\\uc81c\\ud55c\\ubc95 \\uc77c\\ubd80\\uac1c\\uc815\\ubc95\\ub960\\uc548\",\"  \\uac10\\uc5fc\\ubcd1\\uc758 \\uc608\\ubc29 \\ubc0f \\uad00\\ub9ac\\uc5d0 \\uad00\\ud55c \\ubc95\\ub960 \\uc77c\\ubd80\\uac1c\\uc815\\ubc95\\ub960\\uc548\",\"  \\uac10\\uc5fc\\ubcd1\\uc758 \\uc608\\ubc29 \\ubc0f \\uad00\\ub9ac\\uc5d0 \\uad00\\ud55c \\ubc95\\ub960 \\uc77c\\ubd80\\uac1c\\uc815\\ubc95\\ub960\\uc548\",\"  \\uc601\\ud654 \\ubc0f \\ube44\\ub514\\uc624\\ubb3c\\uc758 \\uc9c4\\ud765\\uc5d0 \\uad00\\ud55c \\ubc95\\ub960 \\uc77c\\ubd80\\uac1c\\uc815\\ubc95\\ub960\\uc548\",\"  \\uc7ac\\ub09c \\ubc0f \\uc548\\uc804\\uad00\\ub9ac \\uae30\\ubcf8\\ubc95 \\uc77c\\ubd80\\uac1c\\uc815\\ubc95\\ub960\\uc548\",\"  \\uadfc\\ub85c\\ubcf5\\uc9c0\\uae30\\ubcf8\\ubc95 \\uc77c\\ubd80\\uac1c\\uc815\\ubc95\\ub960\\uc548\",\"  \\uc7ac\\ub09c \\ubc0f \\uc548\\uc804\\uad00\\ub9ac \\uae30\\ubcf8\\ubc95 \\uc77c\\ubd80\\uac1c\\uc815\\ubc95\\ub960\\uc548\",\"  \\uc870\\uc138\\ud2b9\\ub840\\uc81c\\ud55c\\ubc95 \\uc77c\\ubd80\\uac1c\\uc815\\ubc95\\ub960\\uc548\",\"  \\uc870\\uc138\\ud2b9\\ub840\\uc81c\\ud55c\\ubc95 \\uc77c\\ubd80\\uac1c\\uc815\\ubc95\\ub960\\uc548\",\"  \\ubd80\\uac00\\uac00\\uce58\\uc138\\ubc95 \\uc77c\\ubd80\\uac1c\\uc815\\ubc95\\ub960\\uc548\",\"  \\uc870\\uc138\\ud2b9\\ub840\\uc81c\\ud55c\\ubc95 \\uc77c\\ubd80\\uac1c\\uc815\\ubc95\\ub960\\uc548\",\"  \\uc870\\uc138\\ud2b9\\ub840\\uc81c\\ud55c\\ubc95 \\uc77c\\ubd80\\uac1c\\uc815\\ubc95\\ub960\\uc548\",\"  \\uac10\\uc5fc\\ubcd1\\uc758 \\uc608\\ubc29 \\ubc0f \\uad00\\ub9ac\\uc5d0 \\uad00\\ud55c \\ubc95\\ub960 \\uc77c\\ubd80\\uac1c\\uc815\\ubc95\\ub960\\uc548\",\"  \\ucd9c\\uc785\\uad6d\\uad00\\ub9ac\\ubc95 \\uc77c\\ubd80\\uac1c\\uc815\\ubc95\\ub960\\uc548\",\"  \\ubd80\\uac00\\uac00\\uce58\\uc138\\ubc95 \\uc77c\\ubd80\\uac1c\\uc815\\ubc95\\ub960\\uc548\",\"  \\uc815\\ubd80\\uc870\\uc9c1\\ubc95 \\uc77c\\ubd80\\uac1c\\uc815\\ubc95\\ub960\\uc548\",\"  \\uc815\\ubd80\\uc870\\uc9c1\\ubc95 \\uc77c\\ubd80\\uac1c\\uc815\\ubc95\\ub960\\uc548\",\"  \\uac10\\uc5fc\\ubcd1\\uc758 \\uc608\\ubc29 \\ubc0f \\uad00\\ub9ac\\uc5d0 \\uad00\\ud55c \\ubc95\\ub960 \\uc77c\\ubd80\\uac1c\\uc815\\ubc95\\ub960\\uc548\",\"  \\uace0\\ub4f1\\uad50\\uc721\\ubc95 \\uc77c\\ubd80\\uac1c\\uc815\\ubc95\\ub960\\uc548\",\"  \\ub18d\\uc5c5\\u00b7\\ub18d\\ucd0c \\ubc0f \\uc2dd\\ud488\\uc0b0\\uc5c5 \\uae30\\ubcf8\\ubc95 \\uc77c\\ubd80\\uac1c\\uc815\\ubc95\\ub960\\uc548\",\"  \\uc591\\uace1\\uad00\\ub9ac\\ubc95 \\uc77c\\ubd80\\uac1c\\uc815\\ubc95\\ub960\\uc548\",\"  \\uc57d\\uad00\\uc758 \\uaddc\\uc81c\\uc5d0 \\uad00\\ud55c \\ubc95\\ub960 \\uc77c\\ubd80\\uac1c\\uc815\\ubc95\\ub960\\uc548\",\"  \\uc0c1\\uac00\\uac74\\ubb3c \\uc784\\ub300\\ucc28\\ubcf4\\ud638\\ubc95 \\uc77c\\ubd80\\uac1c\\uc815\\ubc95\\ub960\\uc548\",\"  \\uc870\\uc138\\ud2b9\\ub840\\uc81c\\ud55c\\ubc95 \\uc77c\\ubd80\\uac1c\\uc815\\ubc95\\ub960\\uc548\",\"  \\uc18c\\uc0c1\\uacf5\\uc778 \\ubcf4\\ud638 \\ubc0f \\uc9c0\\uc6d0\\uc5d0 \\uad00\\ud55c \\ubc95\\ub960 \\uc77c\\ubd80\\uac1c\\uc815\\ubc95\\ub960\\uc548\",\"  \\uad6d\\uc720\\uc7ac\\uc0b0\\ud2b9\\ub840\\uc81c\\ud55c\\ubc95 \\uc77c\\ubd80\\uac1c\\uc815\\ubc95\\ub960\\uc548\",\"  \\uc815\\ubd80\\uc870\\uc9c1\\ubc95 \\uc77c\\ubd80\\uac1c\\uc815\\ubc95\\ub960\\uc548\",\"  \\ubb3c\\uac00\\uc548\\uc815\\uc5d0 \\uad00\\ud55c \\ubc95\\ub960 \\uc77c\\ubd80\\uac1c\\uc815\\ubc95\\ub960\\uc548\",\"  \\uacf5\\uc911\\ubcf4\\uac74 \\uc704\\uae30\\ub300\\uc751 \\uc758\\uc57d\\ud488 \\uac1c\\ubc1c \\ubc0f \\uc9c0\\uc6d0\\uc5d0 \\uad00\\ud55c \\ubc95\\ub960\\uc548\",\"  \\ub0a8\\ub140\\uace0\\uc6a9\\ud3c9\\ub4f1\\uacfc \\uc77c\\u00b7\\uac00\\uc815 \\uc591\\ub9bd \\uc9c0\\uc6d0\\uc5d0 \\uad00\\ud55c \\ubc95\\ub960 \\uc77c\\ubd80\\uac1c\\uc815\\ubc95\\ub960\\uc548\",\"  \\uc870\\uc138\\ud2b9\\ub840\\uc81c\\ud55c\\ubc95 \\uc77c\\ubd80\\uac1c\\uc815\\ubc95\\ub960\\uc548\",\"  \\uc0c1\\uac00\\uac74\\ubb3c \\uc784\\ub300\\ucc28\\ubcf4\\ud638\\ubc95 \\uc77c\\ubd80\\uac1c\\uc815\\ubc95\\ub960\\uc548\",\"  \\uc8fc\\ud0dd\\uc784\\ub300\\ucc28\\ubcf4\\ud638\\ubc95 \\uc77c\\ubd80\\uac1c\\uc815\\ubc95\\ub960\\uc548\",\"  \\uad6d\\uac00\\uc7ac\\uc815\\ubc95 \\uc77c\\ubd80\\uac1c\\uc815\\ubc95\\ub960\\uc548\",\"  \\ud559\\uad50\\ubcf4\\uac74\\ubc95 \\uc77c\\ubd80\\uac1c\\uc815\\ubc95\\ub960\\uc548\",\"  \\ubb3c\\uac00\\uc548\\uc815\\uc5d0 \\uad00\\ud55c \\ubc95\\ub960 \\uc77c\\ubd80\\uac1c\\uc815\\ubc95\\ub960\\uc548\",\"  \\uc870\\uc138\\ud2b9\\ub840\\uc81c\\ud55c\\ubc95 \\uc77c\\ubd80\\uac1c\\uc815\\ubc95\\ub960\\uc548\",\"  \\uad6d\\ub9bd\\uacf5\\uacf5\\ubcf4\\uac74\\uc758\\ub8cc\\ub300\\ud559 \\uc124\\ub9bd \\ubc0f \\uc6b4\\uc601\\uc5d0 \\uad00\\ud55c \\ubc95\\ub960\\uc548\",\"  \\uc751\\uae09\\uc758\\ub8cc\\uc5d0 \\uad00\\ud55c \\ubc95\\ub960 \\uc77c\\ubd80\\uac1c\\uc815\\ubc95\\ub960\\uc548\",\"  \\uad6d\\uc720\\uc7ac\\uc0b0\\ud2b9\\ub840\\uc81c\\ud55c\\ubc95 \\uc77c\\ubd80\\uac1c\\uc815\\ubc95\\ub960\\uc548\",\"  \\uc870\\uc138\\ud2b9\\ub840\\uc81c\\ud55c\\ubc95 \\uc77c\\ubd80\\uac1c\\uc815\\ubc95\\ub960\\uc548\",\"  \\ubd80\\uac00\\uac00\\uce58\\uc138\\ubc95 \\uc77c\\ubd80\\uac1c\\uc815\\ubc95\\ub960\\uc548\",\"  \\ubd80\\uac00\\uac00\\uce58\\uc138\\ubc95 \\uc77c\\ubd80\\uac1c\\uc815\\ubc95\\ub960\\uc548\",\"  \\uc870\\uc138\\ud2b9\\ub840\\uc81c\\ud55c\\ubc95 \\uc77c\\ubd80\\uac1c\\uc815\\ubc95\\ub960\\uc548\",\"  \\uc815\\ubd80\\uc870\\uc9c1\\ubc95 \\uc77c\\ubd80\\uac1c\\uc815\\ubc95\\ub960\\uc548\",\"  \\uc9c0\\ubc29\\uc138\\ubc95 \\uc77c\\ubd80\\uac1c\\uc815\\ubc95\\ub960\\uc548\",\"  \\uc870\\uc138\\ud2b9\\ub840\\uc81c\\ud55c\\ubc95 \\uc77c\\ubd80\\uac1c\\uc815\\ubc95\\ub960\\uc548\",\"  \\uad6d\\uac00\\uc7ac\\uc815\\ubc95 \\uc77c\\ubd80\\uac1c\\uc815\\ubc95\\ub960\\uc548\",\"  \\uc815\\ubd80\\uc870\\uc9c1\\ubc95 \\uc77c\\ubd80\\uac1c\\uc815\\ubc95\\ub960\\uc548\",\"  \\uc9c0\\ubc29\\uc138\\ud2b9\\ub840\\uc81c\\ud55c\\ubc95 \\uc77c\\ubd80\\uac1c\\uc815\\ubc95\\ub960\\uc548\",\"  \\uc9c0\\ubc29\\uc138\\ud2b9\\ub840\\uc81c\\ud55c\\ubc95 \\uc77c\\ubd80\\uac1c\\uc815\\ubc95\\ub960\\uc548\",\"  \\uc870\\uc138\\ud2b9\\ub840\\uc81c\\ud55c\\ubc95 \\uc77c\\ubd80\\uac1c\\uc815\\ubc95\\ub960\\uc548\",\"  \\uc7ac\\ub09c \\ubc0f \\uc548\\uc804\\uad00\\ub9ac \\uae30\\ubcf8\\ubc95 \\uc77c\\ubd80\\uac1c\\uc815\\ubc95\\ub960\\uc548\",\"  \\uace0\\ub4f1\\uad50\\uc721\\ubc95 \\uc77c\\ubd80\\uac1c\\uc815\\ubc95\\ub960\\uc548\",\"  \\uc7ac\\ub09c \\ubc0f \\uc548\\uc804\\uad00\\ub9ac \\uae30\\ubcf8\\ubc95 \\uc77c\\ubd80\\uac1c\\uc815\\ubc95\\ub960\\uc548\",\"  \\uc815\\ubd80\\uc870\\uc9c1\\ubc95 \\uc77c\\ubd80\\uac1c\\uc815\\ubc95\\ub960\\uc548\",\"  \\uc804\\ud1b5\\uc2dc\\uc7a5 \\ubc0f \\uc0c1\\uc810\\uac00 \\uc721\\uc131\\uc744 \\uc704\\ud55c \\ud2b9\\ubcc4\\ubc95 \\uc77c\\ubd80\\uac1c\\uc815\\ubc95\\ub960\\uc548\",\"  \\uc870\\uc138\\ud2b9\\ub840\\uc81c\\ud55c\\ubc95 \\uc77c\\ubd80\\uac1c\\uc815\\ubc95\\ub960\\uc548\",\"  \\ub3c5\\uc810\\uaddc\\uc81c \\ubc0f \\uacf5\\uc815\\uac70\\ub798\\uc5d0 \\uad00\\ud55c \\ubc95\\ub960 \\uc77c\\ubd80\\uac1c\\uc815\\ubc95\\ub960\\uc548\",\"  \\ubd80\\uac00\\uac00\\uce58\\uc138\\ubc95 \\uc77c\\ubd80\\uac1c\\uc815\\ubc95\\ub960\\uc548\",\"  \\uc9c0\\ubc29\\uc138\\ud2b9\\ub840\\uc81c\\ud55c\\ubc95 \\uc77c\\ubd80\\uac1c\\uc815\\ubc95\\ub960\\uc548\",\"  \\uc870\\uc138\\ud2b9\\ub840\\uc81c\\ud55c\\ubc95 \\uc77c\\ubd80\\uac1c\\uc815\\ubc95\\ub960\\uc548\",\"  \\uad6d\\uac00\\uc7ac\\uc815\\ubc95 \\uc77c\\ubd80\\uac1c\\uc815\\ubc95\\ub960\\uc548\",\"  \\uc601\\ud654 \\ubc0f \\ube44\\ub514\\uc624\\ubb3c\\uc758 \\uc9c4\\ud765\\uc5d0 \\uad00\\ud55c \\ubc95\\ub960 \\uc77c\\ubd80\\uac1c\\uc815\\ubc95\\ub960\\uc548\",\"  \\ucd08\\u00b7\\uc911\\ub4f1\\uad50\\uc721\\ubc95 \\uc77c\\ubd80\\uac1c\\uc815\\ubc95\\ub960\\uc548\",\"  \\ucd5c\\uc800\\uc784\\uae08\\ubc95 \\uc77c\\ubd80\\uac1c\\uc815\\ubc95\\ub960\\uc548\",\"  \\uc0dd\\uba85\\uc548\\uc804\\uc5c5\\ubb34 \\uc885\\uc0ac\\uc790\\uc758 \\uc9c1\\uc811\\uace0\\uc6a9 \\ub4f1\\uc5d0 \\uad00\\ud55c \\ubc95\\ub960\\uc548\",\"  \\uad6d\\ubbfc\\uac74\\uac15\\ubcf4\\ud5d8\\ubc95 \\uc77c\\ubd80\\uac1c\\uc815\\ubc95\\ub960\\uc548\",\"  \\uadfc\\ub85c\\uae30\\uc900\\ubc95 \\uc77c\\ubd80\\uac1c\\uc815\\ubc95\\ub960\\uc548\",\"  \\uc7ac\\ub09c \\ubc0f \\uc548\\uc804\\uad00\\ub9ac \\uae30\\ubcf8\\ubc95 \\uc77c\\ubd80\\uac1c\\uc815\\ubc95\\ub960\\uc548\",\"  \\uc870\\uc138\\ud2b9\\ub840\\uc81c\\ud55c\\ubc95 \\uc77c\\ubd80\\uac1c\\uc815\\ubc95\\ub960\\uc548\",\"  \\uace0\\ub4f1\\uad50\\uc721\\ubc95 \\uc77c\\ubd80\\uac1c\\uc815\\ubc95\\ub960\\uc548\",\"  \\ub300\\u00b7\\uc911\\uc18c\\uae30\\uc5c5 \\uc0c1\\uc0dd\\ud611\\ub825 \\ucd09\\uc9c4\\uc5d0 \\uad00\\ud55c \\ubc95\\ub960 \\uc77c\\ubd80\\uac1c\\uc815\\ubc95\\ub960\\uc548\",\"  \\uace0\\ub4f1\\uad50\\uc721\\ubc95 \\uc77c\\ubd80\\uac1c\\uc815\\ubc95\\ub960\\uc548\",\"  \\uc9c0\\ubc29\\uc758\\ub8cc\\uc6d0\\uc758 \\uc124\\ub9bd \\ubc0f \\uc6b4\\uc601\\uc5d0 \\uad00\\ud55c \\ubc95\\ub960 \\uc77c\\ubd80\\uac1c\\uc815\\ubc95\\ub960\\uc548\",\"  \\uc5ec\\uac1d\\uc790\\ub3d9\\ucc28 \\uc6b4\\uc218\\uc0ac\\uc5c5\\ubc95 \\uc77c\\ubd80\\uac1c\\uc815\\ubc95\\ub960\\uc548\",\"  \\uc5b4\\ub9b0\\uc774\\uac74\\uac15 \\ubcf4\\ud638 \\ubc0f \\uc99d\\uc9c4\\uc5d0 \\uad00\\ud55c \\ubc95\\ub960\\uc548\",\"  \\uc870\\uc138\\ud2b9\\ub840\\uc81c\\ud55c\\ubc95 \\uc77c\\ubd80\\uac1c\\uc815\\ubc95\\ub960\\uc548\",\"  \\uc0c1\\uac00\\uac74\\ubb3c \\uc784\\ub300\\ucc28\\ubcf4\\ud638\\ubc95 \\uc77c\\ubd80\\uac1c\\uc815\\ubc95\\ub960\\uc548\",\"  \\uadfc\\ub85c\\uae30\\uc900\\ubc95 \\uc77c\\ubd80\\uac1c\\uc815\\ubc95\\ub960\\uc548\",\"  \\uc7ac\\ub09c \\ubc0f \\uc548\\uc804\\uad00\\ub9ac \\uae30\\ubcf8\\ubc95 \\uc77c\\ubd80\\uac1c\\uc815\\ubc95\\ub960\\uc548\",\"  \\ud608\\uc561\\uad00\\ub9ac\\ubc95 \\uc77c\\ubd80\\uac1c\\uc815\\ubc95\\ub960\\uc548\",\"  \\ud574\\uc678\\uc9c4\\ucd9c\\uae30\\uc5c5\\uc758 \\uad6d\\ub0b4\\ubcf5\\uadc0 \\uc9c0\\uc6d0\\uc5d0 \\uad00\\ud55c \\ubc95\\ub960 \\uc77c\\ubd80\\uac1c\\uc815\\ubc95\\ub960\\uc548\",\"  \\ubc29\\uc1a1\\ud1b5\\uc2e0\\ubc1c\\uc804 \\uae30\\ubcf8\\ubc95 \\uc77c\\ubd80\\uac1c\\uc815\\ubc95\\ub960\\uc548\",\"  \\ubd80\\uac00\\uac00\\uce58\\uc138\\ubc95 \\uc77c\\ubd80\\uac1c\\uc815\\ubc95\\ub960\\uc548\",\"  \\ubb38\\ud654\\uc0b0\\uc5c5\\uc9c4\\ud765 \\uae30\\ubcf8\\ubc95 \\uc77c\\ubd80\\uac1c\\uc815\\ubc95\\ub960\\uc548\",\"  \\uad6d\\uac00\\uc7ac\\uc815\\ubc95 \\uc77c\\ubd80\\uac1c\\uc815\\ubc95\\ub960\\uc548\",\"  \\ubcf5\\uad8c \\ubc0f \\ubcf5\\uad8c\\uae30\\uae08\\ubc95 \\uc77c\\ubd80\\uac1c\\uc815\\ubc95\\ub960\\uc548\",\"  \\ubd80\\uac00\\uac00\\uce58\\uc138\\ubc95 \\uc77c\\ubd80\\uac1c\\uc815\\ubc95\\ub960\\uc548\",\"  \\uc9c0\\ubc29\\uc138\\ud2b9\\ub840\\uc81c\\ud55c\\ubc95 \\uc77c\\ubd80\\uac1c\\uc815\\ubc95\\ub960\\uc548\",\"  \\uc870\\uc138\\ud2b9\\ub840\\uc81c\\ud55c\\ubc95 \\uc77c\\ubd80\\uac1c\\uc815\\ubc95\\ub960\\uc548\",\"  \\uac10\\uc5fc\\ubcd1\\uc758 \\uc608\\ubc29 \\ubc0f \\uad00\\ub9ac\\uc5d0 \\uad00\\ud55c \\ubc95\\ub960 \\uc77c\\ubd80\\uac1c\\uc815\\ubc95\\ub960\\uc548\",\"  \\uc7ac\\ub09c \\ubc0f \\uc548\\uc804\\uad00\\ub9ac \\uae30\\ubcf8\\ubc95 \\uc77c\\ubd80\\uac1c\\uc815\\ubc95\\ub960\\uc548\",\"  \\uccad\\ub144\\uace0\\uc6a9\\ucd09\\uc9c4 \\ud2b9\\ubcc4\\ubc95 \\uc77c\\ubd80\\uac1c\\uc815\\ubc95\\ub960\\uc548\",\"  \\uc18c\\ub4dd\\uc138\\ubc95 \\uc77c\\ubd80\\uac1c\\uc815\\ubc95\\ub960\\uc548\",\"  \\uc870\\uc138\\ud2b9\\ub840\\uc81c\\ud55c\\ubc95 \\uc77c\\ubd80\\uac1c\\uc815\\ubc95\\ub960\\uc548\",\"  \\uccad\\ub144\\uace0\\uc6a9\\ucd09\\uc9c4 \\ud2b9\\ubcc4\\ubc95 \\uc77c\\ubd80\\uac1c\\uc815\\ubc95\\ub960\\uc548\",\"  \\ubd80\\uac00\\uac00\\uce58\\uc138\\ubc95 \\uc77c\\ubd80\\uac1c\\uc815\\ubc95\\ub960\\uc548\",\"  \\ud608\\uc561\\uad00\\ub9ac\\ubc95 \\uc77c\\ubd80\\uac1c\\uc815\\ubc95\\ub960\\uc548\",\"  \\uc0c8\\ub9c8\\uc744\\uc6b4\\ub3d9\\uc870\\uc9c1 \\uc721\\uc131\\ubc95 \\uc77c\\ubd80\\uac1c\\uc815\\ubc95\\ub960\\uc548\",\"  \\uc870\\uc138\\ud2b9\\ub840\\uc81c\\ud55c\\ubc95 \\uc77c\\ubd80\\uac1c\\uc815\\ubc95\\ub960\\uc548\",\"  \\uc870\\uc138\\ud2b9\\ub840\\uc81c\\ud55c\\ubc95 \\uc77c\\ubd80\\uac1c\\uc815\\ubc95\\ub960\\uc548\",\"  \\uc870\\uc138\\ud2b9\\ub840\\uc81c\\ud55c\\ubc95 \\uc77c\\ubd80\\uac1c\\uc815\\ubc95\\ub960\\uc548\",\"  \\uadfc\\ub85c\\ubcf5\\uc9c0\\uae30\\ubcf8\\ubc95 \\uc77c\\ubd80\\uac1c\\uc815\\ubc95\\ub960\\uc548\",\"  \\uc870\\uc138\\ud2b9\\ub840\\uc81c\\ud55c\\ubc95 \\uc77c\\ubd80\\uac1c\\uc815\\ubc95\\ub960\\uc548\",\"  \\uad6d\\uac00\\uc720\\uacf5\\uc790 \\ub4f1 \\uc608\\uc6b0 \\ubc0f \\uc9c0\\uc6d0\\uc5d0 \\uad00\\ud55c \\ubc95\\ub960 \\uc77c\\ubd80\\uac1c\\uc815\\ubc95\\ub960\\uc548\",\"  \\uc9c0\\uc5ed\\uc0ac\\ub791\\uc0c1\\ud488\\uad8c \\uc774\\uc6a9 \\ud65c\\uc131\\ud654\\uc5d0 \\uad00\\ud55c \\ubc95\\ub960 \\uc77c\\ubd80\\uac1c\\uc815\\ubc95\\ub960\\uc548\",\"  \\ub179\\uc0c9\\uac74\\ucd95\\ubb3c \\uc870\\uc131 \\uc9c0\\uc6d0\\ubc95 \\uc77c\\ubd80\\uac1c\\uc815\\ubc95\\ub960\\uc548\",\"  \\uae30\\uc5c5\\ud65c\\ub3d9 \\uaddc\\uc81c\\uc644\\ud654\\uc5d0 \\uad00\\ud55c \\ud2b9\\ubcc4\\uc870\\uce58\\ubc95 \\uc77c\\ubd80\\uac1c\\uc815\\ubc95\\ub960\\uc548\",\"  \\uadfc\\ub85c\\uae30\\uc900\\ubc95 \\uc77c\\ubd80\\uac1c\\uc815\\ubc95\\ub960\\uc548\",\"  \\uc870\\uc138\\ud2b9\\ub840\\uc81c\\ud55c\\ubc95 \\uc77c\\ubd80\\uac1c\\uc815\\ubc95\\ub960\\uc548\",\"  \\uadfc\\ub85c\\uae30\\uc900\\ubc95 \\uc77c\\ubd80\\uac1c\\uc815\\ubc95\\ub960\\uc548\",\"  \\uace0\\uc6a9\\ubcf4\\ud5d8\\ubc95 \\uc77c\\ubd80\\uac1c\\uc815\\ubc95\\ub960\\uc548\",\"  \\uc7ac\\uc678\\uad6d\\ubbfc\\uc758 \\uad50\\uc721\\uc9c0\\uc6d0 \\ub4f1\\uc5d0 \\uad00\\ud55c \\ubc95\\ub960 \\uc77c\\ubd80\\uac1c\\uc815\\ubc95\\ub960\\uc548\",\"  \\uad6d\\ub9bd\\uacf5\\uacf5\\ubcf4\\uac74\\uc758\\ub8cc\\ub300\\ud559 \\uc124\\ub9bd\\u00b7\\uc6b4\\uc601\\uc5d0 \\uad00\\ud55c \\ubc95\\ub960\\uc548\",\"  \\ubc95\\uc778\\uc138\\ubc95 \\uc77c\\ubd80\\uac1c\\uc815\\ubc95\\ub960\\uc548\",\"  \\uc870\\uc138\\ud2b9\\ub840\\uc81c\\ud55c\\ubc95 \\uc77c\\ubd80\\uac1c\\uc815\\ubc95\\ub960\\uc548\",\"  \\uc870\\uc138\\ud2b9\\ub840\\uc81c\\ud55c\\ubc95 \\uc77c\\ubd80\\uac1c\\uc815\\ubc95\\ub960\\uc548\",\"  \\ud56d\\uacf5\\uc6b0\\uc8fc\\uc0b0\\uc5c5\\uac1c\\ubc1c \\ucd09\\uc9c4\\ubc95 \\uc77c\\ubd80\\uac1c\\uc815\\ubc95\\ub960\\uc548\",\"  \\ud559\\uad50\\uae09\\uc2dd\\ubc95 \\uc77c\\ubd80\\uac1c\\uc815\\ubc95\\ub960\\uc548\",\"  \\uc608\\uc220\\uc778 \\ubcf5\\uc9c0\\ubc95 \\uc77c\\ubd80\\uac1c\\uc815\\ubc95\\ub960\\uc548\",\"  \\uad6d\\uac00\\uc7ac\\uc815\\ubc95 \\uc77c\\ubd80\\uac1c\\uc815\\ubc95\\ub960\\uc548\",\"  \\uc9c0\\ubc29\\ub300\\ud559 \\ubc0f \\uc9c0\\uc5ed\\uade0\\ud615\\uc778\\uc7ac \\uc721\\uc131\\uc5d0 \\uad00\\ud55c \\ubc95\\ub960 \\uc77c\\ubd80\\uac1c\\uc815\\ubc95\\ub960\\uc548\",\"  \\ub0a8\\ub140\\uace0\\uc6a9\\ud3c9\\ub4f1\\uacfc \\uc77c\\u00b7\\uac00\\uc815 \\uc591\\ub9bd \\uc9c0\\uc6d0\\uc5d0 \\uad00\\ud55c \\ubc95\\ub960 \\uc77c\\ubd80\\uac1c\\uc815\\ubc95\\ub960\\uc548\",\"  \\ub0a8\\ubd81 \\ubcf4\\uac74\\uc758\\ub8cc\\uc758 \\uad50\\ub958\\ud611\\ub825 \\uc99d\\uc9c4\\uc5d0 \\uad00\\ud55c \\ubc95\\ub960\\uc548\",\"  \\uac10\\uc5fc\\ubcd1\\uc758 \\uc608\\ubc29 \\ubc0f \\uad00\\ub9ac\\uc5d0 \\uad00\\ud55c \\ubc95\\ub960 \\uc77c\\ubd80\\uac1c\\uc815\\ubc95\\ub960\\uc548\",\"  \\uac10\\uc5fc\\ubcd1\\uc758 \\uc608\\ubc29 \\ubc0f \\uad00\\ub9ac\\uc5d0 \\uad00\\ud55c \\ubc95\\ub960 \\uc77c\\ubd80\\uac1c\\uc815\\ubc95\\ub960\\uc548\",\"  \\uac00\\ub9f9\\uc0ac\\uc5c5\\uac70\\ub798\\uc758 \\uacf5\\uc815\\ud654\\uc5d0 \\uad00\\ud55c \\ubc95\\ub960 \\uc77c\\ubd80\\uac1c\\uc815\\ubc95\\ub960\\uc548\",\"  \\ubd80\\uac00\\uac00\\uce58\\uc138\\ubc95 \\uc77c\\ubd80\\uac1c\\uc815\\ubc95\\ub960\\uc548\",\"  \\uc18c\\uc0c1\\uacf5\\uc778 \\ubcf4\\ud638 \\ubc0f \\uc9c0\\uc6d0\\uc5d0 \\uad00\\ud55c \\ubc95\\ub960 \\uc77c\\ubd80\\uac1c\\uc815\\ubc95\\ub960\\uc548\",\"  \\uc870\\uc138\\ud2b9\\ub840\\uc81c\\ud55c\\ubc95 \\uc77c\\ubd80\\uac1c\\uc815\\ubc95\\ub960\\uc548\",\"  \\ub300\\ub9ac\\uc810\\uac70\\ub798\\uc758 \\uacf5\\uc815\\ud654\\uc5d0 \\uad00\\ud55c \\ubc95\\ub960 \\uc77c\\ubd80\\uac1c\\uc815\\ubc95\\ub960\\uc548\",\"  \\ubd80\\uac00\\uac00\\uce58\\uc138\\ubc95 \\uc77c\\ubd80\\uac1c\\uc815\\ubc95\\ub960\\uc548\",\"  \\uacf5\\uacf5\\uae30\\uad00\\uc758 \\uc6b4\\uc601\\uc5d0 \\uad00\\ud55c \\ubc95\\ub960 \\uc77c\\ubd80\\uac1c\\uc815\\ubc95\\ub960\\uc548\",\"  \\uad6d\\uac00\\ub97c \\ub2f9\\uc0ac\\uc790\\ub85c \\ud558\\ub294 \\uacc4\\uc57d\\uc5d0 \\uad00\\ud55c \\ubc95\\ub960 \\uc77c\\ubd80\\uac1c\\uc815\\ubc95\\ub960\\uc548\",\"  \\uc870\\uc138\\ud2b9\\ub840\\uc81c\\ud55c\\ubc95 \\uc77c\\ubd80\\uac1c\\uc815\\ubc95\\ub960\\uc548\",\"  \\uc9c0\\ubc29\\uacf5\\ubb34\\uc6d0\\ubc95 \\uc77c\\ubd80\\uac1c\\uc815\\ubc95\\ub960\\uc548\",\"  \\uad6d\\uac00\\uacf5\\ubb34\\uc6d0\\ubc95 \\uc77c\\ubd80\\uac1c\\uc815\\ubc95\\ub960\\uc548\",\"  \\ub18d\\uc5c5\\uae30\\uacc4\\ud654 \\ucd09\\uc9c4\\ubc95 \\uc77c\\ubd80\\uac1c\\uc815\\ubc95\\ub960\\uc548\",\"  \\uadfc\\ub85c\\uae30\\uc900\\ubc95 \\uc77c\\ubd80\\uac1c\\uc815\\ubc95\\ub960\\uc548\",\"  \\uc870\\uc138\\ud2b9\\ub840\\uc81c\\ud55c\\ubc95 \\uc77c\\ubd80\\uac1c\\uc815\\ubc95\\ub960\\uc548\",\"  \\uac10\\uc5fc\\ubcd1\\uc758 \\uc608\\ubc29 \\ubc0f \\uad00\\ub9ac\\uc5d0 \\uad00\\ud55c \\ubc95\\ub960 \\uc77c\\ubd80\\uac1c\\uc815\\ubc95\\ub960\\uc548\",\"  \\ucd08\\u00b7\\uc911\\ub4f1\\uad50\\uc721\\ubc95 \\uc77c\\ubd80\\uac1c\\uc815\\ubc95\\ub960\\uc548\",\"  \\uac10\\uc5fc\\ubcd1\\uc758 \\uc608\\ubc29 \\ubc0f \\uad00\\ub9ac\\uc5d0 \\uad00\\ud55c \\ubc95\\ub960 \\uc77c\\ubd80\\uac1c\\uc815\\ubc95\\ub960\\uc548\",\"  \\uac10\\uc5fc\\ubcd1\\uc758 \\uc608\\ubc29 \\ubc0f \\uad00\\ub9ac\\uc5d0 \\uad00\\ud55c \\ubc95\\ub960 \\uc77c\\ubd80\\uac1c\\uc815\\ubc95\\ub960\\uc548\",\"  \\uc790\\uc6d0\\uc758 \\uc808\\uc57d\\uacfc \\uc7ac\\ud65c\\uc6a9\\ucd09\\uc9c4\\uc5d0 \\uad00\\ud55c \\ubc95\\ub960 \\uc77c\\ubd80\\uac1c\\uc815\\ubc95\\ub960\\uc548\",\"  \\ucd08\\u00b7\\uc911\\ub4f1\\uad50\\uc721\\ubc95 \\uc77c\\ubd80\\uac1c\\uc815\\ubc95\\ub960\\uc548\",\"  \\uc7ac\\ub09c \\ubc0f \\uc548\\uc804\\uad00\\ub9ac \\uae30\\ubcf8\\ubc95 \\uc77c\\ubd80\\uac1c\\uc815\\ubc95\\ub960\\uc548\",\"  \\ucd9c\\uc785\\uad6d\\uad00\\ub9ac\\ubc95 \\uc77c\\ubd80\\uac1c\\uc815\\ubc95\\ub960\\uc548\",\"  \\uc9c1\\uc5c5\\uad50\\uc721\\ud6c8\\ub828 \\ucd09\\uc9c4\\ubc95 \\uc77c\\ubd80\\uac1c\\uc815\\ubc95\\ub960\\uc548\",\"  \\uad6d\\uac00\\ud68c\\uacc4\\ubc95 \\uc77c\\ubd80\\uac1c\\uc815\\ubc95\\ub960\\uc548\",\"  \\uad6d\\uac00\\uc7ac\\uc815\\ubc95 \\uc77c\\ubd80\\uac1c\\uc815\\ubc95\\ub960\\uc548\",\"  \\uc0c1\\uc18d\\uc138 \\ubc0f \\uc99d\\uc5ec\\uc138\\ubc95 \\uc77c\\ubd80\\uac1c\\uc815\\ubc95\\ub960\\uc548\",\"  \\ubd80\\uac00\\uac00\\uce58\\uc138\\ubc95 \\uc77c\\ubd80\\uac1c\\uc815\\ubc95\\ub960\\uc548\",\"  \\ubd80\\uac00\\uac00\\uce58\\uc138\\ubc95 \\uc77c\\ubd80\\uac1c\\uc815\\ubc95\\ub960\\uc548\",\"  \\uace0\\ub4f1\\uad50\\uc721\\ubc95 \\uc77c\\ubd80\\uac1c\\uc815\\ubc95\\ub960\\uc548\",\"  \\uad6d\\ubbfc\\uac74\\uac15\\ubcf4\\ud5d8\\ubc95 \\uc77c\\ubd80\\uac1c\\uc815\\ubc95\\ub960\\uc548\",\"  \\ucd5c\\uc800\\uc784\\uae08\\ubc95 \\uc77c\\ubd80\\uac1c\\uc815\\ubc95\\ub960\\uc548\",\"  119\\uad6c\\uc870\\u00b7\\uad6c\\uae09\\uc5d0 \\uad00\\ud55c \\ubc95\\ub960 \\uc77c\\ubd80\\uac1c\\uc815\\ubc95\\ub960\\uc548\",\"  \\ubc95\\uc778\\uc138\\ubc95 \\uc77c\\ubd80\\uac1c\\uc815\\ubc95\\ub960\\uc548\",\"  \\ubb3c\\uac00\\uc548\\uc815\\uc5d0 \\uad00\\ud55c \\ubc95\\ub960 \\uc77c\\ubd80\\uac1c\\uc815\\ubc95\\ub960\\uc548\",\"  \\uac10\\uc5fc\\ubcd1\\uc758 \\uc608\\ubc29 \\ubc0f \\uad00\\ub9ac\\uc5d0 \\uad00\\ud55c \\ubc95\\ub960 \\uc77c\\ubd80\\uac1c\\uc815\\ubc95\\ub960\\uc548\",\"  \\uad6d\\uc720\\uc7ac\\uc0b0\\ud2b9\\ub840\\uc81c\\ud55c\\ubc95 \\uc77c\\ubd80\\uac1c\\uc815\\ubc95\\ub960\\uc548\",\"  \\ud3d0\\uad11\\uc9c0\\uc5ed \\uac1c\\ubc1c \\uc9c0\\uc6d0\\uc5d0 \\uad00\\ud55c \\ud2b9\\ubcc4\\ubc95 \\uc77c\\ubd80\\uac1c\\uc815\\ubc95\\ub960\\uc548\",\"  \\uc870\\uc138\\ud2b9\\ub840\\uc81c\\ud55c\\ubc95 \\uc77c\\ubd80\\uac1c\\uc815\\ubc95\\ub960\\uc548\",\"  \\uc18c\\ub4dd\\uc138\\ubc95 \\uc77c\\ubd80\\uac1c\\uc815\\ubc95\\ub960\\uc548\",\"  \\uac10\\uc5fc\\ubcd1\\uc758 \\uc608\\ubc29 \\ubc0f \\uad00\\ub9ac\\uc5d0 \\uad00\\ud55c \\ubc95\\ub960 \\uc77c\\ubd80\\uac1c\\uc815\\ubc95\\ub960\\uc548\",\"  \\uc18c\\uc0c1\\uacf5\\uc778 \\ubcf4\\ud638 \\ubc0f \\uc9c0\\uc6d0\\uc5d0 \\uad00\\ud55c \\ubc95\\ub960 \\uc77c\\ubd80\\uac1c\\uc815\\ubc95\\ub960\\uc548\",\"  \\ubbfc\\uac04\\uc784\\ub300\\uc8fc\\ud0dd\\uc5d0 \\uad00\\ud55c \\ud2b9\\ubcc4\\ubc95 \\uc77c\\ubd80\\uac1c\\uc815\\ubc95\\ub960\\uc548\",\"  \\uc870\\uc138\\ud2b9\\ub840\\uc81c\\ud55c\\ubc95 \\uc77c\\ubd80\\uac1c\\uc815\\ubc95\\ub960\\uc548\",\"  \\uac10\\uc5fc\\ubcd1\\uc758 \\uc608\\ubc29 \\ubc0f \\uad00\\ub9ac\\uc5d0 \\uad00\\ud55c \\ubc95\\ub960 \\uc77c\\ubd80\\uac1c\\uc815\\ubc95\\ub960\\uc548\",\"  \\uac10\\uc5fc\\ubcd1\\uc758 \\uc608\\ubc29 \\ubc0f \\uad00\\ub9ac\\uc5d0 \\uad00\\ud55c \\ubc95\\ub960 \\uc77c\\ubd80\\uac1c\\uc815\\ubc95\\ub960\\uc548\",\"  \\uc758\\ub8cc\\ubc95 \\uc77c\\ubd80\\uac1c\\uc815\\ubc95\\ub960\\uc548\",\"  \\uc815\\uc2e0\\uac74\\uac15\\uc99d\\uc9c4 \\ubc0f \\uc815\\uc2e0\\uc9c8\\ud658\\uc790 \\ubcf5\\uc9c0\\uc11c\\ube44\\uc2a4 \\uc9c0\\uc6d0\\uc5d0 \\uad00\\ud55c \\ubc95\\ub960 \\uc77c\\ubd80\\uac1c\\uc815\\ubc95\\ub960\\uc548\",\"  \\uadfc\\ub85c\\ubcf5\\uc9c0\\uae30\\ubcf8\\ubc95 \\uc77c\\ubd80\\uac1c\\uc815\\ubc95\\ub960\\uc548\",\"  \\uc870\\uc138\\ud2b9\\ub840\\uc81c\\ud55c\\ubc95 \\uc77c\\ubd80\\uac1c\\uc815\\ubc95\\ub960\\uc548\",\"  \\uc870\\uc138\\ud2b9\\ub840\\uc81c\\ud55c\\ubc95 \\uc77c\\ubd80\\uac1c\\uc815\\ubc95\\ub960\\uc548\",\"  \\uc5ec\\uac1d\\uc790\\ub3d9\\ucc28 \\uc6b4\\uc218\\uc0ac\\uc5c5\\ubc95 \\uc77c\\ubd80\\uac1c\\uc815\\ubc95\\ub960\\uc548\",\"  \\uad6d\\uac00\\uc7ac\\uc815\\ubc95 \\uc77c\\ubd80\\uac1c\\uc815\\ubc95\\ub960\\uc548\",\"  \\uad6d\\ubbfc\\uac74\\uac15\\ubcf4\\ud5d8\\ubc95 \\uc77c\\ubd80\\uac1c\\uc815\\ubc95\\ub960\\uc548\",\"  \\uacbd\\uc81c\\uc790\\uc720\\uad6c\\uc5ed\\uc758 \\uc9c0\\uc815 \\ubc0f \\uc6b4\\uc601\\uc5d0 \\uad00\\ud55c \\ud2b9\\ubcc4\\ubc95 \\uc77c\\ubd80\\uac1c\\uc815\\ubc95\\ub960\\uc548\",\"  \\uc870\\uc138\\ud2b9\\ub840\\uc81c\\ud55c\\ubc95 \\uc77c\\ubd80\\uac1c\\uc815\\ubc95\\ub960\\uc548\",\"  \\uc774\\uc790\\uc81c\\ud55c\\ubc95 \\uc77c\\ubd80\\uac1c\\uc815\\ubc95\\ub960\\uc548\",\"  \\uc870\\uc138\\ud2b9\\ub840\\uc81c\\ud55c\\ubc95 \\uc77c\\ubd80\\uac1c\\uc815\\ubc95\\ub960\\uc548\",\"  \\ubd80\\uac00\\uac00\\uce58\\uc138\\ubc95 \\uc77c\\ubd80\\uac1c\\uc815\\ubc95\\ub960\\uc548\",\"  \\uacbd\\uc81c\\uc790\\uc720\\uad6c\\uc5ed\\uc758 \\uc9c0\\uc815 \\ubc0f \\uc6b4\\uc601\\uc5d0 \\uad00\\ud55c \\ud2b9\\ubcc4\\ubc95 \\uc77c\\ubd80\\uac1c\\uc815\\ubc95\\ub960\\uc548\",\"  \\uc9c0\\ubc29\\uc138\\ud2b9\\ub840\\uc81c\\ud55c\\ubc95 \\uc77c\\ubd80\\uac1c\\uc815\\ubc95\\ub960\\uc548\",\"  \\ub300\\ubd80\\uc5c5 \\ub4f1\\uc758 \\ub4f1\\ub85d \\ubc0f \\uae08\\uc735\\uc774\\uc6a9\\uc790 \\ubcf4\\ud638\\uc5d0 \\uad00\\ud55c \\ubc95\\ub960 \\uc77c\\ubd80\\uac1c\\uc815\\ubc95\\ub960\\uc548\",\"  \\ub179\\uc0c9\\uac74\\ucd95\\ubb3c \\uc870\\uc131 \\uc9c0\\uc6d0\\ubc95 \\uc77c\\ubd80\\uac1c\\uc815\\ubc95\\ub960\\uc548\",\"  \\uc870\\uc138\\ud2b9\\ub840\\uc81c\\ud55c\\ubc95 \\uc77c\\ubd80\\uac1c\\uc815\\ubc95\\ub960\\uc548\",\"  \\ubd80\\uac00\\uac00\\uce58\\uc138\\ubc95 \\uc77c\\ubd80\\uac1c\\uc815\\ubc95\\ub960\\uc548\",\"  \\uc870\\uc138\\ud2b9\\ub840\\uc81c\\ud55c\\ubc95 \\uc77c\\ubd80\\uac1c\\uc815\\ubc95\\ub960\\uc548\",\"  \\uc870\\uc138\\ud2b9\\ub840\\uc81c\\ud55c\\ubc95 \\uc77c\\ubd80\\uac1c\\uc815\\ubc95\\ub960\\uc548\",\"  \\uc870\\uc138\\ud2b9\\ub840\\uc81c\\ud55c\\ubc95 \\uc77c\\ubd80\\uac1c\\uc815\\ubc95\\ub960\\uc548\",\"  \\ud559\\uad50\\uccb4\\uc721 \\uc9c4\\ud765\\ubc95 \\uc77c\\ubd80\\uac1c\\uc815\\ubc95\\ub960\\uc548\",\"  \\uac10\\uc5fc\\ubcd1\\uc758 \\uc608\\ubc29 \\ubc0f \\uad00\\ub9ac\\uc5d0 \\uad00\\ud55c \\ubc95\\ub960 \\uc77c\\ubd80\\uac1c\\uc815\\ubc95\\ub960\\uc548\",\"  \\ucd08\\u00b7\\uc911\\ub4f1\\uad50\\uc721\\ubc95 \\uc77c\\ubd80\\uac1c\\uc815\\ubc95\\ub960\\uc548\",\"  \\uc0b0\\uc5c5\\uc9d1\\uc801\\ud65c\\uc131\\ud654 \\ubc0f \\uacf5\\uc7a5\\uc124\\ub9bd\\uc5d0 \\uad00\\ud55c \\ubc95\\ub960 \\uc77c\\ubd80\\uac1c\\uc815\\ubc95\\ub960\\uc548\",\"  \\uc870\\uc138\\ud2b9\\ub840\\uc81c\\ud55c\\ubc95 \\uc77c\\ubd80\\uac1c\\uc815\\ubc95\\ub960\\uc548\",\"  \\ubc95\\uc778\\uc138\\ubc95 \\uc77c\\ubd80\\uac1c\\uc815\\ubc95\\ub960\\uc548\",\"  \\uc561\\ud654\\uc11d\\uc720\\uac00\\uc2a4\\uc758 \\uc548\\uc804\\uad00\\ub9ac \\ubc0f \\uc0ac\\uc5c5\\ubc95 \\uc77c\\ubd80\\uac1c\\uc815\\ubc95\\ub960\\uc548\",\"  \\uc870\\uc138\\ud2b9\\ub840\\uc81c\\ud55c\\ubc95 \\uc77c\\ubd80\\uac1c\\uc815\\ubc95\\ub960\\uc548\",\"  \\uc870\\uc138\\ud2b9\\ub840\\uc81c\\ud55c\\ubc95 \\uc77c\\ubd80\\uac1c\\uc815\\ubc95\\ub960\\uc548\",\"  \\ud2b9\\ud5c8\\ubc95 \\uc77c\\ubd80\\uac1c\\uc815\\ubc95\\ub960\\uc548\",\"  \\ubb3c\\uac00\\uc548\\uc815\\uc5d0 \\uad00\\ud55c \\ubc95\\ub960 \\uc77c\\ubd80\\uac1c\\uc815\\ubc95\\ub960\\uc548\",\"  \\uc0ac\\ub9bd\\ud559\\uad50\\ubc95 \\uc77c\\ubd80\\uac1c\\uc815\\ubc95\\ub960\\uc548\",\"  \\uace0\\ub4f1\\uad50\\uc721\\ubc95 \\uc77c\\ubd80\\uac1c\\uc815\\ubc95\\ub960\\uc548\",\"  \\uadfc\\ub85c\\uae30\\uc900\\ubc95 \\uc77c\\ubd80\\uac1c\\uc815\\ubc95\\ub960\\uc548\",\"  \\uc9c0\\ubc29\\uad50\\uc721\\uc790\\uce58\\uc5d0 \\uad00\\ud55c \\ubc95\\ub960 \\uc77c\\ubd80\\uac1c\\uc815\\ubc95\\ub960\\uc548\",\"  \\uc0ac\\ub9bd\\ud559\\uad50\\ubc95 \\uc77c\\ubd80\\uac1c\\uc815\\ubc95\\ub960\\uc548\",\"  \\uace0\\ub4f1\\uad50\\uc721\\ubc95 \\uc77c\\ubd80\\uac1c\\uc815\\ubc95\\ub960\\uc548\",\"  \\uc9c0\\ubc29\\uad50\\uc721\\uc790\\uce58\\uc5d0 \\uad00\\ud55c \\ubc95\\ub960 \\uc77c\\ubd80\\uac1c\\uc815\\ubc95\\ub960\\uc548\",\"  \\uadfc\\ub85c\\uae30\\uc900\\ubc95 \\uc77c\\ubd80\\uac1c\\uc815\\ubc95\\ub960\\uc548\",\"  \\ud55c\\uad6d\\uc0b0\\uc5c5\\uc740\\ud589\\ubc95 \\uc77c\\ubd80\\uac1c\\uc815\\ubc95\\ub960\\uc548\",\"  \\uc218\\uc0b0\\ubb3c \\uc720\\ud1b5\\uc758 \\uad00\\ub9ac \\ubc0f \\uc9c0\\uc6d0\\uc5d0 \\uad00\\ud55c \\ubc95\\ub960 \\uc77c\\ubd80\\uac1c\\uc815\\ubc95\\ub960\\uc548\",\"  \\uc218\\uc0b0\\ubb3c \\uc720\\ud1b5\\uc758 \\uad00\\ub9ac \\ubc0f \\uc9c0\\uc6d0\\uc5d0 \\uad00\\ud55c \\ubc95\\ub960 \\uc77c\\ubd80\\uac1c\\uc815\\ubc95\\ub960\\uc548\",\"  \\uadfc\\ub85c\\ubcf5\\uc9c0\\uae30\\ubcf8\\ubc95 \\uc77c\\ubd80\\uac1c\\uc815\\ubc95\\ub960\\uc548\",\"  \\uadfc\\ub85c\\ubcf5\\uc9c0\\uae30\\ubcf8\\ubc95 \\uc77c\\ubd80\\uac1c\\uc815\\ubc95\\ub960\\uc548\",\"  \\uace0\\uc6a9\\ubcf4\\ud5d8\\ubc95 \\uc77c\\ubd80\\uac1c\\uc815\\ubc95\\ub960\\uc548\",\"  \\uc870\\uc138\\ud2b9\\ub840\\uc81c\\ud55c\\ubc95 \\uc77c\\ubd80\\uac1c\\uc815\\ubc95\\ub960\\uc548\",\"  \\uac10\\uc5fc\\ubcd1\\uc758 \\uc608\\ubc29 \\ubc0f \\uad00\\ub9ac\\uc5d0 \\uad00\\ud55c \\ubc95\\ub960 \\uc77c\\ubd80\\uac1c\\uc815\\ubc95\\ub960\\uc548\",\"  \\uace0\\uc6a9\\ubcf4\\ud5d8\\ubc95 \\uc77c\\ubd80\\uac1c\\uc815\\ubc95\\ub960\\uc548\",\"  \\uc870\\uc138\\ud2b9\\ub840\\uc81c\\ud55c\\ubc95 \\uc77c\\ubd80\\uac1c\\uc815\\ubc95\\ub960\\uc548\",\"  \\uac10\\uc5fc\\ubcd1\\uc758 \\uc608\\ubc29 \\ubc0f \\uad00\\ub9ac\\uc5d0 \\uad00\\ud55c \\ubc95\\ub960 \\uc77c\\ubd80\\uac1c\\uc815\\ubc95\\ub960\\uc548\",\"  \\uac10\\uc5fc\\ubcd1\\uc758 \\uc608\\ubc29 \\ubc0f \\uad00\\ub9ac\\uc5d0 \\uad00\\ud55c \\ubc95\\ub960 \\uc77c\\ubd80\\uac1c\\uc815\\ubc95\\ub960\\uc548\",\"  \\uc9c0\\ubc29\\uc7ac\\uc815\\ubc95 \\uc77c\\ubd80\\uac1c\\uc815\\ubc95\\ub960\\uc548\",\"  \\uac10\\uc5fc\\ubcd1\\uc758 \\uc608\\ubc29 \\ubc0f \\uad00\\ub9ac\\uc5d0 \\uad00\\ud55c \\ubc95\\ub960 \\uc77c\\ubd80\\uac1c\\uc815\\ubc95\\ub960\\uc548\",\"  \\uac10\\uc5fc\\ubcd1\\uc758 \\uc608\\ubc29 \\ubc0f \\uad00\\ub9ac\\uc5d0 \\uad00\\ud55c \\ubc95\\ub960 \\uc77c\\ubd80\\uac1c\\uc815\\ubc95\\ub960\\uc548\",\"  \\uad6d\\uac00\\ud68c\\uacc4\\ubc95 \\uc77c\\ubd80\\uac1c\\uc815\\ubc95\\ub960\\uc548\",\"  \\uc9c0\\ubc29\\uc790\\uce58\\ub2e8\\uccb4 \\uae30\\uae08\\uad00\\ub9ac\\uae30\\ubcf8\\ubc95 \\uc77c\\ubd80\\uac1c\\uc815\\ubc95\\ub960\\uc548\",\"  \\uad6d\\uac00\\uc7ac\\uc815\\ubc95 \\uc77c\\ubd80\\uac1c\\uc815\\ubc95\\ub960\\uc548\",\"  \\ud55c\\uad6d\\ubc29\\uc1a1\\ud1b5\\uc2e0\\ub300\\ud559\\uad50 \\uc124\\ub9bd\\u318d\\uc6b4\\uc601\\uc5d0 \\uad00\\ud55c \\ubc95\\ub960\\uc548\",\"  \\uc9c0\\ubc29\\ud68c\\uacc4\\ubc95 \\uc77c\\ubd80\\uac1c\\uc815\\ubc95\\ub960\\uc548\",\"  \\uc758\\ub8cc\\ubc95 \\uc77c\\ubd80\\uac1c\\uc815\\ubc95\\ub960\\uc548\",\"  \\uac10\\uc5fc\\ubcd1\\uc758 \\uc608\\ubc29 \\ubc0f \\uad00\\ub9ac\\uc5d0 \\uad00\\ud55c \\ubc95\\ub960 \\uc77c\\ubd80\\uac1c\\uc815\\ubc95\\ub960\\uc548\",\"  \\uad6d\\uac00\\ud68c\\uacc4\\ubc95 \\uc77c\\ubd80\\uac1c\\uc815\\ubc95\\ub960\\uc548\",\"  \\uc9c0\\ubc29\\uc790\\uce58\\ub2e8\\uccb4 \\uae30\\uae08\\uad00\\ub9ac\\uae30\\ubcf8\\ubc95 \\uc77c\\ubd80\\uac1c\\uc815\\ubc95\\ub960\\uc548\",\"  \\ud55c\\uad6d\\ubc29\\uc1a1\\ud1b5\\uc2e0\\ub300\\ud559\\uad50 \\uc124\\ub9bd\\u318d\\uc6b4\\uc601\\uc5d0 \\uad00\\ud55c \\ubc95\\ub960\\uc548\",\"  \\uc9c0\\ubc29\\uc7ac\\uc815\\ubc95 \\uc77c\\ubd80\\uac1c\\uc815\\ubc95\\ub960\\uc548\",\"  \\uc9c0\\ubc29\\ud68c\\uacc4\\ubc95 \\uc77c\\ubd80\\uac1c\\uc815\\ubc95\\ub960\\uc548\",\"  \\uad6d\\uac00\\uc7ac\\uc815\\ubc95 \\uc77c\\ubd80\\uac1c\\uc815\\ubc95\\ub960\\uc548\",\"  \\uc9c0\\uc5ed\\uc758\\uc0ac \\uc591\\uc131\\uc744 \\uc704\\ud55c \\ubc95\\ub960\\uc548\",\"  \\uc778\\ucc9c\\uad6d\\uc81c\\uacf5\\ud56d\\uacf5\\uc0ac\\ubc95 \\uc77c\\ubd80\\uac1c\\uc815\\ubc95\\ub960\\uc548\",\"  \\uc9c0\\ubc29\\uc138\\ud2b9\\ub840\\uc81c\\ud55c\\ubc95 \\uc77c\\ubd80\\uac1c\\uc815\\ubc95\\ub960\\uc548\",\"  \\uacf5\\uacf5\\uc8fc\\ud0dd \\ud2b9\\ubcc4\\ubc95 \\uc77c\\ubd80\\uac1c\\uc815\\ubc95\\ub960\\uc548\",\"  \\uc870\\uc138\\ud2b9\\ub840\\uc81c\\ud55c\\ubc95 \\uc77c\\ubd80\\uac1c\\uc815\\ubc95\\ub960\\uc548\",\"  \\uc778\\ucc9c\\uad6d\\uc81c\\uacf5\\ud56d\\uacf5\\uc0ac\\ubc95 \\uc77c\\ubd80\\uac1c\\uc815\\ubc95\\ub960\\uc548\",\"  \\uc9c0\\ubc29\\uc138\\ud2b9\\ub840\\uc81c\\ud55c\\ubc95 \\uc77c\\ubd80\\uac1c\\uc815\\ubc95\\ub960\\uc548\",\"  \\uacf5\\uacf5\\uc8fc\\ud0dd \\ud2b9\\ubcc4\\ubc95 \\uc77c\\ubd80\\uac1c\\uc815\\ubc95\\ub960\\uc548\",\"  \\uc870\\uc138\\ud2b9\\ub840\\uc81c\\ud55c\\ubc95 \\uc77c\\ubd80\\uac1c\\uc815\\ubc95\\ub960\\uc548\",\"  \\uc9c0\\ubc29\\uc138\\ud2b9\\ub840\\uc81c\\ud55c\\ubc95 \\uc77c\\ubd80\\uac1c\\uc815\\ubc95\\ub960\\uc548\",\"  \\uc9c0\\ubc29\\uc138\\ud2b9\\ub840\\uc81c\\ud55c\\ubc95 \\uc77c\\ubd80\\uac1c\\uc815\\ubc95\\ub960\\uc548\",\"  \\uc870\\uc138\\ud2b9\\ub840\\uc81c\\ud55c\\ubc95 \\uc77c\\ubd80\\uac1c\\uc815\\ubc95\\ub960\\uc548\",\"  \\uc870\\uc138\\ud2b9\\ub840\\uc81c\\ud55c\\ubc95 \\uc77c\\ubd80\\uac1c\\uc815\\ubc95\\ub960\\uc548\",\"  \\uad6d\\uac00\\uc7ac\\uc815\\ubc95 \\uc77c\\ubd80\\uac1c\\uc815\\ubc95\\ub960\\uc548\",\"  \\uc9c0\\ubc29\\uc758\\ub8cc\\uc6d0\\uc758 \\uc124\\ub9bd \\ubc0f \\uc6b4\\uc601\\uc5d0 \\uad00\\ud55c \\ubc95\\ub960 \\uc77c\\ubd80\\uac1c\\uc815\\ubc95\\ub960\\uc548\",\"  \\uad6d\\uc720\\uc7ac\\uc0b0\\ud2b9\\ub840\\uc81c\\ud55c\\ubc95 \\uc77c\\ubd80\\uac1c\\uc815\\ubc95\\ub960\\uc548\",\"  \\uc9c0\\ubc29\\uc138\\ud2b9\\ub840\\uc81c\\ud55c\\ubc95 \\uc77c\\ubd80\\uac1c\\uc815\\ubc95\\ub960\\uc548\",\"  \\uc870\\uc138\\ud2b9\\ub840\\uc81c\\ud55c\\ubc95 \\uc77c\\ubd80\\uac1c\\uc815\\ubc95\\ub960\\uc548\",\"  \\uc870\\uc138\\ud2b9\\ub840\\uc81c\\ud55c\\ubc95 \\uc77c\\ubd80\\uac1c\\uc815\\ubc95\\ub960\\uc548\",\"  \\uc9c0\\ubc29\\uc138\\ud2b9\\ub840\\uc81c\\ud55c\\ubc95 \\uc77c\\ubd80\\uac1c\\uc815\\ubc95\\ub960\\uc548\",\"  \\uad6d\\uac00\\uc7ac\\uc815\\ubc95 \\uc77c\\ubd80\\uac1c\\uc815\\ubc95\\ub960\\uc548\",\"  \\uc9c0\\ubc29\\uc758\\ub8cc\\uc6d0\\uc758 \\uc124\\ub9bd \\ubc0f \\uc6b4\\uc601\\uc5d0 \\uad00\\ud55c \\ubc95\\ub960 \\uc77c\\ubd80\\uac1c\\uc815\\ubc95\\ub960\\uc548\",\"  \\uad6d\\uc720\\uc7ac\\uc0b0\\ud2b9\\ub840\\uc81c\\ud55c\\ubc95 \\uc77c\\ubd80\\uac1c\\uc815\\ubc95\\ub960\\uc548\",\"  \\uac77\\uae30\\uc5ec\\ud589\\uae38\\uc758 \\uc870\\uc131\\u00b7\\uad00\\ub9ac \\ubc0f \\uc774\\uc6a9\\ucd09\\uc9c4\\uc5d0 \\uad00\\ud55c \\ubc95\\ub960\\uc548\",\"  \\uac77\\uae30\\uc5ec\\ud589\\uae38\\uc758 \\uc870\\uc131\\u00b7\\uad00\\ub9ac \\ubc0f \\uc774\\uc6a9\\ucd09\\uc9c4\\uc5d0 \\uad00\\ud55c \\ubc95\\ub960\\uc548\",\"  \\ubd80\\uac00\\uac00\\uce58\\uc138\\ubc95 \\uc77c\\ubd80\\uac1c\\uc815\\ubc95\\ub960\\uc548\",\"  \\ubc29\\uc1a1\\ubc95 \\uc77c\\ubd80\\uac1c\\uc815\\ubc95\\ub960\\uc548\",\"  \\ucd08\\u00b7\\uc911\\ub4f1\\uad50\\uc721\\ubc95 \\uc77c\\ubd80\\uac1c\\uc815\\ubc95\\ub960\\uc548\",\"  \\ub0a8\\ub140\\uace0\\uc6a9\\ud3c9\\ub4f1\\uacfc \\uc77c\\u00b7\\uac00\\uc815 \\uc591\\ub9bd \\uc9c0\\uc6d0\\uc5d0 \\uad00\\ud55c \\ubc95\\ub960 \\uc77c\\ubd80\\uac1c\\uc815\\ubc95\\ub960\\uc548\",\"  \\ucd08\\u00b7\\uc911\\ub4f1\\uad50\\uc721\\ubc95 \\uc77c\\ubd80\\uac1c\\uc815\\ubc95\\ub960\\uc548\",\"  \\ub0a8\\ub140\\uace0\\uc6a9\\ud3c9\\ub4f1\\uacfc \\uc77c\\u00b7\\uac00\\uc815 \\uc591\\ub9bd \\uc9c0\\uc6d0\\uc5d0 \\uad00\\ud55c \\ubc95\\ub960 \\uc77c\\ubd80\\uac1c\\uc815\\ubc95\\ub960\\uc548\",\"  \\ubd80\\uac00\\uac00\\uce58\\uc138\\ubc95 \\uc77c\\ubd80\\uac1c\\uc815\\ubc95\\ub960\\uc548\",\"  \\ubc29\\uc1a1\\ubc95 \\uc77c\\ubd80\\uac1c\\uc815\\ubc95\\ub960\\uc548\",\"  \\uac10\\uc5fc\\ubcd1\\uc758 \\uc608\\ubc29 \\ubc0f \\uad00\\ub9ac\\uc5d0 \\uad00\\ud55c \\ubc95\\ub960 \\uc77c\\ubd80\\uac1c\\uc815\\ubc95\\ub960\\uc548\",\"  \\uac10\\uc5fc\\ubcd1\\uc758 \\uc608\\ubc29 \\ubc0f \\uad00\\ub9ac\\uc5d0 \\uad00\\ud55c \\ubc95\\ub960 \\uc77c\\ubd80\\uac1c\\uc815\\ubc95\\ub960\\uc548\",\"  \\uc0c1\\ubc95 \\uc77c\\ubd80\\uac1c\\uc815\\ubc95\\ub960\\uc548\",\"  \\uc544\\ub3d9\\ud559\\ub300\\ubc94\\uc8c4\\uc758 \\ucc98\\ubc8c \\ub4f1\\uc5d0 \\uad00\\ud55c \\ud2b9\\ub840\\ubc95 \\uc77c\\ubd80\\uac1c\\uc815\\ubc95\\ub960\\uc548\",\"  \\uc7a5\\uc560\\uc778\\uace0\\uc6a9\\ucd09\\uc9c4 \\ubc0f \\uc9c1\\uc5c5\\uc7ac\\ud65c\\ubc95 \\uc77c\\ubd80\\uac1c\\uc815\\ubc95\\ub960\\uc548\",\"  \\ud55c\\uad6d\\uad50\\uc721\\ubc29\\uc1a1\\uacf5\\uc0ac\\ubc95 \\uc77c\\ubd80\\uac1c\\uc815\\ubc95\\ub960\\uc548\",\"  \\ub300\\ubd80\\uc5c5 \\ub4f1\\uc758 \\ub4f1\\ub85d \\ubc0f \\uae08\\uc735\\uc774\\uc6a9\\uc790 \\ubcf4\\ud638\\uc5d0 \\uad00\\ud55c \\ubc95\\ub960 \\uc77c\\ubd80\\uac1c\\uc815\\ubc95\\ub960\\uc548\",\"  \\uacfc\\ud559\\uae30\\uc220\\ubd84\\uc57c \\uc815\\ubd80\\ucd9c\\uc5f0\\uc5f0\\uad6c\\uae30\\uad00 \\ub4f1\\uc758 \\uc124\\ub9bd\\u00b7\\uc6b4\\uc601 \\ubc0f \\uc721\\uc131\\uc5d0 \\uad00\\ud55c \\ubc95\\ub960 \\uc77c\\ubd80\\uac1c\\uc815\\ubc95\\ub960\\uc548\",\"  \\uc870\\uc138\\ud2b9\\ub840\\uc81c\\ud55c\\ubc95 \\uc77c\\ubd80\\uac1c\\uc815\\ubc95\\ub960\\uc548\",\"  \\ud574\\uc678\\uc9c4\\ucd9c\\uae30\\uc5c5\\uc758 \\uad6d\\ub0b4\\ubcf5\\uadc0 \\uc9c0\\uc6d0\\uc5d0 \\uad00\\ud55c \\ubc95\\ub960 \\uc77c\\ubd80\\uac1c\\uc815\\ubc95\\ub960\\uc548\",\"  \\uc774\\uc790\\uc81c\\ud55c\\ubc95 \\uc77c\\ubd80\\uac1c\\uc815\\ubc95\\ub960\\uc548\",\"  \\uc7a5\\uc560\\uc778\\uace0\\uc6a9\\ucd09\\uc9c4 \\ubc0f \\uc9c1\\uc5c5\\uc7ac\\ud65c\\ubc95 \\uc77c\\ubd80\\uac1c\\uc815\\ubc95\\ub960\\uc548\",\"  \\ud55c\\uad6d\\uad50\\uc721\\ubc29\\uc1a1\\uacf5\\uc0ac\\ubc95 \\uc77c\\ubd80\\uac1c\\uc815\\ubc95\\ub960\\uc548\",\"  \\uc544\\ub3d9\\ud559\\ub300\\ubc94\\uc8c4\\uc758 \\ucc98\\ubc8c \\ub4f1\\uc5d0 \\uad00\\ud55c \\ud2b9\\ub840\\ubc95 \\uc77c\\ubd80\\uac1c\\uc815\\ubc95\\ub960\\uc548\",\"  \\uc870\\uc138\\ud2b9\\ub840\\uc81c\\ud55c\\ubc95 \\uc77c\\ubd80\\uac1c\\uc815\\ubc95\\ub960\\uc548\",\"  \\uc0c1\\ubc95 \\uc77c\\ubd80\\uac1c\\uc815\\ubc95\\ub960\\uc548\",\"  \\ud574\\uc678\\uc9c4\\ucd9c\\uae30\\uc5c5\\uc758 \\uad6d\\ub0b4\\ubcf5\\uadc0 \\uc9c0\\uc6d0\\uc5d0 \\uad00\\ud55c \\ubc95\\ub960 \\uc77c\\ubd80\\uac1c\\uc815\\ubc95\\ub960\\uc548\",\"  \\uacfc\\ud559\\uae30\\uc220\\ubd84\\uc57c \\uc815\\ubd80\\ucd9c\\uc5f0\\uc5f0\\uad6c\\uae30\\uad00 \\ub4f1\\uc758 \\uc124\\ub9bd\\u00b7\\uc6b4\\uc601 \\ubc0f \\uc721\\uc131\\uc5d0 \\uad00\\ud55c \\ubc95\\ub960 \\uc77c\\ubd80\\uac1c\\uc815\\ubc95\\ub960\\uc548\",\"  \\ub300\\ubd80\\uc5c5 \\ub4f1\\uc758 \\ub4f1\\ub85d \\ubc0f \\uae08\\uc735\\uc774\\uc6a9\\uc790 \\ubcf4\\ud638\\uc5d0 \\uad00\\ud55c \\ubc95\\ub960 \\uc77c\\ubd80\\uac1c\\uc815\\ubc95\\ub960\\uc548\",\"  \\uc774\\uc790\\uc81c\\ud55c\\ubc95 \\uc77c\\ubd80\\uac1c\\uc815\\ubc95\\ub960\\uc548\",\"  \\ucd08\\u00b7\\uc911\\ub4f1\\uad50\\uc721\\ubc95 \\uc77c\\ubd80\\uac1c\\uc815\\ubc95\\ub960\\uc548\",\"  \\uc0b0\\uc5c5\\uc7ac\\ud574\\ubcf4\\uc0c1\\ubcf4\\ud5d8\\ubc95 \\uc77c\\ubd80\\uac1c\\uc815\\ubc95\\ub960\\uc548\",\"  \\uc9c0\\ubc29\\uc138\\ud2b9\\ub840\\uc81c\\ud55c\\ubc95 \\uc77c\\ubd80\\uac1c\\uc815\\ubc95\\ub960\\uc548\",\"  \\uc870\\uc138\\ud2b9\\ub840\\uc81c\\ud55c\\ubc95 \\uc77c\\ubd80\\uac1c\\uc815\\ubc95\\ub960\\uc548\",\"  \\uc778\\ucc9c\\uad6d\\uc81c\\uacf5\\ud56d\\uacf5\\uc0ac\\ubc95 \\uc77c\\ubd80\\uac1c\\uc815\\ubc95\\ub960\\uc548\",\"  \\ube44\\ub300\\uba74\\uc911\\uc18c\\ubca4\\ucc98\\uae30\\uc5c5 \\uc721\\uc131\\uc5d0 \\uad00\\ud55c \\ubc95\\ub960\\uc548\",\"  \\uc9c0\\ubc29\\uc138\\ud2b9\\ub840\\uc81c\\ud55c\\ubc95 \\uc77c\\ubd80\\uac1c\\uc815\\ubc95\\ub960\\uc548\",\"  \\uc870\\uc138\\ud2b9\\ub840\\uc81c\\ud55c\\ubc95 \\uc77c\\ubd80\\uac1c\\uc815\\ubc95\\ub960\\uc548\",\"  \\uc778\\ucc9c\\uad6d\\uc81c\\uacf5\\ud56d\\uacf5\\uc0ac\\ubc95 \\uc77c\\ubd80\\uac1c\\uc815\\ubc95\\ub960\\uc548\",\"  \\ucd08\\u00b7\\uc911\\ub4f1\\uad50\\uc721\\ubc95 \\uc77c\\ubd80\\uac1c\\uc815\\ubc95\\ub960\\uc548\",\"  \\ube44\\ub300\\uba74\\uc911\\uc18c\\ubca4\\ucc98\\uae30\\uc5c5 \\uc721\\uc131\\uc5d0 \\uad00\\ud55c \\ubc95\\ub960\\uc548\",\"  \\uc0b0\\uc5c5\\uc7ac\\ud574\\ubcf4\\uc0c1\\ubcf4\\ud5d8\\ubc95 \\uc77c\\ubd80\\uac1c\\uc815\\ubc95\\ub960\\uc548\",\"  \\ub0a8\\ub140\\uace0\\uc6a9\\ud3c9\\ub4f1\\uacfc \\uc77c\\u00b7\\uac00\\uc815 \\uc591\\ub9bd \\uc9c0\\uc6d0\\uc5d0 \\uad00\\ud55c \\ubc95\\ub960 \\uc77c\\ubd80\\uac1c\\uc815\\ubc95\\ub960\\uc548\",\"  \\ubd80\\uac00\\uac00\\uce58\\uc138\\ubc95 \\uc77c\\ubd80\\uac1c\\uc815\\ubc95\\ub960\\uc548\",\"  \\uc870\\uc138\\ud2b9\\ub840\\uc81c\\ud55c\\ubc95 \\uc77c\\ubd80\\uac1c\\uc815\\ubc95\\ub960\\uc548\",\"  \\ubd80\\uac00\\uac00\\uce58\\uc138\\ubc95 \\uc77c\\ubd80\\uac1c\\uc815\\ubc95\\ub960\\uc548\",\"  \\ub0a8\\ub140\\uace0\\uc6a9\\ud3c9\\ub4f1\\uacfc \\uc77c\\u00b7\\uac00\\uc815 \\uc591\\ub9bd \\uc9c0\\uc6d0\\uc5d0 \\uad00\\ud55c \\ubc95\\ub960 \\uc77c\\ubd80\\uac1c\\uc815\\ubc95\\ub960\\uc548\",\"  \\uc870\\uc138\\ud2b9\\ub840\\uc81c\\ud55c\\ubc95 \\uc77c\\ubd80\\uac1c\\uc815\\ubc95\\ub960\\uc548\",\"  \\ubc29\\uc1a1\\ubc95 \\uc77c\\ubd80\\uac1c\\uc815\\ubc95\\ub960\\uc548\",\"  \\uac10\\uc5fc\\ubcd1\\uc758 \\uc608\\ubc29 \\ubc0f \\uad00\\ub9ac\\uc5d0 \\uad00\\ud55c \\ubc95\\ub960 \\uc77c\\ubd80\\uac1c\\uc815\\ubc95\\ub960\\uc548\",\"  \\uac10\\uc5fc\\ubcd1\\uc758 \\uc608\\ubc29 \\ubc0f \\uad00\\ub9ac\\uc5d0 \\uad00\\ud55c \\ubc95\\ub960 \\uc77c\\ubd80\\uac1c\\uc815\\ubc95\\ub960\\uc548\",\"  \\ubc29\\uc1a1\\ubc95 \\uc77c\\ubd80\\uac1c\\uc815\\ubc95\\ub960\\uc548\",\"  \\uac10\\uc5fc\\ubcd1\\uc758 \\uc608\\ubc29 \\ubc0f \\uad00\\ub9ac\\uc5d0 \\uad00\\ud55c \\ubc95\\ub960 \\uc77c\\ubd80\\uac1c\\uc815\\ubc95\\ub960\\uc548\",\"  \\uac10\\uc5fc\\ubcd1\\uc758 \\uc608\\ubc29 \\ubc0f \\uad00\\ub9ac\\uc5d0 \\uad00\\ud55c \\ubc95\\ub960 \\uc77c\\ubd80\\uac1c\\uc815\\ubc95\\ub960\\uc548\",\"  \\uc778\\ucc9c\\uad6d\\uc81c\\uacf5\\ud56d\\uacf5\\uc0ac\\ubc95 \\uc77c\\ubd80\\uac1c\\uc815\\ubc95\\ub960\\uc548\",\"  \\uc778\\ucc9c\\uad6d\\uc81c\\uacf5\\ud56d\\uacf5\\uc0ac\\ubc95 \\uc77c\\ubd80\\uac1c\\uc815\\ubc95\\ub960\\uc548\",\"  \\ubd80\\uac00\\uac00\\uce58\\uc138\\ubc95 \\uc77c\\ubd80\\uac1c\\uc815\\ubc95\\ub960\\uc548\",\"  \\ubd80\\uac00\\uac00\\uce58\\uc138\\ubc95 \\uc77c\\ubd80\\uac1c\\uc815\\ubc95\\ub960\\uc548\",\"  \\uc9c0\\ubc29\\uc138\\ud2b9\\ub840\\uc81c\\ud55c\\ubc95 \\uc77c\\ubd80\\uac1c\\uc815\\ubc95\\ub960\\uc548\",\"  \\uc9c0\\ubc29\\uc138\\ud2b9\\ub840\\uc81c\\ud55c\\ubc95 \\uc77c\\ubd80\\uac1c\\uc815\\ubc95\\ub960\\uc548\",\"  \\uc7a5\\uc560\\uc778\\ucc28\\ubcc4\\uae08\\uc9c0 \\ubc0f \\uad8c\\ub9ac\\uad6c\\uc81c \\ub4f1\\uc5d0 \\uad00\\ud55c \\ubc95\\ub960 \\uc77c\\ubd80\\uac1c\\uc815\\ubc95\\ub960\\uc548\",\"  \\uc720\\ud1b5\\uc0b0\\uc5c5\\ubc1c\\uc804\\ubc95 \\uc77c\\ubd80\\uac1c\\uc815\\ubc95\\ub960\\uc548\",\"  \\uc7a5\\uc560\\uc778\\ucc28\\ubcc4\\uae08\\uc9c0 \\ubc0f \\uad8c\\ub9ac\\uad6c\\uc81c \\ub4f1\\uc5d0 \\uad00\\ud55c \\ubc95\\ub960 \\uc77c\\ubd80\\uac1c\\uc815\\ubc95\\ub960\\uc548\",\"  \\uc720\\ud1b5\\uc0b0\\uc5c5\\ubc1c\\uc804\\ubc95 \\uc77c\\ubd80\\uac1c\\uc815\\ubc95\\ub960\\uc548\",\"  \\uc7ac\\ub09c \\ubc0f \\uc548\\uc804\\uad00\\ub9ac \\uae30\\ubcf8\\ubc95 \\uc77c\\ubd80\\uac1c\\uc815\\ubc95\\ub960\\uc548\",\"  \\uc870\\uc138\\ud2b9\\ub840\\uc81c\\ud55c\\ubc95 \\uc77c\\ubd80\\uac1c\\uc815\\ubc95\\ub960\\uc548\",\"  \\uc0dd\\ud65c\\uccb4\\uc721\\uc9c4\\ud765\\ubc95 \\uc77c\\ubd80\\uac1c\\uc815\\ubc95\\ub960\\uc548\",\"  \\ud559\\uad50\\uccb4\\uc721 \\uc9c4\\ud765\\ubc95 \\uc77c\\ubd80\\uac1c\\uc815\\ubc95\\ub960\\uc548\",\"  \\uc528\\ub984 \\uc9c4\\ud765\\ubc95 \\uc77c\\ubd80\\uac1c\\uc815\\ubc95\\ub960\\uc548\",\"  \\uad00\\uad11\\uae30\\ubcf8\\ubc95 \\uc77c\\ubd80\\uac1c\\uc815\\ubc95\\ub960\\uc548\",\"  \\uc9c0\\ubc29\\uc7ac\\uc815\\ubc95 \\uc77c\\ubd80\\uac1c\\uc815\\ubc95\\ub960\\uc548\",\"  \\uace0\\ub4f1\\uad50\\uc721\\ubc95 \\uc77c\\ubd80\\uac1c\\uc815\\ubc95\\ub960\\uc548\",\"  \\uc790\\uc6d0\\uc758 \\uc808\\uc57d\\uacfc \\uc7ac\\ud65c\\uc6a9\\ucd09\\uc9c4\\uc5d0 \\uad00\\ud55c \\ubc95\\ub960 \\uc77c\\ubd80\\uac1c\\uc815\\ubc95\\ub960\\uc548\",\"  \\uc804\\ud1b5\\ubb34\\uc608\\uc9c4\\ud765\\ubc95 \\uc77c\\ubd80\\uac1c\\uc815\\ubc95\\ub960\\uc548\",\"  \\ud0dc\\uad8c\\ub3c4 \\uc9c4\\ud765 \\ubc0f \\ud0dc\\uad8c\\ub3c4\\uacf5\\uc6d0 \\uc870\\uc131 \\ub4f1\\uc5d0 \\uad00\\ud55c \\ubc95\\ub960 \\uc77c\\ubd80\\uac1c\\uc815\\ubc95\\ub960\\uc548\",\"  \\uc2a4\\ud3ec\\uce20\\uc0b0\\uc5c5 \\uc9c4\\ud765\\ubc95 \\uc77c\\ubd80\\uac1c\\uc815\\ubc95\\ub960\\uc548\",\"  \\uad6d\\uc81c\\ud68c\\uc758\\uc0b0\\uc5c5 \\uc721\\uc131\\uc5d0 \\uad00\\ud55c \\ubc95\\ub960 \\uc77c\\ubd80\\uac1c\\uc815\\ubc95\\ub960\\uc548\",\"  \\uccb4\\uc721\\uc2dc\\uc124\\uc758 \\uc124\\uce58\\u00b7\\uc774\\uc6a9\\uc5d0 \\uad00\\ud55c \\ubc95\\ub960 \\uc77c\\ubd80\\uac1c\\uc815\\ubc95\\ub960\\uc548\",\"  \\uac10\\uc5fc\\ubcd1\\uc758 \\uc608\\ubc29 \\ubc0f \\uad00\\ub9ac\\uc5d0 \\uad00\\ud55c \\ubc95\\ub960 \\uc77c\\ubd80\\uac1c\\uc815\\ubc95\\ub960\\uc548\",\"  \\uace0\\ub4f1\\uad50\\uc721\\ubc95 \\uc77c\\ubd80\\uac1c\\uc815\\ubc95\\ub960\\uc548\",\"  \\uc9c0\\ubc29\\uc7ac\\uc815\\ubc95 \\uc77c\\ubd80\\uac1c\\uc815\\ubc95\\ub960\\uc548\",\"  \\uc870\\uc138\\ud2b9\\ub840\\uc81c\\ud55c\\ubc95 \\uc77c\\ubd80\\uac1c\\uc815\\ubc95\\ub960\\uc548\",\"  \\uc7ac\\ub09c \\ubc0f \\uc548\\uc804\\uad00\\ub9ac \\uae30\\ubcf8\\ubc95 \\uc77c\\ubd80\\uac1c\\uc815\\ubc95\\ub960\\uc548\",\"  \\uad00\\uad11\\uae30\\ubcf8\\ubc95 \\uc77c\\ubd80\\uac1c\\uc815\\ubc95\\ub960\\uc548\",\"  \\uc528\\ub984 \\uc9c4\\ud765\\ubc95 \\uc77c\\ubd80\\uac1c\\uc815\\ubc95\\ub960\\uc548\",\"  \\uc0dd\\ud65c\\uccb4\\uc721\\uc9c4\\ud765\\ubc95 \\uc77c\\ubd80\\uac1c\\uc815\\ubc95\\ub960\\uc548\",\"  \\ud559\\uad50\\uccb4\\uc721 \\uc9c4\\ud765\\ubc95 \\uc77c\\ubd80\\uac1c\\uc815\\ubc95\\ub960\\uc548\",\"  \\uc790\\uc6d0\\uc758 \\uc808\\uc57d\\uacfc \\uc7ac\\ud65c\\uc6a9\\ucd09\\uc9c4\\uc5d0 \\uad00\\ud55c \\ubc95\\ub960 \\uc77c\\ubd80\\uac1c\\uc815\\ubc95\\ub960\\uc548\",\"  \\uccb4\\uc721\\uc2dc\\uc124\\uc758 \\uc124\\uce58\\u00b7\\uc774\\uc6a9\\uc5d0 \\uad00\\ud55c \\ubc95\\ub960 \\uc77c\\ubd80\\uac1c\\uc815\\ubc95\\ub960\\uc548\",\"  \\uac10\\uc5fc\\ubcd1\\uc758 \\uc608\\ubc29 \\ubc0f \\uad00\\ub9ac\\uc5d0 \\uad00\\ud55c \\ubc95\\ub960 \\uc77c\\ubd80\\uac1c\\uc815\\ubc95\\ub960\\uc548\",\"  \\uc804\\ud1b5\\ubb34\\uc608\\uc9c4\\ud765\\ubc95 \\uc77c\\ubd80\\uac1c\\uc815\\ubc95\\ub960\\uc548\",\"  \\ud0dc\\uad8c\\ub3c4 \\uc9c4\\ud765 \\ubc0f \\ud0dc\\uad8c\\ub3c4\\uacf5\\uc6d0 \\uc870\\uc131 \\ub4f1\\uc5d0 \\uad00\\ud55c \\ubc95\\ub960 \\uc77c\\ubd80\\uac1c\\uc815\\ubc95\\ub960\\uc548\",\"  \\uc2a4\\ud3ec\\uce20\\uc0b0\\uc5c5 \\uc9c4\\ud765\\ubc95 \\uc77c\\ubd80\\uac1c\\uc815\\ubc95\\ub960\\uc548\",\"  \\uad6d\\uc81c\\ud68c\\uc758\\uc0b0\\uc5c5 \\uc721\\uc131\\uc5d0 \\uad00\\ud55c \\ubc95\\ub960 \\uc77c\\ubd80\\uac1c\\uc815\\ubc95\\ub960\\uc548\",\"  \\ud3d0\\uae30\\ubb3c\\uad00\\ub9ac\\ubc95 \\uc77c\\ubd80\\uac1c\\uc815\\ubc95\\ub960\\uc548\",\"  \\uc18c\\uc0c1\\uacf5\\uc778 \\ubcf4\\ud638 \\ubc0f \\uc9c0\\uc6d0\\uc5d0 \\uad00\\ud55c \\ubc95\\ub960 \\uc77c\\ubd80\\uac1c\\uc815\\ubc95\\ub960\\uc548\",\"  \\uac10\\uc5fc\\ubcd1\\uc758 \\uc608\\ubc29 \\ubc0f \\uad00\\ub9ac\\uc5d0 \\uad00\\ud55c \\ubc95\\ub960 \\uc77c\\ubd80\\uac1c\\uc815\\ubc95\\ub960\\uc548\",\"  \\uc804\\uae30\\uc0ac\\uc5c5\\ubc95 \\uc77c\\ubd80\\uac1c\\uc815\\ubc95\\ub960\\uc548\",\"  \\uac10\\uc5fc\\ubcd1\\uc758 \\uc608\\ubc29 \\ubc0f \\uad00\\ub9ac\\uc5d0 \\uad00\\ud55c \\ubc95\\ub960 \\uc77c\\ubd80\\uac1c\\uc815\\ubc95\\ub960\\uc548\",\"  \\uac10\\uc5fc\\ubcd1\\uc758 \\uc608\\ubc29 \\ubc0f \\uad00\\ub9ac\\uc5d0 \\uad00\\ud55c \\ubc95\\ub960 \\uc77c\\ubd80\\uac1c\\uc815\\ubc95\\ub960\\uc548\",\"  \\ud3d0\\uae30\\ubb3c\\uad00\\ub9ac\\ubc95 \\uc77c\\ubd80\\uac1c\\uc815\\ubc95\\ub960\\uc548\",\"  \\uc18c\\uc0c1\\uacf5\\uc778 \\ubcf4\\ud638 \\ubc0f \\uc9c0\\uc6d0\\uc5d0 \\uad00\\ud55c \\ubc95\\ub960 \\uc77c\\ubd80\\uac1c\\uc815\\ubc95\\ub960\\uc548\",\"  \\uc804\\uae30\\uc0ac\\uc5c5\\ubc95 \\uc77c\\ubd80\\uac1c\\uc815\\ubc95\\ub960\\uc548\",\"  \\uac10\\uc5fc\\ubcd1\\uc758 \\uc608\\ubc29 \\ubc0f \\uad00\\ub9ac\\uc5d0 \\uad00\\ud55c \\ubc95\\ub960 \\uc77c\\ubd80\\uac1c\\uc815\\ubc95\\ub960\\uc548\"],\"BillNo\":[2024549,2024556,2024555,2024582,2024584,2024596,2024597,2024612,2024611,2024626,2024634,2024650,2024654,2024655,2024788,2024787,2024789,2024804,2024805,2024803,2024811,2024814,2024816,2024821,2024828,2024831,2024832,2024833,2024851,2024863,2024871,2024872,2024873,2100038,2100048,2100049,2100033,2100002,2100004,2100005,2100006,2100007,2100009,2100010,2100011,2100116,2100119,2100087,2100160,2100166,2100170,2100171,2100173,2100174,2100229,2100225,2100208,2100191,2100198,2100194,2100200,2100270,2100281,2100250,2100253,2100306,2100286,2100327,2100324,2100317,2100318,2100319,2100316,2100376,2100387,2100396,2100386,2100372,2100356,2100367,2100364,2100359,2100449,2100403,2100423,2100417,2100480,2100484,2100564,2100566,2100559,2100512,2100508,2100499,2100534,2100620,2100621,2100671,2100679,2100686,2100659,2100633,2100641,2100653,2100657,2100744,2100710,2100709,2100708,2100714,2100716,2100715,2100741,2100717,2100841,2100844,2100830,2100827,2100808,2100809,2100906,2100861,2100880,2100860,2100873,2100879,2100973,2100977,2100979,2101072,2101039,2101051,2101151,2101155,2101215,2101204,2101206,2101205,2101234,2101170,2101273,2101253,2101265,2101352,2101332,2101298,2101306,2101310,2101427,2101431,2101433,2101449,2101446,2101439,2101381,2101383,2101385,2101471,2101470,2101467,2101493,2101581,2101587,2101598,2101543,2101544,2101569,2101565,2101659,2101663,2101672,2101666,2101665,2101636,2101629,2101690,2101684,2101678,2101697,2101793,2101789,2101799,2101801,2101778,2101781,2101856,2101857,2101866,2101860,2101871,2101817,2101841,2101838,2101832,2101831,2101948,2101935,2101889,2101997,2101994,2102000,2102002,2102011,2102012,2101958,2101964,2101980,2101978,2101977,2101981,2102042,2102023,2102025,2102109,2102093,2102113,2102089,2102079,2102114,2102143,2102145,2102150,2102195,2102163,2102177,2102184,2102262,2102261,2102260,2102259,2102262,2102261,2102259,2102260,2102239,2102272,2102272,2102323,2102323,2102381,2102348,2102358,2102381,2102348,2102358,2102402,2102421,2102402,2102410,2102415,2102416,2102417,2102418,2102422,2102391,2102410,2102415,2102416,2102418,2102421,2102422,2102417,2102390,2102441,2102437,2102431,2102430,2102441,2102437,2102431,2102430,2102494,2102496,2102497,2102498,2102467,2102470,2102471,2102496,2102497,2102498,2102494,2102467,2102470,2102471,2102501,2102501,2102603,2102549,2102592,2102580,2102592,2102580,2102603,2102549,2102648,2102648,2102656,2102680,2102676,2102686,2102689,2102662,2102669,2102670,2102690,2102676,2102686,2102680,2102669,2102656,2102670,2102662,2102689,2102690,2102716,2102709,2102698,2102699,2102702,2102711,2102698,2102699,2102702,2102716,2102711,2102709,2102813,2102805,2102778,2102805,2102813,2102778,2102840,2102845,2102845,2102840,2102875,2102875,2102946,2102946,2102981,2102981,2103034,2103034,2103051,2103062,2103051,2103062,2103104,2103103,2103122,2103123,2103124,2103125,2103101,2103100,2103098,2103092,2103093,2103094,2103095,2103097,2103086,2103100,2103101,2103103,2103104,2103125,2103124,2103122,2103123,2103098,2103097,2103086,2103092,2103093,2103094,2103095,2103145,2103127,2103136,2103135,2103154,2103154,2103145,2103127,2103135,2103136],\"cluster_no\":[2,2,2,2,2,2,2,2,2,2,2,2,2,0,1,2,2,1,1,1,0,0,2,2,2,1,1,2,0,2,0,0,0,2,1,0,2,2,2,2,1,2,2,2,0,1,1,2,1,1,2,1,1,1,1,2,2,0,1,2,1,0,0,0,1,2,1,0,2,1,1,1,1,1,2,2,2,1,0,1,0,0,2,1,2,2,1,1,1,1,2,0,2,1,2,2,2,2,2,2,1,2,1,1,2,0,1,1,1,0,0,0,2,2,1,1,0,1,0,2,1,0,1,0,1,1,1,1,1,1,1,0,1,1,2,2,2,2,0,1,2,2,1,1,1,1,2,2,1,0,1,0,1,0,1,1,0,1,1,1,1,0,2,2,2,2,2,2,2,2,1,1,1,1,0,0,2,2,1,2,1,2,2,1,1,0,0,2,1,0,1,2,2,2,2,1,0,2,1,1,2,1,1,1,0,0,1,1,1,1,1,0,1,0,1,1,2,2,1,1,1,1,0,0,1,2,2,2,1,2,2,2,2,1,1,1,1,1,1,1,2,2,1,2,2,2,3,2,2,3,3,3,1,3,1,2,3,3,1,3,3,3,1,1,0,1,0,1,0,1,0,0,1,1,0,1,1,1,1,1,0,0,1,1,1,1,1,0,1,2,1,2,1,0,1,2,2,1,1,1,2,1,2,0,1,1,1,2,1,0,1,1,2,1,1,2,1,0,0,1,1,0,0,1,2,1,1,1,0,0,0,1,0,1,2,2,1,2,2,1,1,0,0,0,0,1,1,1,1,2,1,2,2,2,2,3,2,1,2,2,2,2,2,2,2,3,1,2,2,2,2,2,1,2,2,2,2,2,2,2,1,2,1,2,2,2,1,1,2],\"color\":[\"#fdae61\",\"#fdae61\",\"#fdae61\",\"#fdae61\",\"#fdae61\",\"#fdae61\",\"#fdae61\",\"#fdae61\",\"#fdae61\",\"#fdae61\",\"#fdae61\",\"#fdae61\",\"#fdae61\",\"#2b83ba\",\"#abdda4\",\"#fdae61\",\"#fdae61\",\"#abdda4\",\"#abdda4\",\"#abdda4\",\"#2b83ba\",\"#2b83ba\",\"#fdae61\",\"#fdae61\",\"#fdae61\",\"#abdda4\",\"#abdda4\",\"#fdae61\",\"#2b83ba\",\"#fdae61\",\"#2b83ba\",\"#2b83ba\",\"#2b83ba\",\"#fdae61\",\"#abdda4\",\"#2b83ba\",\"#fdae61\",\"#fdae61\",\"#fdae61\",\"#fdae61\",\"#abdda4\",\"#fdae61\",\"#fdae61\",\"#fdae61\",\"#2b83ba\",\"#abdda4\",\"#abdda4\",\"#fdae61\",\"#abdda4\",\"#abdda4\",\"#fdae61\",\"#abdda4\",\"#abdda4\",\"#abdda4\",\"#abdda4\",\"#fdae61\",\"#fdae61\",\"#2b83ba\",\"#abdda4\",\"#fdae61\",\"#abdda4\",\"#2b83ba\",\"#2b83ba\",\"#2b83ba\",\"#abdda4\",\"#fdae61\",\"#abdda4\",\"#2b83ba\",\"#fdae61\",\"#abdda4\",\"#abdda4\",\"#abdda4\",\"#abdda4\",\"#abdda4\",\"#fdae61\",\"#fdae61\",\"#fdae61\",\"#abdda4\",\"#2b83ba\",\"#abdda4\",\"#2b83ba\",\"#2b83ba\",\"#fdae61\",\"#abdda4\",\"#fdae61\",\"#fdae61\",\"#abdda4\",\"#abdda4\",\"#abdda4\",\"#abdda4\",\"#fdae61\",\"#2b83ba\",\"#fdae61\",\"#abdda4\",\"#fdae61\",\"#fdae61\",\"#fdae61\",\"#fdae61\",\"#fdae61\",\"#fdae61\",\"#abdda4\",\"#fdae61\",\"#abdda4\",\"#abdda4\",\"#fdae61\",\"#2b83ba\",\"#abdda4\",\"#abdda4\",\"#abdda4\",\"#2b83ba\",\"#2b83ba\",\"#2b83ba\",\"#fdae61\",\"#fdae61\",\"#abdda4\",\"#abdda4\",\"#2b83ba\",\"#abdda4\",\"#2b83ba\",\"#fdae61\",\"#abdda4\",\"#2b83ba\",\"#abdda4\",\"#2b83ba\",\"#abdda4\",\"#abdda4\",\"#abdda4\",\"#abdda4\",\"#abdda4\",\"#abdda4\",\"#abdda4\",\"#2b83ba\",\"#abdda4\",\"#abdda4\",\"#fdae61\",\"#fdae61\",\"#fdae61\",\"#fdae61\",\"#2b83ba\",\"#abdda4\",\"#fdae61\",\"#fdae61\",\"#abdda4\",\"#abdda4\",\"#abdda4\",\"#abdda4\",\"#fdae61\",\"#fdae61\",\"#abdda4\",\"#2b83ba\",\"#abdda4\",\"#2b83ba\",\"#abdda4\",\"#2b83ba\",\"#abdda4\",\"#abdda4\",\"#2b83ba\",\"#abdda4\",\"#abdda4\",\"#abdda4\",\"#abdda4\",\"#2b83ba\",\"#fdae61\",\"#fdae61\",\"#fdae61\",\"#fdae61\",\"#fdae61\",\"#fdae61\",\"#fdae61\",\"#fdae61\",\"#abdda4\",\"#abdda4\",\"#abdda4\",\"#abdda4\",\"#2b83ba\",\"#2b83ba\",\"#fdae61\",\"#fdae61\",\"#abdda4\",\"#fdae61\",\"#abdda4\",\"#fdae61\",\"#fdae61\",\"#abdda4\",\"#abdda4\",\"#2b83ba\",\"#2b83ba\",\"#fdae61\",\"#abdda4\",\"#2b83ba\",\"#abdda4\",\"#fdae61\",\"#fdae61\",\"#fdae61\",\"#fdae61\",\"#abdda4\",\"#2b83ba\",\"#fdae61\",\"#abdda4\",\"#abdda4\",\"#fdae61\",\"#abdda4\",\"#abdda4\",\"#abdda4\",\"#2b83ba\",\"#2b83ba\",\"#abdda4\",\"#abdda4\",\"#abdda4\",\"#abdda4\",\"#abdda4\",\"#2b83ba\",\"#abdda4\",\"#2b83ba\",\"#abdda4\",\"#abdda4\",\"#fdae61\",\"#fdae61\",\"#abdda4\",\"#abdda4\",\"#abdda4\",\"#abdda4\",\"#2b83ba\",\"#2b83ba\",\"#abdda4\",\"#fdae61\",\"#fdae61\",\"#fdae61\",\"#abdda4\",\"#fdae61\",\"#fdae61\",\"#fdae61\",\"#fdae61\",\"#abdda4\",\"#abdda4\",\"#abdda4\",\"#abdda4\",\"#abdda4\",\"#abdda4\",\"#abdda4\",\"#fdae61\",\"#fdae61\",\"#abdda4\",\"#fdae61\",\"#fdae61\",\"#fdae61\",\"#d7191c\",\"#fdae61\",\"#fdae61\",\"#d7191c\",\"#d7191c\",\"#d7191c\",\"#abdda4\",\"#d7191c\",\"#abdda4\",\"#fdae61\",\"#d7191c\",\"#d7191c\",\"#abdda4\",\"#d7191c\",\"#d7191c\",\"#d7191c\",\"#abdda4\",\"#abdda4\",\"#2b83ba\",\"#abdda4\",\"#2b83ba\",\"#abdda4\",\"#2b83ba\",\"#abdda4\",\"#2b83ba\",\"#2b83ba\",\"#abdda4\",\"#abdda4\",\"#2b83ba\",\"#abdda4\",\"#abdda4\",\"#abdda4\",\"#abdda4\",\"#abdda4\",\"#2b83ba\",\"#2b83ba\",\"#abdda4\",\"#abdda4\",\"#abdda4\",\"#abdda4\",\"#abdda4\",\"#2b83ba\",\"#abdda4\",\"#fdae61\",\"#abdda4\",\"#fdae61\",\"#abdda4\",\"#2b83ba\",\"#abdda4\",\"#fdae61\",\"#fdae61\",\"#abdda4\",\"#abdda4\",\"#abdda4\",\"#fdae61\",\"#abdda4\",\"#fdae61\",\"#2b83ba\",\"#abdda4\",\"#abdda4\",\"#abdda4\",\"#fdae61\",\"#abdda4\",\"#2b83ba\",\"#abdda4\",\"#abdda4\",\"#fdae61\",\"#abdda4\",\"#abdda4\",\"#fdae61\",\"#abdda4\",\"#2b83ba\",\"#2b83ba\",\"#abdda4\",\"#abdda4\",\"#2b83ba\",\"#2b83ba\",\"#abdda4\",\"#fdae61\",\"#abdda4\",\"#abdda4\",\"#abdda4\",\"#2b83ba\",\"#2b83ba\",\"#2b83ba\",\"#abdda4\",\"#2b83ba\",\"#abdda4\",\"#fdae61\",\"#fdae61\",\"#abdda4\",\"#fdae61\",\"#fdae61\",\"#abdda4\",\"#abdda4\",\"#2b83ba\",\"#2b83ba\",\"#2b83ba\",\"#2b83ba\",\"#abdda4\",\"#abdda4\",\"#abdda4\",\"#abdda4\",\"#fdae61\",\"#abdda4\",\"#fdae61\",\"#fdae61\",\"#fdae61\",\"#fdae61\",\"#d7191c\",\"#fdae61\",\"#abdda4\",\"#fdae61\",\"#fdae61\",\"#fdae61\",\"#fdae61\",\"#fdae61\",\"#fdae61\",\"#fdae61\",\"#d7191c\",\"#abdda4\",\"#fdae61\",\"#fdae61\",\"#fdae61\",\"#fdae61\",\"#fdae61\",\"#abdda4\",\"#fdae61\",\"#fdae61\",\"#fdae61\",\"#fdae61\",\"#fdae61\",\"#fdae61\",\"#fdae61\",\"#abdda4\",\"#fdae61\",\"#abdda4\",\"#fdae61\",\"#fdae61\",\"#fdae61\",\"#abdda4\",\"#abdda4\",\"#fdae61\"],\"x_coord\":[-6.049649715423584,4.36795711517334,-2.4154255390167236,-5.064430236816406,-9.23056697845459,-1.842342734336853,-5.918168067932129,-3.009331464767456,-2.2327957153320312,3.678804397583008,-3.907864570617676,2.770961284637451,0.6083364486694336,17.320669174194336,18.310470581054688,6.365820407867432,-0.6263183951377869,16.776641845703125,16.675735473632812,18.941762924194336,23.69147491455078,16.85963249206543,-2.673868417739868,1.703269600868225,9.445880889892578,-11.56096076965332,4.270055770874023,-3.5023281574249268,14.996428489685059,-9.146471977233887,19.12114143371582,19.763629913330078,15.905791282653809,-0.6836822032928467,-18.75822639465332,21.867874145507812,-3.890819787979126,-4.547455310821533,-6.907468795776367,-18.583345413208008,3.221414566040039,2.0248634815216064,-1.6275784969329834,2.1886322498321533,14.035292625427246,16.965303421020508,-15.402241706848145,-5.797753810882568,7.828303813934326,-5.385739803314209,-2.9648380279541016,15.224671363830566,21.13162612915039,20.988515853881836,2.386939525604248,-1.8351855278015137,2.7709107398986816,20.15936279296875,-7.629751205444336,4.466660499572754,-17.389131546020508,13.504816055297852,22.34267807006836,20.63278579711914,15.638895988464355,-2.611307382583618,-22.17857551574707,17.03227424621582,-1.980605959892273,4.217670440673828,11.906039237976074,12.09801197052002,11.583420753479004,-11.552728652954102,-21.94356918334961,0.08186959475278854,-3.590951442718506,11.84502124786377,7.80473518371582,5.403781890869141,23.17359161376953,7.006910800933838,-6.755351543426514,11.29313850402832,9.445857048034668,-8.11552619934082,11.386638641357422,-10.511868476867676,-2.9864325523376465,-6.50271463394165,-0.9536628127098083,12.64738941192627,-21.866226196289062,11.13837718963623,-20.2294921875,-2.526585817337036,-7.74509334564209,-7.442060470581055,1.8677419424057007,21.835662841796875,-9.064216613769531,-19.312665939331055,1.0545318126678467,0.9272276759147644,-1.3235576152801514,14.737619400024414,-19.356613159179688,-18.27219581604004,-18.830507278442383,24.8924503326416,7.823083877563477,8.263100624084473,-3.860441207885742,-1.8164408206939697,1.4911564588546753,4.7903594970703125,13.025192260742188,5.9233832359313965,21.261138916015625,-4.523088455200195,-1.9144058227539062,10.48275375366211,12.33985424041748,12.244301795959473,-6.203078746795654,9.373193740844727,-0.15050657093524933,0.7865508794784546,-3.4712507724761963,5.10414457321167,3.228893518447876,17.75336265563965,-14.33127212524414,-14.52258014678955,-9.193680763244629,-4.193057537078857,-5.336818218231201,-5.316915035247803,11.525589942932129,-0.897812008857727,-12.451545715332031,-2.2596728801727295,-21.12955665588379,2.506739377975464,-7.177122592926025,-2.2493886947631836,0.8767725229263306,-3.9836349487304688,3.5978074073791504,21.57823944091797,16.488300323486328,19.150663375854492,4.344581604003906,23.89594841003418,14.879281997680664,15.153709411621094,13.693144798278809,-10.62124252319336,-10.621269226074219,21.401073455810547,-7.471083164215088,15.92013931274414,-1.2218106985092163,-10.818286895751953,-10.874814987182617,-3.043698787689209,-3.0917000770568848,-8.56679916381836,-1.958769679069519,-7.111236572265625,-1.8287394046783447,-22.271011352539062,-21.75801658630371,8.814817428588867,21.432008743286133,22.403804779052734,-21.279848098754883,8.183995246887207,-4.97188663482666,-2.2966177463531494,8.06368637084961,-8.192212104797363,-4.364947319030762,-16.526220321655273,7.527404308319092,21.12672996520996,21.140087127685547,-5.071372032165527,16.366436004638672,22.09490966796875,5.477774620056152,-6.60192346572876,-5.301798343658447,-8.718633651733398,0.6015208959579468,4.277077674865723,12.407649040222168,1.8293590545654297,6.698824405670166,-0.12097615003585815,-7.8940887451171875,-0.39100968837738037,7.147216320037842,6.618004322052002,19.465974807739258,22.538253784179688,4.681717872619629,6.81189489364624,-19.123571395874023,5.057372570037842,11.214151382446289,21.53116798400879,9.225574493408203,10.541742324829102,11.164457321166992,-3.398948907852173,-9.02061939239502,-11.289834976196289,-1.5933226346969604,21.822160720825195,21.77532386779785,0.12451065331697464,9.8073148727417,13.010822296142578,3.0692620277404785,2.5526604652404785,-17.45032501220703,-19.3252010345459,-9.836714744567871,-15.565102577209473,-17.450714111328125,-19.660789489746094,-15.565030097961426,-9.833985328674316,6.778934478759766,2.274030923843384,2.2740814685821533,5.461078643798828,5.460957050323486,7.691972255706787,-10.097806930541992,-4.244284152984619,7.692013263702393,0.6610628962516785,-4.244717121124268,-10.123103141784668,-28.644046783447266,-10.123103141784668,1.298620581626892,-30.049715042114258,-28.858570098876953,-30.926300048828125,-7.360164642333984,-27.898181915283203,-19.921072006225586,1.7259124517440796,-29.9407901763916,-29.723854064941406,-7.360164642333984,-28.006006240844727,-29.75153350830078,-31.097806930541992,-18.79116439819336,15.902742385864258,19.637479782104492,13.959980964660645,11.051733016967773,17.225982666015625,19.637939453125,13.960076332092285,11.051612854003906,9.091670989990234,-20.37479019165039,-20.780858993530273,18.0328426361084,-3.938537120819092,-17.168107986450195,-16.698467254638672,-20.896638870239258,-21.46312713623047,18.032123565673828,9.091670989990234,-3.938537120819092,-17.167356491088867,-16.698461532592773,-5.224632263183594,-5.224835395812988,23.013614654541016,3.806676149368286,-0.3895905315876007,2.4500041007995605,-0.38959047198295593,2.4497556686401367,22.091548919677734,3.8069355487823486,-7.615800857543945,-7.616163730621338,3.6911346912384033,1.479180932044983,7.218240737915039,9.727341651916504,-19.890766143798828,-7.604854106903076,14.394787788391113,9.963937759399414,-20.58428955078125,7.218096733093262,9.727632522583008,1.4792314767837524,14.394649505615234,3.6912784576416016,9.96392822265625,-7.604878902435303,-20.359819412231445,-19.997705459594727,-11.240385055541992,-9.43547248840332,10.319355964660645,11.221129417419434,16.58401870727539,15.456244468688965,10.705120086669922,11.221129417419434,16.552356719970703,-11.240327835083008,15.45639419555664,-9.43547248840332,-7.221085548400879,24.253164291381836,9.011831283569336,23.415454864501953,-7.221085548400879,9.011831283569336,6.388542175292969,6.548192977905273,6.850028038024902,6.388473987579346,1.3919892311096191,0.8209583163261414,17.27082633972168,15.870780944824219,23.4147891998291,24.02790641784668,7.221325874328613,7.222119331359863,-2.2216954231262207,-1.646551251411438,-2.2217440605163574,-1.6465519666671753,-13.680333137512207,4.134576797485352,-16.495668411254883,-16.789337158203125,-15.932724952697754,-18.195032119750977,-28.752910614013672,-20.568172454833984,0.07034878432750702,-17.874719619750977,-17.613037109375,-19.39335823059082,-18.995561599731445,-14.972447395324707,-1.3811893463134766,-20.7730655670166,-29.06620979309082,4.134800910949707,-13.680415153503418,-18.681093215942383,-16.61404037475586,-16.56485366821289,-17.445293426513672,0.07014074176549911,-15.129597663879395,-1.3811893463134766,-17.493337631225586,-18.383453369140625,-19.793922424316406,-19.600797653198242,5.182496070861816,16.33550262451172,-9.458783149719238,9.848823547363281,-4.289693355560303,-4.289693355560303,5.182714462280273,16.33574867248535,9.84813404083252,-9.45870590209961],\"y_coord\":[-27.586233139038086,-21.910419464111328,-24.778215408325195,-18.7924861907959,-24.523900985717773,-28.220062255859375,-27.353435516357422,-9.655508995056152,-21.37999725341797,-18.04595375061035,-18.311365127563477,-12.748051643371582,-20.546552658081055,21.12221908569336,9.531867027282715,-19.02574920654297,-20.526636123657227,8.624048233032227,11.653768539428711,8.820974349975586,25.57347297668457,21.211910247802734,-20.178316116333008,-18.074148178100586,-6.13803768157959,-0.28915414214134216,7.503266334533691,-15.066081047058105,13.808764457702637,-18.16478157043457,20.945661544799805,25.155946731567383,13.606476783752441,-18.668424606323242,10.473101615905762,23.183570861816406,-14.28452205657959,-13.024910926818848,-22.789276123046875,-15.23621940612793,-7.4459710121154785,-8.456404685974121,-11.105369567871094,-15.992274284362793,16.585163116455078,4.159426212310791,12.124622344970703,-13.88690185546875,-4.360479831695557,-0.2226787507534027,-9.603196144104004,11.129870414733887,5.729186534881592,5.341407775878906,-1.1718441247940063,-28.228700637817383,-12.748224258422852,24.225542068481445,-0.8733541965484619,-14.93579387664795,14.071226119995117,14.481303215026855,24.678691864013672,26.766368865966797,11.84907341003418,-18.153696060180664,14.837350845336914,12.072620391845703,-5.391788005828857,-6.546927452087402,4.618490219116211,0.02449629083275795,4.522865295410156,-0.17154808342456818,-12.926068305969238,-12.619818687438965,-7.945399284362793,7.271000862121582,20.37929916381836,4.968633651733398,23.515737533569336,20.575664520263672,-17.156583786010742,-2.8453595638275146,-6.1380615234375,-9.50918960571289,9.624228477478027,4.409488677978516,-3.3728435039520264,5.980933666229248,-15.503643035888672,28.028913497924805,-13.794493675231934,11.185002326965332,-14.042320251464844,-17.059965133666992,-11.417611122131348,-4.774899482727051,-25.773733139038086,7.454982757568359,8.895788192749023,-13.742084503173828,0.35199058055877686,2.5814921855926514,-7.53865385055542,24.640216827392578,15.494573593139648,15.503829002380371,16.16323471069336,25.235363006591797,22.2586727142334,22.052165985107422,-20.996997833251953,-9.475981712341309,-0.4425446093082428,-2.967975378036499,27.25743865966797,2.266798496246338,28.11350440979004,-10.744053840637207,-2.5647573471069336,26.15810203552246,16.459110260009766,22.88666343688965,9.20118236541748,15.684415817260742,-5.244604587554932,9.676220893859863,1.8496161699295044,0.36548829078674316,2.4847230911254883,19.617172241210938,9.343446731567383,9.386969566345215,-7.517550945281982,-4.86218786239624,-6.613345623016357,-6.599591255187988,13.44494342803955,2.184630870819092,-7.893204689025879,-13.11058235168457,14.06867504119873,-2.704867362976074,8.642014503479004,0.8466911911964417,-18.11709976196289,-20.220455169677734,-1.785772442817688,24.096874237060547,4.782227039337158,23.793624877929688,-2.323361873626709,28.3045597076416,7.911093235015869,7.864387512207031,13.415193557739258,3.137192726135254,3.1374847888946533,8.168898582458496,5.495659828186035,15.14870834350586,-17.924894332885742,-6.240406036376953,-22.998111724853516,-19.22972869873047,-6.395167827606201,-9.141093254089355,-13.911871910095215,-9.701584815979004,-0.7713338136672974,13.1099853515625,12.836607933044434,0.38385263085365295,25.34432601928711,27.82526969909668,-14.402920722961426,-11.116135597229004,6.647186279296875,-11.247346878051758,6.951353549957275,-15.747819900512695,-19.401153564453125,13.929579734802246,9.230857849121094,20.273880004882812,20.14042854309082,-25.99942398071289,6.077888488769531,8.482333183288574,10.064352035522461,-22.167739868164062,-19.90398406982422,-21.65970802307129,-11.004858016967773,7.567986488342285,28.697328567504883,-26.63519287109375,3.5997605323791504,0.3717319667339325,-22.93927001953125,4.527705669403076,12.633269309997559,-3.4593639373779297,26.088382720947266,26.41523551940918,10.961281776428223,12.368712425231934,12.617650985717773,2.6228573322296143,13.339323997497559,26.4412784576416,13.552288055419922,23.250865936279297,6.959603309631348,0.7231782078742981,-23.802263259887695,-10.397061347961426,1.607583999633789,14.877469062805176,14.856048583984375,-1.248047947883606,15.78717041015625,24.745155334472656,-4.397537708282471,-10.641480445861816,-10.48782730102539,-12.459823608398438,7.480057716369629,-6.3686017990112305,-10.48783016204834,-12.108705520629883,-6.368561744689941,7.478481769561768,6.404364109039307,9.981576919555664,9.981313705444336,7.448235511779785,7.447879314422607,4.129106044769287,-18.182376861572266,-23.03738021850586,4.129087448120117,-25.969989776611328,-23.03725242614746,-21.5436954498291,16.829275131225586,-21.54369354248047,-20.367677688598633,15.01457691192627,15.84802532196045,16.177425384521484,-1.8205844163894653,15.969439506530762,14.147858619689941,-20.7357177734375,14.060580253601074,16.876192092895508,-1.8205844163894653,14.913695335388184,15.92966365814209,15.029794692993164,14.138422966003418,-5.3459792137146,10.330698013305664,0.7523289918899536,21.844846725463867,-4.59910774230957,10.329206466674805,0.7522994875907898,21.845050811767578,26.826913833618164,16.226806640625,17.028533935546875,17.69212532043457,3.558882713317871,11.844258308410645,-1.2097374200820923,15.717778205871582,16.54730224609375,17.692129135131836,26.826913833618164,3.558882713317871,11.844403266906738,-1.209736943244934,-1.570907711982727,-1.5706803798675537,28.998720169067383,4.071573734283447,-8.686826705932617,5.5610575675964355,-8.6868257522583,5.560865879058838,29.113697052001953,4.0717573165893555,-20.569364547729492,-20.570268630981445,0.9495790600776672,-6.0258049964904785,-1.0418736934661865,-15.244647979736328,12.165938377380371,-30.133926391601562,19.147640228271484,2.35058331489563,11.266319274902344,-1.0417842864990234,-15.245347023010254,-6.025737762451172,19.147708892822266,0.949316143989563,2.3506340980529785,-30.13392448425293,12.35584831237793,11.199641227722168,-8.535012245178223,10.623162269592285,28.229049682617188,27.297182083129883,-4.2510271072387695,-10.200699806213379,28.509904861450195,27.297182083129883,-5.674164772033691,-8.53493881225586,-10.201518058776855,10.623162269592285,9.582569122314453,26.918848037719727,20.453763961791992,26.928653717041016,9.582569122314453,20.453763961791992,-8.514531135559082,-18.57505226135254,-18.97744369506836,-8.514225006103516,-21.584638595581055,-21.494279861450195,-5.395119667053223,-4.556657314300537,24.705183029174805,24.3142147064209,24.0671443939209,24.06781578063965,12.430398941040039,7.4735107421875,12.430412292480469,7.473508834838867,-15.857552528381348,15.377828598022461,-35.52149963378906,-33.05839157104492,-34.13079833984375,-34.29816436767578,14.114591598510742,-13.213310241699219,-2.8264095783233643,-35.694156646728516,-37.03538131713867,-36.22534942626953,-33.41060256958008,-35.27766036987305,-22.78609848022461,-12.669726371765137,15.018445014953613,15.37872314453125,-15.857537269592285,-34.95647048950195,-34.34531784057617,-36.317047119140625,-33.134761810302734,-2.8263285160064697,-36.02347946166992,-22.78609848022461,-35.02181625366211,-36.72710037231445,-35.474830627441406,-34.0485725402832,-12.291653633117676,3.0321261882781982,-14.294904708862305,11.47248649597168,-16.915950775146484,-16.915950775146484,-12.292387008666992,3.0322160720825195,11.47380256652832,-14.294283866882324]},\"selected\":{\"id\":\"1526\",\"type\":\"Selection\"},\"selection_policy\":{\"id\":\"1525\",\"type\":\"UnionRenderers\"}},\"id\":\"1446\",\"type\":\"ColumnDataSource\"},{\"attributes\":{\"source\":{\"id\":\"1446\",\"type\":\"ColumnDataSource\"}},\"id\":\"1487\",\"type\":\"CDSView\"},{\"attributes\":{\"dimension\":1,\"grid_line_color\":null,\"ticker\":{\"id\":\"1464\",\"type\":\"BasicTicker\"}},\"id\":\"1467\",\"type\":\"Grid\"},{\"attributes\":{},\"id\":\"1459\",\"type\":\"BasicTicker\"},{\"attributes\":{},\"id\":\"1524\",\"type\":\"BasicTickFormatter\"},{\"attributes\":{},\"id\":\"1456\",\"type\":\"LinearScale\"},{\"attributes\":{\"bottom_units\":\"screen\",\"fill_alpha\":{\"value\":0.5},\"fill_color\":{\"value\":\"lightgrey\"},\"left_units\":\"screen\",\"level\":\"overlay\",\"line_alpha\":{\"value\":1.0},\"line_color\":{\"value\":\"black\"},\"line_dash\":[4,4],\"line_width\":{\"value\":2},\"render_mode\":\"css\",\"right_units\":\"screen\",\"top_units\":\"screen\"},\"id\":\"1527\",\"type\":\"BoxAnnotation\"},{\"attributes\":{\"callback\":null},\"id\":\"1450\",\"type\":\"DataRange1d\"},{\"attributes\":{\"text\":\"Bills about Covid19\",\"text_font_size\":{\"value\":\"16pt\"}},\"id\":\"1448\",\"type\":\"Title\"},{\"attributes\":{\"callback\":null},\"id\":\"1452\",\"type\":\"DataRange1d\"},{\"attributes\":{},\"id\":\"1464\",\"type\":\"BasicTicker\"},{\"attributes\":{\"grid_line_color\":null,\"ticker\":{\"id\":\"1459\",\"type\":\"BasicTicker\"}},\"id\":\"1462\",\"type\":\"Grid\"},{\"attributes\":{\"fill_alpha\":{\"value\":0.2},\"fill_color\":{\"field\":\"color\"},\"line_alpha\":{\"value\":0.3},\"line_color\":{\"field\":\"color\"},\"size\":{\"units\":\"screen\",\"value\":10},\"x\":{\"field\":\"x_coord\"},\"y\":{\"field\":\"y_coord\"}},\"id\":\"1484\",\"type\":\"Circle\"},{\"attributes\":{\"callback\":null,\"tooltips\":\"@BillName\"},\"id\":\"1481\",\"type\":\"HoverTool\"},{\"attributes\":{},\"id\":\"1525\",\"type\":\"UnionRenderers\"},{\"attributes\":{\"formatter\":{\"id\":\"1524\",\"type\":\"BasicTickFormatter\"},\"ticker\":{\"id\":\"1464\",\"type\":\"BasicTicker\"},\"visible\":false},\"id\":\"1463\",\"type\":\"LinearAxis\"}],\"root_ids\":[\"1447\"]},\"title\":\"Bokeh Application\",\"version\":\"1.4.0\"}};\n",
       "  var render_items = [{\"docid\":\"2bde872e-a393-429e-a95b-67f4175ca7af\",\"roots\":{\"1447\":\"f2c44a71-e419-4745-9aff-202c7ec00e2b\"}}];\n",
       "  root.Bokeh.embed.embed_items_notebook(docs_json, render_items);\n",
       "\n",
       "  }\n",
       "  if (root.Bokeh !== undefined) {\n",
       "    embed_document(root);\n",
       "  } else {\n",
       "    var attempts = 0;\n",
       "    var timer = setInterval(function(root) {\n",
       "      if (root.Bokeh !== undefined) {\n",
       "        clearInterval(timer);\n",
       "        embed_document(root);\n",
       "      } else {\n",
       "        attempts++;\n",
       "        if (attempts > 100) {\n",
       "          clearInterval(timer);\n",
       "          console.log(\"Bokeh: ERROR: Unable to run BokehJS code because BokehJS library is missing\");\n",
       "        }\n",
       "      }\n",
       "    }, 10, root)\n",
       "  }\n",
       "})(window);"
      ],
      "application/vnd.bokehjs_exec.v0+json": ""
     },
     "metadata": {
      "application/vnd.bokehjs_exec.v0+json": {
       "id": "1447"
      }
     },
     "output_type": "display_data"
    }
   ],
   "source": [
    "# 마우스 올렸을 때 보여줄 것\n",
    "\n",
    "tsne_plot.add_tools(\n",
    "    HoverTool(\n",
    "        tooltips= '@BillName'\n",
    "    )\n",
    ")\n",
    "\n",
    "# 데이터 정보 넣기\n",
    "\n",
    "tsne_plot.circle(\n",
    "    source=plot_data,\n",
    "    x='x_coord',\n",
    "    y='y_coord',\n",
    "    line_alpha=0.3, \n",
    "    fill_alpha=0.2,\n",
    "    size=10,\n",
    "    fill_color='color',\n",
    "    line_color='color',\n",
    ")\n",
    "\n",
    "# 선 지우기\n",
    "\n",
    "tsne_plot.title.text_font_size = value('16pt')\n",
    "tsne_plot.xaxis.visible = False\n",
    "tsne_plot.yaxis.visible = False\n",
    "tsne_plot.grid.grid_line_color = None\n",
    "tsne_plot.outline_line_color = None\n",
    "\n",
    "\n",
    "show(tsne_plot)"
   ]
  },
  {
   "cell_type": "code",
   "execution_count": null,
   "metadata": {
    "colab": {},
    "colab_type": "code",
    "id": "UbUNohv_Vog2"
   },
   "outputs": [],
   "source": []
  },
  {
   "cell_type": "code",
   "execution_count": null,
   "metadata": {
    "colab": {},
    "colab_type": "code",
    "id": "dxLlyrTaVoca"
   },
   "outputs": [],
   "source": []
  },
  {
   "cell_type": "markdown",
   "metadata": {},
   "source": [
    "#### 군집 수 = 11일 때"
   ]
  },
  {
   "cell_type": "code",
   "execution_count": 107,
   "metadata": {},
   "outputs": [],
   "source": [
    "# K means 수행 \n",
    "\n",
    "word_vectors = covid.문장벡터.to_list()\n",
    "num_clusters = 11\n",
    "\n",
    "kmeans_clustering = KMeans(n_clusters = num_clusters)\n",
    "idx = kmeans_clustering.fit_predict(word_vectors)\n",
    "covid['category'] = idx"
   ]
  },
  {
   "cell_type": "code",
   "execution_count": 108,
   "metadata": {},
   "outputs": [
    {
     "data": {
      "text/plain": [
       "1     97\n",
       "0     87\n",
       "6     62\n",
       "10    28\n",
       "5     27\n",
       "2     26\n",
       "7     18\n",
       "9     14\n",
       "4     12\n",
       "3     12\n",
       "8      6\n",
       "Name: category, dtype: int64"
      ]
     },
     "execution_count": 108,
     "metadata": {},
     "output_type": "execute_result"
    }
   ],
   "source": [
    "covid.category.value_counts()"
   ]
  },
  {
   "cell_type": "code",
   "execution_count": 109,
   "metadata": {},
   "outputs": [],
   "source": [
    "from sklearn.manifold import TSNE\n",
    "\n",
    "X = covid['문장벡터'].to_list()\n",
    "y = covid['category'].to_list()\n",
    "\n",
    "tsne = TSNE(random_state=42)\n",
    "tsne_points = tsne.fit_transform(X)\n",
    "\n",
    "tsne_df = pd.DataFrame(tsne_points, index=range(len(X)), columns=['x_coord', 'y_coord'])\n",
    "tsne_df['BillNo'] = covid['의안번호'].to_list()\n",
    "tsne_df['BillName'] = covid['의안명'].to_list()\n",
    "tsne_df['cluster_no'] = y"
   ]
  },
  {
   "cell_type": "code",
   "execution_count": 110,
   "metadata": {},
   "outputs": [
    {
     "data": {
      "text/html": [
       "<div>\n",
       "<style scoped>\n",
       "    .dataframe tbody tr th:only-of-type {\n",
       "        vertical-align: middle;\n",
       "    }\n",
       "\n",
       "    .dataframe tbody tr th {\n",
       "        vertical-align: top;\n",
       "    }\n",
       "\n",
       "    .dataframe thead th {\n",
       "        text-align: right;\n",
       "    }\n",
       "</style>\n",
       "<table border=\"1\" class=\"dataframe\">\n",
       "  <thead>\n",
       "    <tr style=\"text-align: right;\">\n",
       "      <th></th>\n",
       "      <th>x_coord</th>\n",
       "      <th>y_coord</th>\n",
       "      <th>BillNo</th>\n",
       "      <th>BillName</th>\n",
       "      <th>cluster_no</th>\n",
       "    </tr>\n",
       "  </thead>\n",
       "  <tbody>\n",
       "    <tr>\n",
       "      <th>0</th>\n",
       "      <td>-6.049650</td>\n",
       "      <td>-27.586233</td>\n",
       "      <td>2024549</td>\n",
       "      <td>감염병의 예방 및 관리에 관한 법률 일부개정법률안</td>\n",
       "      <td>0</td>\n",
       "    </tr>\n",
       "    <tr>\n",
       "      <th>1</th>\n",
       "      <td>4.367957</td>\n",
       "      <td>-21.910419</td>\n",
       "      <td>2024556</td>\n",
       "      <td>검역법 일부개정법률안</td>\n",
       "      <td>0</td>\n",
       "    </tr>\n",
       "    <tr>\n",
       "      <th>2</th>\n",
       "      <td>-2.415426</td>\n",
       "      <td>-24.778215</td>\n",
       "      <td>2024555</td>\n",
       "      <td>감염병의 예방 및 관리에 관한 법률 일부개정법률안</td>\n",
       "      <td>0</td>\n",
       "    </tr>\n",
       "    <tr>\n",
       "      <th>3</th>\n",
       "      <td>-5.064430</td>\n",
       "      <td>-18.792486</td>\n",
       "      <td>2024582</td>\n",
       "      <td>감염병의 예방 및 관리에 관한 법률 일부개정법률안</td>\n",
       "      <td>0</td>\n",
       "    </tr>\n",
       "    <tr>\n",
       "      <th>4</th>\n",
       "      <td>-9.230567</td>\n",
       "      <td>-24.523901</td>\n",
       "      <td>2024584</td>\n",
       "      <td>감염병의 예방 및 관리에 관한 법률 일부개정법률안</td>\n",
       "      <td>0</td>\n",
       "    </tr>\n",
       "  </tbody>\n",
       "</table>\n",
       "</div>"
      ],
      "text/plain": [
       "    x_coord    y_coord   BillNo                       BillName  cluster_no\n",
       "0 -6.049650 -27.586233  2024549    감염병의 예방 및 관리에 관한 법률 일부개정법률안           0\n",
       "1  4.367957 -21.910419  2024556                    검역법 일부개정법률안           0\n",
       "2 -2.415426 -24.778215  2024555    감염병의 예방 및 관리에 관한 법률 일부개정법률안           0\n",
       "3 -5.064430 -18.792486  2024582    감염병의 예방 및 관리에 관한 법률 일부개정법률안           0\n",
       "4 -9.230567 -24.523901  2024584    감염병의 예방 및 관리에 관한 법률 일부개정법률안           0"
      ]
     },
     "execution_count": 110,
     "metadata": {},
     "output_type": "execute_result"
    }
   ],
   "source": [
    "tsne_df.head()"
   ]
  },
  {
   "cell_type": "code",
   "execution_count": 111,
   "metadata": {},
   "outputs": [
    {
     "data": {
      "text/html": [
       "\n",
       "    <div class=\"bk-root\">\n",
       "        <a href=\"https://bokeh.org\" target=\"_blank\" class=\"bk-logo bk-logo-small bk-logo-notebook\"></a>\n",
       "        <span id=\"1715\">Loading BokehJS ...</span>\n",
       "    </div>"
      ]
     },
     "metadata": {},
     "output_type": "display_data"
    },
    {
     "data": {
      "application/javascript": [
       "\n",
       "(function(root) {\n",
       "  function now() {\n",
       "    return new Date();\n",
       "  }\n",
       "\n",
       "  var force = true;\n",
       "\n",
       "  if (typeof root._bokeh_onload_callbacks === \"undefined\" || force === true) {\n",
       "    root._bokeh_onload_callbacks = [];\n",
       "    root._bokeh_is_loading = undefined;\n",
       "  }\n",
       "\n",
       "  var JS_MIME_TYPE = 'application/javascript';\n",
       "  var HTML_MIME_TYPE = 'text/html';\n",
       "  var EXEC_MIME_TYPE = 'application/vnd.bokehjs_exec.v0+json';\n",
       "  var CLASS_NAME = 'output_bokeh rendered_html';\n",
       "\n",
       "  /**\n",
       "   * Render data to the DOM node\n",
       "   */\n",
       "  function render(props, node) {\n",
       "    var script = document.createElement(\"script\");\n",
       "    node.appendChild(script);\n",
       "  }\n",
       "\n",
       "  /**\n",
       "   * Handle when an output is cleared or removed\n",
       "   */\n",
       "  function handleClearOutput(event, handle) {\n",
       "    var cell = handle.cell;\n",
       "\n",
       "    var id = cell.output_area._bokeh_element_id;\n",
       "    var server_id = cell.output_area._bokeh_server_id;\n",
       "    // Clean up Bokeh references\n",
       "    if (id != null && id in Bokeh.index) {\n",
       "      Bokeh.index[id].model.document.clear();\n",
       "      delete Bokeh.index[id];\n",
       "    }\n",
       "\n",
       "    if (server_id !== undefined) {\n",
       "      // Clean up Bokeh references\n",
       "      var cmd = \"from bokeh.io.state import curstate; print(curstate().uuid_to_server['\" + server_id + \"'].get_sessions()[0].document.roots[0]._id)\";\n",
       "      cell.notebook.kernel.execute(cmd, {\n",
       "        iopub: {\n",
       "          output: function(msg) {\n",
       "            var id = msg.content.text.trim();\n",
       "            if (id in Bokeh.index) {\n",
       "              Bokeh.index[id].model.document.clear();\n",
       "              delete Bokeh.index[id];\n",
       "            }\n",
       "          }\n",
       "        }\n",
       "      });\n",
       "      // Destroy server and session\n",
       "      var cmd = \"import bokeh.io.notebook as ion; ion.destroy_server('\" + server_id + \"')\";\n",
       "      cell.notebook.kernel.execute(cmd);\n",
       "    }\n",
       "  }\n",
       "\n",
       "  /**\n",
       "   * Handle when a new output is added\n",
       "   */\n",
       "  function handleAddOutput(event, handle) {\n",
       "    var output_area = handle.output_area;\n",
       "    var output = handle.output;\n",
       "\n",
       "    // limit handleAddOutput to display_data with EXEC_MIME_TYPE content only\n",
       "    if ((output.output_type != \"display_data\") || (!output.data.hasOwnProperty(EXEC_MIME_TYPE))) {\n",
       "      return\n",
       "    }\n",
       "\n",
       "    var toinsert = output_area.element.find(\".\" + CLASS_NAME.split(' ')[0]);\n",
       "\n",
       "    if (output.metadata[EXEC_MIME_TYPE][\"id\"] !== undefined) {\n",
       "      toinsert[toinsert.length - 1].firstChild.textContent = output.data[JS_MIME_TYPE];\n",
       "      // store reference to embed id on output_area\n",
       "      output_area._bokeh_element_id = output.metadata[EXEC_MIME_TYPE][\"id\"];\n",
       "    }\n",
       "    if (output.metadata[EXEC_MIME_TYPE][\"server_id\"] !== undefined) {\n",
       "      var bk_div = document.createElement(\"div\");\n",
       "      bk_div.innerHTML = output.data[HTML_MIME_TYPE];\n",
       "      var script_attrs = bk_div.children[0].attributes;\n",
       "      for (var i = 0; i < script_attrs.length; i++) {\n",
       "        toinsert[toinsert.length - 1].firstChild.setAttribute(script_attrs[i].name, script_attrs[i].value);\n",
       "      }\n",
       "      // store reference to server id on output_area\n",
       "      output_area._bokeh_server_id = output.metadata[EXEC_MIME_TYPE][\"server_id\"];\n",
       "    }\n",
       "  }\n",
       "\n",
       "  function register_renderer(events, OutputArea) {\n",
       "\n",
       "    function append_mime(data, metadata, element) {\n",
       "      // create a DOM node to render to\n",
       "      var toinsert = this.create_output_subarea(\n",
       "        metadata,\n",
       "        CLASS_NAME,\n",
       "        EXEC_MIME_TYPE\n",
       "      );\n",
       "      this.keyboard_manager.register_events(toinsert);\n",
       "      // Render to node\n",
       "      var props = {data: data, metadata: metadata[EXEC_MIME_TYPE]};\n",
       "      render(props, toinsert[toinsert.length - 1]);\n",
       "      element.append(toinsert);\n",
       "      return toinsert\n",
       "    }\n",
       "\n",
       "    /* Handle when an output is cleared or removed */\n",
       "    events.on('clear_output.CodeCell', handleClearOutput);\n",
       "    events.on('delete.Cell', handleClearOutput);\n",
       "\n",
       "    /* Handle when a new output is added */\n",
       "    events.on('output_added.OutputArea', handleAddOutput);\n",
       "\n",
       "    /**\n",
       "     * Register the mime type and append_mime function with output_area\n",
       "     */\n",
       "    OutputArea.prototype.register_mime_type(EXEC_MIME_TYPE, append_mime, {\n",
       "      /* Is output safe? */\n",
       "      safe: true,\n",
       "      /* Index of renderer in `output_area.display_order` */\n",
       "      index: 0\n",
       "    });\n",
       "  }\n",
       "\n",
       "  // register the mime type if in Jupyter Notebook environment and previously unregistered\n",
       "  if (root.Jupyter !== undefined) {\n",
       "    var events = require('base/js/events');\n",
       "    var OutputArea = require('notebook/js/outputarea').OutputArea;\n",
       "\n",
       "    if (OutputArea.prototype.mime_types().indexOf(EXEC_MIME_TYPE) == -1) {\n",
       "      register_renderer(events, OutputArea);\n",
       "    }\n",
       "  }\n",
       "\n",
       "  \n",
       "  if (typeof (root._bokeh_timeout) === \"undefined\" || force === true) {\n",
       "    root._bokeh_timeout = Date.now() + 5000;\n",
       "    root._bokeh_failed_load = false;\n",
       "  }\n",
       "\n",
       "  var NB_LOAD_WARNING = {'data': {'text/html':\n",
       "     \"<div style='background-color: #fdd'>\\n\"+\n",
       "     \"<p>\\n\"+\n",
       "     \"BokehJS does not appear to have successfully loaded. If loading BokehJS from CDN, this \\n\"+\n",
       "     \"may be due to a slow or bad network connection. Possible fixes:\\n\"+\n",
       "     \"</p>\\n\"+\n",
       "     \"<ul>\\n\"+\n",
       "     \"<li>re-rerun `output_notebook()` to attempt to load from CDN again, or</li>\\n\"+\n",
       "     \"<li>use INLINE resources instead, as so:</li>\\n\"+\n",
       "     \"</ul>\\n\"+\n",
       "     \"<code>\\n\"+\n",
       "     \"from bokeh.resources import INLINE\\n\"+\n",
       "     \"output_notebook(resources=INLINE)\\n\"+\n",
       "     \"</code>\\n\"+\n",
       "     \"</div>\"}};\n",
       "\n",
       "  function display_loaded() {\n",
       "    var el = document.getElementById(\"1715\");\n",
       "    if (el != null) {\n",
       "      el.textContent = \"BokehJS is loading...\";\n",
       "    }\n",
       "    if (root.Bokeh !== undefined) {\n",
       "      if (el != null) {\n",
       "        el.textContent = \"BokehJS \" + root.Bokeh.version + \" successfully loaded.\";\n",
       "      }\n",
       "    } else if (Date.now() < root._bokeh_timeout) {\n",
       "      setTimeout(display_loaded, 100)\n",
       "    }\n",
       "  }\n",
       "\n",
       "\n",
       "  function run_callbacks() {\n",
       "    try {\n",
       "      root._bokeh_onload_callbacks.forEach(function(callback) {\n",
       "        if (callback != null)\n",
       "          callback();\n",
       "      });\n",
       "    } finally {\n",
       "      delete root._bokeh_onload_callbacks\n",
       "    }\n",
       "    console.debug(\"Bokeh: all callbacks have finished\");\n",
       "  }\n",
       "\n",
       "  function load_libs(css_urls, js_urls, callback) {\n",
       "    if (css_urls == null) css_urls = [];\n",
       "    if (js_urls == null) js_urls = [];\n",
       "\n",
       "    root._bokeh_onload_callbacks.push(callback);\n",
       "    if (root._bokeh_is_loading > 0) {\n",
       "      console.debug(\"Bokeh: BokehJS is being loaded, scheduling callback at\", now());\n",
       "      return null;\n",
       "    }\n",
       "    if (js_urls == null || js_urls.length === 0) {\n",
       "      run_callbacks();\n",
       "      return null;\n",
       "    }\n",
       "    console.debug(\"Bokeh: BokehJS not loaded, scheduling load and callback at\", now());\n",
       "    root._bokeh_is_loading = css_urls.length + js_urls.length;\n",
       "\n",
       "    function on_load() {\n",
       "      root._bokeh_is_loading--;\n",
       "      if (root._bokeh_is_loading === 0) {\n",
       "        console.debug(\"Bokeh: all BokehJS libraries/stylesheets loaded\");\n",
       "        run_callbacks()\n",
       "      }\n",
       "    }\n",
       "\n",
       "    function on_error() {\n",
       "      console.error(\"failed to load \" + url);\n",
       "    }\n",
       "\n",
       "    for (var i = 0; i < css_urls.length; i++) {\n",
       "      var url = css_urls[i];\n",
       "      const element = document.createElement(\"link\");\n",
       "      element.onload = on_load;\n",
       "      element.onerror = on_error;\n",
       "      element.rel = \"stylesheet\";\n",
       "      element.type = \"text/css\";\n",
       "      element.href = url;\n",
       "      console.debug(\"Bokeh: injecting link tag for BokehJS stylesheet: \", url);\n",
       "      document.body.appendChild(element);\n",
       "    }\n",
       "\n",
       "    for (var i = 0; i < js_urls.length; i++) {\n",
       "      var url = js_urls[i];\n",
       "      var element = document.createElement('script');\n",
       "      element.onload = on_load;\n",
       "      element.onerror = on_error;\n",
       "      element.async = false;\n",
       "      element.src = url;\n",
       "      console.debug(\"Bokeh: injecting script tag for BokehJS library: \", url);\n",
       "      document.head.appendChild(element);\n",
       "    }\n",
       "  };var element = document.getElementById(\"1715\");\n",
       "  if (element == null) {\n",
       "    console.error(\"Bokeh: ERROR: autoload.js configured with elementid '1715' but no matching script tag was found. \")\n",
       "    return false;\n",
       "  }\n",
       "\n",
       "  function inject_raw_css(css) {\n",
       "    const element = document.createElement(\"style\");\n",
       "    element.appendChild(document.createTextNode(css));\n",
       "    document.body.appendChild(element);\n",
       "  }\n",
       "\n",
       "  \n",
       "  var js_urls = [\"https://cdn.pydata.org/bokeh/release/bokeh-1.4.0.min.js\", \"https://cdn.pydata.org/bokeh/release/bokeh-widgets-1.4.0.min.js\", \"https://cdn.pydata.org/bokeh/release/bokeh-tables-1.4.0.min.js\", \"https://cdn.pydata.org/bokeh/release/bokeh-gl-1.4.0.min.js\"];\n",
       "  var css_urls = [];\n",
       "  \n",
       "\n",
       "  var inline_js = [\n",
       "    function(Bokeh) {\n",
       "      Bokeh.set_log_level(\"info\");\n",
       "    },\n",
       "    function(Bokeh) {\n",
       "    \n",
       "    \n",
       "    }\n",
       "  ];\n",
       "\n",
       "  function run_inline_js() {\n",
       "    \n",
       "    if (root.Bokeh !== undefined || force === true) {\n",
       "      \n",
       "    for (var i = 0; i < inline_js.length; i++) {\n",
       "      inline_js[i].call(root, root.Bokeh);\n",
       "    }\n",
       "    if (force === true) {\n",
       "        display_loaded();\n",
       "      }} else if (Date.now() < root._bokeh_timeout) {\n",
       "      setTimeout(run_inline_js, 100);\n",
       "    } else if (!root._bokeh_failed_load) {\n",
       "      console.log(\"Bokeh: BokehJS failed to load within specified timeout.\");\n",
       "      root._bokeh_failed_load = true;\n",
       "    } else if (force !== true) {\n",
       "      var cell = $(document.getElementById(\"1715\")).parents('.cell').data().cell;\n",
       "      cell.output_area.append_execute_result(NB_LOAD_WARNING)\n",
       "    }\n",
       "\n",
       "  }\n",
       "\n",
       "  if (root._bokeh_is_loading === 0) {\n",
       "    console.debug(\"Bokeh: BokehJS loaded, going straight to plotting\");\n",
       "    run_inline_js();\n",
       "  } else {\n",
       "    load_libs(css_urls, js_urls, function() {\n",
       "      console.debug(\"Bokeh: BokehJS plotting callback run at\", now());\n",
       "      run_inline_js();\n",
       "    });\n",
       "  }\n",
       "}(window));"
      ],
      "application/vnd.bokehjs_load.v0+json": "\n(function(root) {\n  function now() {\n    return new Date();\n  }\n\n  var force = true;\n\n  if (typeof root._bokeh_onload_callbacks === \"undefined\" || force === true) {\n    root._bokeh_onload_callbacks = [];\n    root._bokeh_is_loading = undefined;\n  }\n\n  \n\n  \n  if (typeof (root._bokeh_timeout) === \"undefined\" || force === true) {\n    root._bokeh_timeout = Date.now() + 5000;\n    root._bokeh_failed_load = false;\n  }\n\n  var NB_LOAD_WARNING = {'data': {'text/html':\n     \"<div style='background-color: #fdd'>\\n\"+\n     \"<p>\\n\"+\n     \"BokehJS does not appear to have successfully loaded. If loading BokehJS from CDN, this \\n\"+\n     \"may be due to a slow or bad network connection. Possible fixes:\\n\"+\n     \"</p>\\n\"+\n     \"<ul>\\n\"+\n     \"<li>re-rerun `output_notebook()` to attempt to load from CDN again, or</li>\\n\"+\n     \"<li>use INLINE resources instead, as so:</li>\\n\"+\n     \"</ul>\\n\"+\n     \"<code>\\n\"+\n     \"from bokeh.resources import INLINE\\n\"+\n     \"output_notebook(resources=INLINE)\\n\"+\n     \"</code>\\n\"+\n     \"</div>\"}};\n\n  function display_loaded() {\n    var el = document.getElementById(\"1715\");\n    if (el != null) {\n      el.textContent = \"BokehJS is loading...\";\n    }\n    if (root.Bokeh !== undefined) {\n      if (el != null) {\n        el.textContent = \"BokehJS \" + root.Bokeh.version + \" successfully loaded.\";\n      }\n    } else if (Date.now() < root._bokeh_timeout) {\n      setTimeout(display_loaded, 100)\n    }\n  }\n\n\n  function run_callbacks() {\n    try {\n      root._bokeh_onload_callbacks.forEach(function(callback) {\n        if (callback != null)\n          callback();\n      });\n    } finally {\n      delete root._bokeh_onload_callbacks\n    }\n    console.debug(\"Bokeh: all callbacks have finished\");\n  }\n\n  function load_libs(css_urls, js_urls, callback) {\n    if (css_urls == null) css_urls = [];\n    if (js_urls == null) js_urls = [];\n\n    root._bokeh_onload_callbacks.push(callback);\n    if (root._bokeh_is_loading > 0) {\n      console.debug(\"Bokeh: BokehJS is being loaded, scheduling callback at\", now());\n      return null;\n    }\n    if (js_urls == null || js_urls.length === 0) {\n      run_callbacks();\n      return null;\n    }\n    console.debug(\"Bokeh: BokehJS not loaded, scheduling load and callback at\", now());\n    root._bokeh_is_loading = css_urls.length + js_urls.length;\n\n    function on_load() {\n      root._bokeh_is_loading--;\n      if (root._bokeh_is_loading === 0) {\n        console.debug(\"Bokeh: all BokehJS libraries/stylesheets loaded\");\n        run_callbacks()\n      }\n    }\n\n    function on_error() {\n      console.error(\"failed to load \" + url);\n    }\n\n    for (var i = 0; i < css_urls.length; i++) {\n      var url = css_urls[i];\n      const element = document.createElement(\"link\");\n      element.onload = on_load;\n      element.onerror = on_error;\n      element.rel = \"stylesheet\";\n      element.type = \"text/css\";\n      element.href = url;\n      console.debug(\"Bokeh: injecting link tag for BokehJS stylesheet: \", url);\n      document.body.appendChild(element);\n    }\n\n    for (var i = 0; i < js_urls.length; i++) {\n      var url = js_urls[i];\n      var element = document.createElement('script');\n      element.onload = on_load;\n      element.onerror = on_error;\n      element.async = false;\n      element.src = url;\n      console.debug(\"Bokeh: injecting script tag for BokehJS library: \", url);\n      document.head.appendChild(element);\n    }\n  };var element = document.getElementById(\"1715\");\n  if (element == null) {\n    console.error(\"Bokeh: ERROR: autoload.js configured with elementid '1715' but no matching script tag was found. \")\n    return false;\n  }\n\n  function inject_raw_css(css) {\n    const element = document.createElement(\"style\");\n    element.appendChild(document.createTextNode(css));\n    document.body.appendChild(element);\n  }\n\n  \n  var js_urls = [\"https://cdn.pydata.org/bokeh/release/bokeh-1.4.0.min.js\", \"https://cdn.pydata.org/bokeh/release/bokeh-widgets-1.4.0.min.js\", \"https://cdn.pydata.org/bokeh/release/bokeh-tables-1.4.0.min.js\", \"https://cdn.pydata.org/bokeh/release/bokeh-gl-1.4.0.min.js\"];\n  var css_urls = [];\n  \n\n  var inline_js = [\n    function(Bokeh) {\n      Bokeh.set_log_level(\"info\");\n    },\n    function(Bokeh) {\n    \n    \n    }\n  ];\n\n  function run_inline_js() {\n    \n    if (root.Bokeh !== undefined || force === true) {\n      \n    for (var i = 0; i < inline_js.length; i++) {\n      inline_js[i].call(root, root.Bokeh);\n    }\n    if (force === true) {\n        display_loaded();\n      }} else if (Date.now() < root._bokeh_timeout) {\n      setTimeout(run_inline_js, 100);\n    } else if (!root._bokeh_failed_load) {\n      console.log(\"Bokeh: BokehJS failed to load within specified timeout.\");\n      root._bokeh_failed_load = true;\n    } else if (force !== true) {\n      var cell = $(document.getElementById(\"1715\")).parents('.cell').data().cell;\n      cell.output_area.append_execute_result(NB_LOAD_WARNING)\n    }\n\n  }\n\n  if (root._bokeh_is_loading === 0) {\n    console.debug(\"Bokeh: BokehJS loaded, going straight to plotting\");\n    run_inline_js();\n  } else {\n    load_libs(css_urls, js_urls, function() {\n      console.debug(\"Bokeh: BokehJS plotting callback run at\", now());\n      run_inline_js();\n    });\n  }\n}(window));"
     },
     "metadata": {},
     "output_type": "display_data"
    }
   ],
   "source": [
    "from bokeh.plotting import figure, show, output_notebook\n",
    "from bokeh.models import HoverTool, ColumnDataSource, value\n",
    "from bokeh.palettes import brewer\n",
    "\n",
    "output_notebook()"
   ]
  },
  {
   "cell_type": "code",
   "execution_count": 112,
   "metadata": {},
   "outputs": [],
   "source": [
    "# 색 정해주기\n",
    "\n",
    "colors = brewer[\"Spectral\"][len(tsne_df['cluster_no'].unique())]\n",
    "\n",
    "colormap = {i: colors[i] for i in tsne_df['cluster_no'].unique()}\n",
    "\n",
    "colors = [colormap[x] for x in tsne_df['cluster_no']]\n",
    "\n",
    "tsne_df['color'] = colors"
   ]
  },
  {
   "cell_type": "code",
   "execution_count": 113,
   "metadata": {},
   "outputs": [],
   "source": [
    "# Bokeh가 인식하는 DataSource 객체 만들어주기\n",
    "\n",
    "plot_data = ColumnDataSource(\n",
    "    data=tsne_df.to_dict(orient='list')\n",
    ")\n",
    "\n",
    "# Plot 만들기(배경)\n",
    "\n",
    "tsne_plot = figure(\n",
    "    title='Bills about Covid19',\n",
    "    plot_width = 650,\n",
    "    plot_height = 650,\n",
    "    active_scroll='wheel_zoom',\n",
    "    output_backend=\"webgl\", # GPU 가속\n",
    ")"
   ]
  },
  {
   "cell_type": "code",
   "execution_count": 114,
   "metadata": {},
   "outputs": [
    {
     "data": {
      "text/html": [
       "\n",
       "\n",
       "\n",
       "\n",
       "\n",
       "\n",
       "  <div class=\"bk-root\" id=\"59a4c5d3-7956-4fe6-b9fa-d0eab14101d8\" data-root-id=\"1717\"></div>\n"
      ]
     },
     "metadata": {},
     "output_type": "display_data"
    },
    {
     "data": {
      "application/javascript": [
       "(function(root) {\n",
       "  function embed_document(root) {\n",
       "    \n",
       "  var docs_json = {\"b3e780c8-c47d-4c88-babd-c48c143705c3\":{\"roots\":{\"references\":[{\"attributes\":{\"below\":[{\"id\":\"1728\",\"type\":\"LinearAxis\"}],\"center\":[{\"id\":\"1732\",\"type\":\"Grid\"},{\"id\":\"1737\",\"type\":\"Grid\"}],\"left\":[{\"id\":\"1733\",\"type\":\"LinearAxis\"}],\"outline_line_color\":{\"value\":null},\"output_backend\":\"webgl\",\"plot_height\":650,\"plot_width\":650,\"renderers\":[{\"id\":\"1756\",\"type\":\"GlyphRenderer\"}],\"title\":{\"id\":\"1718\",\"type\":\"Title\"},\"toolbar\":{\"id\":\"1744\",\"type\":\"Toolbar\"},\"x_range\":{\"id\":\"1720\",\"type\":\"DataRange1d\"},\"x_scale\":{\"id\":\"1724\",\"type\":\"LinearScale\"},\"y_range\":{\"id\":\"1722\",\"type\":\"DataRange1d\"},\"y_scale\":{\"id\":\"1726\",\"type\":\"LinearScale\"}},\"id\":\"1717\",\"subtype\":\"Figure\",\"type\":\"Plot\"},{\"attributes\":{},\"id\":\"1734\",\"type\":\"BasicTicker\"},{\"attributes\":{\"grid_line_color\":null,\"ticker\":{\"id\":\"1729\",\"type\":\"BasicTicker\"}},\"id\":\"1732\",\"type\":\"Grid\"},{\"attributes\":{\"formatter\":{\"id\":\"1810\",\"type\":\"BasicTickFormatter\"},\"ticker\":{\"id\":\"1734\",\"type\":\"BasicTicker\"},\"visible\":false},\"id\":\"1733\",\"type\":\"LinearAxis\"},{\"attributes\":{},\"id\":\"1808\",\"type\":\"BasicTickFormatter\"},{\"attributes\":{\"fill_alpha\":{\"value\":0.1},\"fill_color\":{\"value\":\"#1f77b4\"},\"line_alpha\":{\"value\":0.1},\"line_color\":{\"value\":\"#1f77b4\"},\"size\":{\"units\":\"screen\",\"value\":10},\"x\":{\"field\":\"x_coord\"},\"y\":{\"field\":\"y_coord\"}},\"id\":\"1755\",\"type\":\"Circle\"},{\"attributes\":{\"bottom_units\":\"screen\",\"fill_alpha\":{\"value\":0.5},\"fill_color\":{\"value\":\"lightgrey\"},\"left_units\":\"screen\",\"level\":\"overlay\",\"line_alpha\":{\"value\":1.0},\"line_color\":{\"value\":\"black\"},\"line_dash\":[4,4],\"line_width\":{\"value\":2},\"render_mode\":\"css\",\"right_units\":\"screen\",\"top_units\":\"screen\"},\"id\":\"1813\",\"type\":\"BoxAnnotation\"},{\"attributes\":{},\"id\":\"1729\",\"type\":\"BasicTicker\"},{\"attributes\":{\"callback\":null,\"tooltips\":\"@BillName\"},\"id\":\"1751\",\"type\":\"HoverTool\"},{\"attributes\":{\"formatter\":{\"id\":\"1808\",\"type\":\"BasicTickFormatter\"},\"ticker\":{\"id\":\"1729\",\"type\":\"BasicTicker\"},\"visible\":false},\"id\":\"1728\",\"type\":\"LinearAxis\"},{\"attributes\":{},\"id\":\"1724\",\"type\":\"LinearScale\"},{\"attributes\":{\"data_source\":{\"id\":\"1716\",\"type\":\"ColumnDataSource\"},\"glyph\":{\"id\":\"1754\",\"type\":\"Circle\"},\"hover_glyph\":null,\"muted_glyph\":null,\"nonselection_glyph\":{\"id\":\"1755\",\"type\":\"Circle\"},\"selection_glyph\":null,\"view\":{\"id\":\"1757\",\"type\":\"CDSView\"}},\"id\":\"1756\",\"type\":\"GlyphRenderer\"},{\"attributes\":{\"overlay\":{\"id\":\"1813\",\"type\":\"BoxAnnotation\"}},\"id\":\"1740\",\"type\":\"BoxZoomTool\"},{\"attributes\":{\"source\":{\"id\":\"1716\",\"type\":\"ColumnDataSource\"}},\"id\":\"1757\",\"type\":\"CDSView\"},{\"attributes\":{\"dimension\":1,\"grid_line_color\":null,\"ticker\":{\"id\":\"1734\",\"type\":\"BasicTicker\"}},\"id\":\"1737\",\"type\":\"Grid\"},{\"attributes\":{},\"id\":\"1738\",\"type\":\"PanTool\"},{\"attributes\":{},\"id\":\"1810\",\"type\":\"BasicTickFormatter\"},{\"attributes\":{},\"id\":\"1739\",\"type\":\"WheelZoomTool\"},{\"attributes\":{},\"id\":\"1741\",\"type\":\"SaveTool\"},{\"attributes\":{\"callback\":null},\"id\":\"1720\",\"type\":\"DataRange1d\"},{\"attributes\":{},\"id\":\"1811\",\"type\":\"UnionRenderers\"},{\"attributes\":{},\"id\":\"1742\",\"type\":\"ResetTool\"},{\"attributes\":{},\"id\":\"1743\",\"type\":\"HelpTool\"},{\"attributes\":{},\"id\":\"1812\",\"type\":\"Selection\"},{\"attributes\":{},\"id\":\"1726\",\"type\":\"LinearScale\"},{\"attributes\":{\"text\":\"Bills about Covid19\",\"text_font_size\":{\"value\":\"16pt\"}},\"id\":\"1718\",\"type\":\"Title\"},{\"attributes\":{\"callback\":null,\"data\":{\"BillName\":[\"  \\uac10\\uc5fc\\ubcd1\\uc758 \\uc608\\ubc29 \\ubc0f \\uad00\\ub9ac\\uc5d0 \\uad00\\ud55c \\ubc95\\ub960 \\uc77c\\ubd80\\uac1c\\uc815\\ubc95\\ub960\\uc548\",\"  \\uac80\\uc5ed\\ubc95 \\uc77c\\ubd80\\uac1c\\uc815\\ubc95\\ub960\\uc548\",\"  \\uac10\\uc5fc\\ubcd1\\uc758 \\uc608\\ubc29 \\ubc0f \\uad00\\ub9ac\\uc5d0 \\uad00\\ud55c \\ubc95\\ub960 \\uc77c\\ubd80\\uac1c\\uc815\\ubc95\\ub960\\uc548\",\"  \\uac10\\uc5fc\\ubcd1\\uc758 \\uc608\\ubc29 \\ubc0f \\uad00\\ub9ac\\uc5d0 \\uad00\\ud55c \\ubc95\\ub960 \\uc77c\\ubd80\\uac1c\\uc815\\ubc95\\ub960\\uc548\",\"  \\uac10\\uc5fc\\ubcd1\\uc758 \\uc608\\ubc29 \\ubc0f \\uad00\\ub9ac\\uc5d0 \\uad00\\ud55c \\ubc95\\ub960 \\uc77c\\ubd80\\uac1c\\uc815\\ubc95\\ub960\\uc548\",\"  \\ud559\\uad50\\ubcf4\\uac74\\ubc95 \\uc77c\\ubd80\\uac1c\\uc815\\ubc95\\ub960\\uc548\",\"  \\uac10\\uc5fc\\ubcd1\\uc758 \\uc608\\ubc29 \\ubc0f \\uad00\\ub9ac\\uc5d0 \\uad00\\ud55c \\ubc95\\ub960 \\uc77c\\ubd80\\uac1c\\uc815\\ubc95\\ub960\\uc548\",\"  \\ub0a8\\ub140\\uace0\\uc6a9\\ud3c9\\ub4f1\\uacfc \\uc77c\\u00b7\\uac00\\uc815 \\uc591\\ub9bd \\uc9c0\\uc6d0\\uc5d0 \\uad00\\ud55c \\ubc95\\ub960 \\uc77c\\ubd80\\uac1c\\uc815\\ubc95\\ub960\\uc548\",\"  \\uac10\\uc5fc\\ubcd1\\uc758 \\uc608\\ubc29 \\ubc0f \\uad00\\ub9ac\\uc5d0 \\uad00\\ud55c \\ubc95\\ub960 \\uc77c\\ubd80\\uac1c\\uc815\\ubc95\\ub960\\uc548\",\"  \\uc911\\uc18c\\uae30\\uc5c5\\uc9c4\\ud765\\uc5d0 \\uad00\\ud55c \\ubc95\\ub960 \\uc77c\\ubd80\\uac1c\\uc815\\ubc95\\ub960\\uc548\",\"  \\uac10\\uc5fc\\ubcd1\\uc758 \\uc608\\ubc29 \\ubc0f \\uad00\\ub9ac\\uc5d0 \\uad00\\ud55c \\ubc95\\ub960 \\uc77c\\ubd80\\uac1c\\uc815\\ubc95\\ub960\\uc548\",\"  \\ubb3c\\uac00\\uc548\\uc815\\uc5d0 \\uad00\\ud55c \\ubc95\\ub960 \\uc77c\\ubd80\\uac1c\\uc815\\ubc95\\ub960\\uc548\",\"  \\uac10\\uc5fc\\ubcd1\\uc758 \\uc608\\ubc29 \\ubc0f \\uad00\\ub9ac\\uc5d0 \\uad00\\ud55c \\ubc95\\ub960 \\uc77c\\ubd80\\uac1c\\uc815\\ubc95\\ub960\\uc548\",\"  \\uc870\\uc138\\ud2b9\\ub840\\uc81c\\ud55c\\ubc95 \\uc77c\\ubd80\\uac1c\\uc815\\ubc95\\ub960\\uc548\",\"  \\uc870\\uc138\\ud2b9\\ub840\\uc81c\\ud55c\\ubc95 \\uc77c\\ubd80\\uac1c\\uc815\\ubc95\\ub960\\uc548\",\"  \\uac10\\uc5fc\\ubcd1\\uc758 \\uc608\\ubc29 \\ubc0f \\uad00\\ub9ac\\uc5d0 \\uad00\\ud55c \\ubc95\\ub960 \\uc77c\\ubd80\\uac1c\\uc815\\ubc95\\ub960\\uc548\",\"  \\uac10\\uc5fc\\ubcd1\\uc758 \\uc608\\ubc29 \\ubc0f \\uad00\\ub9ac\\uc5d0 \\uad00\\ud55c \\ubc95\\ub960 \\uc77c\\ubd80\\uac1c\\uc815\\ubc95\\ub960\\uc548\",\"  \\uc870\\uc138\\ud2b9\\ub840\\uc81c\\ud55c\\ubc95 \\uc77c\\ubd80\\uac1c\\uc815\\ubc95\\ub960\\uc548\",\"  \\uc870\\uc138\\ud2b9\\ub840\\uc81c\\ud55c\\ubc95 \\uc77c\\ubd80\\uac1c\\uc815\\ubc95\\ub960\\uc548\",\"  \\uc9c0\\ubc29\\uc138\\ud2b9\\ub840\\uc81c\\ud55c\\ubc95 \\uc77c\\ubd80\\uac1c\\uc815\\ubc95\\ub960\\uc548\",\"  \\ubd80\\uac00\\uac00\\uce58\\uc138\\ubc95 \\uc77c\\ubd80\\uac1c\\uc815\\ubc95\\ub960\\uc548\",\"  \\uc870\\uc138\\ud2b9\\ub840\\uc81c\\ud55c\\ubc95 \\uc77c\\ubd80\\uac1c\\uc815\\ubc95\\ub960\\uc548\",\"  \\uac10\\uc5fc\\ubcd1\\uc758 \\uc608\\ubc29 \\ubc0f \\uad00\\ub9ac\\uc5d0 \\uad00\\ud55c \\ubc95\\ub960 \\uc77c\\ubd80\\uac1c\\uc815\\ubc95\\ub960\\uc548\",\"  \\uac10\\uc5fc\\ubcd1\\uc758 \\uc608\\ubc29 \\ubc0f \\uad00\\ub9ac\\uc5d0 \\uad00\\ud55c \\ubc95\\ub960 \\uc77c\\ubd80\\uac1c\\uc815\\ubc95\\ub960\\uc548\",\"  \\uc601\\ud654 \\ubc0f \\ube44\\ub514\\uc624\\ubb3c\\uc758 \\uc9c4\\ud765\\uc5d0 \\uad00\\ud55c \\ubc95\\ub960 \\uc77c\\ubd80\\uac1c\\uc815\\ubc95\\ub960\\uc548\",\"  \\uc7ac\\ub09c \\ubc0f \\uc548\\uc804\\uad00\\ub9ac \\uae30\\ubcf8\\ubc95 \\uc77c\\ubd80\\uac1c\\uc815\\ubc95\\ub960\\uc548\",\"  \\uadfc\\ub85c\\ubcf5\\uc9c0\\uae30\\ubcf8\\ubc95 \\uc77c\\ubd80\\uac1c\\uc815\\ubc95\\ub960\\uc548\",\"  \\uc7ac\\ub09c \\ubc0f \\uc548\\uc804\\uad00\\ub9ac \\uae30\\ubcf8\\ubc95 \\uc77c\\ubd80\\uac1c\\uc815\\ubc95\\ub960\\uc548\",\"  \\uc870\\uc138\\ud2b9\\ub840\\uc81c\\ud55c\\ubc95 \\uc77c\\ubd80\\uac1c\\uc815\\ubc95\\ub960\\uc548\",\"  \\uc870\\uc138\\ud2b9\\ub840\\uc81c\\ud55c\\ubc95 \\uc77c\\ubd80\\uac1c\\uc815\\ubc95\\ub960\\uc548\",\"  \\ubd80\\uac00\\uac00\\uce58\\uc138\\ubc95 \\uc77c\\ubd80\\uac1c\\uc815\\ubc95\\ub960\\uc548\",\"  \\uc870\\uc138\\ud2b9\\ub840\\uc81c\\ud55c\\ubc95 \\uc77c\\ubd80\\uac1c\\uc815\\ubc95\\ub960\\uc548\",\"  \\uc870\\uc138\\ud2b9\\ub840\\uc81c\\ud55c\\ubc95 \\uc77c\\ubd80\\uac1c\\uc815\\ubc95\\ub960\\uc548\",\"  \\uac10\\uc5fc\\ubcd1\\uc758 \\uc608\\ubc29 \\ubc0f \\uad00\\ub9ac\\uc5d0 \\uad00\\ud55c \\ubc95\\ub960 \\uc77c\\ubd80\\uac1c\\uc815\\ubc95\\ub960\\uc548\",\"  \\ucd9c\\uc785\\uad6d\\uad00\\ub9ac\\ubc95 \\uc77c\\ubd80\\uac1c\\uc815\\ubc95\\ub960\\uc548\",\"  \\ubd80\\uac00\\uac00\\uce58\\uc138\\ubc95 \\uc77c\\ubd80\\uac1c\\uc815\\ubc95\\ub960\\uc548\",\"  \\uc815\\ubd80\\uc870\\uc9c1\\ubc95 \\uc77c\\ubd80\\uac1c\\uc815\\ubc95\\ub960\\uc548\",\"  \\uc815\\ubd80\\uc870\\uc9c1\\ubc95 \\uc77c\\ubd80\\uac1c\\uc815\\ubc95\\ub960\\uc548\",\"  \\uac10\\uc5fc\\ubcd1\\uc758 \\uc608\\ubc29 \\ubc0f \\uad00\\ub9ac\\uc5d0 \\uad00\\ud55c \\ubc95\\ub960 \\uc77c\\ubd80\\uac1c\\uc815\\ubc95\\ub960\\uc548\",\"  \\uace0\\ub4f1\\uad50\\uc721\\ubc95 \\uc77c\\ubd80\\uac1c\\uc815\\ubc95\\ub960\\uc548\",\"  \\ub18d\\uc5c5\\u00b7\\ub18d\\ucd0c \\ubc0f \\uc2dd\\ud488\\uc0b0\\uc5c5 \\uae30\\ubcf8\\ubc95 \\uc77c\\ubd80\\uac1c\\uc815\\ubc95\\ub960\\uc548\",\"  \\uc591\\uace1\\uad00\\ub9ac\\ubc95 \\uc77c\\ubd80\\uac1c\\uc815\\ubc95\\ub960\\uc548\",\"  \\uc57d\\uad00\\uc758 \\uaddc\\uc81c\\uc5d0 \\uad00\\ud55c \\ubc95\\ub960 \\uc77c\\ubd80\\uac1c\\uc815\\ubc95\\ub960\\uc548\",\"  \\uc0c1\\uac00\\uac74\\ubb3c \\uc784\\ub300\\ucc28\\ubcf4\\ud638\\ubc95 \\uc77c\\ubd80\\uac1c\\uc815\\ubc95\\ub960\\uc548\",\"  \\uc870\\uc138\\ud2b9\\ub840\\uc81c\\ud55c\\ubc95 \\uc77c\\ubd80\\uac1c\\uc815\\ubc95\\ub960\\uc548\",\"  \\uc18c\\uc0c1\\uacf5\\uc778 \\ubcf4\\ud638 \\ubc0f \\uc9c0\\uc6d0\\uc5d0 \\uad00\\ud55c \\ubc95\\ub960 \\uc77c\\ubd80\\uac1c\\uc815\\ubc95\\ub960\\uc548\",\"  \\uad6d\\uc720\\uc7ac\\uc0b0\\ud2b9\\ub840\\uc81c\\ud55c\\ubc95 \\uc77c\\ubd80\\uac1c\\uc815\\ubc95\\ub960\\uc548\",\"  \\uc815\\ubd80\\uc870\\uc9c1\\ubc95 \\uc77c\\ubd80\\uac1c\\uc815\\ubc95\\ub960\\uc548\",\"  \\ubb3c\\uac00\\uc548\\uc815\\uc5d0 \\uad00\\ud55c \\ubc95\\ub960 \\uc77c\\ubd80\\uac1c\\uc815\\ubc95\\ub960\\uc548\",\"  \\uacf5\\uc911\\ubcf4\\uac74 \\uc704\\uae30\\ub300\\uc751 \\uc758\\uc57d\\ud488 \\uac1c\\ubc1c \\ubc0f \\uc9c0\\uc6d0\\uc5d0 \\uad00\\ud55c \\ubc95\\ub960\\uc548\",\"  \\ub0a8\\ub140\\uace0\\uc6a9\\ud3c9\\ub4f1\\uacfc \\uc77c\\u00b7\\uac00\\uc815 \\uc591\\ub9bd \\uc9c0\\uc6d0\\uc5d0 \\uad00\\ud55c \\ubc95\\ub960 \\uc77c\\ubd80\\uac1c\\uc815\\ubc95\\ub960\\uc548\",\"  \\uc870\\uc138\\ud2b9\\ub840\\uc81c\\ud55c\\ubc95 \\uc77c\\ubd80\\uac1c\\uc815\\ubc95\\ub960\\uc548\",\"  \\uc0c1\\uac00\\uac74\\ubb3c \\uc784\\ub300\\ucc28\\ubcf4\\ud638\\ubc95 \\uc77c\\ubd80\\uac1c\\uc815\\ubc95\\ub960\\uc548\",\"  \\uc8fc\\ud0dd\\uc784\\ub300\\ucc28\\ubcf4\\ud638\\ubc95 \\uc77c\\ubd80\\uac1c\\uc815\\ubc95\\ub960\\uc548\",\"  \\uad6d\\uac00\\uc7ac\\uc815\\ubc95 \\uc77c\\ubd80\\uac1c\\uc815\\ubc95\\ub960\\uc548\",\"  \\ud559\\uad50\\ubcf4\\uac74\\ubc95 \\uc77c\\ubd80\\uac1c\\uc815\\ubc95\\ub960\\uc548\",\"  \\ubb3c\\uac00\\uc548\\uc815\\uc5d0 \\uad00\\ud55c \\ubc95\\ub960 \\uc77c\\ubd80\\uac1c\\uc815\\ubc95\\ub960\\uc548\",\"  \\uc870\\uc138\\ud2b9\\ub840\\uc81c\\ud55c\\ubc95 \\uc77c\\ubd80\\uac1c\\uc815\\ubc95\\ub960\\uc548\",\"  \\uad6d\\ub9bd\\uacf5\\uacf5\\ubcf4\\uac74\\uc758\\ub8cc\\ub300\\ud559 \\uc124\\ub9bd \\ubc0f \\uc6b4\\uc601\\uc5d0 \\uad00\\ud55c \\ubc95\\ub960\\uc548\",\"  \\uc751\\uae09\\uc758\\ub8cc\\uc5d0 \\uad00\\ud55c \\ubc95\\ub960 \\uc77c\\ubd80\\uac1c\\uc815\\ubc95\\ub960\\uc548\",\"  \\uad6d\\uc720\\uc7ac\\uc0b0\\ud2b9\\ub840\\uc81c\\ud55c\\ubc95 \\uc77c\\ubd80\\uac1c\\uc815\\ubc95\\ub960\\uc548\",\"  \\uc870\\uc138\\ud2b9\\ub840\\uc81c\\ud55c\\ubc95 \\uc77c\\ubd80\\uac1c\\uc815\\ubc95\\ub960\\uc548\",\"  \\ubd80\\uac00\\uac00\\uce58\\uc138\\ubc95 \\uc77c\\ubd80\\uac1c\\uc815\\ubc95\\ub960\\uc548\",\"  \\ubd80\\uac00\\uac00\\uce58\\uc138\\ubc95 \\uc77c\\ubd80\\uac1c\\uc815\\ubc95\\ub960\\uc548\",\"  \\uc870\\uc138\\ud2b9\\ub840\\uc81c\\ud55c\\ubc95 \\uc77c\\ubd80\\uac1c\\uc815\\ubc95\\ub960\\uc548\",\"  \\uc815\\ubd80\\uc870\\uc9c1\\ubc95 \\uc77c\\ubd80\\uac1c\\uc815\\ubc95\\ub960\\uc548\",\"  \\uc9c0\\ubc29\\uc138\\ubc95 \\uc77c\\ubd80\\uac1c\\uc815\\ubc95\\ub960\\uc548\",\"  \\uc870\\uc138\\ud2b9\\ub840\\uc81c\\ud55c\\ubc95 \\uc77c\\ubd80\\uac1c\\uc815\\ubc95\\ub960\\uc548\",\"  \\uad6d\\uac00\\uc7ac\\uc815\\ubc95 \\uc77c\\ubd80\\uac1c\\uc815\\ubc95\\ub960\\uc548\",\"  \\uc815\\ubd80\\uc870\\uc9c1\\ubc95 \\uc77c\\ubd80\\uac1c\\uc815\\ubc95\\ub960\\uc548\",\"  \\uc9c0\\ubc29\\uc138\\ud2b9\\ub840\\uc81c\\ud55c\\ubc95 \\uc77c\\ubd80\\uac1c\\uc815\\ubc95\\ub960\\uc548\",\"  \\uc9c0\\ubc29\\uc138\\ud2b9\\ub840\\uc81c\\ud55c\\ubc95 \\uc77c\\ubd80\\uac1c\\uc815\\ubc95\\ub960\\uc548\",\"  \\uc870\\uc138\\ud2b9\\ub840\\uc81c\\ud55c\\ubc95 \\uc77c\\ubd80\\uac1c\\uc815\\ubc95\\ub960\\uc548\",\"  \\uc7ac\\ub09c \\ubc0f \\uc548\\uc804\\uad00\\ub9ac \\uae30\\ubcf8\\ubc95 \\uc77c\\ubd80\\uac1c\\uc815\\ubc95\\ub960\\uc548\",\"  \\uace0\\ub4f1\\uad50\\uc721\\ubc95 \\uc77c\\ubd80\\uac1c\\uc815\\ubc95\\ub960\\uc548\",\"  \\uc7ac\\ub09c \\ubc0f \\uc548\\uc804\\uad00\\ub9ac \\uae30\\ubcf8\\ubc95 \\uc77c\\ubd80\\uac1c\\uc815\\ubc95\\ub960\\uc548\",\"  \\uc815\\ubd80\\uc870\\uc9c1\\ubc95 \\uc77c\\ubd80\\uac1c\\uc815\\ubc95\\ub960\\uc548\",\"  \\uc804\\ud1b5\\uc2dc\\uc7a5 \\ubc0f \\uc0c1\\uc810\\uac00 \\uc721\\uc131\\uc744 \\uc704\\ud55c \\ud2b9\\ubcc4\\ubc95 \\uc77c\\ubd80\\uac1c\\uc815\\ubc95\\ub960\\uc548\",\"  \\uc870\\uc138\\ud2b9\\ub840\\uc81c\\ud55c\\ubc95 \\uc77c\\ubd80\\uac1c\\uc815\\ubc95\\ub960\\uc548\",\"  \\ub3c5\\uc810\\uaddc\\uc81c \\ubc0f \\uacf5\\uc815\\uac70\\ub798\\uc5d0 \\uad00\\ud55c \\ubc95\\ub960 \\uc77c\\ubd80\\uac1c\\uc815\\ubc95\\ub960\\uc548\",\"  \\ubd80\\uac00\\uac00\\uce58\\uc138\\ubc95 \\uc77c\\ubd80\\uac1c\\uc815\\ubc95\\ub960\\uc548\",\"  \\uc9c0\\ubc29\\uc138\\ud2b9\\ub840\\uc81c\\ud55c\\ubc95 \\uc77c\\ubd80\\uac1c\\uc815\\ubc95\\ub960\\uc548\",\"  \\uc870\\uc138\\ud2b9\\ub840\\uc81c\\ud55c\\ubc95 \\uc77c\\ubd80\\uac1c\\uc815\\ubc95\\ub960\\uc548\",\"  \\uad6d\\uac00\\uc7ac\\uc815\\ubc95 \\uc77c\\ubd80\\uac1c\\uc815\\ubc95\\ub960\\uc548\",\"  \\uc601\\ud654 \\ubc0f \\ube44\\ub514\\uc624\\ubb3c\\uc758 \\uc9c4\\ud765\\uc5d0 \\uad00\\ud55c \\ubc95\\ub960 \\uc77c\\ubd80\\uac1c\\uc815\\ubc95\\ub960\\uc548\",\"  \\ucd08\\u00b7\\uc911\\ub4f1\\uad50\\uc721\\ubc95 \\uc77c\\ubd80\\uac1c\\uc815\\ubc95\\ub960\\uc548\",\"  \\ucd5c\\uc800\\uc784\\uae08\\ubc95 \\uc77c\\ubd80\\uac1c\\uc815\\ubc95\\ub960\\uc548\",\"  \\uc0dd\\uba85\\uc548\\uc804\\uc5c5\\ubb34 \\uc885\\uc0ac\\uc790\\uc758 \\uc9c1\\uc811\\uace0\\uc6a9 \\ub4f1\\uc5d0 \\uad00\\ud55c \\ubc95\\ub960\\uc548\",\"  \\uad6d\\ubbfc\\uac74\\uac15\\ubcf4\\ud5d8\\ubc95 \\uc77c\\ubd80\\uac1c\\uc815\\ubc95\\ub960\\uc548\",\"  \\uadfc\\ub85c\\uae30\\uc900\\ubc95 \\uc77c\\ubd80\\uac1c\\uc815\\ubc95\\ub960\\uc548\",\"  \\uc7ac\\ub09c \\ubc0f \\uc548\\uc804\\uad00\\ub9ac \\uae30\\ubcf8\\ubc95 \\uc77c\\ubd80\\uac1c\\uc815\\ubc95\\ub960\\uc548\",\"  \\uc870\\uc138\\ud2b9\\ub840\\uc81c\\ud55c\\ubc95 \\uc77c\\ubd80\\uac1c\\uc815\\ubc95\\ub960\\uc548\",\"  \\uace0\\ub4f1\\uad50\\uc721\\ubc95 \\uc77c\\ubd80\\uac1c\\uc815\\ubc95\\ub960\\uc548\",\"  \\ub300\\u00b7\\uc911\\uc18c\\uae30\\uc5c5 \\uc0c1\\uc0dd\\ud611\\ub825 \\ucd09\\uc9c4\\uc5d0 \\uad00\\ud55c \\ubc95\\ub960 \\uc77c\\ubd80\\uac1c\\uc815\\ubc95\\ub960\\uc548\",\"  \\uace0\\ub4f1\\uad50\\uc721\\ubc95 \\uc77c\\ubd80\\uac1c\\uc815\\ubc95\\ub960\\uc548\",\"  \\uc9c0\\ubc29\\uc758\\ub8cc\\uc6d0\\uc758 \\uc124\\ub9bd \\ubc0f \\uc6b4\\uc601\\uc5d0 \\uad00\\ud55c \\ubc95\\ub960 \\uc77c\\ubd80\\uac1c\\uc815\\ubc95\\ub960\\uc548\",\"  \\uc5ec\\uac1d\\uc790\\ub3d9\\ucc28 \\uc6b4\\uc218\\uc0ac\\uc5c5\\ubc95 \\uc77c\\ubd80\\uac1c\\uc815\\ubc95\\ub960\\uc548\",\"  \\uc5b4\\ub9b0\\uc774\\uac74\\uac15 \\ubcf4\\ud638 \\ubc0f \\uc99d\\uc9c4\\uc5d0 \\uad00\\ud55c \\ubc95\\ub960\\uc548\",\"  \\uc870\\uc138\\ud2b9\\ub840\\uc81c\\ud55c\\ubc95 \\uc77c\\ubd80\\uac1c\\uc815\\ubc95\\ub960\\uc548\",\"  \\uc0c1\\uac00\\uac74\\ubb3c \\uc784\\ub300\\ucc28\\ubcf4\\ud638\\ubc95 \\uc77c\\ubd80\\uac1c\\uc815\\ubc95\\ub960\\uc548\",\"  \\uadfc\\ub85c\\uae30\\uc900\\ubc95 \\uc77c\\ubd80\\uac1c\\uc815\\ubc95\\ub960\\uc548\",\"  \\uc7ac\\ub09c \\ubc0f \\uc548\\uc804\\uad00\\ub9ac \\uae30\\ubcf8\\ubc95 \\uc77c\\ubd80\\uac1c\\uc815\\ubc95\\ub960\\uc548\",\"  \\ud608\\uc561\\uad00\\ub9ac\\ubc95 \\uc77c\\ubd80\\uac1c\\uc815\\ubc95\\ub960\\uc548\",\"  \\ud574\\uc678\\uc9c4\\ucd9c\\uae30\\uc5c5\\uc758 \\uad6d\\ub0b4\\ubcf5\\uadc0 \\uc9c0\\uc6d0\\uc5d0 \\uad00\\ud55c \\ubc95\\ub960 \\uc77c\\ubd80\\uac1c\\uc815\\ubc95\\ub960\\uc548\",\"  \\ubc29\\uc1a1\\ud1b5\\uc2e0\\ubc1c\\uc804 \\uae30\\ubcf8\\ubc95 \\uc77c\\ubd80\\uac1c\\uc815\\ubc95\\ub960\\uc548\",\"  \\ubd80\\uac00\\uac00\\uce58\\uc138\\ubc95 \\uc77c\\ubd80\\uac1c\\uc815\\ubc95\\ub960\\uc548\",\"  \\ubb38\\ud654\\uc0b0\\uc5c5\\uc9c4\\ud765 \\uae30\\ubcf8\\ubc95 \\uc77c\\ubd80\\uac1c\\uc815\\ubc95\\ub960\\uc548\",\"  \\uad6d\\uac00\\uc7ac\\uc815\\ubc95 \\uc77c\\ubd80\\uac1c\\uc815\\ubc95\\ub960\\uc548\",\"  \\ubcf5\\uad8c \\ubc0f \\ubcf5\\uad8c\\uae30\\uae08\\ubc95 \\uc77c\\ubd80\\uac1c\\uc815\\ubc95\\ub960\\uc548\",\"  \\ubd80\\uac00\\uac00\\uce58\\uc138\\ubc95 \\uc77c\\ubd80\\uac1c\\uc815\\ubc95\\ub960\\uc548\",\"  \\uc9c0\\ubc29\\uc138\\ud2b9\\ub840\\uc81c\\ud55c\\ubc95 \\uc77c\\ubd80\\uac1c\\uc815\\ubc95\\ub960\\uc548\",\"  \\uc870\\uc138\\ud2b9\\ub840\\uc81c\\ud55c\\ubc95 \\uc77c\\ubd80\\uac1c\\uc815\\ubc95\\ub960\\uc548\",\"  \\uac10\\uc5fc\\ubcd1\\uc758 \\uc608\\ubc29 \\ubc0f \\uad00\\ub9ac\\uc5d0 \\uad00\\ud55c \\ubc95\\ub960 \\uc77c\\ubd80\\uac1c\\uc815\\ubc95\\ub960\\uc548\",\"  \\uc7ac\\ub09c \\ubc0f \\uc548\\uc804\\uad00\\ub9ac \\uae30\\ubcf8\\ubc95 \\uc77c\\ubd80\\uac1c\\uc815\\ubc95\\ub960\\uc548\",\"  \\uccad\\ub144\\uace0\\uc6a9\\ucd09\\uc9c4 \\ud2b9\\ubcc4\\ubc95 \\uc77c\\ubd80\\uac1c\\uc815\\ubc95\\ub960\\uc548\",\"  \\uc18c\\ub4dd\\uc138\\ubc95 \\uc77c\\ubd80\\uac1c\\uc815\\ubc95\\ub960\\uc548\",\"  \\uc870\\uc138\\ud2b9\\ub840\\uc81c\\ud55c\\ubc95 \\uc77c\\ubd80\\uac1c\\uc815\\ubc95\\ub960\\uc548\",\"  \\uccad\\ub144\\uace0\\uc6a9\\ucd09\\uc9c4 \\ud2b9\\ubcc4\\ubc95 \\uc77c\\ubd80\\uac1c\\uc815\\ubc95\\ub960\\uc548\",\"  \\ubd80\\uac00\\uac00\\uce58\\uc138\\ubc95 \\uc77c\\ubd80\\uac1c\\uc815\\ubc95\\ub960\\uc548\",\"  \\ud608\\uc561\\uad00\\ub9ac\\ubc95 \\uc77c\\ubd80\\uac1c\\uc815\\ubc95\\ub960\\uc548\",\"  \\uc0c8\\ub9c8\\uc744\\uc6b4\\ub3d9\\uc870\\uc9c1 \\uc721\\uc131\\ubc95 \\uc77c\\ubd80\\uac1c\\uc815\\ubc95\\ub960\\uc548\",\"  \\uc870\\uc138\\ud2b9\\ub840\\uc81c\\ud55c\\ubc95 \\uc77c\\ubd80\\uac1c\\uc815\\ubc95\\ub960\\uc548\",\"  \\uc870\\uc138\\ud2b9\\ub840\\uc81c\\ud55c\\ubc95 \\uc77c\\ubd80\\uac1c\\uc815\\ubc95\\ub960\\uc548\",\"  \\uc870\\uc138\\ud2b9\\ub840\\uc81c\\ud55c\\ubc95 \\uc77c\\ubd80\\uac1c\\uc815\\ubc95\\ub960\\uc548\",\"  \\uadfc\\ub85c\\ubcf5\\uc9c0\\uae30\\ubcf8\\ubc95 \\uc77c\\ubd80\\uac1c\\uc815\\ubc95\\ub960\\uc548\",\"  \\uc870\\uc138\\ud2b9\\ub840\\uc81c\\ud55c\\ubc95 \\uc77c\\ubd80\\uac1c\\uc815\\ubc95\\ub960\\uc548\",\"  \\uad6d\\uac00\\uc720\\uacf5\\uc790 \\ub4f1 \\uc608\\uc6b0 \\ubc0f \\uc9c0\\uc6d0\\uc5d0 \\uad00\\ud55c \\ubc95\\ub960 \\uc77c\\ubd80\\uac1c\\uc815\\ubc95\\ub960\\uc548\",\"  \\uc9c0\\uc5ed\\uc0ac\\ub791\\uc0c1\\ud488\\uad8c \\uc774\\uc6a9 \\ud65c\\uc131\\ud654\\uc5d0 \\uad00\\ud55c \\ubc95\\ub960 \\uc77c\\ubd80\\uac1c\\uc815\\ubc95\\ub960\\uc548\",\"  \\ub179\\uc0c9\\uac74\\ucd95\\ubb3c \\uc870\\uc131 \\uc9c0\\uc6d0\\ubc95 \\uc77c\\ubd80\\uac1c\\uc815\\ubc95\\ub960\\uc548\",\"  \\uae30\\uc5c5\\ud65c\\ub3d9 \\uaddc\\uc81c\\uc644\\ud654\\uc5d0 \\uad00\\ud55c \\ud2b9\\ubcc4\\uc870\\uce58\\ubc95 \\uc77c\\ubd80\\uac1c\\uc815\\ubc95\\ub960\\uc548\",\"  \\uadfc\\ub85c\\uae30\\uc900\\ubc95 \\uc77c\\ubd80\\uac1c\\uc815\\ubc95\\ub960\\uc548\",\"  \\uc870\\uc138\\ud2b9\\ub840\\uc81c\\ud55c\\ubc95 \\uc77c\\ubd80\\uac1c\\uc815\\ubc95\\ub960\\uc548\",\"  \\uadfc\\ub85c\\uae30\\uc900\\ubc95 \\uc77c\\ubd80\\uac1c\\uc815\\ubc95\\ub960\\uc548\",\"  \\uace0\\uc6a9\\ubcf4\\ud5d8\\ubc95 \\uc77c\\ubd80\\uac1c\\uc815\\ubc95\\ub960\\uc548\",\"  \\uc7ac\\uc678\\uad6d\\ubbfc\\uc758 \\uad50\\uc721\\uc9c0\\uc6d0 \\ub4f1\\uc5d0 \\uad00\\ud55c \\ubc95\\ub960 \\uc77c\\ubd80\\uac1c\\uc815\\ubc95\\ub960\\uc548\",\"  \\uad6d\\ub9bd\\uacf5\\uacf5\\ubcf4\\uac74\\uc758\\ub8cc\\ub300\\ud559 \\uc124\\ub9bd\\u00b7\\uc6b4\\uc601\\uc5d0 \\uad00\\ud55c \\ubc95\\ub960\\uc548\",\"  \\ubc95\\uc778\\uc138\\ubc95 \\uc77c\\ubd80\\uac1c\\uc815\\ubc95\\ub960\\uc548\",\"  \\uc870\\uc138\\ud2b9\\ub840\\uc81c\\ud55c\\ubc95 \\uc77c\\ubd80\\uac1c\\uc815\\ubc95\\ub960\\uc548\",\"  \\uc870\\uc138\\ud2b9\\ub840\\uc81c\\ud55c\\ubc95 \\uc77c\\ubd80\\uac1c\\uc815\\ubc95\\ub960\\uc548\",\"  \\ud56d\\uacf5\\uc6b0\\uc8fc\\uc0b0\\uc5c5\\uac1c\\ubc1c \\ucd09\\uc9c4\\ubc95 \\uc77c\\ubd80\\uac1c\\uc815\\ubc95\\ub960\\uc548\",\"  \\ud559\\uad50\\uae09\\uc2dd\\ubc95 \\uc77c\\ubd80\\uac1c\\uc815\\ubc95\\ub960\\uc548\",\"  \\uc608\\uc220\\uc778 \\ubcf5\\uc9c0\\ubc95 \\uc77c\\ubd80\\uac1c\\uc815\\ubc95\\ub960\\uc548\",\"  \\uad6d\\uac00\\uc7ac\\uc815\\ubc95 \\uc77c\\ubd80\\uac1c\\uc815\\ubc95\\ub960\\uc548\",\"  \\uc9c0\\ubc29\\ub300\\ud559 \\ubc0f \\uc9c0\\uc5ed\\uade0\\ud615\\uc778\\uc7ac \\uc721\\uc131\\uc5d0 \\uad00\\ud55c \\ubc95\\ub960 \\uc77c\\ubd80\\uac1c\\uc815\\ubc95\\ub960\\uc548\",\"  \\ub0a8\\ub140\\uace0\\uc6a9\\ud3c9\\ub4f1\\uacfc \\uc77c\\u00b7\\uac00\\uc815 \\uc591\\ub9bd \\uc9c0\\uc6d0\\uc5d0 \\uad00\\ud55c \\ubc95\\ub960 \\uc77c\\ubd80\\uac1c\\uc815\\ubc95\\ub960\\uc548\",\"  \\ub0a8\\ubd81 \\ubcf4\\uac74\\uc758\\ub8cc\\uc758 \\uad50\\ub958\\ud611\\ub825 \\uc99d\\uc9c4\\uc5d0 \\uad00\\ud55c \\ubc95\\ub960\\uc548\",\"  \\uac10\\uc5fc\\ubcd1\\uc758 \\uc608\\ubc29 \\ubc0f \\uad00\\ub9ac\\uc5d0 \\uad00\\ud55c \\ubc95\\ub960 \\uc77c\\ubd80\\uac1c\\uc815\\ubc95\\ub960\\uc548\",\"  \\uac10\\uc5fc\\ubcd1\\uc758 \\uc608\\ubc29 \\ubc0f \\uad00\\ub9ac\\uc5d0 \\uad00\\ud55c \\ubc95\\ub960 \\uc77c\\ubd80\\uac1c\\uc815\\ubc95\\ub960\\uc548\",\"  \\uac00\\ub9f9\\uc0ac\\uc5c5\\uac70\\ub798\\uc758 \\uacf5\\uc815\\ud654\\uc5d0 \\uad00\\ud55c \\ubc95\\ub960 \\uc77c\\ubd80\\uac1c\\uc815\\ubc95\\ub960\\uc548\",\"  \\ubd80\\uac00\\uac00\\uce58\\uc138\\ubc95 \\uc77c\\ubd80\\uac1c\\uc815\\ubc95\\ub960\\uc548\",\"  \\uc18c\\uc0c1\\uacf5\\uc778 \\ubcf4\\ud638 \\ubc0f \\uc9c0\\uc6d0\\uc5d0 \\uad00\\ud55c \\ubc95\\ub960 \\uc77c\\ubd80\\uac1c\\uc815\\ubc95\\ub960\\uc548\",\"  \\uc870\\uc138\\ud2b9\\ub840\\uc81c\\ud55c\\ubc95 \\uc77c\\ubd80\\uac1c\\uc815\\ubc95\\ub960\\uc548\",\"  \\ub300\\ub9ac\\uc810\\uac70\\ub798\\uc758 \\uacf5\\uc815\\ud654\\uc5d0 \\uad00\\ud55c \\ubc95\\ub960 \\uc77c\\ubd80\\uac1c\\uc815\\ubc95\\ub960\\uc548\",\"  \\ubd80\\uac00\\uac00\\uce58\\uc138\\ubc95 \\uc77c\\ubd80\\uac1c\\uc815\\ubc95\\ub960\\uc548\",\"  \\uacf5\\uacf5\\uae30\\uad00\\uc758 \\uc6b4\\uc601\\uc5d0 \\uad00\\ud55c \\ubc95\\ub960 \\uc77c\\ubd80\\uac1c\\uc815\\ubc95\\ub960\\uc548\",\"  \\uad6d\\uac00\\ub97c \\ub2f9\\uc0ac\\uc790\\ub85c \\ud558\\ub294 \\uacc4\\uc57d\\uc5d0 \\uad00\\ud55c \\ubc95\\ub960 \\uc77c\\ubd80\\uac1c\\uc815\\ubc95\\ub960\\uc548\",\"  \\uc870\\uc138\\ud2b9\\ub840\\uc81c\\ud55c\\ubc95 \\uc77c\\ubd80\\uac1c\\uc815\\ubc95\\ub960\\uc548\",\"  \\uc9c0\\ubc29\\uacf5\\ubb34\\uc6d0\\ubc95 \\uc77c\\ubd80\\uac1c\\uc815\\ubc95\\ub960\\uc548\",\"  \\uad6d\\uac00\\uacf5\\ubb34\\uc6d0\\ubc95 \\uc77c\\ubd80\\uac1c\\uc815\\ubc95\\ub960\\uc548\",\"  \\ub18d\\uc5c5\\uae30\\uacc4\\ud654 \\ucd09\\uc9c4\\ubc95 \\uc77c\\ubd80\\uac1c\\uc815\\ubc95\\ub960\\uc548\",\"  \\uadfc\\ub85c\\uae30\\uc900\\ubc95 \\uc77c\\ubd80\\uac1c\\uc815\\ubc95\\ub960\\uc548\",\"  \\uc870\\uc138\\ud2b9\\ub840\\uc81c\\ud55c\\ubc95 \\uc77c\\ubd80\\uac1c\\uc815\\ubc95\\ub960\\uc548\",\"  \\uac10\\uc5fc\\ubcd1\\uc758 \\uc608\\ubc29 \\ubc0f \\uad00\\ub9ac\\uc5d0 \\uad00\\ud55c \\ubc95\\ub960 \\uc77c\\ubd80\\uac1c\\uc815\\ubc95\\ub960\\uc548\",\"  \\ucd08\\u00b7\\uc911\\ub4f1\\uad50\\uc721\\ubc95 \\uc77c\\ubd80\\uac1c\\uc815\\ubc95\\ub960\\uc548\",\"  \\uac10\\uc5fc\\ubcd1\\uc758 \\uc608\\ubc29 \\ubc0f \\uad00\\ub9ac\\uc5d0 \\uad00\\ud55c \\ubc95\\ub960 \\uc77c\\ubd80\\uac1c\\uc815\\ubc95\\ub960\\uc548\",\"  \\uac10\\uc5fc\\ubcd1\\uc758 \\uc608\\ubc29 \\ubc0f \\uad00\\ub9ac\\uc5d0 \\uad00\\ud55c \\ubc95\\ub960 \\uc77c\\ubd80\\uac1c\\uc815\\ubc95\\ub960\\uc548\",\"  \\uc790\\uc6d0\\uc758 \\uc808\\uc57d\\uacfc \\uc7ac\\ud65c\\uc6a9\\ucd09\\uc9c4\\uc5d0 \\uad00\\ud55c \\ubc95\\ub960 \\uc77c\\ubd80\\uac1c\\uc815\\ubc95\\ub960\\uc548\",\"  \\ucd08\\u00b7\\uc911\\ub4f1\\uad50\\uc721\\ubc95 \\uc77c\\ubd80\\uac1c\\uc815\\ubc95\\ub960\\uc548\",\"  \\uc7ac\\ub09c \\ubc0f \\uc548\\uc804\\uad00\\ub9ac \\uae30\\ubcf8\\ubc95 \\uc77c\\ubd80\\uac1c\\uc815\\ubc95\\ub960\\uc548\",\"  \\ucd9c\\uc785\\uad6d\\uad00\\ub9ac\\ubc95 \\uc77c\\ubd80\\uac1c\\uc815\\ubc95\\ub960\\uc548\",\"  \\uc9c1\\uc5c5\\uad50\\uc721\\ud6c8\\ub828 \\ucd09\\uc9c4\\ubc95 \\uc77c\\ubd80\\uac1c\\uc815\\ubc95\\ub960\\uc548\",\"  \\uad6d\\uac00\\ud68c\\uacc4\\ubc95 \\uc77c\\ubd80\\uac1c\\uc815\\ubc95\\ub960\\uc548\",\"  \\uad6d\\uac00\\uc7ac\\uc815\\ubc95 \\uc77c\\ubd80\\uac1c\\uc815\\ubc95\\ub960\\uc548\",\"  \\uc0c1\\uc18d\\uc138 \\ubc0f \\uc99d\\uc5ec\\uc138\\ubc95 \\uc77c\\ubd80\\uac1c\\uc815\\ubc95\\ub960\\uc548\",\"  \\ubd80\\uac00\\uac00\\uce58\\uc138\\ubc95 \\uc77c\\ubd80\\uac1c\\uc815\\ubc95\\ub960\\uc548\",\"  \\ubd80\\uac00\\uac00\\uce58\\uc138\\ubc95 \\uc77c\\ubd80\\uac1c\\uc815\\ubc95\\ub960\\uc548\",\"  \\uace0\\ub4f1\\uad50\\uc721\\ubc95 \\uc77c\\ubd80\\uac1c\\uc815\\ubc95\\ub960\\uc548\",\"  \\uad6d\\ubbfc\\uac74\\uac15\\ubcf4\\ud5d8\\ubc95 \\uc77c\\ubd80\\uac1c\\uc815\\ubc95\\ub960\\uc548\",\"  \\ucd5c\\uc800\\uc784\\uae08\\ubc95 \\uc77c\\ubd80\\uac1c\\uc815\\ubc95\\ub960\\uc548\",\"  119\\uad6c\\uc870\\u00b7\\uad6c\\uae09\\uc5d0 \\uad00\\ud55c \\ubc95\\ub960 \\uc77c\\ubd80\\uac1c\\uc815\\ubc95\\ub960\\uc548\",\"  \\ubc95\\uc778\\uc138\\ubc95 \\uc77c\\ubd80\\uac1c\\uc815\\ubc95\\ub960\\uc548\",\"  \\ubb3c\\uac00\\uc548\\uc815\\uc5d0 \\uad00\\ud55c \\ubc95\\ub960 \\uc77c\\ubd80\\uac1c\\uc815\\ubc95\\ub960\\uc548\",\"  \\uac10\\uc5fc\\ubcd1\\uc758 \\uc608\\ubc29 \\ubc0f \\uad00\\ub9ac\\uc5d0 \\uad00\\ud55c \\ubc95\\ub960 \\uc77c\\ubd80\\uac1c\\uc815\\ubc95\\ub960\\uc548\",\"  \\uad6d\\uc720\\uc7ac\\uc0b0\\ud2b9\\ub840\\uc81c\\ud55c\\ubc95 \\uc77c\\ubd80\\uac1c\\uc815\\ubc95\\ub960\\uc548\",\"  \\ud3d0\\uad11\\uc9c0\\uc5ed \\uac1c\\ubc1c \\uc9c0\\uc6d0\\uc5d0 \\uad00\\ud55c \\ud2b9\\ubcc4\\ubc95 \\uc77c\\ubd80\\uac1c\\uc815\\ubc95\\ub960\\uc548\",\"  \\uc870\\uc138\\ud2b9\\ub840\\uc81c\\ud55c\\ubc95 \\uc77c\\ubd80\\uac1c\\uc815\\ubc95\\ub960\\uc548\",\"  \\uc18c\\ub4dd\\uc138\\ubc95 \\uc77c\\ubd80\\uac1c\\uc815\\ubc95\\ub960\\uc548\",\"  \\uac10\\uc5fc\\ubcd1\\uc758 \\uc608\\ubc29 \\ubc0f \\uad00\\ub9ac\\uc5d0 \\uad00\\ud55c \\ubc95\\ub960 \\uc77c\\ubd80\\uac1c\\uc815\\ubc95\\ub960\\uc548\",\"  \\uc18c\\uc0c1\\uacf5\\uc778 \\ubcf4\\ud638 \\ubc0f \\uc9c0\\uc6d0\\uc5d0 \\uad00\\ud55c \\ubc95\\ub960 \\uc77c\\ubd80\\uac1c\\uc815\\ubc95\\ub960\\uc548\",\"  \\ubbfc\\uac04\\uc784\\ub300\\uc8fc\\ud0dd\\uc5d0 \\uad00\\ud55c \\ud2b9\\ubcc4\\ubc95 \\uc77c\\ubd80\\uac1c\\uc815\\ubc95\\ub960\\uc548\",\"  \\uc870\\uc138\\ud2b9\\ub840\\uc81c\\ud55c\\ubc95 \\uc77c\\ubd80\\uac1c\\uc815\\ubc95\\ub960\\uc548\",\"  \\uac10\\uc5fc\\ubcd1\\uc758 \\uc608\\ubc29 \\ubc0f \\uad00\\ub9ac\\uc5d0 \\uad00\\ud55c \\ubc95\\ub960 \\uc77c\\ubd80\\uac1c\\uc815\\ubc95\\ub960\\uc548\",\"  \\uac10\\uc5fc\\ubcd1\\uc758 \\uc608\\ubc29 \\ubc0f \\uad00\\ub9ac\\uc5d0 \\uad00\\ud55c \\ubc95\\ub960 \\uc77c\\ubd80\\uac1c\\uc815\\ubc95\\ub960\\uc548\",\"  \\uc758\\ub8cc\\ubc95 \\uc77c\\ubd80\\uac1c\\uc815\\ubc95\\ub960\\uc548\",\"  \\uc815\\uc2e0\\uac74\\uac15\\uc99d\\uc9c4 \\ubc0f \\uc815\\uc2e0\\uc9c8\\ud658\\uc790 \\ubcf5\\uc9c0\\uc11c\\ube44\\uc2a4 \\uc9c0\\uc6d0\\uc5d0 \\uad00\\ud55c \\ubc95\\ub960 \\uc77c\\ubd80\\uac1c\\uc815\\ubc95\\ub960\\uc548\",\"  \\uadfc\\ub85c\\ubcf5\\uc9c0\\uae30\\ubcf8\\ubc95 \\uc77c\\ubd80\\uac1c\\uc815\\ubc95\\ub960\\uc548\",\"  \\uc870\\uc138\\ud2b9\\ub840\\uc81c\\ud55c\\ubc95 \\uc77c\\ubd80\\uac1c\\uc815\\ubc95\\ub960\\uc548\",\"  \\uc870\\uc138\\ud2b9\\ub840\\uc81c\\ud55c\\ubc95 \\uc77c\\ubd80\\uac1c\\uc815\\ubc95\\ub960\\uc548\",\"  \\uc5ec\\uac1d\\uc790\\ub3d9\\ucc28 \\uc6b4\\uc218\\uc0ac\\uc5c5\\ubc95 \\uc77c\\ubd80\\uac1c\\uc815\\ubc95\\ub960\\uc548\",\"  \\uad6d\\uac00\\uc7ac\\uc815\\ubc95 \\uc77c\\ubd80\\uac1c\\uc815\\ubc95\\ub960\\uc548\",\"  \\uad6d\\ubbfc\\uac74\\uac15\\ubcf4\\ud5d8\\ubc95 \\uc77c\\ubd80\\uac1c\\uc815\\ubc95\\ub960\\uc548\",\"  \\uacbd\\uc81c\\uc790\\uc720\\uad6c\\uc5ed\\uc758 \\uc9c0\\uc815 \\ubc0f \\uc6b4\\uc601\\uc5d0 \\uad00\\ud55c \\ud2b9\\ubcc4\\ubc95 \\uc77c\\ubd80\\uac1c\\uc815\\ubc95\\ub960\\uc548\",\"  \\uc870\\uc138\\ud2b9\\ub840\\uc81c\\ud55c\\ubc95 \\uc77c\\ubd80\\uac1c\\uc815\\ubc95\\ub960\\uc548\",\"  \\uc774\\uc790\\uc81c\\ud55c\\ubc95 \\uc77c\\ubd80\\uac1c\\uc815\\ubc95\\ub960\\uc548\",\"  \\uc870\\uc138\\ud2b9\\ub840\\uc81c\\ud55c\\ubc95 \\uc77c\\ubd80\\uac1c\\uc815\\ubc95\\ub960\\uc548\",\"  \\ubd80\\uac00\\uac00\\uce58\\uc138\\ubc95 \\uc77c\\ubd80\\uac1c\\uc815\\ubc95\\ub960\\uc548\",\"  \\uacbd\\uc81c\\uc790\\uc720\\uad6c\\uc5ed\\uc758 \\uc9c0\\uc815 \\ubc0f \\uc6b4\\uc601\\uc5d0 \\uad00\\ud55c \\ud2b9\\ubcc4\\ubc95 \\uc77c\\ubd80\\uac1c\\uc815\\ubc95\\ub960\\uc548\",\"  \\uc9c0\\ubc29\\uc138\\ud2b9\\ub840\\uc81c\\ud55c\\ubc95 \\uc77c\\ubd80\\uac1c\\uc815\\ubc95\\ub960\\uc548\",\"  \\ub300\\ubd80\\uc5c5 \\ub4f1\\uc758 \\ub4f1\\ub85d \\ubc0f \\uae08\\uc735\\uc774\\uc6a9\\uc790 \\ubcf4\\ud638\\uc5d0 \\uad00\\ud55c \\ubc95\\ub960 \\uc77c\\ubd80\\uac1c\\uc815\\ubc95\\ub960\\uc548\",\"  \\ub179\\uc0c9\\uac74\\ucd95\\ubb3c \\uc870\\uc131 \\uc9c0\\uc6d0\\ubc95 \\uc77c\\ubd80\\uac1c\\uc815\\ubc95\\ub960\\uc548\",\"  \\uc870\\uc138\\ud2b9\\ub840\\uc81c\\ud55c\\ubc95 \\uc77c\\ubd80\\uac1c\\uc815\\ubc95\\ub960\\uc548\",\"  \\ubd80\\uac00\\uac00\\uce58\\uc138\\ubc95 \\uc77c\\ubd80\\uac1c\\uc815\\ubc95\\ub960\\uc548\",\"  \\uc870\\uc138\\ud2b9\\ub840\\uc81c\\ud55c\\ubc95 \\uc77c\\ubd80\\uac1c\\uc815\\ubc95\\ub960\\uc548\",\"  \\uc870\\uc138\\ud2b9\\ub840\\uc81c\\ud55c\\ubc95 \\uc77c\\ubd80\\uac1c\\uc815\\ubc95\\ub960\\uc548\",\"  \\uc870\\uc138\\ud2b9\\ub840\\uc81c\\ud55c\\ubc95 \\uc77c\\ubd80\\uac1c\\uc815\\ubc95\\ub960\\uc548\",\"  \\ud559\\uad50\\uccb4\\uc721 \\uc9c4\\ud765\\ubc95 \\uc77c\\ubd80\\uac1c\\uc815\\ubc95\\ub960\\uc548\",\"  \\uac10\\uc5fc\\ubcd1\\uc758 \\uc608\\ubc29 \\ubc0f \\uad00\\ub9ac\\uc5d0 \\uad00\\ud55c \\ubc95\\ub960 \\uc77c\\ubd80\\uac1c\\uc815\\ubc95\\ub960\\uc548\",\"  \\ucd08\\u00b7\\uc911\\ub4f1\\uad50\\uc721\\ubc95 \\uc77c\\ubd80\\uac1c\\uc815\\ubc95\\ub960\\uc548\",\"  \\uc0b0\\uc5c5\\uc9d1\\uc801\\ud65c\\uc131\\ud654 \\ubc0f \\uacf5\\uc7a5\\uc124\\ub9bd\\uc5d0 \\uad00\\ud55c \\ubc95\\ub960 \\uc77c\\ubd80\\uac1c\\uc815\\ubc95\\ub960\\uc548\",\"  \\uc870\\uc138\\ud2b9\\ub840\\uc81c\\ud55c\\ubc95 \\uc77c\\ubd80\\uac1c\\uc815\\ubc95\\ub960\\uc548\",\"  \\ubc95\\uc778\\uc138\\ubc95 \\uc77c\\ubd80\\uac1c\\uc815\\ubc95\\ub960\\uc548\",\"  \\uc561\\ud654\\uc11d\\uc720\\uac00\\uc2a4\\uc758 \\uc548\\uc804\\uad00\\ub9ac \\ubc0f \\uc0ac\\uc5c5\\ubc95 \\uc77c\\ubd80\\uac1c\\uc815\\ubc95\\ub960\\uc548\",\"  \\uc870\\uc138\\ud2b9\\ub840\\uc81c\\ud55c\\ubc95 \\uc77c\\ubd80\\uac1c\\uc815\\ubc95\\ub960\\uc548\",\"  \\uc870\\uc138\\ud2b9\\ub840\\uc81c\\ud55c\\ubc95 \\uc77c\\ubd80\\uac1c\\uc815\\ubc95\\ub960\\uc548\",\"  \\ud2b9\\ud5c8\\ubc95 \\uc77c\\ubd80\\uac1c\\uc815\\ubc95\\ub960\\uc548\",\"  \\ubb3c\\uac00\\uc548\\uc815\\uc5d0 \\uad00\\ud55c \\ubc95\\ub960 \\uc77c\\ubd80\\uac1c\\uc815\\ubc95\\ub960\\uc548\",\"  \\uc0ac\\ub9bd\\ud559\\uad50\\ubc95 \\uc77c\\ubd80\\uac1c\\uc815\\ubc95\\ub960\\uc548\",\"  \\uace0\\ub4f1\\uad50\\uc721\\ubc95 \\uc77c\\ubd80\\uac1c\\uc815\\ubc95\\ub960\\uc548\",\"  \\uadfc\\ub85c\\uae30\\uc900\\ubc95 \\uc77c\\ubd80\\uac1c\\uc815\\ubc95\\ub960\\uc548\",\"  \\uc9c0\\ubc29\\uad50\\uc721\\uc790\\uce58\\uc5d0 \\uad00\\ud55c \\ubc95\\ub960 \\uc77c\\ubd80\\uac1c\\uc815\\ubc95\\ub960\\uc548\",\"  \\uc0ac\\ub9bd\\ud559\\uad50\\ubc95 \\uc77c\\ubd80\\uac1c\\uc815\\ubc95\\ub960\\uc548\",\"  \\uace0\\ub4f1\\uad50\\uc721\\ubc95 \\uc77c\\ubd80\\uac1c\\uc815\\ubc95\\ub960\\uc548\",\"  \\uc9c0\\ubc29\\uad50\\uc721\\uc790\\uce58\\uc5d0 \\uad00\\ud55c \\ubc95\\ub960 \\uc77c\\ubd80\\uac1c\\uc815\\ubc95\\ub960\\uc548\",\"  \\uadfc\\ub85c\\uae30\\uc900\\ubc95 \\uc77c\\ubd80\\uac1c\\uc815\\ubc95\\ub960\\uc548\",\"  \\ud55c\\uad6d\\uc0b0\\uc5c5\\uc740\\ud589\\ubc95 \\uc77c\\ubd80\\uac1c\\uc815\\ubc95\\ub960\\uc548\",\"  \\uc218\\uc0b0\\ubb3c \\uc720\\ud1b5\\uc758 \\uad00\\ub9ac \\ubc0f \\uc9c0\\uc6d0\\uc5d0 \\uad00\\ud55c \\ubc95\\ub960 \\uc77c\\ubd80\\uac1c\\uc815\\ubc95\\ub960\\uc548\",\"  \\uc218\\uc0b0\\ubb3c \\uc720\\ud1b5\\uc758 \\uad00\\ub9ac \\ubc0f \\uc9c0\\uc6d0\\uc5d0 \\uad00\\ud55c \\ubc95\\ub960 \\uc77c\\ubd80\\uac1c\\uc815\\ubc95\\ub960\\uc548\",\"  \\uadfc\\ub85c\\ubcf5\\uc9c0\\uae30\\ubcf8\\ubc95 \\uc77c\\ubd80\\uac1c\\uc815\\ubc95\\ub960\\uc548\",\"  \\uadfc\\ub85c\\ubcf5\\uc9c0\\uae30\\ubcf8\\ubc95 \\uc77c\\ubd80\\uac1c\\uc815\\ubc95\\ub960\\uc548\",\"  \\uace0\\uc6a9\\ubcf4\\ud5d8\\ubc95 \\uc77c\\ubd80\\uac1c\\uc815\\ubc95\\ub960\\uc548\",\"  \\uc870\\uc138\\ud2b9\\ub840\\uc81c\\ud55c\\ubc95 \\uc77c\\ubd80\\uac1c\\uc815\\ubc95\\ub960\\uc548\",\"  \\uac10\\uc5fc\\ubcd1\\uc758 \\uc608\\ubc29 \\ubc0f \\uad00\\ub9ac\\uc5d0 \\uad00\\ud55c \\ubc95\\ub960 \\uc77c\\ubd80\\uac1c\\uc815\\ubc95\\ub960\\uc548\",\"  \\uace0\\uc6a9\\ubcf4\\ud5d8\\ubc95 \\uc77c\\ubd80\\uac1c\\uc815\\ubc95\\ub960\\uc548\",\"  \\uc870\\uc138\\ud2b9\\ub840\\uc81c\\ud55c\\ubc95 \\uc77c\\ubd80\\uac1c\\uc815\\ubc95\\ub960\\uc548\",\"  \\uac10\\uc5fc\\ubcd1\\uc758 \\uc608\\ubc29 \\ubc0f \\uad00\\ub9ac\\uc5d0 \\uad00\\ud55c \\ubc95\\ub960 \\uc77c\\ubd80\\uac1c\\uc815\\ubc95\\ub960\\uc548\",\"  \\uac10\\uc5fc\\ubcd1\\uc758 \\uc608\\ubc29 \\ubc0f \\uad00\\ub9ac\\uc5d0 \\uad00\\ud55c \\ubc95\\ub960 \\uc77c\\ubd80\\uac1c\\uc815\\ubc95\\ub960\\uc548\",\"  \\uc9c0\\ubc29\\uc7ac\\uc815\\ubc95 \\uc77c\\ubd80\\uac1c\\uc815\\ubc95\\ub960\\uc548\",\"  \\uac10\\uc5fc\\ubcd1\\uc758 \\uc608\\ubc29 \\ubc0f \\uad00\\ub9ac\\uc5d0 \\uad00\\ud55c \\ubc95\\ub960 \\uc77c\\ubd80\\uac1c\\uc815\\ubc95\\ub960\\uc548\",\"  \\uac10\\uc5fc\\ubcd1\\uc758 \\uc608\\ubc29 \\ubc0f \\uad00\\ub9ac\\uc5d0 \\uad00\\ud55c \\ubc95\\ub960 \\uc77c\\ubd80\\uac1c\\uc815\\ubc95\\ub960\\uc548\",\"  \\uad6d\\uac00\\ud68c\\uacc4\\ubc95 \\uc77c\\ubd80\\uac1c\\uc815\\ubc95\\ub960\\uc548\",\"  \\uc9c0\\ubc29\\uc790\\uce58\\ub2e8\\uccb4 \\uae30\\uae08\\uad00\\ub9ac\\uae30\\ubcf8\\ubc95 \\uc77c\\ubd80\\uac1c\\uc815\\ubc95\\ub960\\uc548\",\"  \\uad6d\\uac00\\uc7ac\\uc815\\ubc95 \\uc77c\\ubd80\\uac1c\\uc815\\ubc95\\ub960\\uc548\",\"  \\ud55c\\uad6d\\ubc29\\uc1a1\\ud1b5\\uc2e0\\ub300\\ud559\\uad50 \\uc124\\ub9bd\\u318d\\uc6b4\\uc601\\uc5d0 \\uad00\\ud55c \\ubc95\\ub960\\uc548\",\"  \\uc9c0\\ubc29\\ud68c\\uacc4\\ubc95 \\uc77c\\ubd80\\uac1c\\uc815\\ubc95\\ub960\\uc548\",\"  \\uc758\\ub8cc\\ubc95 \\uc77c\\ubd80\\uac1c\\uc815\\ubc95\\ub960\\uc548\",\"  \\uac10\\uc5fc\\ubcd1\\uc758 \\uc608\\ubc29 \\ubc0f \\uad00\\ub9ac\\uc5d0 \\uad00\\ud55c \\ubc95\\ub960 \\uc77c\\ubd80\\uac1c\\uc815\\ubc95\\ub960\\uc548\",\"  \\uad6d\\uac00\\ud68c\\uacc4\\ubc95 \\uc77c\\ubd80\\uac1c\\uc815\\ubc95\\ub960\\uc548\",\"  \\uc9c0\\ubc29\\uc790\\uce58\\ub2e8\\uccb4 \\uae30\\uae08\\uad00\\ub9ac\\uae30\\ubcf8\\ubc95 \\uc77c\\ubd80\\uac1c\\uc815\\ubc95\\ub960\\uc548\",\"  \\ud55c\\uad6d\\ubc29\\uc1a1\\ud1b5\\uc2e0\\ub300\\ud559\\uad50 \\uc124\\ub9bd\\u318d\\uc6b4\\uc601\\uc5d0 \\uad00\\ud55c \\ubc95\\ub960\\uc548\",\"  \\uc9c0\\ubc29\\uc7ac\\uc815\\ubc95 \\uc77c\\ubd80\\uac1c\\uc815\\ubc95\\ub960\\uc548\",\"  \\uc9c0\\ubc29\\ud68c\\uacc4\\ubc95 \\uc77c\\ubd80\\uac1c\\uc815\\ubc95\\ub960\\uc548\",\"  \\uad6d\\uac00\\uc7ac\\uc815\\ubc95 \\uc77c\\ubd80\\uac1c\\uc815\\ubc95\\ub960\\uc548\",\"  \\uc9c0\\uc5ed\\uc758\\uc0ac \\uc591\\uc131\\uc744 \\uc704\\ud55c \\ubc95\\ub960\\uc548\",\"  \\uc778\\ucc9c\\uad6d\\uc81c\\uacf5\\ud56d\\uacf5\\uc0ac\\ubc95 \\uc77c\\ubd80\\uac1c\\uc815\\ubc95\\ub960\\uc548\",\"  \\uc9c0\\ubc29\\uc138\\ud2b9\\ub840\\uc81c\\ud55c\\ubc95 \\uc77c\\ubd80\\uac1c\\uc815\\ubc95\\ub960\\uc548\",\"  \\uacf5\\uacf5\\uc8fc\\ud0dd \\ud2b9\\ubcc4\\ubc95 \\uc77c\\ubd80\\uac1c\\uc815\\ubc95\\ub960\\uc548\",\"  \\uc870\\uc138\\ud2b9\\ub840\\uc81c\\ud55c\\ubc95 \\uc77c\\ubd80\\uac1c\\uc815\\ubc95\\ub960\\uc548\",\"  \\uc778\\ucc9c\\uad6d\\uc81c\\uacf5\\ud56d\\uacf5\\uc0ac\\ubc95 \\uc77c\\ubd80\\uac1c\\uc815\\ubc95\\ub960\\uc548\",\"  \\uc9c0\\ubc29\\uc138\\ud2b9\\ub840\\uc81c\\ud55c\\ubc95 \\uc77c\\ubd80\\uac1c\\uc815\\ubc95\\ub960\\uc548\",\"  \\uacf5\\uacf5\\uc8fc\\ud0dd \\ud2b9\\ubcc4\\ubc95 \\uc77c\\ubd80\\uac1c\\uc815\\ubc95\\ub960\\uc548\",\"  \\uc870\\uc138\\ud2b9\\ub840\\uc81c\\ud55c\\ubc95 \\uc77c\\ubd80\\uac1c\\uc815\\ubc95\\ub960\\uc548\",\"  \\uc9c0\\ubc29\\uc138\\ud2b9\\ub840\\uc81c\\ud55c\\ubc95 \\uc77c\\ubd80\\uac1c\\uc815\\ubc95\\ub960\\uc548\",\"  \\uc9c0\\ubc29\\uc138\\ud2b9\\ub840\\uc81c\\ud55c\\ubc95 \\uc77c\\ubd80\\uac1c\\uc815\\ubc95\\ub960\\uc548\",\"  \\uc870\\uc138\\ud2b9\\ub840\\uc81c\\ud55c\\ubc95 \\uc77c\\ubd80\\uac1c\\uc815\\ubc95\\ub960\\uc548\",\"  \\uc870\\uc138\\ud2b9\\ub840\\uc81c\\ud55c\\ubc95 \\uc77c\\ubd80\\uac1c\\uc815\\ubc95\\ub960\\uc548\",\"  \\uad6d\\uac00\\uc7ac\\uc815\\ubc95 \\uc77c\\ubd80\\uac1c\\uc815\\ubc95\\ub960\\uc548\",\"  \\uc9c0\\ubc29\\uc758\\ub8cc\\uc6d0\\uc758 \\uc124\\ub9bd \\ubc0f \\uc6b4\\uc601\\uc5d0 \\uad00\\ud55c \\ubc95\\ub960 \\uc77c\\ubd80\\uac1c\\uc815\\ubc95\\ub960\\uc548\",\"  \\uad6d\\uc720\\uc7ac\\uc0b0\\ud2b9\\ub840\\uc81c\\ud55c\\ubc95 \\uc77c\\ubd80\\uac1c\\uc815\\ubc95\\ub960\\uc548\",\"  \\uc9c0\\ubc29\\uc138\\ud2b9\\ub840\\uc81c\\ud55c\\ubc95 \\uc77c\\ubd80\\uac1c\\uc815\\ubc95\\ub960\\uc548\",\"  \\uc870\\uc138\\ud2b9\\ub840\\uc81c\\ud55c\\ubc95 \\uc77c\\ubd80\\uac1c\\uc815\\ubc95\\ub960\\uc548\",\"  \\uc870\\uc138\\ud2b9\\ub840\\uc81c\\ud55c\\ubc95 \\uc77c\\ubd80\\uac1c\\uc815\\ubc95\\ub960\\uc548\",\"  \\uc9c0\\ubc29\\uc138\\ud2b9\\ub840\\uc81c\\ud55c\\ubc95 \\uc77c\\ubd80\\uac1c\\uc815\\ubc95\\ub960\\uc548\",\"  \\uad6d\\uac00\\uc7ac\\uc815\\ubc95 \\uc77c\\ubd80\\uac1c\\uc815\\ubc95\\ub960\\uc548\",\"  \\uc9c0\\ubc29\\uc758\\ub8cc\\uc6d0\\uc758 \\uc124\\ub9bd \\ubc0f \\uc6b4\\uc601\\uc5d0 \\uad00\\ud55c \\ubc95\\ub960 \\uc77c\\ubd80\\uac1c\\uc815\\ubc95\\ub960\\uc548\",\"  \\uad6d\\uc720\\uc7ac\\uc0b0\\ud2b9\\ub840\\uc81c\\ud55c\\ubc95 \\uc77c\\ubd80\\uac1c\\uc815\\ubc95\\ub960\\uc548\",\"  \\uac77\\uae30\\uc5ec\\ud589\\uae38\\uc758 \\uc870\\uc131\\u00b7\\uad00\\ub9ac \\ubc0f \\uc774\\uc6a9\\ucd09\\uc9c4\\uc5d0 \\uad00\\ud55c \\ubc95\\ub960\\uc548\",\"  \\uac77\\uae30\\uc5ec\\ud589\\uae38\\uc758 \\uc870\\uc131\\u00b7\\uad00\\ub9ac \\ubc0f \\uc774\\uc6a9\\ucd09\\uc9c4\\uc5d0 \\uad00\\ud55c \\ubc95\\ub960\\uc548\",\"  \\ubd80\\uac00\\uac00\\uce58\\uc138\\ubc95 \\uc77c\\ubd80\\uac1c\\uc815\\ubc95\\ub960\\uc548\",\"  \\ubc29\\uc1a1\\ubc95 \\uc77c\\ubd80\\uac1c\\uc815\\ubc95\\ub960\\uc548\",\"  \\ucd08\\u00b7\\uc911\\ub4f1\\uad50\\uc721\\ubc95 \\uc77c\\ubd80\\uac1c\\uc815\\ubc95\\ub960\\uc548\",\"  \\ub0a8\\ub140\\uace0\\uc6a9\\ud3c9\\ub4f1\\uacfc \\uc77c\\u00b7\\uac00\\uc815 \\uc591\\ub9bd \\uc9c0\\uc6d0\\uc5d0 \\uad00\\ud55c \\ubc95\\ub960 \\uc77c\\ubd80\\uac1c\\uc815\\ubc95\\ub960\\uc548\",\"  \\ucd08\\u00b7\\uc911\\ub4f1\\uad50\\uc721\\ubc95 \\uc77c\\ubd80\\uac1c\\uc815\\ubc95\\ub960\\uc548\",\"  \\ub0a8\\ub140\\uace0\\uc6a9\\ud3c9\\ub4f1\\uacfc \\uc77c\\u00b7\\uac00\\uc815 \\uc591\\ub9bd \\uc9c0\\uc6d0\\uc5d0 \\uad00\\ud55c \\ubc95\\ub960 \\uc77c\\ubd80\\uac1c\\uc815\\ubc95\\ub960\\uc548\",\"  \\ubd80\\uac00\\uac00\\uce58\\uc138\\ubc95 \\uc77c\\ubd80\\uac1c\\uc815\\ubc95\\ub960\\uc548\",\"  \\ubc29\\uc1a1\\ubc95 \\uc77c\\ubd80\\uac1c\\uc815\\ubc95\\ub960\\uc548\",\"  \\uac10\\uc5fc\\ubcd1\\uc758 \\uc608\\ubc29 \\ubc0f \\uad00\\ub9ac\\uc5d0 \\uad00\\ud55c \\ubc95\\ub960 \\uc77c\\ubd80\\uac1c\\uc815\\ubc95\\ub960\\uc548\",\"  \\uac10\\uc5fc\\ubcd1\\uc758 \\uc608\\ubc29 \\ubc0f \\uad00\\ub9ac\\uc5d0 \\uad00\\ud55c \\ubc95\\ub960 \\uc77c\\ubd80\\uac1c\\uc815\\ubc95\\ub960\\uc548\",\"  \\uc0c1\\ubc95 \\uc77c\\ubd80\\uac1c\\uc815\\ubc95\\ub960\\uc548\",\"  \\uc544\\ub3d9\\ud559\\ub300\\ubc94\\uc8c4\\uc758 \\ucc98\\ubc8c \\ub4f1\\uc5d0 \\uad00\\ud55c \\ud2b9\\ub840\\ubc95 \\uc77c\\ubd80\\uac1c\\uc815\\ubc95\\ub960\\uc548\",\"  \\uc7a5\\uc560\\uc778\\uace0\\uc6a9\\ucd09\\uc9c4 \\ubc0f \\uc9c1\\uc5c5\\uc7ac\\ud65c\\ubc95 \\uc77c\\ubd80\\uac1c\\uc815\\ubc95\\ub960\\uc548\",\"  \\ud55c\\uad6d\\uad50\\uc721\\ubc29\\uc1a1\\uacf5\\uc0ac\\ubc95 \\uc77c\\ubd80\\uac1c\\uc815\\ubc95\\ub960\\uc548\",\"  \\ub300\\ubd80\\uc5c5 \\ub4f1\\uc758 \\ub4f1\\ub85d \\ubc0f \\uae08\\uc735\\uc774\\uc6a9\\uc790 \\ubcf4\\ud638\\uc5d0 \\uad00\\ud55c \\ubc95\\ub960 \\uc77c\\ubd80\\uac1c\\uc815\\ubc95\\ub960\\uc548\",\"  \\uacfc\\ud559\\uae30\\uc220\\ubd84\\uc57c \\uc815\\ubd80\\ucd9c\\uc5f0\\uc5f0\\uad6c\\uae30\\uad00 \\ub4f1\\uc758 \\uc124\\ub9bd\\u00b7\\uc6b4\\uc601 \\ubc0f \\uc721\\uc131\\uc5d0 \\uad00\\ud55c \\ubc95\\ub960 \\uc77c\\ubd80\\uac1c\\uc815\\ubc95\\ub960\\uc548\",\"  \\uc870\\uc138\\ud2b9\\ub840\\uc81c\\ud55c\\ubc95 \\uc77c\\ubd80\\uac1c\\uc815\\ubc95\\ub960\\uc548\",\"  \\ud574\\uc678\\uc9c4\\ucd9c\\uae30\\uc5c5\\uc758 \\uad6d\\ub0b4\\ubcf5\\uadc0 \\uc9c0\\uc6d0\\uc5d0 \\uad00\\ud55c \\ubc95\\ub960 \\uc77c\\ubd80\\uac1c\\uc815\\ubc95\\ub960\\uc548\",\"  \\uc774\\uc790\\uc81c\\ud55c\\ubc95 \\uc77c\\ubd80\\uac1c\\uc815\\ubc95\\ub960\\uc548\",\"  \\uc7a5\\uc560\\uc778\\uace0\\uc6a9\\ucd09\\uc9c4 \\ubc0f \\uc9c1\\uc5c5\\uc7ac\\ud65c\\ubc95 \\uc77c\\ubd80\\uac1c\\uc815\\ubc95\\ub960\\uc548\",\"  \\ud55c\\uad6d\\uad50\\uc721\\ubc29\\uc1a1\\uacf5\\uc0ac\\ubc95 \\uc77c\\ubd80\\uac1c\\uc815\\ubc95\\ub960\\uc548\",\"  \\uc544\\ub3d9\\ud559\\ub300\\ubc94\\uc8c4\\uc758 \\ucc98\\ubc8c \\ub4f1\\uc5d0 \\uad00\\ud55c \\ud2b9\\ub840\\ubc95 \\uc77c\\ubd80\\uac1c\\uc815\\ubc95\\ub960\\uc548\",\"  \\uc870\\uc138\\ud2b9\\ub840\\uc81c\\ud55c\\ubc95 \\uc77c\\ubd80\\uac1c\\uc815\\ubc95\\ub960\\uc548\",\"  \\uc0c1\\ubc95 \\uc77c\\ubd80\\uac1c\\uc815\\ubc95\\ub960\\uc548\",\"  \\ud574\\uc678\\uc9c4\\ucd9c\\uae30\\uc5c5\\uc758 \\uad6d\\ub0b4\\ubcf5\\uadc0 \\uc9c0\\uc6d0\\uc5d0 \\uad00\\ud55c \\ubc95\\ub960 \\uc77c\\ubd80\\uac1c\\uc815\\ubc95\\ub960\\uc548\",\"  \\uacfc\\ud559\\uae30\\uc220\\ubd84\\uc57c \\uc815\\ubd80\\ucd9c\\uc5f0\\uc5f0\\uad6c\\uae30\\uad00 \\ub4f1\\uc758 \\uc124\\ub9bd\\u00b7\\uc6b4\\uc601 \\ubc0f \\uc721\\uc131\\uc5d0 \\uad00\\ud55c \\ubc95\\ub960 \\uc77c\\ubd80\\uac1c\\uc815\\ubc95\\ub960\\uc548\",\"  \\ub300\\ubd80\\uc5c5 \\ub4f1\\uc758 \\ub4f1\\ub85d \\ubc0f \\uae08\\uc735\\uc774\\uc6a9\\uc790 \\ubcf4\\ud638\\uc5d0 \\uad00\\ud55c \\ubc95\\ub960 \\uc77c\\ubd80\\uac1c\\uc815\\ubc95\\ub960\\uc548\",\"  \\uc774\\uc790\\uc81c\\ud55c\\ubc95 \\uc77c\\ubd80\\uac1c\\uc815\\ubc95\\ub960\\uc548\",\"  \\ucd08\\u00b7\\uc911\\ub4f1\\uad50\\uc721\\ubc95 \\uc77c\\ubd80\\uac1c\\uc815\\ubc95\\ub960\\uc548\",\"  \\uc0b0\\uc5c5\\uc7ac\\ud574\\ubcf4\\uc0c1\\ubcf4\\ud5d8\\ubc95 \\uc77c\\ubd80\\uac1c\\uc815\\ubc95\\ub960\\uc548\",\"  \\uc9c0\\ubc29\\uc138\\ud2b9\\ub840\\uc81c\\ud55c\\ubc95 \\uc77c\\ubd80\\uac1c\\uc815\\ubc95\\ub960\\uc548\",\"  \\uc870\\uc138\\ud2b9\\ub840\\uc81c\\ud55c\\ubc95 \\uc77c\\ubd80\\uac1c\\uc815\\ubc95\\ub960\\uc548\",\"  \\uc778\\ucc9c\\uad6d\\uc81c\\uacf5\\ud56d\\uacf5\\uc0ac\\ubc95 \\uc77c\\ubd80\\uac1c\\uc815\\ubc95\\ub960\\uc548\",\"  \\ube44\\ub300\\uba74\\uc911\\uc18c\\ubca4\\ucc98\\uae30\\uc5c5 \\uc721\\uc131\\uc5d0 \\uad00\\ud55c \\ubc95\\ub960\\uc548\",\"  \\uc9c0\\ubc29\\uc138\\ud2b9\\ub840\\uc81c\\ud55c\\ubc95 \\uc77c\\ubd80\\uac1c\\uc815\\ubc95\\ub960\\uc548\",\"  \\uc870\\uc138\\ud2b9\\ub840\\uc81c\\ud55c\\ubc95 \\uc77c\\ubd80\\uac1c\\uc815\\ubc95\\ub960\\uc548\",\"  \\uc778\\ucc9c\\uad6d\\uc81c\\uacf5\\ud56d\\uacf5\\uc0ac\\ubc95 \\uc77c\\ubd80\\uac1c\\uc815\\ubc95\\ub960\\uc548\",\"  \\ucd08\\u00b7\\uc911\\ub4f1\\uad50\\uc721\\ubc95 \\uc77c\\ubd80\\uac1c\\uc815\\ubc95\\ub960\\uc548\",\"  \\ube44\\ub300\\uba74\\uc911\\uc18c\\ubca4\\ucc98\\uae30\\uc5c5 \\uc721\\uc131\\uc5d0 \\uad00\\ud55c \\ubc95\\ub960\\uc548\",\"  \\uc0b0\\uc5c5\\uc7ac\\ud574\\ubcf4\\uc0c1\\ubcf4\\ud5d8\\ubc95 \\uc77c\\ubd80\\uac1c\\uc815\\ubc95\\ub960\\uc548\",\"  \\ub0a8\\ub140\\uace0\\uc6a9\\ud3c9\\ub4f1\\uacfc \\uc77c\\u00b7\\uac00\\uc815 \\uc591\\ub9bd \\uc9c0\\uc6d0\\uc5d0 \\uad00\\ud55c \\ubc95\\ub960 \\uc77c\\ubd80\\uac1c\\uc815\\ubc95\\ub960\\uc548\",\"  \\ubd80\\uac00\\uac00\\uce58\\uc138\\ubc95 \\uc77c\\ubd80\\uac1c\\uc815\\ubc95\\ub960\\uc548\",\"  \\uc870\\uc138\\ud2b9\\ub840\\uc81c\\ud55c\\ubc95 \\uc77c\\ubd80\\uac1c\\uc815\\ubc95\\ub960\\uc548\",\"  \\ubd80\\uac00\\uac00\\uce58\\uc138\\ubc95 \\uc77c\\ubd80\\uac1c\\uc815\\ubc95\\ub960\\uc548\",\"  \\ub0a8\\ub140\\uace0\\uc6a9\\ud3c9\\ub4f1\\uacfc \\uc77c\\u00b7\\uac00\\uc815 \\uc591\\ub9bd \\uc9c0\\uc6d0\\uc5d0 \\uad00\\ud55c \\ubc95\\ub960 \\uc77c\\ubd80\\uac1c\\uc815\\ubc95\\ub960\\uc548\",\"  \\uc870\\uc138\\ud2b9\\ub840\\uc81c\\ud55c\\ubc95 \\uc77c\\ubd80\\uac1c\\uc815\\ubc95\\ub960\\uc548\",\"  \\ubc29\\uc1a1\\ubc95 \\uc77c\\ubd80\\uac1c\\uc815\\ubc95\\ub960\\uc548\",\"  \\uac10\\uc5fc\\ubcd1\\uc758 \\uc608\\ubc29 \\ubc0f \\uad00\\ub9ac\\uc5d0 \\uad00\\ud55c \\ubc95\\ub960 \\uc77c\\ubd80\\uac1c\\uc815\\ubc95\\ub960\\uc548\",\"  \\uac10\\uc5fc\\ubcd1\\uc758 \\uc608\\ubc29 \\ubc0f \\uad00\\ub9ac\\uc5d0 \\uad00\\ud55c \\ubc95\\ub960 \\uc77c\\ubd80\\uac1c\\uc815\\ubc95\\ub960\\uc548\",\"  \\ubc29\\uc1a1\\ubc95 \\uc77c\\ubd80\\uac1c\\uc815\\ubc95\\ub960\\uc548\",\"  \\uac10\\uc5fc\\ubcd1\\uc758 \\uc608\\ubc29 \\ubc0f \\uad00\\ub9ac\\uc5d0 \\uad00\\ud55c \\ubc95\\ub960 \\uc77c\\ubd80\\uac1c\\uc815\\ubc95\\ub960\\uc548\",\"  \\uac10\\uc5fc\\ubcd1\\uc758 \\uc608\\ubc29 \\ubc0f \\uad00\\ub9ac\\uc5d0 \\uad00\\ud55c \\ubc95\\ub960 \\uc77c\\ubd80\\uac1c\\uc815\\ubc95\\ub960\\uc548\",\"  \\uc778\\ucc9c\\uad6d\\uc81c\\uacf5\\ud56d\\uacf5\\uc0ac\\ubc95 \\uc77c\\ubd80\\uac1c\\uc815\\ubc95\\ub960\\uc548\",\"  \\uc778\\ucc9c\\uad6d\\uc81c\\uacf5\\ud56d\\uacf5\\uc0ac\\ubc95 \\uc77c\\ubd80\\uac1c\\uc815\\ubc95\\ub960\\uc548\",\"  \\ubd80\\uac00\\uac00\\uce58\\uc138\\ubc95 \\uc77c\\ubd80\\uac1c\\uc815\\ubc95\\ub960\\uc548\",\"  \\ubd80\\uac00\\uac00\\uce58\\uc138\\ubc95 \\uc77c\\ubd80\\uac1c\\uc815\\ubc95\\ub960\\uc548\",\"  \\uc9c0\\ubc29\\uc138\\ud2b9\\ub840\\uc81c\\ud55c\\ubc95 \\uc77c\\ubd80\\uac1c\\uc815\\ubc95\\ub960\\uc548\",\"  \\uc9c0\\ubc29\\uc138\\ud2b9\\ub840\\uc81c\\ud55c\\ubc95 \\uc77c\\ubd80\\uac1c\\uc815\\ubc95\\ub960\\uc548\",\"  \\uc7a5\\uc560\\uc778\\ucc28\\ubcc4\\uae08\\uc9c0 \\ubc0f \\uad8c\\ub9ac\\uad6c\\uc81c \\ub4f1\\uc5d0 \\uad00\\ud55c \\ubc95\\ub960 \\uc77c\\ubd80\\uac1c\\uc815\\ubc95\\ub960\\uc548\",\"  \\uc720\\ud1b5\\uc0b0\\uc5c5\\ubc1c\\uc804\\ubc95 \\uc77c\\ubd80\\uac1c\\uc815\\ubc95\\ub960\\uc548\",\"  \\uc7a5\\uc560\\uc778\\ucc28\\ubcc4\\uae08\\uc9c0 \\ubc0f \\uad8c\\ub9ac\\uad6c\\uc81c \\ub4f1\\uc5d0 \\uad00\\ud55c \\ubc95\\ub960 \\uc77c\\ubd80\\uac1c\\uc815\\ubc95\\ub960\\uc548\",\"  \\uc720\\ud1b5\\uc0b0\\uc5c5\\ubc1c\\uc804\\ubc95 \\uc77c\\ubd80\\uac1c\\uc815\\ubc95\\ub960\\uc548\",\"  \\uc7ac\\ub09c \\ubc0f \\uc548\\uc804\\uad00\\ub9ac \\uae30\\ubcf8\\ubc95 \\uc77c\\ubd80\\uac1c\\uc815\\ubc95\\ub960\\uc548\",\"  \\uc870\\uc138\\ud2b9\\ub840\\uc81c\\ud55c\\ubc95 \\uc77c\\ubd80\\uac1c\\uc815\\ubc95\\ub960\\uc548\",\"  \\uc0dd\\ud65c\\uccb4\\uc721\\uc9c4\\ud765\\ubc95 \\uc77c\\ubd80\\uac1c\\uc815\\ubc95\\ub960\\uc548\",\"  \\ud559\\uad50\\uccb4\\uc721 \\uc9c4\\ud765\\ubc95 \\uc77c\\ubd80\\uac1c\\uc815\\ubc95\\ub960\\uc548\",\"  \\uc528\\ub984 \\uc9c4\\ud765\\ubc95 \\uc77c\\ubd80\\uac1c\\uc815\\ubc95\\ub960\\uc548\",\"  \\uad00\\uad11\\uae30\\ubcf8\\ubc95 \\uc77c\\ubd80\\uac1c\\uc815\\ubc95\\ub960\\uc548\",\"  \\uc9c0\\ubc29\\uc7ac\\uc815\\ubc95 \\uc77c\\ubd80\\uac1c\\uc815\\ubc95\\ub960\\uc548\",\"  \\uace0\\ub4f1\\uad50\\uc721\\ubc95 \\uc77c\\ubd80\\uac1c\\uc815\\ubc95\\ub960\\uc548\",\"  \\uc790\\uc6d0\\uc758 \\uc808\\uc57d\\uacfc \\uc7ac\\ud65c\\uc6a9\\ucd09\\uc9c4\\uc5d0 \\uad00\\ud55c \\ubc95\\ub960 \\uc77c\\ubd80\\uac1c\\uc815\\ubc95\\ub960\\uc548\",\"  \\uc804\\ud1b5\\ubb34\\uc608\\uc9c4\\ud765\\ubc95 \\uc77c\\ubd80\\uac1c\\uc815\\ubc95\\ub960\\uc548\",\"  \\ud0dc\\uad8c\\ub3c4 \\uc9c4\\ud765 \\ubc0f \\ud0dc\\uad8c\\ub3c4\\uacf5\\uc6d0 \\uc870\\uc131 \\ub4f1\\uc5d0 \\uad00\\ud55c \\ubc95\\ub960 \\uc77c\\ubd80\\uac1c\\uc815\\ubc95\\ub960\\uc548\",\"  \\uc2a4\\ud3ec\\uce20\\uc0b0\\uc5c5 \\uc9c4\\ud765\\ubc95 \\uc77c\\ubd80\\uac1c\\uc815\\ubc95\\ub960\\uc548\",\"  \\uad6d\\uc81c\\ud68c\\uc758\\uc0b0\\uc5c5 \\uc721\\uc131\\uc5d0 \\uad00\\ud55c \\ubc95\\ub960 \\uc77c\\ubd80\\uac1c\\uc815\\ubc95\\ub960\\uc548\",\"  \\uccb4\\uc721\\uc2dc\\uc124\\uc758 \\uc124\\uce58\\u00b7\\uc774\\uc6a9\\uc5d0 \\uad00\\ud55c \\ubc95\\ub960 \\uc77c\\ubd80\\uac1c\\uc815\\ubc95\\ub960\\uc548\",\"  \\uac10\\uc5fc\\ubcd1\\uc758 \\uc608\\ubc29 \\ubc0f \\uad00\\ub9ac\\uc5d0 \\uad00\\ud55c \\ubc95\\ub960 \\uc77c\\ubd80\\uac1c\\uc815\\ubc95\\ub960\\uc548\",\"  \\uace0\\ub4f1\\uad50\\uc721\\ubc95 \\uc77c\\ubd80\\uac1c\\uc815\\ubc95\\ub960\\uc548\",\"  \\uc9c0\\ubc29\\uc7ac\\uc815\\ubc95 \\uc77c\\ubd80\\uac1c\\uc815\\ubc95\\ub960\\uc548\",\"  \\uc870\\uc138\\ud2b9\\ub840\\uc81c\\ud55c\\ubc95 \\uc77c\\ubd80\\uac1c\\uc815\\ubc95\\ub960\\uc548\",\"  \\uc7ac\\ub09c \\ubc0f \\uc548\\uc804\\uad00\\ub9ac \\uae30\\ubcf8\\ubc95 \\uc77c\\ubd80\\uac1c\\uc815\\ubc95\\ub960\\uc548\",\"  \\uad00\\uad11\\uae30\\ubcf8\\ubc95 \\uc77c\\ubd80\\uac1c\\uc815\\ubc95\\ub960\\uc548\",\"  \\uc528\\ub984 \\uc9c4\\ud765\\ubc95 \\uc77c\\ubd80\\uac1c\\uc815\\ubc95\\ub960\\uc548\",\"  \\uc0dd\\ud65c\\uccb4\\uc721\\uc9c4\\ud765\\ubc95 \\uc77c\\ubd80\\uac1c\\uc815\\ubc95\\ub960\\uc548\",\"  \\ud559\\uad50\\uccb4\\uc721 \\uc9c4\\ud765\\ubc95 \\uc77c\\ubd80\\uac1c\\uc815\\ubc95\\ub960\\uc548\",\"  \\uc790\\uc6d0\\uc758 \\uc808\\uc57d\\uacfc \\uc7ac\\ud65c\\uc6a9\\ucd09\\uc9c4\\uc5d0 \\uad00\\ud55c \\ubc95\\ub960 \\uc77c\\ubd80\\uac1c\\uc815\\ubc95\\ub960\\uc548\",\"  \\uccb4\\uc721\\uc2dc\\uc124\\uc758 \\uc124\\uce58\\u00b7\\uc774\\uc6a9\\uc5d0 \\uad00\\ud55c \\ubc95\\ub960 \\uc77c\\ubd80\\uac1c\\uc815\\ubc95\\ub960\\uc548\",\"  \\uac10\\uc5fc\\ubcd1\\uc758 \\uc608\\ubc29 \\ubc0f \\uad00\\ub9ac\\uc5d0 \\uad00\\ud55c \\ubc95\\ub960 \\uc77c\\ubd80\\uac1c\\uc815\\ubc95\\ub960\\uc548\",\"  \\uc804\\ud1b5\\ubb34\\uc608\\uc9c4\\ud765\\ubc95 \\uc77c\\ubd80\\uac1c\\uc815\\ubc95\\ub960\\uc548\",\"  \\ud0dc\\uad8c\\ub3c4 \\uc9c4\\ud765 \\ubc0f \\ud0dc\\uad8c\\ub3c4\\uacf5\\uc6d0 \\uc870\\uc131 \\ub4f1\\uc5d0 \\uad00\\ud55c \\ubc95\\ub960 \\uc77c\\ubd80\\uac1c\\uc815\\ubc95\\ub960\\uc548\",\"  \\uc2a4\\ud3ec\\uce20\\uc0b0\\uc5c5 \\uc9c4\\ud765\\ubc95 \\uc77c\\ubd80\\uac1c\\uc815\\ubc95\\ub960\\uc548\",\"  \\uad6d\\uc81c\\ud68c\\uc758\\uc0b0\\uc5c5 \\uc721\\uc131\\uc5d0 \\uad00\\ud55c \\ubc95\\ub960 \\uc77c\\ubd80\\uac1c\\uc815\\ubc95\\ub960\\uc548\",\"  \\ud3d0\\uae30\\ubb3c\\uad00\\ub9ac\\ubc95 \\uc77c\\ubd80\\uac1c\\uc815\\ubc95\\ub960\\uc548\",\"  \\uc18c\\uc0c1\\uacf5\\uc778 \\ubcf4\\ud638 \\ubc0f \\uc9c0\\uc6d0\\uc5d0 \\uad00\\ud55c \\ubc95\\ub960 \\uc77c\\ubd80\\uac1c\\uc815\\ubc95\\ub960\\uc548\",\"  \\uac10\\uc5fc\\ubcd1\\uc758 \\uc608\\ubc29 \\ubc0f \\uad00\\ub9ac\\uc5d0 \\uad00\\ud55c \\ubc95\\ub960 \\uc77c\\ubd80\\uac1c\\uc815\\ubc95\\ub960\\uc548\",\"  \\uc804\\uae30\\uc0ac\\uc5c5\\ubc95 \\uc77c\\ubd80\\uac1c\\uc815\\ubc95\\ub960\\uc548\",\"  \\uac10\\uc5fc\\ubcd1\\uc758 \\uc608\\ubc29 \\ubc0f \\uad00\\ub9ac\\uc5d0 \\uad00\\ud55c \\ubc95\\ub960 \\uc77c\\ubd80\\uac1c\\uc815\\ubc95\\ub960\\uc548\",\"  \\uac10\\uc5fc\\ubcd1\\uc758 \\uc608\\ubc29 \\ubc0f \\uad00\\ub9ac\\uc5d0 \\uad00\\ud55c \\ubc95\\ub960 \\uc77c\\ubd80\\uac1c\\uc815\\ubc95\\ub960\\uc548\",\"  \\ud3d0\\uae30\\ubb3c\\uad00\\ub9ac\\ubc95 \\uc77c\\ubd80\\uac1c\\uc815\\ubc95\\ub960\\uc548\",\"  \\uc18c\\uc0c1\\uacf5\\uc778 \\ubcf4\\ud638 \\ubc0f \\uc9c0\\uc6d0\\uc5d0 \\uad00\\ud55c \\ubc95\\ub960 \\uc77c\\ubd80\\uac1c\\uc815\\ubc95\\ub960\\uc548\",\"  \\uc804\\uae30\\uc0ac\\uc5c5\\ubc95 \\uc77c\\ubd80\\uac1c\\uc815\\ubc95\\ub960\\uc548\",\"  \\uac10\\uc5fc\\ubcd1\\uc758 \\uc608\\ubc29 \\ubc0f \\uad00\\ub9ac\\uc5d0 \\uad00\\ud55c \\ubc95\\ub960 \\uc77c\\ubd80\\uac1c\\uc815\\ubc95\\ub960\\uc548\"],\"BillNo\":[2024549,2024556,2024555,2024582,2024584,2024596,2024597,2024612,2024611,2024626,2024634,2024650,2024654,2024655,2024788,2024787,2024789,2024804,2024805,2024803,2024811,2024814,2024816,2024821,2024828,2024831,2024832,2024833,2024851,2024863,2024871,2024872,2024873,2100038,2100048,2100049,2100033,2100002,2100004,2100005,2100006,2100007,2100009,2100010,2100011,2100116,2100119,2100087,2100160,2100166,2100170,2100171,2100173,2100174,2100229,2100225,2100208,2100191,2100198,2100194,2100200,2100270,2100281,2100250,2100253,2100306,2100286,2100327,2100324,2100317,2100318,2100319,2100316,2100376,2100387,2100396,2100386,2100372,2100356,2100367,2100364,2100359,2100449,2100403,2100423,2100417,2100480,2100484,2100564,2100566,2100559,2100512,2100508,2100499,2100534,2100620,2100621,2100671,2100679,2100686,2100659,2100633,2100641,2100653,2100657,2100744,2100710,2100709,2100708,2100714,2100716,2100715,2100741,2100717,2100841,2100844,2100830,2100827,2100808,2100809,2100906,2100861,2100880,2100860,2100873,2100879,2100973,2100977,2100979,2101072,2101039,2101051,2101151,2101155,2101215,2101204,2101206,2101205,2101234,2101170,2101273,2101253,2101265,2101352,2101332,2101298,2101306,2101310,2101427,2101431,2101433,2101449,2101446,2101439,2101381,2101383,2101385,2101471,2101470,2101467,2101493,2101581,2101587,2101598,2101543,2101544,2101569,2101565,2101659,2101663,2101672,2101666,2101665,2101636,2101629,2101690,2101684,2101678,2101697,2101793,2101789,2101799,2101801,2101778,2101781,2101856,2101857,2101866,2101860,2101871,2101817,2101841,2101838,2101832,2101831,2101948,2101935,2101889,2101997,2101994,2102000,2102002,2102011,2102012,2101958,2101964,2101980,2101978,2101977,2101981,2102042,2102023,2102025,2102109,2102093,2102113,2102089,2102079,2102114,2102143,2102145,2102150,2102195,2102163,2102177,2102184,2102262,2102261,2102260,2102259,2102262,2102261,2102259,2102260,2102239,2102272,2102272,2102323,2102323,2102381,2102348,2102358,2102381,2102348,2102358,2102402,2102421,2102402,2102410,2102415,2102416,2102417,2102418,2102422,2102391,2102410,2102415,2102416,2102418,2102421,2102422,2102417,2102390,2102441,2102437,2102431,2102430,2102441,2102437,2102431,2102430,2102494,2102496,2102497,2102498,2102467,2102470,2102471,2102496,2102497,2102498,2102494,2102467,2102470,2102471,2102501,2102501,2102603,2102549,2102592,2102580,2102592,2102580,2102603,2102549,2102648,2102648,2102656,2102680,2102676,2102686,2102689,2102662,2102669,2102670,2102690,2102676,2102686,2102680,2102669,2102656,2102670,2102662,2102689,2102690,2102716,2102709,2102698,2102699,2102702,2102711,2102698,2102699,2102702,2102716,2102711,2102709,2102813,2102805,2102778,2102805,2102813,2102778,2102840,2102845,2102845,2102840,2102875,2102875,2102946,2102946,2102981,2102981,2103034,2103034,2103051,2103062,2103051,2103062,2103104,2103103,2103122,2103123,2103124,2103125,2103101,2103100,2103098,2103092,2103093,2103094,2103095,2103097,2103086,2103100,2103101,2103103,2103104,2103125,2103124,2103122,2103123,2103098,2103097,2103086,2103092,2103093,2103094,2103095,2103145,2103127,2103136,2103135,2103154,2103154,2103145,2103127,2103135,2103136],\"cluster_no\":[0,0,0,0,0,0,0,0,0,0,0,0,0,6,6,0,0,6,6,6,2,6,0,0,1,1,1,0,6,8,2,2,6,0,10,2,0,0,0,3,1,1,0,0,6,1,10,0,1,1,1,6,6,6,1,0,0,2,10,0,10,6,2,2,6,0,10,6,1,1,6,1,6,1,3,0,0,6,6,1,2,6,0,5,1,0,6,1,1,1,0,9,3,6,3,0,0,0,8,6,1,3,1,1,1,9,10,10,10,2,6,6,0,0,1,1,9,1,2,0,1,9,6,9,1,6,1,5,5,1,1,6,10,10,5,0,0,0,6,1,1,0,10,1,1,5,0,0,1,2,1,2,1,2,6,6,6,1,1,6,1,6,0,1,0,0,1,0,0,0,1,10,10,1,2,2,3,1,1,0,6,8,0,10,6,2,2,0,6,6,6,0,0,0,1,1,9,8,1,1,0,1,6,1,2,2,6,1,10,1,6,2,6,9,6,5,0,0,5,10,6,1,6,9,1,1,3,3,1,1,3,3,1,1,1,5,5,1,1,1,8,0,1,8,0,0,4,0,0,4,4,4,5,4,10,0,4,4,5,4,4,4,10,5,6,1,6,5,6,1,6,9,10,10,6,5,10,5,10,10,6,9,5,10,5,5,5,2,1,1,1,1,1,2,1,0,0,1,1,1,0,10,0,6,1,10,1,0,1,6,1,1,0,10,10,0,1,9,9,5,5,9,9,5,0,5,1,1,2,6,2,1,6,1,0,0,1,0,0,5,5,2,2,6,6,1,5,1,5,0,6,7,7,7,7,4,3,1,7,7,7,7,7,0,3,4,6,0,7,7,7,7,1,7,0,7,7,7,7,1,1,0,6,0,0,1,1,6,0],\"color\":[\"#5e4fa2\",\"#5e4fa2\",\"#5e4fa2\",\"#5e4fa2\",\"#5e4fa2\",\"#5e4fa2\",\"#5e4fa2\",\"#5e4fa2\",\"#5e4fa2\",\"#5e4fa2\",\"#5e4fa2\",\"#5e4fa2\",\"#5e4fa2\",\"#fee08b\",\"#fee08b\",\"#5e4fa2\",\"#5e4fa2\",\"#fee08b\",\"#fee08b\",\"#fee08b\",\"#66c2a5\",\"#fee08b\",\"#5e4fa2\",\"#5e4fa2\",\"#3288bd\",\"#3288bd\",\"#3288bd\",\"#5e4fa2\",\"#fee08b\",\"#f46d43\",\"#66c2a5\",\"#66c2a5\",\"#fee08b\",\"#5e4fa2\",\"#9e0142\",\"#66c2a5\",\"#5e4fa2\",\"#5e4fa2\",\"#5e4fa2\",\"#abdda4\",\"#3288bd\",\"#3288bd\",\"#5e4fa2\",\"#5e4fa2\",\"#fee08b\",\"#3288bd\",\"#9e0142\",\"#5e4fa2\",\"#3288bd\",\"#3288bd\",\"#3288bd\",\"#fee08b\",\"#fee08b\",\"#fee08b\",\"#3288bd\",\"#5e4fa2\",\"#5e4fa2\",\"#66c2a5\",\"#9e0142\",\"#5e4fa2\",\"#9e0142\",\"#fee08b\",\"#66c2a5\",\"#66c2a5\",\"#fee08b\",\"#5e4fa2\",\"#9e0142\",\"#fee08b\",\"#3288bd\",\"#3288bd\",\"#fee08b\",\"#3288bd\",\"#fee08b\",\"#3288bd\",\"#abdda4\",\"#5e4fa2\",\"#5e4fa2\",\"#fee08b\",\"#fee08b\",\"#3288bd\",\"#66c2a5\",\"#fee08b\",\"#5e4fa2\",\"#ffffbf\",\"#3288bd\",\"#5e4fa2\",\"#fee08b\",\"#3288bd\",\"#3288bd\",\"#3288bd\",\"#5e4fa2\",\"#d53e4f\",\"#abdda4\",\"#fee08b\",\"#abdda4\",\"#5e4fa2\",\"#5e4fa2\",\"#5e4fa2\",\"#f46d43\",\"#fee08b\",\"#3288bd\",\"#abdda4\",\"#3288bd\",\"#3288bd\",\"#3288bd\",\"#d53e4f\",\"#9e0142\",\"#9e0142\",\"#9e0142\",\"#66c2a5\",\"#fee08b\",\"#fee08b\",\"#5e4fa2\",\"#5e4fa2\",\"#3288bd\",\"#3288bd\",\"#d53e4f\",\"#3288bd\",\"#66c2a5\",\"#5e4fa2\",\"#3288bd\",\"#d53e4f\",\"#fee08b\",\"#d53e4f\",\"#3288bd\",\"#fee08b\",\"#3288bd\",\"#ffffbf\",\"#ffffbf\",\"#3288bd\",\"#3288bd\",\"#fee08b\",\"#9e0142\",\"#9e0142\",\"#ffffbf\",\"#5e4fa2\",\"#5e4fa2\",\"#5e4fa2\",\"#fee08b\",\"#3288bd\",\"#3288bd\",\"#5e4fa2\",\"#9e0142\",\"#3288bd\",\"#3288bd\",\"#ffffbf\",\"#5e4fa2\",\"#5e4fa2\",\"#3288bd\",\"#66c2a5\",\"#3288bd\",\"#66c2a5\",\"#3288bd\",\"#66c2a5\",\"#fee08b\",\"#fee08b\",\"#fee08b\",\"#3288bd\",\"#3288bd\",\"#fee08b\",\"#3288bd\",\"#fee08b\",\"#5e4fa2\",\"#3288bd\",\"#5e4fa2\",\"#5e4fa2\",\"#3288bd\",\"#5e4fa2\",\"#5e4fa2\",\"#5e4fa2\",\"#3288bd\",\"#9e0142\",\"#9e0142\",\"#3288bd\",\"#66c2a5\",\"#66c2a5\",\"#abdda4\",\"#3288bd\",\"#3288bd\",\"#5e4fa2\",\"#fee08b\",\"#f46d43\",\"#5e4fa2\",\"#9e0142\",\"#fee08b\",\"#66c2a5\",\"#66c2a5\",\"#5e4fa2\",\"#fee08b\",\"#fee08b\",\"#fee08b\",\"#5e4fa2\",\"#5e4fa2\",\"#5e4fa2\",\"#3288bd\",\"#3288bd\",\"#d53e4f\",\"#f46d43\",\"#3288bd\",\"#3288bd\",\"#5e4fa2\",\"#3288bd\",\"#fee08b\",\"#3288bd\",\"#66c2a5\",\"#66c2a5\",\"#fee08b\",\"#3288bd\",\"#9e0142\",\"#3288bd\",\"#fee08b\",\"#66c2a5\",\"#fee08b\",\"#d53e4f\",\"#fee08b\",\"#ffffbf\",\"#5e4fa2\",\"#5e4fa2\",\"#ffffbf\",\"#9e0142\",\"#fee08b\",\"#3288bd\",\"#fee08b\",\"#d53e4f\",\"#3288bd\",\"#3288bd\",\"#abdda4\",\"#abdda4\",\"#3288bd\",\"#3288bd\",\"#abdda4\",\"#abdda4\",\"#3288bd\",\"#3288bd\",\"#3288bd\",\"#ffffbf\",\"#ffffbf\",\"#3288bd\",\"#3288bd\",\"#3288bd\",\"#f46d43\",\"#5e4fa2\",\"#3288bd\",\"#f46d43\",\"#5e4fa2\",\"#5e4fa2\",\"#e6f598\",\"#5e4fa2\",\"#5e4fa2\",\"#e6f598\",\"#e6f598\",\"#e6f598\",\"#ffffbf\",\"#e6f598\",\"#9e0142\",\"#5e4fa2\",\"#e6f598\",\"#e6f598\",\"#ffffbf\",\"#e6f598\",\"#e6f598\",\"#e6f598\",\"#9e0142\",\"#ffffbf\",\"#fee08b\",\"#3288bd\",\"#fee08b\",\"#ffffbf\",\"#fee08b\",\"#3288bd\",\"#fee08b\",\"#d53e4f\",\"#9e0142\",\"#9e0142\",\"#fee08b\",\"#ffffbf\",\"#9e0142\",\"#ffffbf\",\"#9e0142\",\"#9e0142\",\"#fee08b\",\"#d53e4f\",\"#ffffbf\",\"#9e0142\",\"#ffffbf\",\"#ffffbf\",\"#ffffbf\",\"#66c2a5\",\"#3288bd\",\"#3288bd\",\"#3288bd\",\"#3288bd\",\"#3288bd\",\"#66c2a5\",\"#3288bd\",\"#5e4fa2\",\"#5e4fa2\",\"#3288bd\",\"#3288bd\",\"#3288bd\",\"#5e4fa2\",\"#9e0142\",\"#5e4fa2\",\"#fee08b\",\"#3288bd\",\"#9e0142\",\"#3288bd\",\"#5e4fa2\",\"#3288bd\",\"#fee08b\",\"#3288bd\",\"#3288bd\",\"#5e4fa2\",\"#9e0142\",\"#9e0142\",\"#5e4fa2\",\"#3288bd\",\"#d53e4f\",\"#d53e4f\",\"#ffffbf\",\"#ffffbf\",\"#d53e4f\",\"#d53e4f\",\"#ffffbf\",\"#5e4fa2\",\"#ffffbf\",\"#3288bd\",\"#3288bd\",\"#66c2a5\",\"#fee08b\",\"#66c2a5\",\"#3288bd\",\"#fee08b\",\"#3288bd\",\"#5e4fa2\",\"#5e4fa2\",\"#3288bd\",\"#5e4fa2\",\"#5e4fa2\",\"#ffffbf\",\"#ffffbf\",\"#66c2a5\",\"#66c2a5\",\"#fee08b\",\"#fee08b\",\"#3288bd\",\"#ffffbf\",\"#3288bd\",\"#ffffbf\",\"#5e4fa2\",\"#fee08b\",\"#fdae61\",\"#fdae61\",\"#fdae61\",\"#fdae61\",\"#e6f598\",\"#abdda4\",\"#3288bd\",\"#fdae61\",\"#fdae61\",\"#fdae61\",\"#fdae61\",\"#fdae61\",\"#5e4fa2\",\"#abdda4\",\"#e6f598\",\"#fee08b\",\"#5e4fa2\",\"#fdae61\",\"#fdae61\",\"#fdae61\",\"#fdae61\",\"#3288bd\",\"#fdae61\",\"#5e4fa2\",\"#fdae61\",\"#fdae61\",\"#fdae61\",\"#fdae61\",\"#3288bd\",\"#3288bd\",\"#5e4fa2\",\"#fee08b\",\"#5e4fa2\",\"#5e4fa2\",\"#3288bd\",\"#3288bd\",\"#fee08b\",\"#5e4fa2\"],\"x_coord\":[-6.049649715423584,4.36795711517334,-2.4154255390167236,-5.064430236816406,-9.23056697845459,-1.842342734336853,-5.918168067932129,-3.009331464767456,-2.2327957153320312,3.678804397583008,-3.907864570617676,2.770961284637451,0.6083364486694336,17.320669174194336,18.310470581054688,6.365820407867432,-0.6263183951377869,16.776641845703125,16.675735473632812,18.941762924194336,23.69147491455078,16.85963249206543,-2.673868417739868,1.703269600868225,9.445880889892578,-11.56096076965332,4.270055770874023,-3.5023281574249268,14.996428489685059,-9.146471977233887,19.12114143371582,19.763629913330078,15.905791282653809,-0.6836822032928467,-18.75822639465332,21.867874145507812,-3.890819787979126,-4.547455310821533,-6.907468795776367,-18.583345413208008,3.221414566040039,2.0248634815216064,-1.6275784969329834,2.1886322498321533,14.035292625427246,16.965303421020508,-15.402241706848145,-5.797753810882568,7.828303813934326,-5.385739803314209,-2.9648380279541016,15.224671363830566,21.13162612915039,20.988515853881836,2.386939525604248,-1.8351855278015137,2.7709107398986816,20.15936279296875,-7.629751205444336,4.466660499572754,-17.389131546020508,13.504816055297852,22.34267807006836,20.63278579711914,15.638895988464355,-2.611307382583618,-22.17857551574707,17.03227424621582,-1.980605959892273,4.217670440673828,11.906039237976074,12.09801197052002,11.583420753479004,-11.552728652954102,-21.94356918334961,0.08186959475278854,-3.590951442718506,11.84502124786377,7.80473518371582,5.403781890869141,23.17359161376953,7.006910800933838,-6.755351543426514,11.29313850402832,9.445857048034668,-8.11552619934082,11.386638641357422,-10.511868476867676,-2.9864325523376465,-6.50271463394165,-0.9536628127098083,12.64738941192627,-21.866226196289062,11.13837718963623,-20.2294921875,-2.526585817337036,-7.74509334564209,-7.442060470581055,1.8677419424057007,21.835662841796875,-9.064216613769531,-19.312665939331055,1.0545318126678467,0.9272276759147644,-1.3235576152801514,14.737619400024414,-19.356613159179688,-18.27219581604004,-18.830507278442383,24.8924503326416,7.823083877563477,8.263100624084473,-3.860441207885742,-1.8164408206939697,1.4911564588546753,4.7903594970703125,13.025192260742188,5.9233832359313965,21.261138916015625,-4.523088455200195,-1.9144058227539062,10.48275375366211,12.33985424041748,12.244301795959473,-6.203078746795654,9.373193740844727,-0.15050657093524933,0.7865508794784546,-3.4712507724761963,5.10414457321167,3.228893518447876,17.75336265563965,-14.33127212524414,-14.52258014678955,-9.193680763244629,-4.193057537078857,-5.336818218231201,-5.316915035247803,11.525589942932129,-0.897812008857727,-12.451545715332031,-2.2596728801727295,-21.12955665588379,2.506739377975464,-7.177122592926025,-2.2493886947631836,0.8767725229263306,-3.9836349487304688,3.5978074073791504,21.57823944091797,16.488300323486328,19.150663375854492,4.344581604003906,23.89594841003418,14.879281997680664,15.153709411621094,13.693144798278809,-10.62124252319336,-10.621269226074219,21.401073455810547,-7.471083164215088,15.92013931274414,-1.2218106985092163,-10.818286895751953,-10.874814987182617,-3.043698787689209,-3.0917000770568848,-8.56679916381836,-1.958769679069519,-7.111236572265625,-1.8287394046783447,-22.271011352539062,-21.75801658630371,8.814817428588867,21.432008743286133,22.403804779052734,-21.279848098754883,8.183995246887207,-4.97188663482666,-2.2966177463531494,8.06368637084961,-8.192212104797363,-4.364947319030762,-16.526220321655273,7.527404308319092,21.12672996520996,21.140087127685547,-5.071372032165527,16.366436004638672,22.09490966796875,5.477774620056152,-6.60192346572876,-5.301798343658447,-8.718633651733398,0.6015208959579468,4.277077674865723,12.407649040222168,1.8293590545654297,6.698824405670166,-0.12097615003585815,-7.8940887451171875,-0.39100968837738037,7.147216320037842,6.618004322052002,19.465974807739258,22.538253784179688,4.681717872619629,6.81189489364624,-19.123571395874023,5.057372570037842,11.214151382446289,21.53116798400879,9.225574493408203,10.541742324829102,11.164457321166992,-3.398948907852173,-9.02061939239502,-11.289834976196289,-1.5933226346969604,21.822160720825195,21.77532386779785,0.12451065331697464,9.8073148727417,13.010822296142578,3.0692620277404785,2.5526604652404785,-17.45032501220703,-19.3252010345459,-9.836714744567871,-15.565102577209473,-17.450714111328125,-19.660789489746094,-15.565030097961426,-9.833985328674316,6.778934478759766,2.274030923843384,2.2740814685821533,5.461078643798828,5.460957050323486,7.691972255706787,-10.097806930541992,-4.244284152984619,7.692013263702393,0.6610628962516785,-4.244717121124268,-10.123103141784668,-28.644046783447266,-10.123103141784668,1.298620581626892,-30.049715042114258,-28.858570098876953,-30.926300048828125,-7.360164642333984,-27.898181915283203,-19.921072006225586,1.7259124517440796,-29.9407901763916,-29.723854064941406,-7.360164642333984,-28.006006240844727,-29.75153350830078,-31.097806930541992,-18.79116439819336,15.902742385864258,19.637479782104492,13.959980964660645,11.051733016967773,17.225982666015625,19.637939453125,13.960076332092285,11.051612854003906,9.091670989990234,-20.37479019165039,-20.780858993530273,18.0328426361084,-3.938537120819092,-17.168107986450195,-16.698467254638672,-20.896638870239258,-21.46312713623047,18.032123565673828,9.091670989990234,-3.938537120819092,-17.167356491088867,-16.698461532592773,-5.224632263183594,-5.224835395812988,23.013614654541016,3.806676149368286,-0.3895905315876007,2.4500041007995605,-0.38959047198295593,2.4497556686401367,22.091548919677734,3.8069355487823486,-7.615800857543945,-7.616163730621338,3.6911346912384033,1.479180932044983,7.218240737915039,9.727341651916504,-19.890766143798828,-7.604854106903076,14.394787788391113,9.963937759399414,-20.58428955078125,7.218096733093262,9.727632522583008,1.4792314767837524,14.394649505615234,3.6912784576416016,9.96392822265625,-7.604878902435303,-20.359819412231445,-19.997705459594727,-11.240385055541992,-9.43547248840332,10.319355964660645,11.221129417419434,16.58401870727539,15.456244468688965,10.705120086669922,11.221129417419434,16.552356719970703,-11.240327835083008,15.45639419555664,-9.43547248840332,-7.221085548400879,24.253164291381836,9.011831283569336,23.415454864501953,-7.221085548400879,9.011831283569336,6.388542175292969,6.548192977905273,6.850028038024902,6.388473987579346,1.3919892311096191,0.8209583163261414,17.27082633972168,15.870780944824219,23.4147891998291,24.02790641784668,7.221325874328613,7.222119331359863,-2.2216954231262207,-1.646551251411438,-2.2217440605163574,-1.6465519666671753,-13.680333137512207,4.134576797485352,-16.495668411254883,-16.789337158203125,-15.932724952697754,-18.195032119750977,-28.752910614013672,-20.568172454833984,0.07034878432750702,-17.874719619750977,-17.613037109375,-19.39335823059082,-18.995561599731445,-14.972447395324707,-1.3811893463134766,-20.7730655670166,-29.06620979309082,4.134800910949707,-13.680415153503418,-18.681093215942383,-16.61404037475586,-16.56485366821289,-17.445293426513672,0.07014074176549911,-15.129597663879395,-1.3811893463134766,-17.493337631225586,-18.383453369140625,-19.793922424316406,-19.600797653198242,5.182496070861816,16.33550262451172,-9.458783149719238,9.848823547363281,-4.289693355560303,-4.289693355560303,5.182714462280273,16.33574867248535,9.84813404083252,-9.45870590209961],\"y_coord\":[-27.586233139038086,-21.910419464111328,-24.778215408325195,-18.7924861907959,-24.523900985717773,-28.220062255859375,-27.353435516357422,-9.655508995056152,-21.37999725341797,-18.04595375061035,-18.311365127563477,-12.748051643371582,-20.546552658081055,21.12221908569336,9.531867027282715,-19.02574920654297,-20.526636123657227,8.624048233032227,11.653768539428711,8.820974349975586,25.57347297668457,21.211910247802734,-20.178316116333008,-18.074148178100586,-6.13803768157959,-0.28915414214134216,7.503266334533691,-15.066081047058105,13.808764457702637,-18.16478157043457,20.945661544799805,25.155946731567383,13.606476783752441,-18.668424606323242,10.473101615905762,23.183570861816406,-14.28452205657959,-13.024910926818848,-22.789276123046875,-15.23621940612793,-7.4459710121154785,-8.456404685974121,-11.105369567871094,-15.992274284362793,16.585163116455078,4.159426212310791,12.124622344970703,-13.88690185546875,-4.360479831695557,-0.2226787507534027,-9.603196144104004,11.129870414733887,5.729186534881592,5.341407775878906,-1.1718441247940063,-28.228700637817383,-12.748224258422852,24.225542068481445,-0.8733541965484619,-14.93579387664795,14.071226119995117,14.481303215026855,24.678691864013672,26.766368865966797,11.84907341003418,-18.153696060180664,14.837350845336914,12.072620391845703,-5.391788005828857,-6.546927452087402,4.618490219116211,0.02449629083275795,4.522865295410156,-0.17154808342456818,-12.926068305969238,-12.619818687438965,-7.945399284362793,7.271000862121582,20.37929916381836,4.968633651733398,23.515737533569336,20.575664520263672,-17.156583786010742,-2.8453595638275146,-6.1380615234375,-9.50918960571289,9.624228477478027,4.409488677978516,-3.3728435039520264,5.980933666229248,-15.503643035888672,28.028913497924805,-13.794493675231934,11.185002326965332,-14.042320251464844,-17.059965133666992,-11.417611122131348,-4.774899482727051,-25.773733139038086,7.454982757568359,8.895788192749023,-13.742084503173828,0.35199058055877686,2.5814921855926514,-7.53865385055542,24.640216827392578,15.494573593139648,15.503829002380371,16.16323471069336,25.235363006591797,22.2586727142334,22.052165985107422,-20.996997833251953,-9.475981712341309,-0.4425446093082428,-2.967975378036499,27.25743865966797,2.266798496246338,28.11350440979004,-10.744053840637207,-2.5647573471069336,26.15810203552246,16.459110260009766,22.88666343688965,9.20118236541748,15.684415817260742,-5.244604587554932,9.676220893859863,1.8496161699295044,0.36548829078674316,2.4847230911254883,19.617172241210938,9.343446731567383,9.386969566345215,-7.517550945281982,-4.86218786239624,-6.613345623016357,-6.599591255187988,13.44494342803955,2.184630870819092,-7.893204689025879,-13.11058235168457,14.06867504119873,-2.704867362976074,8.642014503479004,0.8466911911964417,-18.11709976196289,-20.220455169677734,-1.785772442817688,24.096874237060547,4.782227039337158,23.793624877929688,-2.323361873626709,28.3045597076416,7.911093235015869,7.864387512207031,13.415193557739258,3.137192726135254,3.1374847888946533,8.168898582458496,5.495659828186035,15.14870834350586,-17.924894332885742,-6.240406036376953,-22.998111724853516,-19.22972869873047,-6.395167827606201,-9.141093254089355,-13.911871910095215,-9.701584815979004,-0.7713338136672974,13.1099853515625,12.836607933044434,0.38385263085365295,25.34432601928711,27.82526969909668,-14.402920722961426,-11.116135597229004,6.647186279296875,-11.247346878051758,6.951353549957275,-15.747819900512695,-19.401153564453125,13.929579734802246,9.230857849121094,20.273880004882812,20.14042854309082,-25.99942398071289,6.077888488769531,8.482333183288574,10.064352035522461,-22.167739868164062,-19.90398406982422,-21.65970802307129,-11.004858016967773,7.567986488342285,28.697328567504883,-26.63519287109375,3.5997605323791504,0.3717319667339325,-22.93927001953125,4.527705669403076,12.633269309997559,-3.4593639373779297,26.088382720947266,26.41523551940918,10.961281776428223,12.368712425231934,12.617650985717773,2.6228573322296143,13.339323997497559,26.4412784576416,13.552288055419922,23.250865936279297,6.959603309631348,0.7231782078742981,-23.802263259887695,-10.397061347961426,1.607583999633789,14.877469062805176,14.856048583984375,-1.248047947883606,15.78717041015625,24.745155334472656,-4.397537708282471,-10.641480445861816,-10.48782730102539,-12.459823608398438,7.480057716369629,-6.3686017990112305,-10.48783016204834,-12.108705520629883,-6.368561744689941,7.478481769561768,6.404364109039307,9.981576919555664,9.981313705444336,7.448235511779785,7.447879314422607,4.129106044769287,-18.182376861572266,-23.03738021850586,4.129087448120117,-25.969989776611328,-23.03725242614746,-21.5436954498291,16.829275131225586,-21.54369354248047,-20.367677688598633,15.01457691192627,15.84802532196045,16.177425384521484,-1.8205844163894653,15.969439506530762,14.147858619689941,-20.7357177734375,14.060580253601074,16.876192092895508,-1.8205844163894653,14.913695335388184,15.92966365814209,15.029794692993164,14.138422966003418,-5.3459792137146,10.330698013305664,0.7523289918899536,21.844846725463867,-4.59910774230957,10.329206466674805,0.7522994875907898,21.845050811767578,26.826913833618164,16.226806640625,17.028533935546875,17.69212532043457,3.558882713317871,11.844258308410645,-1.2097374200820923,15.717778205871582,16.54730224609375,17.692129135131836,26.826913833618164,3.558882713317871,11.844403266906738,-1.209736943244934,-1.570907711982727,-1.5706803798675537,28.998720169067383,4.071573734283447,-8.686826705932617,5.5610575675964355,-8.6868257522583,5.560865879058838,29.113697052001953,4.0717573165893555,-20.569364547729492,-20.570268630981445,0.9495790600776672,-6.0258049964904785,-1.0418736934661865,-15.244647979736328,12.165938377380371,-30.133926391601562,19.147640228271484,2.35058331489563,11.266319274902344,-1.0417842864990234,-15.245347023010254,-6.025737762451172,19.147708892822266,0.949316143989563,2.3506340980529785,-30.13392448425293,12.35584831237793,11.199641227722168,-8.535012245178223,10.623162269592285,28.229049682617188,27.297182083129883,-4.2510271072387695,-10.200699806213379,28.509904861450195,27.297182083129883,-5.674164772033691,-8.53493881225586,-10.201518058776855,10.623162269592285,9.582569122314453,26.918848037719727,20.453763961791992,26.928653717041016,9.582569122314453,20.453763961791992,-8.514531135559082,-18.57505226135254,-18.97744369506836,-8.514225006103516,-21.584638595581055,-21.494279861450195,-5.395119667053223,-4.556657314300537,24.705183029174805,24.3142147064209,24.0671443939209,24.06781578063965,12.430398941040039,7.4735107421875,12.430412292480469,7.473508834838867,-15.857552528381348,15.377828598022461,-35.52149963378906,-33.05839157104492,-34.13079833984375,-34.29816436767578,14.114591598510742,-13.213310241699219,-2.8264095783233643,-35.694156646728516,-37.03538131713867,-36.22534942626953,-33.41060256958008,-35.27766036987305,-22.78609848022461,-12.669726371765137,15.018445014953613,15.37872314453125,-15.857537269592285,-34.95647048950195,-34.34531784057617,-36.317047119140625,-33.134761810302734,-2.8263285160064697,-36.02347946166992,-22.78609848022461,-35.02181625366211,-36.72710037231445,-35.474830627441406,-34.0485725402832,-12.291653633117676,3.0321261882781982,-14.294904708862305,11.47248649597168,-16.915950775146484,-16.915950775146484,-12.292387008666992,3.0322160720825195,11.47380256652832,-14.294283866882324]},\"selected\":{\"id\":\"1812\",\"type\":\"Selection\"},\"selection_policy\":{\"id\":\"1811\",\"type\":\"UnionRenderers\"}},\"id\":\"1716\",\"type\":\"ColumnDataSource\"},{\"attributes\":{\"callback\":null},\"id\":\"1722\",\"type\":\"DataRange1d\"},{\"attributes\":{\"fill_alpha\":{\"value\":0.2},\"fill_color\":{\"field\":\"color\"},\"line_alpha\":{\"value\":0.3},\"line_color\":{\"field\":\"color\"},\"size\":{\"units\":\"screen\",\"value\":10},\"x\":{\"field\":\"x_coord\"},\"y\":{\"field\":\"y_coord\"}},\"id\":\"1754\",\"type\":\"Circle\"},{\"attributes\":{\"active_drag\":\"auto\",\"active_inspect\":\"auto\",\"active_multi\":null,\"active_scroll\":{\"id\":\"1739\",\"type\":\"WheelZoomTool\"},\"active_tap\":\"auto\",\"tools\":[{\"id\":\"1738\",\"type\":\"PanTool\"},{\"id\":\"1739\",\"type\":\"WheelZoomTool\"},{\"id\":\"1740\",\"type\":\"BoxZoomTool\"},{\"id\":\"1741\",\"type\":\"SaveTool\"},{\"id\":\"1742\",\"type\":\"ResetTool\"},{\"id\":\"1743\",\"type\":\"HelpTool\"},{\"id\":\"1751\",\"type\":\"HoverTool\"}]},\"id\":\"1744\",\"type\":\"Toolbar\"}],\"root_ids\":[\"1717\"]},\"title\":\"Bokeh Application\",\"version\":\"1.4.0\"}};\n",
       "  var render_items = [{\"docid\":\"b3e780c8-c47d-4c88-babd-c48c143705c3\",\"roots\":{\"1717\":\"59a4c5d3-7956-4fe6-b9fa-d0eab14101d8\"}}];\n",
       "  root.Bokeh.embed.embed_items_notebook(docs_json, render_items);\n",
       "\n",
       "  }\n",
       "  if (root.Bokeh !== undefined) {\n",
       "    embed_document(root);\n",
       "  } else {\n",
       "    var attempts = 0;\n",
       "    var timer = setInterval(function(root) {\n",
       "      if (root.Bokeh !== undefined) {\n",
       "        clearInterval(timer);\n",
       "        embed_document(root);\n",
       "      } else {\n",
       "        attempts++;\n",
       "        if (attempts > 100) {\n",
       "          clearInterval(timer);\n",
       "          console.log(\"Bokeh: ERROR: Unable to run BokehJS code because BokehJS library is missing\");\n",
       "        }\n",
       "      }\n",
       "    }, 10, root)\n",
       "  }\n",
       "})(window);"
      ],
      "application/vnd.bokehjs_exec.v0+json": ""
     },
     "metadata": {
      "application/vnd.bokehjs_exec.v0+json": {
       "id": "1717"
      }
     },
     "output_type": "display_data"
    }
   ],
   "source": [
    "# 마우스 올렸을 때 보여줄 것\n",
    "\n",
    "tsne_plot.add_tools(\n",
    "    HoverTool(\n",
    "        tooltips= '@BillName'\n",
    "    )\n",
    ")\n",
    "\n",
    "# 데이터 정보 넣기\n",
    "\n",
    "tsne_plot.circle(\n",
    "    source=plot_data,\n",
    "    x='x_coord',\n",
    "    y='y_coord',\n",
    "    line_alpha=0.3, \n",
    "    fill_alpha=0.2,\n",
    "    size=10,\n",
    "    fill_color='color',\n",
    "    line_color='color',\n",
    ")\n",
    "\n",
    "# 선 지우기\n",
    "\n",
    "tsne_plot.title.text_font_size = value('16pt')\n",
    "tsne_plot.xaxis.visible = False\n",
    "tsne_plot.yaxis.visible = False\n",
    "tsne_plot.grid.grid_line_color = None\n",
    "tsne_plot.outline_line_color = None\n",
    "\n",
    "\n",
    "show(tsne_plot)"
   ]
  },
  {
   "cell_type": "code",
   "execution_count": null,
   "metadata": {},
   "outputs": [],
   "source": []
  },
  {
   "cell_type": "code",
   "execution_count": null,
   "metadata": {},
   "outputs": [],
   "source": []
  }
 ],
 "metadata": {
  "accelerator": "GPU",
  "colab": {
   "collapsed_sections": [],
   "name": "[2] Environment_KMeans.ipynb",
   "provenance": [],
   "toc_visible": true
  },
  "kernelspec": {
   "display_name": "Python 3",
   "language": "python",
   "name": "python3"
  },
  "language_info": {
   "codemirror_mode": {
    "name": "ipython",
    "version": 3
   },
   "file_extension": ".py",
   "mimetype": "text/x-python",
   "name": "python",
   "nbconvert_exporter": "python",
   "pygments_lexer": "ipython3",
   "version": "3.7.6"
  }
 },
 "nbformat": 4,
 "nbformat_minor": 4
}
